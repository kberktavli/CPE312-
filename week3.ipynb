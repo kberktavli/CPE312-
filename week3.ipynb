{
  "nbformat": 4,
  "nbformat_minor": 0,
  "metadata": {
    "colab": {
      "provenance": [],
      "mount_file_id": "1t9L6xVTbyJ4TTUePDfO-liPSorW5UFQN",
      "authorship_tag": "ABX9TyMnTlaPH+inAjYiQz6W306S",
      "include_colab_link": true
    },
    "kernelspec": {
      "name": "python3",
      "display_name": "Python 3"
    },
    "language_info": {
      "name": "python"
    }
  },
  "cells": [
    {
      "cell_type": "markdown",
      "metadata": {
        "id": "view-in-github",
        "colab_type": "text"
      },
      "source": [
        "<a href=\"https://colab.research.google.com/github/alptuggurler/CPE312/blob/main/week3.ipynb\" target=\"_parent\"><img src=\"https://colab.research.google.com/assets/colab-badge.svg\" alt=\"Open In Colab\"/></a>"
      ]
    },
    {
      "cell_type": "markdown",
      "source": [
        "# Data_science"
      ],
      "metadata": {
        "id": "Wg1g17NO6__1"
      }
    },
    {
      "cell_type": "code",
      "execution_count": null,
      "metadata": {
        "id": "NYpYY5GpCIdl"
      },
      "outputs": [],
      "source": [
        "import numpy as np\n",
        "import pandas as pd\n",
        "import os"
      ]
    },
    {
      "cell_type": "code",
      "source": [
        "titanic_train = pd.read_csv(\"/content/drive/MyDrive/csv/train.csv\")\n",
        "titanic_train.head()"
      ],
      "metadata": {
        "colab": {
          "base_uri": "https://localhost:8080/",
          "height": 206
        },
        "id": "sl-1iqyFDMKT",
        "outputId": "fc3d11b1-fd0d-4897-b6c2-84ad7d90c5ff"
      },
      "execution_count": null,
      "outputs": [
        {
          "output_type": "execute_result",
          "data": {
            "text/plain": [
              "   PassengerId  Survived  Pclass  \\\n",
              "0            1         0       3   \n",
              "1            2         1       1   \n",
              "2            3         1       3   \n",
              "3            4         1       1   \n",
              "4            5         0       3   \n",
              "\n",
              "                                                Name     Sex   Age  SibSp  \\\n",
              "0                            Braund, Mr. Owen Harris    male  22.0      1   \n",
              "1  Cumings, Mrs. John Bradley (Florence Briggs Th...  female  38.0      1   \n",
              "2                             Heikkinen, Miss. Laina  female  26.0      0   \n",
              "3       Futrelle, Mrs. Jacques Heath (Lily May Peel)  female  35.0      1   \n",
              "4                           Allen, Mr. William Henry    male  35.0      0   \n",
              "\n",
              "   Parch            Ticket     Fare Cabin Embarked  \n",
              "0      0         A/5 21171   7.2500   NaN        S  \n",
              "1      0          PC 17599  71.2833   C85        C  \n",
              "2      0  STON/O2. 3101282   7.9250   NaN        S  \n",
              "3      0            113803  53.1000  C123        S  \n",
              "4      0            373450   8.0500   NaN        S  "
            ],
            "text/html": [
              "\n",
              "  <div id=\"df-ae05ac60-8d91-44c6-b0b8-91cb14b6054f\">\n",
              "    <div class=\"colab-df-container\">\n",
              "      <div>\n",
              "<style scoped>\n",
              "    .dataframe tbody tr th:only-of-type {\n",
              "        vertical-align: middle;\n",
              "    }\n",
              "\n",
              "    .dataframe tbody tr th {\n",
              "        vertical-align: top;\n",
              "    }\n",
              "\n",
              "    .dataframe thead th {\n",
              "        text-align: right;\n",
              "    }\n",
              "</style>\n",
              "<table border=\"1\" class=\"dataframe\">\n",
              "  <thead>\n",
              "    <tr style=\"text-align: right;\">\n",
              "      <th></th>\n",
              "      <th>PassengerId</th>\n",
              "      <th>Survived</th>\n",
              "      <th>Pclass</th>\n",
              "      <th>Name</th>\n",
              "      <th>Sex</th>\n",
              "      <th>Age</th>\n",
              "      <th>SibSp</th>\n",
              "      <th>Parch</th>\n",
              "      <th>Ticket</th>\n",
              "      <th>Fare</th>\n",
              "      <th>Cabin</th>\n",
              "      <th>Embarked</th>\n",
              "    </tr>\n",
              "  </thead>\n",
              "  <tbody>\n",
              "    <tr>\n",
              "      <th>0</th>\n",
              "      <td>1</td>\n",
              "      <td>0</td>\n",
              "      <td>3</td>\n",
              "      <td>Braund, Mr. Owen Harris</td>\n",
              "      <td>male</td>\n",
              "      <td>22.0</td>\n",
              "      <td>1</td>\n",
              "      <td>0</td>\n",
              "      <td>A/5 21171</td>\n",
              "      <td>7.2500</td>\n",
              "      <td>NaN</td>\n",
              "      <td>S</td>\n",
              "    </tr>\n",
              "    <tr>\n",
              "      <th>1</th>\n",
              "      <td>2</td>\n",
              "      <td>1</td>\n",
              "      <td>1</td>\n",
              "      <td>Cumings, Mrs. John Bradley (Florence Briggs Th...</td>\n",
              "      <td>female</td>\n",
              "      <td>38.0</td>\n",
              "      <td>1</td>\n",
              "      <td>0</td>\n",
              "      <td>PC 17599</td>\n",
              "      <td>71.2833</td>\n",
              "      <td>C85</td>\n",
              "      <td>C</td>\n",
              "    </tr>\n",
              "    <tr>\n",
              "      <th>2</th>\n",
              "      <td>3</td>\n",
              "      <td>1</td>\n",
              "      <td>3</td>\n",
              "      <td>Heikkinen, Miss. Laina</td>\n",
              "      <td>female</td>\n",
              "      <td>26.0</td>\n",
              "      <td>0</td>\n",
              "      <td>0</td>\n",
              "      <td>STON/O2. 3101282</td>\n",
              "      <td>7.9250</td>\n",
              "      <td>NaN</td>\n",
              "      <td>S</td>\n",
              "    </tr>\n",
              "    <tr>\n",
              "      <th>3</th>\n",
              "      <td>4</td>\n",
              "      <td>1</td>\n",
              "      <td>1</td>\n",
              "      <td>Futrelle, Mrs. Jacques Heath (Lily May Peel)</td>\n",
              "      <td>female</td>\n",
              "      <td>35.0</td>\n",
              "      <td>1</td>\n",
              "      <td>0</td>\n",
              "      <td>113803</td>\n",
              "      <td>53.1000</td>\n",
              "      <td>C123</td>\n",
              "      <td>S</td>\n",
              "    </tr>\n",
              "    <tr>\n",
              "      <th>4</th>\n",
              "      <td>5</td>\n",
              "      <td>0</td>\n",
              "      <td>3</td>\n",
              "      <td>Allen, Mr. William Henry</td>\n",
              "      <td>male</td>\n",
              "      <td>35.0</td>\n",
              "      <td>0</td>\n",
              "      <td>0</td>\n",
              "      <td>373450</td>\n",
              "      <td>8.0500</td>\n",
              "      <td>NaN</td>\n",
              "      <td>S</td>\n",
              "    </tr>\n",
              "  </tbody>\n",
              "</table>\n",
              "</div>\n",
              "      <button class=\"colab-df-convert\" onclick=\"convertToInteractive('df-ae05ac60-8d91-44c6-b0b8-91cb14b6054f')\"\n",
              "              title=\"Convert this dataframe to an interactive table.\"\n",
              "              style=\"display:none;\">\n",
              "        \n",
              "  <svg xmlns=\"http://www.w3.org/2000/svg\" height=\"24px\"viewBox=\"0 0 24 24\"\n",
              "       width=\"24px\">\n",
              "    <path d=\"M0 0h24v24H0V0z\" fill=\"none\"/>\n",
              "    <path d=\"M18.56 5.44l.94 2.06.94-2.06 2.06-.94-2.06-.94-.94-2.06-.94 2.06-2.06.94zm-11 1L8.5 8.5l.94-2.06 2.06-.94-2.06-.94L8.5 2.5l-.94 2.06-2.06.94zm10 10l.94 2.06.94-2.06 2.06-.94-2.06-.94-.94-2.06-.94 2.06-2.06.94z\"/><path d=\"M17.41 7.96l-1.37-1.37c-.4-.4-.92-.59-1.43-.59-.52 0-1.04.2-1.43.59L10.3 9.45l-7.72 7.72c-.78.78-.78 2.05 0 2.83L4 21.41c.39.39.9.59 1.41.59.51 0 1.02-.2 1.41-.59l7.78-7.78 2.81-2.81c.8-.78.8-2.07 0-2.86zM5.41 20L4 18.59l7.72-7.72 1.47 1.35L5.41 20z\"/>\n",
              "  </svg>\n",
              "      </button>\n",
              "      \n",
              "  <style>\n",
              "    .colab-df-container {\n",
              "      display:flex;\n",
              "      flex-wrap:wrap;\n",
              "      gap: 12px;\n",
              "    }\n",
              "\n",
              "    .colab-df-convert {\n",
              "      background-color: #E8F0FE;\n",
              "      border: none;\n",
              "      border-radius: 50%;\n",
              "      cursor: pointer;\n",
              "      display: none;\n",
              "      fill: #1967D2;\n",
              "      height: 32px;\n",
              "      padding: 0 0 0 0;\n",
              "      width: 32px;\n",
              "    }\n",
              "\n",
              "    .colab-df-convert:hover {\n",
              "      background-color: #E2EBFA;\n",
              "      box-shadow: 0px 1px 2px rgba(60, 64, 67, 0.3), 0px 1px 3px 1px rgba(60, 64, 67, 0.15);\n",
              "      fill: #174EA6;\n",
              "    }\n",
              "\n",
              "    [theme=dark] .colab-df-convert {\n",
              "      background-color: #3B4455;\n",
              "      fill: #D2E3FC;\n",
              "    }\n",
              "\n",
              "    [theme=dark] .colab-df-convert:hover {\n",
              "      background-color: #434B5C;\n",
              "      box-shadow: 0px 1px 3px 1px rgba(0, 0, 0, 0.15);\n",
              "      filter: drop-shadow(0px 1px 2px rgba(0, 0, 0, 0.3));\n",
              "      fill: #FFFFFF;\n",
              "    }\n",
              "  </style>\n",
              "\n",
              "      <script>\n",
              "        const buttonEl =\n",
              "          document.querySelector('#df-ae05ac60-8d91-44c6-b0b8-91cb14b6054f button.colab-df-convert');\n",
              "        buttonEl.style.display =\n",
              "          google.colab.kernel.accessAllowed ? 'block' : 'none';\n",
              "\n",
              "        async function convertToInteractive(key) {\n",
              "          const element = document.querySelector('#df-ae05ac60-8d91-44c6-b0b8-91cb14b6054f');\n",
              "          const dataTable =\n",
              "            await google.colab.kernel.invokeFunction('convertToInteractive',\n",
              "                                                     [key], {});\n",
              "          if (!dataTable) return;\n",
              "\n",
              "          const docLinkHtml = 'Like what you see? Visit the ' +\n",
              "            '<a target=\"_blank\" href=https://colab.research.google.com/notebooks/data_table.ipynb>data table notebook</a>'\n",
              "            + ' to learn more about interactive tables.';\n",
              "          element.innerHTML = '';\n",
              "          dataTable['output_type'] = 'display_data';\n",
              "          await google.colab.output.renderOutput(dataTable, element);\n",
              "          const docLink = document.createElement('div');\n",
              "          docLink.innerHTML = docLinkHtml;\n",
              "          element.appendChild(docLink);\n",
              "        }\n",
              "      </script>\n",
              "    </div>\n",
              "  </div>\n",
              "  "
            ]
          },
          "metadata": {},
          "execution_count": 5
        }
      ]
    },
    {
      "cell_type": "code",
      "source": [
        "titanic_train.shape"
      ],
      "metadata": {
        "id": "XhicDotKDsjz",
        "colab": {
          "base_uri": "https://localhost:8080/"
        },
        "outputId": "1bcccc6e-2407-4fa7-a4ff-c4890b005d54"
      },
      "execution_count": null,
      "outputs": [
        {
          "output_type": "execute_result",
          "data": {
            "text/plain": [
              "(891, 12)"
            ]
          },
          "metadata": {},
          "execution_count": 6
        }
      ]
    },
    {
      "cell_type": "code",
      "source": [
        "titanic_train.tail()"
      ],
      "metadata": {
        "colab": {
          "base_uri": "https://localhost:8080/",
          "height": 206
        },
        "id": "0itadZiz4NQX",
        "outputId": "34d03eeb-b467-438b-9ef3-a945ddedc066"
      },
      "execution_count": null,
      "outputs": [
        {
          "output_type": "execute_result",
          "data": {
            "text/plain": [
              "     PassengerId  Survived  Pclass                                      Name  \\\n",
              "886          887         0       2                     Montvila, Rev. Juozas   \n",
              "887          888         1       1              Graham, Miss. Margaret Edith   \n",
              "888          889         0       3  Johnston, Miss. Catherine Helen \"Carrie\"   \n",
              "889          890         1       1                     Behr, Mr. Karl Howell   \n",
              "890          891         0       3                       Dooley, Mr. Patrick   \n",
              "\n",
              "        Sex   Age  SibSp  Parch      Ticket   Fare Cabin Embarked  \n",
              "886    male  27.0      0      0      211536  13.00   NaN        S  \n",
              "887  female  19.0      0      0      112053  30.00   B42        S  \n",
              "888  female   NaN      1      2  W./C. 6607  23.45   NaN        S  \n",
              "889    male  26.0      0      0      111369  30.00  C148        C  \n",
              "890    male  32.0      0      0      370376   7.75   NaN        Q  "
            ],
            "text/html": [
              "\n",
              "  <div id=\"df-3ce3135c-2f42-4d70-9871-e64f381e29c5\">\n",
              "    <div class=\"colab-df-container\">\n",
              "      <div>\n",
              "<style scoped>\n",
              "    .dataframe tbody tr th:only-of-type {\n",
              "        vertical-align: middle;\n",
              "    }\n",
              "\n",
              "    .dataframe tbody tr th {\n",
              "        vertical-align: top;\n",
              "    }\n",
              "\n",
              "    .dataframe thead th {\n",
              "        text-align: right;\n",
              "    }\n",
              "</style>\n",
              "<table border=\"1\" class=\"dataframe\">\n",
              "  <thead>\n",
              "    <tr style=\"text-align: right;\">\n",
              "      <th></th>\n",
              "      <th>PassengerId</th>\n",
              "      <th>Survived</th>\n",
              "      <th>Pclass</th>\n",
              "      <th>Name</th>\n",
              "      <th>Sex</th>\n",
              "      <th>Age</th>\n",
              "      <th>SibSp</th>\n",
              "      <th>Parch</th>\n",
              "      <th>Ticket</th>\n",
              "      <th>Fare</th>\n",
              "      <th>Cabin</th>\n",
              "      <th>Embarked</th>\n",
              "    </tr>\n",
              "  </thead>\n",
              "  <tbody>\n",
              "    <tr>\n",
              "      <th>886</th>\n",
              "      <td>887</td>\n",
              "      <td>0</td>\n",
              "      <td>2</td>\n",
              "      <td>Montvila, Rev. Juozas</td>\n",
              "      <td>male</td>\n",
              "      <td>27.0</td>\n",
              "      <td>0</td>\n",
              "      <td>0</td>\n",
              "      <td>211536</td>\n",
              "      <td>13.00</td>\n",
              "      <td>NaN</td>\n",
              "      <td>S</td>\n",
              "    </tr>\n",
              "    <tr>\n",
              "      <th>887</th>\n",
              "      <td>888</td>\n",
              "      <td>1</td>\n",
              "      <td>1</td>\n",
              "      <td>Graham, Miss. Margaret Edith</td>\n",
              "      <td>female</td>\n",
              "      <td>19.0</td>\n",
              "      <td>0</td>\n",
              "      <td>0</td>\n",
              "      <td>112053</td>\n",
              "      <td>30.00</td>\n",
              "      <td>B42</td>\n",
              "      <td>S</td>\n",
              "    </tr>\n",
              "    <tr>\n",
              "      <th>888</th>\n",
              "      <td>889</td>\n",
              "      <td>0</td>\n",
              "      <td>3</td>\n",
              "      <td>Johnston, Miss. Catherine Helen \"Carrie\"</td>\n",
              "      <td>female</td>\n",
              "      <td>NaN</td>\n",
              "      <td>1</td>\n",
              "      <td>2</td>\n",
              "      <td>W./C. 6607</td>\n",
              "      <td>23.45</td>\n",
              "      <td>NaN</td>\n",
              "      <td>S</td>\n",
              "    </tr>\n",
              "    <tr>\n",
              "      <th>889</th>\n",
              "      <td>890</td>\n",
              "      <td>1</td>\n",
              "      <td>1</td>\n",
              "      <td>Behr, Mr. Karl Howell</td>\n",
              "      <td>male</td>\n",
              "      <td>26.0</td>\n",
              "      <td>0</td>\n",
              "      <td>0</td>\n",
              "      <td>111369</td>\n",
              "      <td>30.00</td>\n",
              "      <td>C148</td>\n",
              "      <td>C</td>\n",
              "    </tr>\n",
              "    <tr>\n",
              "      <th>890</th>\n",
              "      <td>891</td>\n",
              "      <td>0</td>\n",
              "      <td>3</td>\n",
              "      <td>Dooley, Mr. Patrick</td>\n",
              "      <td>male</td>\n",
              "      <td>32.0</td>\n",
              "      <td>0</td>\n",
              "      <td>0</td>\n",
              "      <td>370376</td>\n",
              "      <td>7.75</td>\n",
              "      <td>NaN</td>\n",
              "      <td>Q</td>\n",
              "    </tr>\n",
              "  </tbody>\n",
              "</table>\n",
              "</div>\n",
              "      <button class=\"colab-df-convert\" onclick=\"convertToInteractive('df-3ce3135c-2f42-4d70-9871-e64f381e29c5')\"\n",
              "              title=\"Convert this dataframe to an interactive table.\"\n",
              "              style=\"display:none;\">\n",
              "        \n",
              "  <svg xmlns=\"http://www.w3.org/2000/svg\" height=\"24px\"viewBox=\"0 0 24 24\"\n",
              "       width=\"24px\">\n",
              "    <path d=\"M0 0h24v24H0V0z\" fill=\"none\"/>\n",
              "    <path d=\"M18.56 5.44l.94 2.06.94-2.06 2.06-.94-2.06-.94-.94-2.06-.94 2.06-2.06.94zm-11 1L8.5 8.5l.94-2.06 2.06-.94-2.06-.94L8.5 2.5l-.94 2.06-2.06.94zm10 10l.94 2.06.94-2.06 2.06-.94-2.06-.94-.94-2.06-.94 2.06-2.06.94z\"/><path d=\"M17.41 7.96l-1.37-1.37c-.4-.4-.92-.59-1.43-.59-.52 0-1.04.2-1.43.59L10.3 9.45l-7.72 7.72c-.78.78-.78 2.05 0 2.83L4 21.41c.39.39.9.59 1.41.59.51 0 1.02-.2 1.41-.59l7.78-7.78 2.81-2.81c.8-.78.8-2.07 0-2.86zM5.41 20L4 18.59l7.72-7.72 1.47 1.35L5.41 20z\"/>\n",
              "  </svg>\n",
              "      </button>\n",
              "      \n",
              "  <style>\n",
              "    .colab-df-container {\n",
              "      display:flex;\n",
              "      flex-wrap:wrap;\n",
              "      gap: 12px;\n",
              "    }\n",
              "\n",
              "    .colab-df-convert {\n",
              "      background-color: #E8F0FE;\n",
              "      border: none;\n",
              "      border-radius: 50%;\n",
              "      cursor: pointer;\n",
              "      display: none;\n",
              "      fill: #1967D2;\n",
              "      height: 32px;\n",
              "      padding: 0 0 0 0;\n",
              "      width: 32px;\n",
              "    }\n",
              "\n",
              "    .colab-df-convert:hover {\n",
              "      background-color: #E2EBFA;\n",
              "      box-shadow: 0px 1px 2px rgba(60, 64, 67, 0.3), 0px 1px 3px 1px rgba(60, 64, 67, 0.15);\n",
              "      fill: #174EA6;\n",
              "    }\n",
              "\n",
              "    [theme=dark] .colab-df-convert {\n",
              "      background-color: #3B4455;\n",
              "      fill: #D2E3FC;\n",
              "    }\n",
              "\n",
              "    [theme=dark] .colab-df-convert:hover {\n",
              "      background-color: #434B5C;\n",
              "      box-shadow: 0px 1px 3px 1px rgba(0, 0, 0, 0.15);\n",
              "      filter: drop-shadow(0px 1px 2px rgba(0, 0, 0, 0.3));\n",
              "      fill: #FFFFFF;\n",
              "    }\n",
              "  </style>\n",
              "\n",
              "      <script>\n",
              "        const buttonEl =\n",
              "          document.querySelector('#df-3ce3135c-2f42-4d70-9871-e64f381e29c5 button.colab-df-convert');\n",
              "        buttonEl.style.display =\n",
              "          google.colab.kernel.accessAllowed ? 'block' : 'none';\n",
              "\n",
              "        async function convertToInteractive(key) {\n",
              "          const element = document.querySelector('#df-3ce3135c-2f42-4d70-9871-e64f381e29c5');\n",
              "          const dataTable =\n",
              "            await google.colab.kernel.invokeFunction('convertToInteractive',\n",
              "                                                     [key], {});\n",
              "          if (!dataTable) return;\n",
              "\n",
              "          const docLinkHtml = 'Like what you see? Visit the ' +\n",
              "            '<a target=\"_blank\" href=https://colab.research.google.com/notebooks/data_table.ipynb>data table notebook</a>'\n",
              "            + ' to learn more about interactive tables.';\n",
              "          element.innerHTML = '';\n",
              "          dataTable['output_type'] = 'display_data';\n",
              "          await google.colab.output.renderOutput(dataTable, element);\n",
              "          const docLink = document.createElement('div');\n",
              "          docLink.innerHTML = docLinkHtml;\n",
              "          element.appendChild(docLink);\n",
              "        }\n",
              "      </script>\n",
              "    </div>\n",
              "  </div>\n",
              "  "
            ]
          },
          "metadata": {},
          "execution_count": 7
        }
      ]
    },
    {
      "cell_type": "code",
      "source": [
        "categorical = titanic_train.dtypes[titanic_train.dtypes == \"object\"].index\n",
        "print(categorical)\n",
        "\n",
        "titanic_train[categorical].describe()"
      ],
      "metadata": {
        "colab": {
          "base_uri": "https://localhost:8080/",
          "height": 192
        },
        "id": "gn0UA_WK5NvH",
        "outputId": "8a8aa8e8-4d78-4cd9-f4ad-59ede02f5843"
      },
      "execution_count": null,
      "outputs": [
        {
          "output_type": "stream",
          "name": "stdout",
          "text": [
            "Index(['Name', 'Sex', 'Ticket', 'Cabin', 'Embarked'], dtype='object')\n"
          ]
        },
        {
          "output_type": "execute_result",
          "data": {
            "text/plain": [
              "                           Name   Sex  Ticket    Cabin Embarked\n",
              "count                       891   891     891      204      889\n",
              "unique                      891     2     681      147        3\n",
              "top     Braund, Mr. Owen Harris  male  347082  B96 B98        S\n",
              "freq                          1   577       7        4      644"
            ],
            "text/html": [
              "\n",
              "  <div id=\"df-633d214d-4fdd-4fa2-906f-eeb18c9d53ba\">\n",
              "    <div class=\"colab-df-container\">\n",
              "      <div>\n",
              "<style scoped>\n",
              "    .dataframe tbody tr th:only-of-type {\n",
              "        vertical-align: middle;\n",
              "    }\n",
              "\n",
              "    .dataframe tbody tr th {\n",
              "        vertical-align: top;\n",
              "    }\n",
              "\n",
              "    .dataframe thead th {\n",
              "        text-align: right;\n",
              "    }\n",
              "</style>\n",
              "<table border=\"1\" class=\"dataframe\">\n",
              "  <thead>\n",
              "    <tr style=\"text-align: right;\">\n",
              "      <th></th>\n",
              "      <th>Name</th>\n",
              "      <th>Sex</th>\n",
              "      <th>Ticket</th>\n",
              "      <th>Cabin</th>\n",
              "      <th>Embarked</th>\n",
              "    </tr>\n",
              "  </thead>\n",
              "  <tbody>\n",
              "    <tr>\n",
              "      <th>count</th>\n",
              "      <td>891</td>\n",
              "      <td>891</td>\n",
              "      <td>891</td>\n",
              "      <td>204</td>\n",
              "      <td>889</td>\n",
              "    </tr>\n",
              "    <tr>\n",
              "      <th>unique</th>\n",
              "      <td>891</td>\n",
              "      <td>2</td>\n",
              "      <td>681</td>\n",
              "      <td>147</td>\n",
              "      <td>3</td>\n",
              "    </tr>\n",
              "    <tr>\n",
              "      <th>top</th>\n",
              "      <td>Braund, Mr. Owen Harris</td>\n",
              "      <td>male</td>\n",
              "      <td>347082</td>\n",
              "      <td>B96 B98</td>\n",
              "      <td>S</td>\n",
              "    </tr>\n",
              "    <tr>\n",
              "      <th>freq</th>\n",
              "      <td>1</td>\n",
              "      <td>577</td>\n",
              "      <td>7</td>\n",
              "      <td>4</td>\n",
              "      <td>644</td>\n",
              "    </tr>\n",
              "  </tbody>\n",
              "</table>\n",
              "</div>\n",
              "      <button class=\"colab-df-convert\" onclick=\"convertToInteractive('df-633d214d-4fdd-4fa2-906f-eeb18c9d53ba')\"\n",
              "              title=\"Convert this dataframe to an interactive table.\"\n",
              "              style=\"display:none;\">\n",
              "        \n",
              "  <svg xmlns=\"http://www.w3.org/2000/svg\" height=\"24px\"viewBox=\"0 0 24 24\"\n",
              "       width=\"24px\">\n",
              "    <path d=\"M0 0h24v24H0V0z\" fill=\"none\"/>\n",
              "    <path d=\"M18.56 5.44l.94 2.06.94-2.06 2.06-.94-2.06-.94-.94-2.06-.94 2.06-2.06.94zm-11 1L8.5 8.5l.94-2.06 2.06-.94-2.06-.94L8.5 2.5l-.94 2.06-2.06.94zm10 10l.94 2.06.94-2.06 2.06-.94-2.06-.94-.94-2.06-.94 2.06-2.06.94z\"/><path d=\"M17.41 7.96l-1.37-1.37c-.4-.4-.92-.59-1.43-.59-.52 0-1.04.2-1.43.59L10.3 9.45l-7.72 7.72c-.78.78-.78 2.05 0 2.83L4 21.41c.39.39.9.59 1.41.59.51 0 1.02-.2 1.41-.59l7.78-7.78 2.81-2.81c.8-.78.8-2.07 0-2.86zM5.41 20L4 18.59l7.72-7.72 1.47 1.35L5.41 20z\"/>\n",
              "  </svg>\n",
              "      </button>\n",
              "      \n",
              "  <style>\n",
              "    .colab-df-container {\n",
              "      display:flex;\n",
              "      flex-wrap:wrap;\n",
              "      gap: 12px;\n",
              "    }\n",
              "\n",
              "    .colab-df-convert {\n",
              "      background-color: #E8F0FE;\n",
              "      border: none;\n",
              "      border-radius: 50%;\n",
              "      cursor: pointer;\n",
              "      display: none;\n",
              "      fill: #1967D2;\n",
              "      height: 32px;\n",
              "      padding: 0 0 0 0;\n",
              "      width: 32px;\n",
              "    }\n",
              "\n",
              "    .colab-df-convert:hover {\n",
              "      background-color: #E2EBFA;\n",
              "      box-shadow: 0px 1px 2px rgba(60, 64, 67, 0.3), 0px 1px 3px 1px rgba(60, 64, 67, 0.15);\n",
              "      fill: #174EA6;\n",
              "    }\n",
              "\n",
              "    [theme=dark] .colab-df-convert {\n",
              "      background-color: #3B4455;\n",
              "      fill: #D2E3FC;\n",
              "    }\n",
              "\n",
              "    [theme=dark] .colab-df-convert:hover {\n",
              "      background-color: #434B5C;\n",
              "      box-shadow: 0px 1px 3px 1px rgba(0, 0, 0, 0.15);\n",
              "      filter: drop-shadow(0px 1px 2px rgba(0, 0, 0, 0.3));\n",
              "      fill: #FFFFFF;\n",
              "    }\n",
              "  </style>\n",
              "\n",
              "      <script>\n",
              "        const buttonEl =\n",
              "          document.querySelector('#df-633d214d-4fdd-4fa2-906f-eeb18c9d53ba button.colab-df-convert');\n",
              "        buttonEl.style.display =\n",
              "          google.colab.kernel.accessAllowed ? 'block' : 'none';\n",
              "\n",
              "        async function convertToInteractive(key) {\n",
              "          const element = document.querySelector('#df-633d214d-4fdd-4fa2-906f-eeb18c9d53ba');\n",
              "          const dataTable =\n",
              "            await google.colab.kernel.invokeFunction('convertToInteractive',\n",
              "                                                     [key], {});\n",
              "          if (!dataTable) return;\n",
              "\n",
              "          const docLinkHtml = 'Like what you see? Visit the ' +\n",
              "            '<a target=\"_blank\" href=https://colab.research.google.com/notebooks/data_table.ipynb>data table notebook</a>'\n",
              "            + ' to learn more about interactive tables.';\n",
              "          element.innerHTML = '';\n",
              "          dataTable['output_type'] = 'display_data';\n",
              "          await google.colab.output.renderOutput(dataTable, element);\n",
              "          const docLink = document.createElement('div');\n",
              "          docLink.innerHTML = docLinkHtml;\n",
              "          element.appendChild(docLink);\n",
              "        }\n",
              "      </script>\n",
              "    </div>\n",
              "  </div>\n",
              "  "
            ]
          },
          "metadata": {},
          "execution_count": 8
        }
      ]
    },
    {
      "cell_type": "code",
      "source": [
        "titanic_train[\"Ticket\"][0:20] # ilk 20 bileti gösteriri"
      ],
      "metadata": {
        "colab": {
          "base_uri": "https://localhost:8080/"
        },
        "id": "ZxcKCHcJ5YvC",
        "outputId": "d349f9d4-f8ae-49db-ab62-ed9c91afd23d"
      },
      "execution_count": null,
      "outputs": [
        {
          "output_type": "execute_result",
          "data": {
            "text/plain": [
              "0            A/5 21171\n",
              "1             PC 17599\n",
              "2     STON/O2. 3101282\n",
              "3               113803\n",
              "4               373450\n",
              "5               330877\n",
              "6                17463\n",
              "7               349909\n",
              "8               347742\n",
              "9               237736\n",
              "10             PP 9549\n",
              "11              113783\n",
              "12           A/5. 2151\n",
              "13              347082\n",
              "14              350406\n",
              "15              248706\n",
              "16              382652\n",
              "17              244373\n",
              "18              345763\n",
              "19                2649\n",
              "Name: Ticket, dtype: object"
            ]
          },
          "metadata": {},
          "execution_count": 9
        }
      ]
    },
    {
      "cell_type": "code",
      "source": [
        "titanic_train[\"Ticket\"].describe()"
      ],
      "metadata": {
        "colab": {
          "base_uri": "https://localhost:8080/"
        },
        "id": "9PYfan9B5o1m",
        "outputId": "e8224c5e-4fe6-47d1-b25c-53074159662f"
      },
      "execution_count": null,
      "outputs": [
        {
          "output_type": "execute_result",
          "data": {
            "text/plain": [
              "count        891\n",
              "unique       681\n",
              "top       347082\n",
              "freq           7\n",
              "Name: Ticket, dtype: object"
            ]
          },
          "metadata": {},
          "execution_count": 10
        }
      ]
    },
    {
      "cell_type": "code",
      "source": [
        "del titanic_train[\"Ticket\"] # bileti siler"
      ],
      "metadata": {
        "id": "u_iprbP-5q0Q"
      },
      "execution_count": null,
      "outputs": []
    },
    {
      "cell_type": "code",
      "source": [
        "new_Pclass = pd.Categorical(titanic_train[\"Pclass\"], ordered = True)\n",
        "\n",
        "new_Pclass = new_Pclass.rename_categories([\"Class1\",\"Class2\",\"Class3\"])  \n",
        "new_Pclass.describe()"
      ],
      "metadata": {
        "colab": {
          "base_uri": "https://localhost:8080/",
          "height": 175
        },
        "id": "WZY5gldh5tJS",
        "outputId": "79f6f60f-64dc-4a05-efdf-cea9ca40715c"
      },
      "execution_count": null,
      "outputs": [
        {
          "output_type": "execute_result",
          "data": {
            "text/plain": [
              "            counts     freqs\n",
              "categories                  \n",
              "Class1         216  0.242424\n",
              "Class2         184  0.206510\n",
              "Class3         491  0.551066"
            ],
            "text/html": [
              "\n",
              "  <div id=\"df-05898d54-b254-4281-a97d-649497dac02c\">\n",
              "    <div class=\"colab-df-container\">\n",
              "      <div>\n",
              "<style scoped>\n",
              "    .dataframe tbody tr th:only-of-type {\n",
              "        vertical-align: middle;\n",
              "    }\n",
              "\n",
              "    .dataframe tbody tr th {\n",
              "        vertical-align: top;\n",
              "    }\n",
              "\n",
              "    .dataframe thead th {\n",
              "        text-align: right;\n",
              "    }\n",
              "</style>\n",
              "<table border=\"1\" class=\"dataframe\">\n",
              "  <thead>\n",
              "    <tr style=\"text-align: right;\">\n",
              "      <th></th>\n",
              "      <th>counts</th>\n",
              "      <th>freqs</th>\n",
              "    </tr>\n",
              "    <tr>\n",
              "      <th>categories</th>\n",
              "      <th></th>\n",
              "      <th></th>\n",
              "    </tr>\n",
              "  </thead>\n",
              "  <tbody>\n",
              "    <tr>\n",
              "      <th>Class1</th>\n",
              "      <td>216</td>\n",
              "      <td>0.242424</td>\n",
              "    </tr>\n",
              "    <tr>\n",
              "      <th>Class2</th>\n",
              "      <td>184</td>\n",
              "      <td>0.206510</td>\n",
              "    </tr>\n",
              "    <tr>\n",
              "      <th>Class3</th>\n",
              "      <td>491</td>\n",
              "      <td>0.551066</td>\n",
              "    </tr>\n",
              "  </tbody>\n",
              "</table>\n",
              "</div>\n",
              "      <button class=\"colab-df-convert\" onclick=\"convertToInteractive('df-05898d54-b254-4281-a97d-649497dac02c')\"\n",
              "              title=\"Convert this dataframe to an interactive table.\"\n",
              "              style=\"display:none;\">\n",
              "        \n",
              "  <svg xmlns=\"http://www.w3.org/2000/svg\" height=\"24px\"viewBox=\"0 0 24 24\"\n",
              "       width=\"24px\">\n",
              "    <path d=\"M0 0h24v24H0V0z\" fill=\"none\"/>\n",
              "    <path d=\"M18.56 5.44l.94 2.06.94-2.06 2.06-.94-2.06-.94-.94-2.06-.94 2.06-2.06.94zm-11 1L8.5 8.5l.94-2.06 2.06-.94-2.06-.94L8.5 2.5l-.94 2.06-2.06.94zm10 10l.94 2.06.94-2.06 2.06-.94-2.06-.94-.94-2.06-.94 2.06-2.06.94z\"/><path d=\"M17.41 7.96l-1.37-1.37c-.4-.4-.92-.59-1.43-.59-.52 0-1.04.2-1.43.59L10.3 9.45l-7.72 7.72c-.78.78-.78 2.05 0 2.83L4 21.41c.39.39.9.59 1.41.59.51 0 1.02-.2 1.41-.59l7.78-7.78 2.81-2.81c.8-.78.8-2.07 0-2.86zM5.41 20L4 18.59l7.72-7.72 1.47 1.35L5.41 20z\"/>\n",
              "  </svg>\n",
              "      </button>\n",
              "      \n",
              "  <style>\n",
              "    .colab-df-container {\n",
              "      display:flex;\n",
              "      flex-wrap:wrap;\n",
              "      gap: 12px;\n",
              "    }\n",
              "\n",
              "    .colab-df-convert {\n",
              "      background-color: #E8F0FE;\n",
              "      border: none;\n",
              "      border-radius: 50%;\n",
              "      cursor: pointer;\n",
              "      display: none;\n",
              "      fill: #1967D2;\n",
              "      height: 32px;\n",
              "      padding: 0 0 0 0;\n",
              "      width: 32px;\n",
              "    }\n",
              "\n",
              "    .colab-df-convert:hover {\n",
              "      background-color: #E2EBFA;\n",
              "      box-shadow: 0px 1px 2px rgba(60, 64, 67, 0.3), 0px 1px 3px 1px rgba(60, 64, 67, 0.15);\n",
              "      fill: #174EA6;\n",
              "    }\n",
              "\n",
              "    [theme=dark] .colab-df-convert {\n",
              "      background-color: #3B4455;\n",
              "      fill: #D2E3FC;\n",
              "    }\n",
              "\n",
              "    [theme=dark] .colab-df-convert:hover {\n",
              "      background-color: #434B5C;\n",
              "      box-shadow: 0px 1px 3px 1px rgba(0, 0, 0, 0.15);\n",
              "      filter: drop-shadow(0px 1px 2px rgba(0, 0, 0, 0.3));\n",
              "      fill: #FFFFFF;\n",
              "    }\n",
              "  </style>\n",
              "\n",
              "      <script>\n",
              "        const buttonEl =\n",
              "          document.querySelector('#df-05898d54-b254-4281-a97d-649497dac02c button.colab-df-convert');\n",
              "        buttonEl.style.display =\n",
              "          google.colab.kernel.accessAllowed ? 'block' : 'none';\n",
              "\n",
              "        async function convertToInteractive(key) {\n",
              "          const element = document.querySelector('#df-05898d54-b254-4281-a97d-649497dac02c');\n",
              "          const dataTable =\n",
              "            await google.colab.kernel.invokeFunction('convertToInteractive',\n",
              "                                                     [key], {});\n",
              "          if (!dataTable) return;\n",
              "\n",
              "          const docLinkHtml = 'Like what you see? Visit the ' +\n",
              "            '<a target=\"_blank\" href=https://colab.research.google.com/notebooks/data_table.ipynb>data table notebook</a>'\n",
              "            + ' to learn more about interactive tables.';\n",
              "          element.innerHTML = '';\n",
              "          dataTable['output_type'] = 'display_data';\n",
              "          await google.colab.output.renderOutput(dataTable, element);\n",
              "          const docLink = document.createElement('div');\n",
              "          docLink.innerHTML = docLinkHtml;\n",
              "          element.appendChild(docLink);\n",
              "        }\n",
              "      </script>\n",
              "    </div>\n",
              "  </div>\n",
              "  "
            ]
          },
          "metadata": {},
          "execution_count": 12
        }
      ]
    },
    {
      "cell_type": "code",
      "source": [
        "titanic_train[\"Pclass\"] = new_Pclass\n"
      ],
      "metadata": {
        "id": "cLh06YV657of"
      },
      "execution_count": null,
      "outputs": []
    },
    {
      "cell_type": "code",
      "source": [
        "titanic_train[\"Cabin\"].unique()"
      ],
      "metadata": {
        "colab": {
          "base_uri": "https://localhost:8080/"
        },
        "id": "cUiVvRiS5_d7",
        "outputId": "dc316a18-ed72-4ce1-c6b2-cfdb14b7aae9"
      },
      "execution_count": null,
      "outputs": [
        {
          "output_type": "execute_result",
          "data": {
            "text/plain": [
              "array([nan, 'C85', 'C123', 'E46', 'G6', 'C103', 'D56', 'A6',\n",
              "       'C23 C25 C27', 'B78', 'D33', 'B30', 'C52', 'B28', 'C83', 'F33',\n",
              "       'F G73', 'E31', 'A5', 'D10 D12', 'D26', 'C110', 'B58 B60', 'E101',\n",
              "       'F E69', 'D47', 'B86', 'F2', 'C2', 'E33', 'B19', 'A7', 'C49', 'F4',\n",
              "       'A32', 'B4', 'B80', 'A31', 'D36', 'D15', 'C93', 'C78', 'D35',\n",
              "       'C87', 'B77', 'E67', 'B94', 'C125', 'C99', 'C118', 'D7', 'A19',\n",
              "       'B49', 'D', 'C22 C26', 'C106', 'C65', 'E36', 'C54',\n",
              "       'B57 B59 B63 B66', 'C7', 'E34', 'C32', 'B18', 'C124', 'C91', 'E40',\n",
              "       'T', 'C128', 'D37', 'B35', 'E50', 'C82', 'B96 B98', 'E10', 'E44',\n",
              "       'A34', 'C104', 'C111', 'C92', 'E38', 'D21', 'E12', 'E63', 'A14',\n",
              "       'B37', 'C30', 'D20', 'B79', 'E25', 'D46', 'B73', 'C95', 'B38',\n",
              "       'B39', 'B22', 'C86', 'C70', 'A16', 'C101', 'C68', 'A10', 'E68',\n",
              "       'B41', 'A20', 'D19', 'D50', 'D9', 'A23', 'B50', 'A26', 'D48',\n",
              "       'E58', 'C126', 'B71', 'B51 B53 B55', 'D49', 'B5', 'B20', 'F G63',\n",
              "       'C62 C64', 'E24', 'C90', 'C45', 'E8', 'B101', 'D45', 'C46', 'D30',\n",
              "       'E121', 'D11', 'E77', 'F38', 'B3', 'D6', 'B82 B84', 'D17', 'A36',\n",
              "       'B102', 'B69', 'E49', 'C47', 'D28', 'E17', 'A24', 'C50', 'B42',\n",
              "       'C148'], dtype=object)"
            ]
          },
          "metadata": {},
          "execution_count": 14
        }
      ]
    },
    {
      "cell_type": "code",
      "source": [
        "char_cabin = titanic_train[\"Cabin\"].astype(str) # stringe çevirme\n",
        "\n",
        "new_Cabin = np.array([cabin[0] for cabin in char_cabin]) # ilk harflerini alır\n",
        "\n",
        "new_Cabin = pd.Categorical(new_Cabin)\n",
        "\n",
        "new_Cabin .describe()"
      ],
      "metadata": {
        "colab": {
          "base_uri": "https://localhost:8080/",
          "height": 363
        },
        "id": "FoENN_y96Aim",
        "outputId": "56fa1bc8-805a-4db3-f4bc-c676efdcde33"
      },
      "execution_count": null,
      "outputs": [
        {
          "output_type": "execute_result",
          "data": {
            "text/plain": [
              "            counts     freqs\n",
              "categories                  \n",
              "A               15  0.016835\n",
              "B               47  0.052750\n",
              "C               59  0.066218\n",
              "D               33  0.037037\n",
              "E               32  0.035915\n",
              "F               13  0.014590\n",
              "G                4  0.004489\n",
              "T                1  0.001122\n",
              "n              687  0.771044"
            ],
            "text/html": [
              "\n",
              "  <div id=\"df-e4a8369f-92b3-4ef0-83bb-d10326930bb6\">\n",
              "    <div class=\"colab-df-container\">\n",
              "      <div>\n",
              "<style scoped>\n",
              "    .dataframe tbody tr th:only-of-type {\n",
              "        vertical-align: middle;\n",
              "    }\n",
              "\n",
              "    .dataframe tbody tr th {\n",
              "        vertical-align: top;\n",
              "    }\n",
              "\n",
              "    .dataframe thead th {\n",
              "        text-align: right;\n",
              "    }\n",
              "</style>\n",
              "<table border=\"1\" class=\"dataframe\">\n",
              "  <thead>\n",
              "    <tr style=\"text-align: right;\">\n",
              "      <th></th>\n",
              "      <th>counts</th>\n",
              "      <th>freqs</th>\n",
              "    </tr>\n",
              "    <tr>\n",
              "      <th>categories</th>\n",
              "      <th></th>\n",
              "      <th></th>\n",
              "    </tr>\n",
              "  </thead>\n",
              "  <tbody>\n",
              "    <tr>\n",
              "      <th>A</th>\n",
              "      <td>15</td>\n",
              "      <td>0.016835</td>\n",
              "    </tr>\n",
              "    <tr>\n",
              "      <th>B</th>\n",
              "      <td>47</td>\n",
              "      <td>0.052750</td>\n",
              "    </tr>\n",
              "    <tr>\n",
              "      <th>C</th>\n",
              "      <td>59</td>\n",
              "      <td>0.066218</td>\n",
              "    </tr>\n",
              "    <tr>\n",
              "      <th>D</th>\n",
              "      <td>33</td>\n",
              "      <td>0.037037</td>\n",
              "    </tr>\n",
              "    <tr>\n",
              "      <th>E</th>\n",
              "      <td>32</td>\n",
              "      <td>0.035915</td>\n",
              "    </tr>\n",
              "    <tr>\n",
              "      <th>F</th>\n",
              "      <td>13</td>\n",
              "      <td>0.014590</td>\n",
              "    </tr>\n",
              "    <tr>\n",
              "      <th>G</th>\n",
              "      <td>4</td>\n",
              "      <td>0.004489</td>\n",
              "    </tr>\n",
              "    <tr>\n",
              "      <th>T</th>\n",
              "      <td>1</td>\n",
              "      <td>0.001122</td>\n",
              "    </tr>\n",
              "    <tr>\n",
              "      <th>n</th>\n",
              "      <td>687</td>\n",
              "      <td>0.771044</td>\n",
              "    </tr>\n",
              "  </tbody>\n",
              "</table>\n",
              "</div>\n",
              "      <button class=\"colab-df-convert\" onclick=\"convertToInteractive('df-e4a8369f-92b3-4ef0-83bb-d10326930bb6')\"\n",
              "              title=\"Convert this dataframe to an interactive table.\"\n",
              "              style=\"display:none;\">\n",
              "        \n",
              "  <svg xmlns=\"http://www.w3.org/2000/svg\" height=\"24px\"viewBox=\"0 0 24 24\"\n",
              "       width=\"24px\">\n",
              "    <path d=\"M0 0h24v24H0V0z\" fill=\"none\"/>\n",
              "    <path d=\"M18.56 5.44l.94 2.06.94-2.06 2.06-.94-2.06-.94-.94-2.06-.94 2.06-2.06.94zm-11 1L8.5 8.5l.94-2.06 2.06-.94-2.06-.94L8.5 2.5l-.94 2.06-2.06.94zm10 10l.94 2.06.94-2.06 2.06-.94-2.06-.94-.94-2.06-.94 2.06-2.06.94z\"/><path d=\"M17.41 7.96l-1.37-1.37c-.4-.4-.92-.59-1.43-.59-.52 0-1.04.2-1.43.59L10.3 9.45l-7.72 7.72c-.78.78-.78 2.05 0 2.83L4 21.41c.39.39.9.59 1.41.59.51 0 1.02-.2 1.41-.59l7.78-7.78 2.81-2.81c.8-.78.8-2.07 0-2.86zM5.41 20L4 18.59l7.72-7.72 1.47 1.35L5.41 20z\"/>\n",
              "  </svg>\n",
              "      </button>\n",
              "      \n",
              "  <style>\n",
              "    .colab-df-container {\n",
              "      display:flex;\n",
              "      flex-wrap:wrap;\n",
              "      gap: 12px;\n",
              "    }\n",
              "\n",
              "    .colab-df-convert {\n",
              "      background-color: #E8F0FE;\n",
              "      border: none;\n",
              "      border-radius: 50%;\n",
              "      cursor: pointer;\n",
              "      display: none;\n",
              "      fill: #1967D2;\n",
              "      height: 32px;\n",
              "      padding: 0 0 0 0;\n",
              "      width: 32px;\n",
              "    }\n",
              "\n",
              "    .colab-df-convert:hover {\n",
              "      background-color: #E2EBFA;\n",
              "      box-shadow: 0px 1px 2px rgba(60, 64, 67, 0.3), 0px 1px 3px 1px rgba(60, 64, 67, 0.15);\n",
              "      fill: #174EA6;\n",
              "    }\n",
              "\n",
              "    [theme=dark] .colab-df-convert {\n",
              "      background-color: #3B4455;\n",
              "      fill: #D2E3FC;\n",
              "    }\n",
              "\n",
              "    [theme=dark] .colab-df-convert:hover {\n",
              "      background-color: #434B5C;\n",
              "      box-shadow: 0px 1px 3px 1px rgba(0, 0, 0, 0.15);\n",
              "      filter: drop-shadow(0px 1px 2px rgba(0, 0, 0, 0.3));\n",
              "      fill: #FFFFFF;\n",
              "    }\n",
              "  </style>\n",
              "\n",
              "      <script>\n",
              "        const buttonEl =\n",
              "          document.querySelector('#df-e4a8369f-92b3-4ef0-83bb-d10326930bb6 button.colab-df-convert');\n",
              "        buttonEl.style.display =\n",
              "          google.colab.kernel.accessAllowed ? 'block' : 'none';\n",
              "\n",
              "        async function convertToInteractive(key) {\n",
              "          const element = document.querySelector('#df-e4a8369f-92b3-4ef0-83bb-d10326930bb6');\n",
              "          const dataTable =\n",
              "            await google.colab.kernel.invokeFunction('convertToInteractive',\n",
              "                                                     [key], {});\n",
              "          if (!dataTable) return;\n",
              "\n",
              "          const docLinkHtml = 'Like what you see? Visit the ' +\n",
              "            '<a target=\"_blank\" href=https://colab.research.google.com/notebooks/data_table.ipynb>data table notebook</a>'\n",
              "            + ' to learn more about interactive tables.';\n",
              "          element.innerHTML = '';\n",
              "          dataTable['output_type'] = 'display_data';\n",
              "          await google.colab.output.renderOutput(dataTable, element);\n",
              "          const docLink = document.createElement('div');\n",
              "          docLink.innerHTML = docLinkHtml;\n",
              "          element.appendChild(docLink);\n",
              "        }\n",
              "      </script>\n",
              "    </div>\n",
              "  </div>\n",
              "  "
            ]
          },
          "metadata": {},
          "execution_count": 15
        }
      ]
    },
    {
      "cell_type": "code",
      "source": [
        "titanic_train[\"Cabin\"] = new_Cabin"
      ],
      "metadata": {
        "id": "jnKnXQNM6JYo"
      },
      "execution_count": null,
      "outputs": []
    },
    {
      "cell_type": "code",
      "source": [
        "dummy_vector = pd.Series([1,None,3,None,7,8])\n",
        "\n",
        "dummy_vector.isnull()"
      ],
      "metadata": {
        "colab": {
          "base_uri": "https://localhost:8080/"
        },
        "id": "eyQTmiUh6OGt",
        "outputId": "62f1ca71-9215-48b0-8ad8-4b9c6b64ccea"
      },
      "execution_count": null,
      "outputs": [
        {
          "output_type": "execute_result",
          "data": {
            "text/plain": [
              "0    False\n",
              "1     True\n",
              "2    False\n",
              "3     True\n",
              "4    False\n",
              "5    False\n",
              "dtype: bool"
            ]
          },
          "metadata": {},
          "execution_count": 17
        }
      ]
    },
    {
      "cell_type": "code",
      "source": [
        "titanic_train[\"Age\"].describe()"
      ],
      "metadata": {
        "colab": {
          "base_uri": "https://localhost:8080/"
        },
        "id": "xdRCzdkI6P29",
        "outputId": "551a536a-0e84-4862-fcc0-6ff11e7421a1"
      },
      "execution_count": null,
      "outputs": [
        {
          "output_type": "execute_result",
          "data": {
            "text/plain": [
              "count    714.000000\n",
              "mean      29.699118\n",
              "std       14.526497\n",
              "min        0.420000\n",
              "25%       20.125000\n",
              "50%       28.000000\n",
              "75%       38.000000\n",
              "max       80.000000\n",
              "Name: Age, dtype: float64"
            ]
          },
          "metadata": {},
          "execution_count": 18
        }
      ]
    },
    {
      "cell_type": "code",
      "source": [
        "missing = np.where(titanic_train[\"Age\"].isnull() == True)\n",
        "missing"
      ],
      "metadata": {
        "colab": {
          "base_uri": "https://localhost:8080/"
        },
        "id": "gMUPYW0O6R9L",
        "outputId": "3ee300bd-e7fc-4e96-eca8-17e644023c08"
      },
      "execution_count": null,
      "outputs": [
        {
          "output_type": "execute_result",
          "data": {
            "text/plain": [
              "(array([  5,  17,  19,  26,  28,  29,  31,  32,  36,  42,  45,  46,  47,\n",
              "         48,  55,  64,  65,  76,  77,  82,  87,  95, 101, 107, 109, 121,\n",
              "        126, 128, 140, 154, 158, 159, 166, 168, 176, 180, 181, 185, 186,\n",
              "        196, 198, 201, 214, 223, 229, 235, 240, 241, 250, 256, 260, 264,\n",
              "        270, 274, 277, 284, 295, 298, 300, 301, 303, 304, 306, 324, 330,\n",
              "        334, 335, 347, 351, 354, 358, 359, 364, 367, 368, 375, 384, 388,\n",
              "        409, 410, 411, 413, 415, 420, 425, 428, 431, 444, 451, 454, 457,\n",
              "        459, 464, 466, 468, 470, 475, 481, 485, 490, 495, 497, 502, 507,\n",
              "        511, 517, 522, 524, 527, 531, 533, 538, 547, 552, 557, 560, 563,\n",
              "        564, 568, 573, 578, 584, 589, 593, 596, 598, 601, 602, 611, 612,\n",
              "        613, 629, 633, 639, 643, 648, 650, 653, 656, 667, 669, 674, 680,\n",
              "        692, 697, 709, 711, 718, 727, 732, 738, 739, 740, 760, 766, 768,\n",
              "        773, 776, 778, 783, 790, 792, 793, 815, 825, 826, 828, 832, 837,\n",
              "        839, 846, 849, 859, 863, 868, 878, 888]),)"
            ]
          },
          "metadata": {},
          "execution_count": 19
        }
      ]
    },
    {
      "cell_type": "code",
      "source": [
        "len(missing[0])"
      ],
      "metadata": {
        "colab": {
          "base_uri": "https://localhost:8080/"
        },
        "id": "2Jduu0zk6Taa",
        "outputId": "58a98e4e-aba7-4d1e-cc2d-a88173837700"
      },
      "execution_count": null,
      "outputs": [
        {
          "output_type": "execute_result",
          "data": {
            "text/plain": [
              "177"
            ]
          },
          "metadata": {},
          "execution_count": 20
        }
      ]
    },
    {
      "cell_type": "code",
      "source": [
        "titanic_train.hist(column='Age',    \n",
        "                   figsize=(9,6),   # Plot boyutu\n",
        "                   bins=20)         # histogram bins sayısı"
      ],
      "metadata": {
        "colab": {
          "base_uri": "https://localhost:8080/",
          "height": 407
        },
        "id": "H-aD3fgV6VVz",
        "outputId": "6fe19526-ca27-4fa3-e7ea-0a577ae1f8e4"
      },
      "execution_count": null,
      "outputs": [
        {
          "output_type": "execute_result",
          "data": {
            "text/plain": [
              "array([[<Axes: title={'center': 'Age'}>]], dtype=object)"
            ]
          },
          "metadata": {},
          "execution_count": 21
        },
        {
          "output_type": "display_data",
          "data": {
            "text/plain": [
              "<Figure size 648x432 with 1 Axes>"
            ],
            "image/png": "[encoded data removed]"
          },
          "metadata": {
            "needs_background": "light"
          }
        }
      ]
    },
    {
      "cell_type": "code",
      "source": [
        "#ortalamanın düzgün çıkması için sıfır değerleri en yoğun aralıktan bir değer atamamız gerekior\n",
        "new_age_var = np.where(titanic_train[\"Age\"].isnull(), \n",
        "                       26,                       \n",
        "                       titanic_train[\"Age\"])     \n",
        "\n",
        "titanic_train[\"Age\"] = new_age_var \n",
        "\n",
        "titanic_train[\"Age\"].describe()"
      ],
      "metadata": {
        "colab": {
          "base_uri": "https://localhost:8080/"
        },
        "id": "4fe_tyqz6ekp",
        "outputId": "ab6d5824-4a48-4c3b-bbb2-65dacb09d586"
      },
      "execution_count": null,
      "outputs": [
        {
          "output_type": "execute_result",
          "data": {
            "text/plain": [
              "count    891.000000\n",
              "mean      28.964276\n",
              "std       13.085607\n",
              "min        0.420000\n",
              "25%       22.000000\n",
              "50%       26.000000\n",
              "75%       35.000000\n",
              "max       80.000000\n",
              "Name: Age, dtype: float64"
            ]
          },
          "metadata": {},
          "execution_count": 22
        }
      ]
    },
    {
      "cell_type": "code",
      "source": [
        "titanic_train.hist(column='Age',    \n",
        "                   figsize=(9,6),   # Plot boyutu\n",
        "                   bins=20)         # histogram bins sayısı"
      ],
      "metadata": {
        "colab": {
          "base_uri": "https://localhost:8080/",
          "height": 407
        },
        "id": "dkNyC-qb6yTf",
        "outputId": "2e685f0c-d42a-4c7e-f4f0-c902bb0d065e"
      },
      "execution_count": null,
      "outputs": [
        {
          "output_type": "execute_result",
          "data": {
            "text/plain": [
              "array([[<Axes: title={'center': 'Age'}>]], dtype=object)"
            ]
          },
          "metadata": {},
          "execution_count": 23
        },
        {
          "output_type": "display_data",
          "data": {
            "text/plain": [
              "<Figure size 648x432 with 1 Axes>"
            ],
            "image/png": "[encoded data removed]"
          },
          "metadata": {
            "needs_background": "light"
          }
        }
      ]
    },
    {
      "cell_type": "code",
      "source": [],
      "metadata": {
        "id": "T7VCKR7E649F"
      },
      "execution_count": null,
      "outputs": []
    },
    {
      "cell_type": "markdown",
      "source": [],
      "metadata": {
        "id": "Jj_Ydc0-6-mc"
      }
    },
    {
      "cell_type": "markdown",
      "source": [
        "# Seaborn\n"
      ],
      "metadata": {
        "id": "DAvMsUvs7Cml"
      }
    },
    {
      "cell_type": "code",
      "source": [
        "import seaborn as sns\n",
        "import matplotlib.pyplot as plt\n",
        "\n",
        "data = sns.load_dataset(\"flights\")\n",
        "\n",
        "data = data.pivot(\"month\",\"year\",\"passengers\")\n",
        "\n",
        "\n",
        "# heatmap\n",
        "\n",
        "sns.heatmap(data=data , annot=True ,fmt=\"d\" , cmap=\"YlGnBu\")\n",
        "\n",
        "plt.show()\n"
      ],
      "metadata": {
        "colab": {
          "base_uri": "https://localhost:8080/",
          "height": 295
        },
        "id": "2nX9scSY7Db2",
        "outputId": "c03778d0-9ae0-4072-d6ec-afdc3829c6cf"
      },
      "execution_count": null,
      "outputs": [
        {
          "output_type": "display_data",
          "data": {
            "text/plain": [
              "<Figure size 432x288 with 2 Axes>"
            ],
            "image/png": "[encoded data removed]"
          },
          "metadata": {
            "needs_background": "light"
          }
        }
      ]
    },
    {
      "cell_type": "code",
      "source": [
        "data.info"
      ],
      "metadata": {
        "colab": {
          "base_uri": "https://localhost:8080/"
        },
        "id": "TBOu7Txq7skh",
        "outputId": "035a06f1-9db7-42d9-b68a-74fcd48c30ac"
      },
      "execution_count": null,
      "outputs": [
        {
          "output_type": "execute_result",
          "data": {
            "text/plain": [
              "<bound method DataFrame.info of year   1949  1950  1951  1952  1953  1954  1955  1956  1957  1958  1959  1960\n",
              "month                                                                        \n",
              "Jan     112   115   145   171   196   204   242   284   315   340   360   417\n",
              "Feb     118   126   150   180   196   188   233   277   301   318   342   391\n",
              "Mar     132   141   178   193   236   235   267   317   356   362   406   419\n",
              "Apr     129   135   163   181   235   227   269   313   348   348   396   461\n",
              "May     121   125   172   183   229   234   270   318   355   363   420   472\n",
              "Jun     135   149   178   218   243   264   315   374   422   435   472   535\n",
              "Jul     148   170   199   230   264   302   364   413   465   491   548   622\n",
              "Aug     148   170   199   242   272   293   347   405   467   505   559   606\n",
              "Sep     136   158   184   209   237   259   312   355   404   404   463   508\n",
              "Oct     119   133   162   191   211   229   274   306   347   359   407   461\n",
              "Nov     104   114   146   172   180   203   237   271   305   310   362   390\n",
              "Dec     118   140   166   194   201   229   278   306   336   337   405   432>"
            ]
          },
          "metadata": {},
          "execution_count": 25
        }
      ]
    },
    {
      "cell_type": "code",
      "source": [
        "import seaborn as sns\n",
        "import matplotlib.pyplot as plt\n",
        "\n",
        "data = sns.load_dataset(\"flights\")\n",
        "\n",
        "\n",
        "sns.lineplot(data=data, x=\"year\",y=\"passengers\")\n",
        "plt.show()"
      ],
      "metadata": {
        "colab": {
          "base_uri": "https://localhost:8080/",
          "height": 279
        },
        "id": "AkhUe_z97zXY",
        "outputId": "1fbf108e-c3d3-41da-b4d4-c43ac6a29e11"
      },
      "execution_count": null,
      "outputs": [
        {
          "output_type": "display_data",
          "data": {
            "text/plain": [
              "<Figure size 432x288 with 1 Axes>"
            ],
            "image/png": "[encoded data removed]"
          },
          "metadata": {
            "needs_background": "light"
          }
        }
      ]
    },
    {
      "cell_type": "code",
      "source": [
        "import seaborn as sns\n",
        "import matplotlib.pyplot as plt\n",
        "\n",
        "data = sns.load_dataset(\"iris\")\n",
        "\n",
        "sns.swarmplot(x=\"species\" ,y =\"petal_length\" , data= data)\n",
        "plt.show()\n"
      ],
      "metadata": {
        "colab": {
          "base_uri": "https://localhost:8080/",
          "height": 314
        },
        "id": "ypwS82zI71lL",
        "outputId": "894c52b7-847e-4a2a-88e5-77c5d15ea1c7"
      },
      "execution_count": null,
      "outputs": [
        {
          "output_type": "stream",
          "name": "stderr",
          "text": [
            "/usr/local/lib/python3.9/dist-packages/seaborn/categorical.py:3544: UserWarning: 14.0% of the points cannot be placed; you may want to decrease the size of the markers or use stripplot.\n",
            "  warnings.warn(msg, UserWarning)\n"
          ]
        },
        {
          "output_type": "display_data",
          "data": {
            "text/plain": [
              "<Figure size 432x288 with 1 Axes>"
            ],
            "image/png": "[encoded data removed]"
          },
          "metadata": {
            "needs_background": "light"
          }
        }
      ]
    },
    {
      "cell_type": "code",
      "source": [
        "import seaborn as sns\n",
        "import matplotlib.pyplot as plt\n",
        "\n",
        "data = sns.load_dataset(\"titanic\")\n",
        "\n",
        "#bar plot\n",
        "sns.countplot(data=data , x=\"class\")\n",
        "\n",
        "\n",
        "plt.show()"
      ],
      "metadata": {
        "colab": {
          "base_uri": "https://localhost:8080/",
          "height": 279
        },
        "id": "A-_Vt1HJ73Kl",
        "outputId": "3a5cd7ed-e875-4007-ff16-2527abad70b3"
      },
      "execution_count": null,
      "outputs": [
        {
          "output_type": "display_data",
          "data": {
            "text/plain": [
              "<Figure size 432x288 with 1 Axes>"
            ],
            "image/png": "[encoded data removed]"
          },
          "metadata": {
            "needs_background": "light"
          }
        }
      ]
    },
    {
      "cell_type": "code",
      "source": [
        "import seaborn as sns\n",
        "import matplotlib.pyplot as plt\n",
        "\n",
        "data= sns.load_dataset(\"tips\")\n",
        "\n",
        "#scatter plot\n",
        "\n",
        "sns.scatterplot(data=data, x = \"total_bill\", y = \"tip\")\n",
        "plt.show()\n"
      ],
      "metadata": {
        "colab": {
          "base_uri": "https://localhost:8080/",
          "height": 280
        },
        "id": "BeTBvdaL8K6n",
        "outputId": "4c6ed22e-2557-45fd-8df6-adc44cd8c6a2"
      },
      "execution_count": null,
      "outputs": [
        {
          "output_type": "display_data",
          "data": {
            "text/plain": [
              "<Figure size 432x288 with 1 Axes>"
            ],
            "image/png": "[encoded data removed]"
          },
          "metadata": {
            "needs_background": "light"
          }
        }
      ]
    },
    {
      "cell_type": "code",
      "source": [
        "import seaborn as sns\n",
        "import matplotlib.pyplot as plt\n",
        "\n",
        "data= sns.load_dataset(\"titanic\")\n",
        "\n",
        "#facet grid\n",
        "\n",
        "g = sns.FacetGrid(data,col= \"sex\")\n",
        "\n",
        "g.map(sns.histplot, \"age\")\n",
        "plt.show()\n"
      ],
      "metadata": {
        "colab": {
          "base_uri": "https://localhost:8080/",
          "height": 225
        },
        "id": "tqRuifsV8Mtb",
        "outputId": "e9b99437-2dbe-4240-e80d-08bcef1708bf"
      },
      "execution_count": null,
      "outputs": [
        {
          "output_type": "display_data",
          "data": {
            "text/plain": [
              "<Figure size 432x216 with 2 Axes>"
            ],
            "image/png": "[encoded data removed]"
          },
          "metadata": {
            "needs_background": "light"
          }
        }
      ]
    },
    {
      "cell_type": "code",
      "source": [
        "import seaborn as sns\n",
        "import matplotlib.pyplot as plt\n",
        "\n",
        "iris= sns.load_dataset(\"iris\")\n",
        "\n",
        "g = sns.clustermap(iris.drop(\"species\",axis=1),cmap=\"coolwarm\",standard_scale=1)\n",
        "\n",
        "plt.show()\n"
      ],
      "metadata": {
        "colab": {
          "base_uri": "https://localhost:8080/",
          "height": 730
        },
        "id": "5YAXGnqL8PKN",
        "outputId": "674af470-a55e-4831-92c2-959631c16f65"
      },
      "execution_count": null,
      "outputs": [
        {
          "output_type": "display_data",
          "data": {
            "text/plain": [
              "<Figure size 720x720 with 4 Axes>"
            ],
            "image/png": "[encoded data removed]"
          },
          "metadata": {
            "needs_background": "light"
          }
        }
      ]
    },
    {
      "cell_type": "code",
      "source": [],
      "metadata": {
        "id": "M0pJlV__8Q26"
      },
      "execution_count": null,
      "outputs": []
    },
    {
      "cell_type": "markdown",
      "source": [
        "\n",
        "\n",
        "# #Plot"
      ],
      "metadata": {
        "id": "FMwBqFRl8UZg"
      }
    },
    {
      "cell_type": "markdown",
      "source": [
        "Bar Plot"
      ],
      "metadata": {
        "id": "n1ro1OM69dY-"
      }
    },
    {
      "cell_type": "code",
      "source": [
        "import pandas as pd\n",
        "import numpy as np\n",
        "import matplotlib.pyplot as plt\n",
        "from plotly.offline import iplot\n",
        "import plotly.graph_objs as go"
      ],
      "metadata": {
        "id": "T3ZW9Cn985ws"
      },
      "execution_count": 45,
      "outputs": []
    },
    {
      "cell_type": "code",
      "source": [
        "timesData = pd.read_csv(\"/content/drive/MyDrive/1csv/timesData.csv\")"
      ],
      "metadata": {
        "id": "eSEEP32Z9m6-"
      },
      "execution_count": 46,
      "outputs": []
    },
    {
      "cell_type": "code",
      "source": [
        "timesData.head()"
      ],
      "metadata": {
        "id": "OOFXfYV29qXO",
        "colab": {
          "base_uri": "https://localhost:8080/",
          "height": 206
        },
        "outputId": "68f87e1e-9d55-4403-efe1-cc251b55e29c"
      },
      "execution_count": 47,
      "outputs": [
        {
          "output_type": "execute_result",
          "data": {
            "text/plain": [
              "  world_rank                        university_name                   country  \\\n",
              "0          1                     Harvard University  United States of America   \n",
              "1          2     California Institute of Technology  United States of America   \n",
              "2          3  Massachusetts Institute of Technology  United States of America   \n",
              "3          4                    Stanford University  United States of America   \n",
              "4          5                   Princeton University  United States of America   \n",
              "\n",
              "   teaching international  research  citations income total_score  \\\n",
              "0      99.7          72.4      98.7       98.8   34.5        96.1   \n",
              "1      97.7          54.6      98.0       99.9   83.7        96.0   \n",
              "2      97.8          82.3      91.4       99.9   87.5        95.6   \n",
              "3      98.3          29.5      98.1       99.2   64.3        94.3   \n",
              "4      90.9          70.3      95.4       99.9      -        94.2   \n",
              "\n",
              "  num_students  student_staff_ratio international_students female_male_ratio  \\\n",
              "0       20,152                  8.9                    25%               NaN   \n",
              "1        2,243                  6.9                    27%           33 : 67   \n",
              "2       11,074                  9.0                    33%           37 : 63   \n",
              "3       15,596                  7.8                    22%           42 : 58   \n",
              "4        7,929                  8.4                    27%           45 : 55   \n",
              "\n",
              "   year  \n",
              "0  2011  \n",
              "1  2011  \n",
              "2  2011  \n",
              "3  2011  \n",
              "4  2011  "
            ],
            "text/html": [
              "\n",
              "  <div id=\"df-b1b3d7eb-1b50-4cda-91e6-fec8df49624c\">\n",
              "    <div class=\"colab-df-container\">\n",
              "      <div>\n",
              "<style scoped>\n",
              "    .dataframe tbody tr th:only-of-type {\n",
              "        vertical-align: middle;\n",
              "    }\n",
              "\n",
              "    .dataframe tbody tr th {\n",
              "        vertical-align: top;\n",
              "    }\n",
              "\n",
              "    .dataframe thead th {\n",
              "        text-align: right;\n",
              "    }\n",
              "</style>\n",
              "<table border=\"1\" class=\"dataframe\">\n",
              "  <thead>\n",
              "    <tr style=\"text-align: right;\">\n",
              "      <th></th>\n",
              "      <th>world_rank</th>\n",
              "      <th>university_name</th>\n",
              "      <th>country</th>\n",
              "      <th>teaching</th>\n",
              "      <th>international</th>\n",
              "      <th>research</th>\n",
              "      <th>citations</th>\n",
              "      <th>income</th>\n",
              "      <th>total_score</th>\n",
              "      <th>num_students</th>\n",
              "      <th>student_staff_ratio</th>\n",
              "      <th>international_students</th>\n",
              "      <th>female_male_ratio</th>\n",
              "      <th>year</th>\n",
              "    </tr>\n",
              "  </thead>\n",
              "  <tbody>\n",
              "    <tr>\n",
              "      <th>0</th>\n",
              "      <td>1</td>\n",
              "      <td>Harvard University</td>\n",
              "      <td>United States of America</td>\n",
              "      <td>99.7</td>\n",
              "      <td>72.4</td>\n",
              "      <td>98.7</td>\n",
              "      <td>98.8</td>\n",
              "      <td>34.5</td>\n",
              "      <td>96.1</td>\n",
              "      <td>20,152</td>\n",
              "      <td>8.9</td>\n",
              "      <td>25%</td>\n",
              "      <td>NaN</td>\n",
              "      <td>2011</td>\n",
              "    </tr>\n",
              "    <tr>\n",
              "      <th>1</th>\n",
              "      <td>2</td>\n",
              "      <td>California Institute of Technology</td>\n",
              "      <td>United States of America</td>\n",
              "      <td>97.7</td>\n",
              "      <td>54.6</td>\n",
              "      <td>98.0</td>\n",
              "      <td>99.9</td>\n",
              "      <td>83.7</td>\n",
              "      <td>96.0</td>\n",
              "      <td>2,243</td>\n",
              "      <td>6.9</td>\n",
              "      <td>27%</td>\n",
              "      <td>33 : 67</td>\n",
              "      <td>2011</td>\n",
              "    </tr>\n",
              "    <tr>\n",
              "      <th>2</th>\n",
              "      <td>3</td>\n",
              "      <td>Massachusetts Institute of Technology</td>\n",
              "      <td>United States of America</td>\n",
              "      <td>97.8</td>\n",
              "      <td>82.3</td>\n",
              "      <td>91.4</td>\n",
              "      <td>99.9</td>\n",
              "      <td>87.5</td>\n",
              "      <td>95.6</td>\n",
              "      <td>11,074</td>\n",
              "      <td>9.0</td>\n",
              "      <td>33%</td>\n",
              "      <td>37 : 63</td>\n",
              "      <td>2011</td>\n",
              "    </tr>\n",
              "    <tr>\n",
              "      <th>3</th>\n",
              "      <td>4</td>\n",
              "      <td>Stanford University</td>\n",
              "      <td>United States of America</td>\n",
              "      <td>98.3</td>\n",
              "      <td>29.5</td>\n",
              "      <td>98.1</td>\n",
              "      <td>99.2</td>\n",
              "      <td>64.3</td>\n",
              "      <td>94.3</td>\n",
              "      <td>15,596</td>\n",
              "      <td>7.8</td>\n",
              "      <td>22%</td>\n",
              "      <td>42 : 58</td>\n",
              "      <td>2011</td>\n",
              "    </tr>\n",
              "    <tr>\n",
              "      <th>4</th>\n",
              "      <td>5</td>\n",
              "      <td>Princeton University</td>\n",
              "      <td>United States of America</td>\n",
              "      <td>90.9</td>\n",
              "      <td>70.3</td>\n",
              "      <td>95.4</td>\n",
              "      <td>99.9</td>\n",
              "      <td>-</td>\n",
              "      <td>94.2</td>\n",
              "      <td>7,929</td>\n",
              "      <td>8.4</td>\n",
              "      <td>27%</td>\n",
              "      <td>45 : 55</td>\n",
              "      <td>2011</td>\n",
              "    </tr>\n",
              "  </tbody>\n",
              "</table>\n",
              "</div>\n",
              "      <button class=\"colab-df-convert\" onclick=\"convertToInteractive('df-b1b3d7eb-1b50-4cda-91e6-fec8df49624c')\"\n",
              "              title=\"Convert this dataframe to an interactive table.\"\n",
              "              style=\"display:none;\">\n",
              "        \n",
              "  <svg xmlns=\"http://www.w3.org/2000/svg\" height=\"24px\"viewBox=\"0 0 24 24\"\n",
              "       width=\"24px\">\n",
              "    <path d=\"M0 0h24v24H0V0z\" fill=\"none\"/>\n",
              "    <path d=\"M18.56 5.44l.94 2.06.94-2.06 2.06-.94-2.06-.94-.94-2.06-.94 2.06-2.06.94zm-11 1L8.5 8.5l.94-2.06 2.06-.94-2.06-.94L8.5 2.5l-.94 2.06-2.06.94zm10 10l.94 2.06.94-2.06 2.06-.94-2.06-.94-.94-2.06-.94 2.06-2.06.94z\"/><path d=\"M17.41 7.96l-1.37-1.37c-.4-.4-.92-.59-1.43-.59-.52 0-1.04.2-1.43.59L10.3 9.45l-7.72 7.72c-.78.78-.78 2.05 0 2.83L4 21.41c.39.39.9.59 1.41.59.51 0 1.02-.2 1.41-.59l7.78-7.78 2.81-2.81c.8-.78.8-2.07 0-2.86zM5.41 20L4 18.59l7.72-7.72 1.47 1.35L5.41 20z\"/>\n",
              "  </svg>\n",
              "      </button>\n",
              "      \n",
              "  <style>\n",
              "    .colab-df-container {\n",
              "      display:flex;\n",
              "      flex-wrap:wrap;\n",
              "      gap: 12px;\n",
              "    }\n",
              "\n",
              "    .colab-df-convert {\n",
              "      background-color: #E8F0FE;\n",
              "      border: none;\n",
              "      border-radius: 50%;\n",
              "      cursor: pointer;\n",
              "      display: none;\n",
              "      fill: #1967D2;\n",
              "      height: 32px;\n",
              "      padding: 0 0 0 0;\n",
              "      width: 32px;\n",
              "    }\n",
              "\n",
              "    .colab-df-convert:hover {\n",
              "      background-color: #E2EBFA;\n",
              "      box-shadow: 0px 1px 2px rgba(60, 64, 67, 0.3), 0px 1px 3px 1px rgba(60, 64, 67, 0.15);\n",
              "      fill: #174EA6;\n",
              "    }\n",
              "\n",
              "    [theme=dark] .colab-df-convert {\n",
              "      background-color: #3B4455;\n",
              "      fill: #D2E3FC;\n",
              "    }\n",
              "\n",
              "    [theme=dark] .colab-df-convert:hover {\n",
              "      background-color: #434B5C;\n",
              "      box-shadow: 0px 1px 3px 1px rgba(0, 0, 0, 0.15);\n",
              "      filter: drop-shadow(0px 1px 2px rgba(0, 0, 0, 0.3));\n",
              "      fill: #FFFFFF;\n",
              "    }\n",
              "  </style>\n",
              "\n",
              "      <script>\n",
              "        const buttonEl =\n",
              "          document.querySelector('#df-b1b3d7eb-1b50-4cda-91e6-fec8df49624c button.colab-df-convert');\n",
              "        buttonEl.style.display =\n",
              "          google.colab.kernel.accessAllowed ? 'block' : 'none';\n",
              "\n",
              "        async function convertToInteractive(key) {\n",
              "          const element = document.querySelector('#df-b1b3d7eb-1b50-4cda-91e6-fec8df49624c');\n",
              "          const dataTable =\n",
              "            await google.colab.kernel.invokeFunction('convertToInteractive',\n",
              "                                                     [key], {});\n",
              "          if (!dataTable) return;\n",
              "\n",
              "          const docLinkHtml = 'Like what you see? Visit the ' +\n",
              "            '<a target=\"_blank\" href=https://colab.research.google.com/notebooks/data_table.ipynb>data table notebook</a>'\n",
              "            + ' to learn more about interactive tables.';\n",
              "          element.innerHTML = '';\n",
              "          dataTable['output_type'] = 'display_data';\n",
              "          await google.colab.output.renderOutput(dataTable, element);\n",
              "          const docLink = document.createElement('div');\n",
              "          docLink.innerHTML = docLinkHtml;\n",
              "          element.appendChild(docLink);\n",
              "        }\n",
              "      </script>\n",
              "    </div>\n",
              "  </div>\n",
              "  "
            ]
          },
          "metadata": {},
          "execution_count": 47
        }
      ]
    },
    {
      "cell_type": "markdown",
      "source": [
        "**trace** kısmı oluşturulurken\n",
        "\n",
        "*   **x** = x eksenine koyulacak sütun yazılır.\n",
        "*   **y** = x eksenine koyulacak sütun yazılır.\n",
        "*   **mode** = kullanılacak plotun türüdür.\n",
        "*   **name** = trace'in adıdır, kenarda hangi renkte hangi verinin kullanıldığının bilgisini verir.\n",
        "*   **marker** = dictionarylerle birlikte kullanılır, renk ve saydamlık belirlenir.\n",
        "*   **text** = plotun üzerinde gezinirken değerin ait olduğu bilgidir.\n",
        "\n",
        "**data** = traceler eklendiği listedir.\n",
        "\n",
        "**layout** = dictionarydir ve içerisinde şunları barındırır;\n",
        "*   **title** = başlık bilgisi\n",
        "*   **x axis** = bir dictionarydir ve içerisinde şunları barındırır;\n",
        "  *   **title** = x ekseninin adı\n",
        "  *   **ticklen** = x eksenindeki başlığın kalınlığı\n",
        "  *   **zeroline** = False olduğunda sıfırdan geçen çizgiler devre dışı bırakılır.\n",
        "\n",
        "**fig** = datayı ve layoutu içeren bir figür oluşturulur.\n",
        "\n",
        "**iplot()** = içerisinde data ve layout bulunan figür plot edilir."
      ],
      "metadata": {
        "id": "DyRpGKrY_BT7"
      }
    },
    {
      "cell_type": "code",
      "source": [
        "df2014 = timesData[timesData.year == 2014].iloc[:3,:] #2014 yılındaki ilk 3 üniversite seçilerek bir filtre oluşturulur bu filtre dataya uygulanır.\n",
        "df2014"
      ],
      "metadata": {
        "id": "wY-FwBoy9rvX",
        "colab": {
          "base_uri": "https://localhost:8080/",
          "height": 143
        },
        "outputId": "28d5d33c-3259-4afd-f79f-ee9fc414fcca"
      },
      "execution_count": 48,
      "outputs": [
        {
          "output_type": "execute_result",
          "data": {
            "text/plain": [
              "     world_rank                     university_name                   country  \\\n",
              "1002          1  California Institute of Technology  United States of America   \n",
              "1003          2                  Harvard University  United States of America   \n",
              "1004          2                University of Oxford            United Kingdom   \n",
              "\n",
              "      teaching international  research  citations income total_score  \\\n",
              "1002      94.4          65.8      98.2       99.8   91.2        94.9   \n",
              "1003      95.3          66.2      98.5       99.1   40.6        93.9   \n",
              "1004      89.0          90.2      98.5       95.4   90.3        93.9   \n",
              "\n",
              "     num_students  student_staff_ratio international_students  \\\n",
              "1002        2,243                  6.9                    27%   \n",
              "1003       20,152                  8.9                    25%   \n",
              "1004       19,919                 11.6                    34%   \n",
              "\n",
              "     female_male_ratio  year  \n",
              "1002           33 : 67  2014  \n",
              "1003               NaN  2014  \n",
              "1004           46 : 54  2014  "
            ],
            "text/html": [
              "\n",
              "  <div id=\"df-0939c6f2-dfce-4f2e-a9e5-dc5214ec8c8b\">\n",
              "    <div class=\"colab-df-container\">\n",
              "      <div>\n",
              "<style scoped>\n",
              "    .dataframe tbody tr th:only-of-type {\n",
              "        vertical-align: middle;\n",
              "    }\n",
              "\n",
              "    .dataframe tbody tr th {\n",
              "        vertical-align: top;\n",
              "    }\n",
              "\n",
              "    .dataframe thead th {\n",
              "        text-align: right;\n",
              "    }\n",
              "</style>\n",
              "<table border=\"1\" class=\"dataframe\">\n",
              "  <thead>\n",
              "    <tr style=\"text-align: right;\">\n",
              "      <th></th>\n",
              "      <th>world_rank</th>\n",
              "      <th>university_name</th>\n",
              "      <th>country</th>\n",
              "      <th>teaching</th>\n",
              "      <th>international</th>\n",
              "      <th>research</th>\n",
              "      <th>citations</th>\n",
              "      <th>income</th>\n",
              "      <th>total_score</th>\n",
              "      <th>num_students</th>\n",
              "      <th>student_staff_ratio</th>\n",
              "      <th>international_students</th>\n",
              "      <th>female_male_ratio</th>\n",
              "      <th>year</th>\n",
              "    </tr>\n",
              "  </thead>\n",
              "  <tbody>\n",
              "    <tr>\n",
              "      <th>1002</th>\n",
              "      <td>1</td>\n",
              "      <td>California Institute of Technology</td>\n",
              "      <td>United States of America</td>\n",
              "      <td>94.4</td>\n",
              "      <td>65.8</td>\n",
              "      <td>98.2</td>\n",
              "      <td>99.8</td>\n",
              "      <td>91.2</td>\n",
              "      <td>94.9</td>\n",
              "      <td>2,243</td>\n",
              "      <td>6.9</td>\n",
              "      <td>27%</td>\n",
              "      <td>33 : 67</td>\n",
              "      <td>2014</td>\n",
              "    </tr>\n",
              "    <tr>\n",
              "      <th>1003</th>\n",
              "      <td>2</td>\n",
              "      <td>Harvard University</td>\n",
              "      <td>United States of America</td>\n",
              "      <td>95.3</td>\n",
              "      <td>66.2</td>\n",
              "      <td>98.5</td>\n",
              "      <td>99.1</td>\n",
              "      <td>40.6</td>\n",
              "      <td>93.9</td>\n",
              "      <td>20,152</td>\n",
              "      <td>8.9</td>\n",
              "      <td>25%</td>\n",
              "      <td>NaN</td>\n",
              "      <td>2014</td>\n",
              "    </tr>\n",
              "    <tr>\n",
              "      <th>1004</th>\n",
              "      <td>2</td>\n",
              "      <td>University of Oxford</td>\n",
              "      <td>United Kingdom</td>\n",
              "      <td>89.0</td>\n",
              "      <td>90.2</td>\n",
              "      <td>98.5</td>\n",
              "      <td>95.4</td>\n",
              "      <td>90.3</td>\n",
              "      <td>93.9</td>\n",
              "      <td>19,919</td>\n",
              "      <td>11.6</td>\n",
              "      <td>34%</td>\n",
              "      <td>46 : 54</td>\n",
              "      <td>2014</td>\n",
              "    </tr>\n",
              "  </tbody>\n",
              "</table>\n",
              "</div>\n",
              "      <button class=\"colab-df-convert\" onclick=\"convertToInteractive('df-0939c6f2-dfce-4f2e-a9e5-dc5214ec8c8b')\"\n",
              "              title=\"Convert this dataframe to an interactive table.\"\n",
              "              style=\"display:none;\">\n",
              "        \n",
              "  <svg xmlns=\"http://www.w3.org/2000/svg\" height=\"24px\"viewBox=\"0 0 24 24\"\n",
              "       width=\"24px\">\n",
              "    <path d=\"M0 0h24v24H0V0z\" fill=\"none\"/>\n",
              "    <path d=\"M18.56 5.44l.94 2.06.94-2.06 2.06-.94-2.06-.94-.94-2.06-.94 2.06-2.06.94zm-11 1L8.5 8.5l.94-2.06 2.06-.94-2.06-.94L8.5 2.5l-.94 2.06-2.06.94zm10 10l.94 2.06.94-2.06 2.06-.94-2.06-.94-.94-2.06-.94 2.06-2.06.94z\"/><path d=\"M17.41 7.96l-1.37-1.37c-.4-.4-.92-.59-1.43-.59-.52 0-1.04.2-1.43.59L10.3 9.45l-7.72 7.72c-.78.78-.78 2.05 0 2.83L4 21.41c.39.39.9.59 1.41.59.51 0 1.02-.2 1.41-.59l7.78-7.78 2.81-2.81c.8-.78.8-2.07 0-2.86zM5.41 20L4 18.59l7.72-7.72 1.47 1.35L5.41 20z\"/>\n",
              "  </svg>\n",
              "      </button>\n",
              "      \n",
              "  <style>\n",
              "    .colab-df-container {\n",
              "      display:flex;\n",
              "      flex-wrap:wrap;\n",
              "      gap: 12px;\n",
              "    }\n",
              "\n",
              "    .colab-df-convert {\n",
              "      background-color: #E8F0FE;\n",
              "      border: none;\n",
              "      border-radius: 50%;\n",
              "      cursor: pointer;\n",
              "      display: none;\n",
              "      fill: #1967D2;\n",
              "      height: 32px;\n",
              "      padding: 0 0 0 0;\n",
              "      width: 32px;\n",
              "    }\n",
              "\n",
              "    .colab-df-convert:hover {\n",
              "      background-color: #E2EBFA;\n",
              "      box-shadow: 0px 1px 2px rgba(60, 64, 67, 0.3), 0px 1px 3px 1px rgba(60, 64, 67, 0.15);\n",
              "      fill: #174EA6;\n",
              "    }\n",
              "\n",
              "    [theme=dark] .colab-df-convert {\n",
              "      background-color: #3B4455;\n",
              "      fill: #D2E3FC;\n",
              "    }\n",
              "\n",
              "    [theme=dark] .colab-df-convert:hover {\n",
              "      background-color: #434B5C;\n",
              "      box-shadow: 0px 1px 3px 1px rgba(0, 0, 0, 0.15);\n",
              "      filter: drop-shadow(0px 1px 2px rgba(0, 0, 0, 0.3));\n",
              "      fill: #FFFFFF;\n",
              "    }\n",
              "  </style>\n",
              "\n",
              "      <script>\n",
              "        const buttonEl =\n",
              "          document.querySelector('#df-0939c6f2-dfce-4f2e-a9e5-dc5214ec8c8b button.colab-df-convert');\n",
              "        buttonEl.style.display =\n",
              "          google.colab.kernel.accessAllowed ? 'block' : 'none';\n",
              "\n",
              "        async function convertToInteractive(key) {\n",
              "          const element = document.querySelector('#df-0939c6f2-dfce-4f2e-a9e5-dc5214ec8c8b');\n",
              "          const dataTable =\n",
              "            await google.colab.kernel.invokeFunction('convertToInteractive',\n",
              "                                                     [key], {});\n",
              "          if (!dataTable) return;\n",
              "\n",
              "          const docLinkHtml = 'Like what you see? Visit the ' +\n",
              "            '<a target=\"_blank\" href=https://colab.research.google.com/notebooks/data_table.ipynb>data table notebook</a>'\n",
              "            + ' to learn more about interactive tables.';\n",
              "          element.innerHTML = '';\n",
              "          dataTable['output_type'] = 'display_data';\n",
              "          await google.colab.output.renderOutput(dataTable, element);\n",
              "          const docLink = document.createElement('div');\n",
              "          docLink.innerHTML = docLinkHtml;\n",
              "          element.appendChild(docLink);\n",
              "        }\n",
              "      </script>\n",
              "    </div>\n",
              "  </div>\n",
              "  "
            ]
          },
          "metadata": {},
          "execution_count": 48
        }
      ]
    },
    {
      "cell_type": "code",
      "source": [
        "#create trace1\n",
        "trace1 = go.Bar( \n",
        "                x = df2014.university_name, # üniversite isimleri\n",
        "                y = df2014.citations,  # alıntı değerler.\n",
        "                name = \"citations\",    #trace'in adı \n",
        "                marker = dict(color = 'rgba(255, 174, 255, 0.5)', #renk ve saydamlık \n",
        "                             line=dict(color='rgb(0,0,0)',width=1.5)), #bar plotunun renk ve çevresinin kalınlığı\n",
        "                text = df2014.country) #değerin üzerine gelindiğinde ülke adı yazar\n",
        "\n",
        "# create trace2 \n",
        "trace2 = go.Bar(\n",
        "                x = df2014.university_name,  #üniversite isimleri\n",
        "                y = df2014.teaching,    #öğretme değerleri \n",
        "                name = \"teaching\",      #trace'in adı\n",
        "                marker = dict(color = 'rgba(255, 255, 128, 0.5)',   #renk ve saydamlık \n",
        "                              line=dict(color='rgb(0,0,0)',width=1.5)), #bar plotunun renk ve çevresinin kalınlığı\n",
        "                text = df2014.country)   #değerin üzerine gelindiğinde ülke adı yazar\n",
        "\n",
        "data = [trace1, trace2] #trace1 ve trace2 data değişkenine liste olarak atanır.\n",
        "\n",
        "layout = go.Layout(barmode = \"group\") #barmode -> trace1 ve trace2'nin nasıl koyulacağının modudur.\n",
        "                                      #group modu ile iki trace yan yana yerleştirilir\n",
        "\n",
        "fig = go.Figure(data = data, layout = layout) #data parametresine data değişkeni  layout parametresine layout değişkeni atanarak figür oluşturulur \n",
        "\n",
        "iplot(fig) "
      ],
      "metadata": {
        "colab": {
          "base_uri": "https://localhost:8080/",
          "height": 542
        },
        "id": "WrQfHvmJ_WN5",
        "outputId": "78ecf1b9-16ae-4893-c6bb-948b46edab1a"
      },
      "execution_count": 50,
      "outputs": [
        {
          "output_type": "display_data",
          "data": {
            "text/html": [
              "<html>\n",
              "<head><meta charset=\"utf-8\" /></head>\n",
              "<body>\n",
              "    <div>            <script src=\"https://cdnjs.cloudflare.com/ajax/libs/mathjax/2.7.5/MathJax.js?config=TeX-AMS-MML_SVG\"></script><script type=\"text/javascript\">if (window.MathJax && window.MathJax.Hub && window.MathJax.Hub.Config) {window.MathJax.Hub.Config({SVG: {font: \"STIX-Web\"}});}</script>                <script type=\"text/javascript\">window.PlotlyConfig = {MathJaxConfig: 'local'};</script>\n",
              "        <script src=\"https://cdn.plot.ly/plotly-2.8.3.min.js\"></script>                <div id=\"2d6d19fc-2c63-4847-8da5-b70a1c30d1cb\" class=\"plotly-graph-div\" style=\"height:525px; width:100%;\"></div>            <script type=\"text/javascript\">                                    window.PLOTLYENV=window.PLOTLYENV || {};                                    if (document.getElementById(\"2d6d19fc-2c63-4847-8da5-b70a1c30d1cb\")) {                    Plotly.newPlot(                        \"2d6d19fc-2c63-4847-8da5-b70a1c30d1cb\",                        [{\"marker\":{\"color\":\"rgba(255, 174, 255, 0.5)\",\"line\":{\"color\":\"rgb(0,0,0)\",\"width\":1.5}},\"name\":\"citations\",\"text\":[\"United States of America\",\"United States of America\",\"United Kingdom\"],\"x\":[\"California Institute of Technology\",\"Harvard University\",\"University of Oxford\"],\"y\":[99.8,99.1,95.4],\"type\":\"bar\"},{\"marker\":{\"color\":\"rgba(255, 255, 128, 0.5)\",\"line\":{\"color\":\"rgb(0,0,0)\",\"width\":1.5}},\"name\":\"teaching\",\"text\":[\"United States of America\",\"United States of America\",\"United Kingdom\"],\"x\":[\"California Institute of Technology\",\"Harvard University\",\"University of Oxford\"],\"y\":[94.4,95.3,89.0],\"type\":\"bar\"}],                        {\"barmode\":\"group\",\"template\":{\"data\":{\"barpolar\":[{\"marker\":{\"line\":{\"color\":\"#E5ECF6\",\"width\":0.5},\"pattern\":{\"fillmode\":\"overlay\",\"size\":10,\"solidity\":0.2}},\"type\":\"barpolar\"}],\"bar\":[{\"error_x\":{\"color\":\"#2a3f5f\"},\"error_y\":{\"color\":\"#2a3f5f\"},\"marker\":{\"line\":{\"color\":\"#E5ECF6\",\"width\":0.5},\"pattern\":{\"fillmode\":\"overlay\",\"size\":10,\"solidity\":0.2}},\"type\":\"bar\"}],\"carpet\":[{\"aaxis\":{\"endlinecolor\":\"#2a3f5f\",\"gridcolor\":\"white\",\"linecolor\":\"white\",\"minorgridcolor\":\"white\",\"startlinecolor\":\"#2a3f5f\"},\"baxis\":{\"endlinecolor\":\"#2a3f5f\",\"gridcolor\":\"white\",\"linecolor\":\"white\",\"minorgridcolor\":\"white\",\"startlinecolor\":\"#2a3f5f\"},\"type\":\"carpet\"}],\"choropleth\":[{\"colorbar\":{\"outlinewidth\":0,\"ticks\":\"\"},\"type\":\"choropleth\"}],\"contourcarpet\":[{\"colorbar\":{\"outlinewidth\":0,\"ticks\":\"\"},\"type\":\"contourcarpet\"}],\"contour\":[{\"colorbar\":{\"outlinewidth\":0,\"ticks\":\"\"},\"colorscale\":[[0.0,\"#0d0887\"],[0.1111111111111111,\"#46039f\"],[0.2222222222222222,\"#7201a8\"],[0.3333333333333333,\"#9c179e\"],[0.4444444444444444,\"#bd3786\"],[0.5555555555555556,\"#d8576b\"],[0.6666666666666666,\"#ed7953\"],[0.7777777777777778,\"#fb9f3a\"],[0.8888888888888888,\"#fdca26\"],[1.0,\"#f0f921\"]],\"type\":\"contour\"}],\"heatmapgl\":[{\"colorbar\":{\"outlinewidth\":0,\"ticks\":\"\"},\"colorscale\":[[0.0,\"#0d0887\"],[0.1111111111111111,\"#46039f\"],[0.2222222222222222,\"#7201a8\"],[0.3333333333333333,\"#9c179e\"],[0.4444444444444444,\"#bd3786\"],[0.5555555555555556,\"#d8576b\"],[0.6666666666666666,\"#ed7953\"],[0.7777777777777778,\"#fb9f3a\"],[0.8888888888888888,\"#fdca26\"],[1.0,\"#f0f921\"]],\"type\":\"heatmapgl\"}],\"heatmap\":[{\"colorbar\":{\"outlinewidth\":0,\"ticks\":\"\"},\"colorscale\":[[0.0,\"#0d0887\"],[0.1111111111111111,\"#46039f\"],[0.2222222222222222,\"#7201a8\"],[0.3333333333333333,\"#9c179e\"],[0.4444444444444444,\"#bd3786\"],[0.5555555555555556,\"#d8576b\"],[0.6666666666666666,\"#ed7953\"],[0.7777777777777778,\"#fb9f3a\"],[0.8888888888888888,\"#fdca26\"],[1.0,\"#f0f921\"]],\"type\":\"heatmap\"}],\"histogram2dcontour\":[{\"colorbar\":{\"outlinewidth\":0,\"ticks\":\"\"},\"colorscale\":[[0.0,\"#0d0887\"],[0.1111111111111111,\"#46039f\"],[0.2222222222222222,\"#7201a8\"],[0.3333333333333333,\"#9c179e\"],[0.4444444444444444,\"#bd3786\"],[0.5555555555555556,\"#d8576b\"],[0.6666666666666666,\"#ed7953\"],[0.7777777777777778,\"#fb9f3a\"],[0.8888888888888888,\"#fdca26\"],[1.0,\"#f0f921\"]],\"type\":\"histogram2dcontour\"}],\"histogram2d\":[{\"colorbar\":{\"outlinewidth\":0,\"ticks\":\"\"},\"colorscale\":[[0.0,\"#0d0887\"],[0.1111111111111111,\"#46039f\"],[0.2222222222222222,\"#7201a8\"],[0.3333333333333333,\"#9c179e\"],[0.4444444444444444,\"#bd3786\"],[0.5555555555555556,\"#d8576b\"],[0.6666666666666666,\"#ed7953\"],[0.7777777777777778,\"#fb9f3a\"],[0.8888888888888888,\"#fdca26\"],[1.0,\"#f0f921\"]],\"type\":\"histogram2d\"}],\"histogram\":[{\"marker\":{\"pattern\":{\"fillmode\":\"overlay\",\"size\":10,\"solidity\":0.2}},\"type\":\"histogram\"}],\"mesh3d\":[{\"colorbar\":{\"outlinewidth\":0,\"ticks\":\"\"},\"type\":\"mesh3d\"}],\"parcoords\":[{\"line\":{\"colorbar\":{\"outlinewidth\":0,\"ticks\":\"\"}},\"type\":\"parcoords\"}],\"pie\":[{\"automargin\":true,\"type\":\"pie\"}],\"scatter3d\":[{\"line\":{\"colorbar\":{\"outlinewidth\":0,\"ticks\":\"\"}},\"marker\":{\"colorbar\":{\"outlinewidth\":0,\"ticks\":\"\"}},\"type\":\"scatter3d\"}],\"scattercarpet\":[{\"marker\":{\"colorbar\":{\"outlinewidth\":0,\"ticks\":\"\"}},\"type\":\"scattercarpet\"}],\"scattergeo\":[{\"marker\":{\"colorbar\":{\"outlinewidth\":0,\"ticks\":\"\"}},\"type\":\"scattergeo\"}],\"scattergl\":[{\"marker\":{\"colorbar\":{\"outlinewidth\":0,\"ticks\":\"\"}},\"type\":\"scattergl\"}],\"scattermapbox\":[{\"marker\":{\"colorbar\":{\"outlinewidth\":0,\"ticks\":\"\"}},\"type\":\"scattermapbox\"}],\"scatterpolargl\":[{\"marker\":{\"colorbar\":{\"outlinewidth\":0,\"ticks\":\"\"}},\"type\":\"scatterpolargl\"}],\"scatterpolar\":[{\"marker\":{\"colorbar\":{\"outlinewidth\":0,\"ticks\":\"\"}},\"type\":\"scatterpolar\"}],\"scatter\":[{\"fillpattern\":{\"fillmode\":\"overlay\",\"size\":10,\"solidity\":0.2},\"type\":\"scatter\"}],\"scatterternary\":[{\"marker\":{\"colorbar\":{\"outlinewidth\":0,\"ticks\":\"\"}},\"type\":\"scatterternary\"}],\"surface\":[{\"colorbar\":{\"outlinewidth\":0,\"ticks\":\"\"},\"colorscale\":[[0.0,\"#0d0887\"],[0.1111111111111111,\"#46039f\"],[0.2222222222222222,\"#7201a8\"],[0.3333333333333333,\"#9c179e\"],[0.4444444444444444,\"#bd3786\"],[0.5555555555555556,\"#d8576b\"],[0.6666666666666666,\"#ed7953\"],[0.7777777777777778,\"#fb9f3a\"],[0.8888888888888888,\"#fdca26\"],[1.0,\"#f0f921\"]],\"type\":\"surface\"}],\"table\":[{\"cells\":{\"fill\":{\"color\":\"#EBF0F8\"},\"line\":{\"color\":\"white\"}},\"header\":{\"fill\":{\"color\":\"#C8D4E3\"},\"line\":{\"color\":\"white\"}},\"type\":\"table\"}]},\"layout\":{\"annotationdefaults\":{\"arrowcolor\":\"#2a3f5f\",\"arrowhead\":0,\"arrowwidth\":1},\"autotypenumbers\":\"strict\",\"coloraxis\":{\"colorbar\":{\"outlinewidth\":0,\"ticks\":\"\"}},\"colorscale\":{\"diverging\":[[0,\"#8e0152\"],[0.1,\"#c51b7d\"],[0.2,\"#de77ae\"],[0.3,\"#f1b6da\"],[0.4,\"#fde0ef\"],[0.5,\"#f7f7f7\"],[0.6,\"#e6f5d0\"],[0.7,\"#b8e186\"],[0.8,\"#7fbc41\"],[0.9,\"#4d9221\"],[1,\"#276419\"]],\"sequential\":[[0.0,\"#0d0887\"],[0.1111111111111111,\"#46039f\"],[0.2222222222222222,\"#7201a8\"],[0.3333333333333333,\"#9c179e\"],[0.4444444444444444,\"#bd3786\"],[0.5555555555555556,\"#d8576b\"],[0.6666666666666666,\"#ed7953\"],[0.7777777777777778,\"#fb9f3a\"],[0.8888888888888888,\"#fdca26\"],[1.0,\"#f0f921\"]],\"sequentialminus\":[[0.0,\"#0d0887\"],[0.1111111111111111,\"#46039f\"],[0.2222222222222222,\"#7201a8\"],[0.3333333333333333,\"#9c179e\"],[0.4444444444444444,\"#bd3786\"],[0.5555555555555556,\"#d8576b\"],[0.6666666666666666,\"#ed7953\"],[0.7777777777777778,\"#fb9f3a\"],[0.8888888888888888,\"#fdca26\"],[1.0,\"#f0f921\"]]},\"colorway\":[\"#636efa\",\"#EF553B\",\"#00cc96\",\"#ab63fa\",\"#FFA15A\",\"#19d3f3\",\"#FF6692\",\"#B6E880\",\"#FF97FF\",\"#FECB52\"],\"font\":{\"color\":\"#2a3f5f\"},\"geo\":{\"bgcolor\":\"white\",\"lakecolor\":\"white\",\"landcolor\":\"#E5ECF6\",\"showlakes\":true,\"showland\":true,\"subunitcolor\":\"white\"},\"hoverlabel\":{\"align\":\"left\"},\"hovermode\":\"closest\",\"mapbox\":{\"style\":\"light\"},\"paper_bgcolor\":\"white\",\"plot_bgcolor\":\"#E5ECF6\",\"polar\":{\"angularaxis\":{\"gridcolor\":\"white\",\"linecolor\":\"white\",\"ticks\":\"\"},\"bgcolor\":\"#E5ECF6\",\"radialaxis\":{\"gridcolor\":\"white\",\"linecolor\":\"white\",\"ticks\":\"\"}},\"scene\":{\"xaxis\":{\"backgroundcolor\":\"#E5ECF6\",\"gridcolor\":\"white\",\"gridwidth\":2,\"linecolor\":\"white\",\"showbackground\":true,\"ticks\":\"\",\"zerolinecolor\":\"white\"},\"yaxis\":{\"backgroundcolor\":\"#E5ECF6\",\"gridcolor\":\"white\",\"gridwidth\":2,\"linecolor\":\"white\",\"showbackground\":true,\"ticks\":\"\",\"zerolinecolor\":\"white\"},\"zaxis\":{\"backgroundcolor\":\"#E5ECF6\",\"gridcolor\":\"white\",\"gridwidth\":2,\"linecolor\":\"white\",\"showbackground\":true,\"ticks\":\"\",\"zerolinecolor\":\"white\"}},\"shapedefaults\":{\"line\":{\"color\":\"#2a3f5f\"}},\"ternary\":{\"aaxis\":{\"gridcolor\":\"white\",\"linecolor\":\"white\",\"ticks\":\"\"},\"baxis\":{\"gridcolor\":\"white\",\"linecolor\":\"white\",\"ticks\":\"\"},\"bgcolor\":\"#E5ECF6\",\"caxis\":{\"gridcolor\":\"white\",\"linecolor\":\"white\",\"ticks\":\"\"}},\"title\":{\"x\":0.05},\"xaxis\":{\"automargin\":true,\"gridcolor\":\"white\",\"linecolor\":\"white\",\"ticks\":\"\",\"title\":{\"standoff\":15},\"zerolinecolor\":\"white\",\"zerolinewidth\":2},\"yaxis\":{\"automargin\":true,\"gridcolor\":\"white\",\"linecolor\":\"white\",\"ticks\":\"\",\"title\":{\"standoff\":15},\"zerolinecolor\":\"white\",\"zerolinewidth\":2}}}},                        {\"responsive\": true}                    ).then(function(){\n",
              "                            \n",
              "var gd = document.getElementById('2d6d19fc-2c63-4847-8da5-b70a1c30d1cb');\n",
              "var x = new MutationObserver(function (mutations, observer) {{\n",
              "        var display = window.getComputedStyle(gd).display;\n",
              "        if (!display || display === 'none') {{\n",
              "            console.log([gd, 'removed!']);\n",
              "            Plotly.purge(gd);\n",
              "            observer.disconnect();\n",
              "        }}\n",
              "}});\n",
              "\n",
              "// Listen for the removal of the full notebook cells\n",
              "var notebookContainer = gd.closest('#notebook-container');\n",
              "if (notebookContainer) {{\n",
              "    x.observe(notebookContainer, {childList: true});\n",
              "}}\n",
              "\n",
              "// Listen for the clearing of the current output cell\n",
              "var outputEl = gd.closest('.output');\n",
              "if (outputEl) {{\n",
              "    x.observe(outputEl, {childList: true});\n",
              "}}\n",
              "\n",
              "                        })                };                            </script>        </div>\n",
              "</body>\n",
              "</html>"
            ]
          },
          "metadata": {}
        }
      ]
    },
    {
      "cell_type": "code",
      "source": [
        "x = df2014.university_name\n",
        "\n",
        "trace1 = {\n",
        "  'x': x, #üniversite adı\n",
        "  'y': df2014.citations, #alıntı değerleri\n",
        "  'name': 'citation', #trace'in adı\n",
        "  'type': 'bar'  #plot türü \n",
        "};\n",
        "trace2 = {\n",
        "  'x': x,  #üniversite adı\n",
        "  'y': df2014.teaching,  #alıntı değerleri\n",
        "  'name': 'teaching',   #trace'in adı\n",
        "  'type': 'bar'  #plot türü \n",
        "};\n",
        "\n",
        "data = [trace1, trace2]; #trace1 ve trace2 data değişkenine liste olarak atanır.\n",
        "\n",
        "layout = {\n",
        "  'xaxis': {'title': 'Top 3 universities'},\n",
        "  'barmode': 'relative',  #trace1 ve trace2 alt alta koyulur.\n",
        "  'title': 'citations and teaching of top 3 universities in 2014'\n",
        "};\n",
        "\n",
        "fig = go.Figure(data = data, layout = layout) #data parametresine data değişkeni, layout parametresine layout değişkeni atanarak figür oluşturulur.\n",
        "\n",
        "iplot(fig)"
      ],
      "metadata": {
        "colab": {
          "base_uri": "https://localhost:8080/",
          "height": 542
        },
        "id": "Utv_u_Kv_g8S",
        "outputId": "0c5405e2-b309-49a7-8dbb-e263bd46715e"
      },
      "execution_count": 52,
      "outputs": [
        {
          "output_type": "display_data",
          "data": {
            "text/html": [
              "<html>\n",
              "<head><meta charset=\"utf-8\" /></head>\n",
              "<body>\n",
              "    <div>            <script src=\"https://cdnjs.cloudflare.com/ajax/libs/mathjax/2.7.5/MathJax.js?config=TeX-AMS-MML_SVG\"></script><script type=\"text/javascript\">if (window.MathJax && window.MathJax.Hub && window.MathJax.Hub.Config) {window.MathJax.Hub.Config({SVG: {font: \"STIX-Web\"}});}</script>                <script type=\"text/javascript\">window.PlotlyConfig = {MathJaxConfig: 'local'};</script>\n",
              "        <script src=\"https://cdn.plot.ly/plotly-2.8.3.min.js\"></script>                <div id=\"41c8e658-500e-4292-a316-96b6fcf68c6f\" class=\"plotly-graph-div\" style=\"height:525px; width:100%;\"></div>            <script type=\"text/javascript\">                                    window.PLOTLYENV=window.PLOTLYENV || {};                                    if (document.getElementById(\"41c8e658-500e-4292-a316-96b6fcf68c6f\")) {                    Plotly.newPlot(                        \"41c8e658-500e-4292-a316-96b6fcf68c6f\",                        [{\"name\":\"citation\",\"x\":[\"California Institute of Technology\",\"Harvard University\",\"University of Oxford\"],\"y\":[99.8,99.1,95.4],\"type\":\"bar\"},{\"name\":\"teaching\",\"x\":[\"California Institute of Technology\",\"Harvard University\",\"University of Oxford\"],\"y\":[94.4,95.3,89.0],\"type\":\"bar\"}],                        {\"barmode\":\"relative\",\"template\":{\"data\":{\"barpolar\":[{\"marker\":{\"line\":{\"color\":\"#E5ECF6\",\"width\":0.5},\"pattern\":{\"fillmode\":\"overlay\",\"size\":10,\"solidity\":0.2}},\"type\":\"barpolar\"}],\"bar\":[{\"error_x\":{\"color\":\"#2a3f5f\"},\"error_y\":{\"color\":\"#2a3f5f\"},\"marker\":{\"line\":{\"color\":\"#E5ECF6\",\"width\":0.5},\"pattern\":{\"fillmode\":\"overlay\",\"size\":10,\"solidity\":0.2}},\"type\":\"bar\"}],\"carpet\":[{\"aaxis\":{\"endlinecolor\":\"#2a3f5f\",\"gridcolor\":\"white\",\"linecolor\":\"white\",\"minorgridcolor\":\"white\",\"startlinecolor\":\"#2a3f5f\"},\"baxis\":{\"endlinecolor\":\"#2a3f5f\",\"gridcolor\":\"white\",\"linecolor\":\"white\",\"minorgridcolor\":\"white\",\"startlinecolor\":\"#2a3f5f\"},\"type\":\"carpet\"}],\"choropleth\":[{\"colorbar\":{\"outlinewidth\":0,\"ticks\":\"\"},\"type\":\"choropleth\"}],\"contourcarpet\":[{\"colorbar\":{\"outlinewidth\":0,\"ticks\":\"\"},\"type\":\"contourcarpet\"}],\"contour\":[{\"colorbar\":{\"outlinewidth\":0,\"ticks\":\"\"},\"colorscale\":[[0.0,\"#0d0887\"],[0.1111111111111111,\"#46039f\"],[0.2222222222222222,\"#7201a8\"],[0.3333333333333333,\"#9c179e\"],[0.4444444444444444,\"#bd3786\"],[0.5555555555555556,\"#d8576b\"],[0.6666666666666666,\"#ed7953\"],[0.7777777777777778,\"#fb9f3a\"],[0.8888888888888888,\"#fdca26\"],[1.0,\"#f0f921\"]],\"type\":\"contour\"}],\"heatmapgl\":[{\"colorbar\":{\"outlinewidth\":0,\"ticks\":\"\"},\"colorscale\":[[0.0,\"#0d0887\"],[0.1111111111111111,\"#46039f\"],[0.2222222222222222,\"#7201a8\"],[0.3333333333333333,\"#9c179e\"],[0.4444444444444444,\"#bd3786\"],[0.5555555555555556,\"#d8576b\"],[0.6666666666666666,\"#ed7953\"],[0.7777777777777778,\"#fb9f3a\"],[0.8888888888888888,\"#fdca26\"],[1.0,\"#f0f921\"]],\"type\":\"heatmapgl\"}],\"heatmap\":[{\"colorbar\":{\"outlinewidth\":0,\"ticks\":\"\"},\"colorscale\":[[0.0,\"#0d0887\"],[0.1111111111111111,\"#46039f\"],[0.2222222222222222,\"#7201a8\"],[0.3333333333333333,\"#9c179e\"],[0.4444444444444444,\"#bd3786\"],[0.5555555555555556,\"#d8576b\"],[0.6666666666666666,\"#ed7953\"],[0.7777777777777778,\"#fb9f3a\"],[0.8888888888888888,\"#fdca26\"],[1.0,\"#f0f921\"]],\"type\":\"heatmap\"}],\"histogram2dcontour\":[{\"colorbar\":{\"outlinewidth\":0,\"ticks\":\"\"},\"colorscale\":[[0.0,\"#0d0887\"],[0.1111111111111111,\"#46039f\"],[0.2222222222222222,\"#7201a8\"],[0.3333333333333333,\"#9c179e\"],[0.4444444444444444,\"#bd3786\"],[0.5555555555555556,\"#d8576b\"],[0.6666666666666666,\"#ed7953\"],[0.7777777777777778,\"#fb9f3a\"],[0.8888888888888888,\"#fdca26\"],[1.0,\"#f0f921\"]],\"type\":\"histogram2dcontour\"}],\"histogram2d\":[{\"colorbar\":{\"outlinewidth\":0,\"ticks\":\"\"},\"colorscale\":[[0.0,\"#0d0887\"],[0.1111111111111111,\"#46039f\"],[0.2222222222222222,\"#7201a8\"],[0.3333333333333333,\"#9c179e\"],[0.4444444444444444,\"#bd3786\"],[0.5555555555555556,\"#d8576b\"],[0.6666666666666666,\"#ed7953\"],[0.7777777777777778,\"#fb9f3a\"],[0.8888888888888888,\"#fdca26\"],[1.0,\"#f0f921\"]],\"type\":\"histogram2d\"}],\"histogram\":[{\"marker\":{\"pattern\":{\"fillmode\":\"overlay\",\"size\":10,\"solidity\":0.2}},\"type\":\"histogram\"}],\"mesh3d\":[{\"colorbar\":{\"outlinewidth\":0,\"ticks\":\"\"},\"type\":\"mesh3d\"}],\"parcoords\":[{\"line\":{\"colorbar\":{\"outlinewidth\":0,\"ticks\":\"\"}},\"type\":\"parcoords\"}],\"pie\":[{\"automargin\":true,\"type\":\"pie\"}],\"scatter3d\":[{\"line\":{\"colorbar\":{\"outlinewidth\":0,\"ticks\":\"\"}},\"marker\":{\"colorbar\":{\"outlinewidth\":0,\"ticks\":\"\"}},\"type\":\"scatter3d\"}],\"scattercarpet\":[{\"marker\":{\"colorbar\":{\"outlinewidth\":0,\"ticks\":\"\"}},\"type\":\"scattercarpet\"}],\"scattergeo\":[{\"marker\":{\"colorbar\":{\"outlinewidth\":0,\"ticks\":\"\"}},\"type\":\"scattergeo\"}],\"scattergl\":[{\"marker\":{\"colorbar\":{\"outlinewidth\":0,\"ticks\":\"\"}},\"type\":\"scattergl\"}],\"scattermapbox\":[{\"marker\":{\"colorbar\":{\"outlinewidth\":0,\"ticks\":\"\"}},\"type\":\"scattermapbox\"}],\"scatterpolargl\":[{\"marker\":{\"colorbar\":{\"outlinewidth\":0,\"ticks\":\"\"}},\"type\":\"scatterpolargl\"}],\"scatterpolar\":[{\"marker\":{\"colorbar\":{\"outlinewidth\":0,\"ticks\":\"\"}},\"type\":\"scatterpolar\"}],\"scatter\":[{\"fillpattern\":{\"fillmode\":\"overlay\",\"size\":10,\"solidity\":0.2},\"type\":\"scatter\"}],\"scatterternary\":[{\"marker\":{\"colorbar\":{\"outlinewidth\":0,\"ticks\":\"\"}},\"type\":\"scatterternary\"}],\"surface\":[{\"colorbar\":{\"outlinewidth\":0,\"ticks\":\"\"},\"colorscale\":[[0.0,\"#0d0887\"],[0.1111111111111111,\"#46039f\"],[0.2222222222222222,\"#7201a8\"],[0.3333333333333333,\"#9c179e\"],[0.4444444444444444,\"#bd3786\"],[0.5555555555555556,\"#d8576b\"],[0.6666666666666666,\"#ed7953\"],[0.7777777777777778,\"#fb9f3a\"],[0.8888888888888888,\"#fdca26\"],[1.0,\"#f0f921\"]],\"type\":\"surface\"}],\"table\":[{\"cells\":{\"fill\":{\"color\":\"#EBF0F8\"},\"line\":{\"color\":\"white\"}},\"header\":{\"fill\":{\"color\":\"#C8D4E3\"},\"line\":{\"color\":\"white\"}},\"type\":\"table\"}]},\"layout\":{\"annotationdefaults\":{\"arrowcolor\":\"#2a3f5f\",\"arrowhead\":0,\"arrowwidth\":1},\"autotypenumbers\":\"strict\",\"coloraxis\":{\"colorbar\":{\"outlinewidth\":0,\"ticks\":\"\"}},\"colorscale\":{\"diverging\":[[0,\"#8e0152\"],[0.1,\"#c51b7d\"],[0.2,\"#de77ae\"],[0.3,\"#f1b6da\"],[0.4,\"#fde0ef\"],[0.5,\"#f7f7f7\"],[0.6,\"#e6f5d0\"],[0.7,\"#b8e186\"],[0.8,\"#7fbc41\"],[0.9,\"#4d9221\"],[1,\"#276419\"]],\"sequential\":[[0.0,\"#0d0887\"],[0.1111111111111111,\"#46039f\"],[0.2222222222222222,\"#7201a8\"],[0.3333333333333333,\"#9c179e\"],[0.4444444444444444,\"#bd3786\"],[0.5555555555555556,\"#d8576b\"],[0.6666666666666666,\"#ed7953\"],[0.7777777777777778,\"#fb9f3a\"],[0.8888888888888888,\"#fdca26\"],[1.0,\"#f0f921\"]],\"sequentialminus\":[[0.0,\"#0d0887\"],[0.1111111111111111,\"#46039f\"],[0.2222222222222222,\"#7201a8\"],[0.3333333333333333,\"#9c179e\"],[0.4444444444444444,\"#bd3786\"],[0.5555555555555556,\"#d8576b\"],[0.6666666666666666,\"#ed7953\"],[0.7777777777777778,\"#fb9f3a\"],[0.8888888888888888,\"#fdca26\"],[1.0,\"#f0f921\"]]},\"colorway\":[\"#636efa\",\"#EF553B\",\"#00cc96\",\"#ab63fa\",\"#FFA15A\",\"#19d3f3\",\"#FF6692\",\"#B6E880\",\"#FF97FF\",\"#FECB52\"],\"font\":{\"color\":\"#2a3f5f\"},\"geo\":{\"bgcolor\":\"white\",\"lakecolor\":\"white\",\"landcolor\":\"#E5ECF6\",\"showlakes\":true,\"showland\":true,\"subunitcolor\":\"white\"},\"hoverlabel\":{\"align\":\"left\"},\"hovermode\":\"closest\",\"mapbox\":{\"style\":\"light\"},\"paper_bgcolor\":\"white\",\"plot_bgcolor\":\"#E5ECF6\",\"polar\":{\"angularaxis\":{\"gridcolor\":\"white\",\"linecolor\":\"white\",\"ticks\":\"\"},\"bgcolor\":\"#E5ECF6\",\"radialaxis\":{\"gridcolor\":\"white\",\"linecolor\":\"white\",\"ticks\":\"\"}},\"scene\":{\"xaxis\":{\"backgroundcolor\":\"#E5ECF6\",\"gridcolor\":\"white\",\"gridwidth\":2,\"linecolor\":\"white\",\"showbackground\":true,\"ticks\":\"\",\"zerolinecolor\":\"white\"},\"yaxis\":{\"backgroundcolor\":\"#E5ECF6\",\"gridcolor\":\"white\",\"gridwidth\":2,\"linecolor\":\"white\",\"showbackground\":true,\"ticks\":\"\",\"zerolinecolor\":\"white\"},\"zaxis\":{\"backgroundcolor\":\"#E5ECF6\",\"gridcolor\":\"white\",\"gridwidth\":2,\"linecolor\":\"white\",\"showbackground\":true,\"ticks\":\"\",\"zerolinecolor\":\"white\"}},\"shapedefaults\":{\"line\":{\"color\":\"#2a3f5f\"}},\"ternary\":{\"aaxis\":{\"gridcolor\":\"white\",\"linecolor\":\"white\",\"ticks\":\"\"},\"baxis\":{\"gridcolor\":\"white\",\"linecolor\":\"white\",\"ticks\":\"\"},\"bgcolor\":\"#E5ECF6\",\"caxis\":{\"gridcolor\":\"white\",\"linecolor\":\"white\",\"ticks\":\"\"}},\"title\":{\"x\":0.05},\"xaxis\":{\"automargin\":true,\"gridcolor\":\"white\",\"linecolor\":\"white\",\"ticks\":\"\",\"title\":{\"standoff\":15},\"zerolinecolor\":\"white\",\"zerolinewidth\":2},\"yaxis\":{\"automargin\":true,\"gridcolor\":\"white\",\"linecolor\":\"white\",\"ticks\":\"\",\"title\":{\"standoff\":15},\"zerolinecolor\":\"white\",\"zerolinewidth\":2}}},\"title\":{\"text\":\"citations and teaching of top 3 universities in 2014\"},\"xaxis\":{\"title\":{\"text\":\"Top 3 universities\"}}},                        {\"responsive\": true}                    ).then(function(){\n",
              "                            \n",
              "var gd = document.getElementById('41c8e658-500e-4292-a316-96b6fcf68c6f');\n",
              "var x = new MutationObserver(function (mutations, observer) {{\n",
              "        var display = window.getComputedStyle(gd).display;\n",
              "        if (!display || display === 'none') {{\n",
              "            console.log([gd, 'removed!']);\n",
              "            Plotly.purge(gd);\n",
              "            observer.disconnect();\n",
              "        }}\n",
              "}});\n",
              "\n",
              "// Listen for the removal of the full notebook cells\n",
              "var notebookContainer = gd.closest('#notebook-container');\n",
              "if (notebookContainer) {{\n",
              "    x.observe(notebookContainer, {childList: true});\n",
              "}}\n",
              "\n",
              "// Listen for the clearing of the current output cell\n",
              "var outputEl = gd.closest('.output');\n",
              "if (outputEl) {{\n",
              "    x.observe(outputEl, {childList: true});\n",
              "}}\n",
              "\n",
              "                        })                };                            </script>        </div>\n",
              "</body>\n",
              "</html>"
            ]
          },
          "metadata": {}
        }
      ]
    },
    {
      "cell_type": "markdown",
      "source": [
        "scatter plot\n"
      ],
      "metadata": {
        "id": "340uXiFcBzMD"
      }
    },
    {
      "cell_type": "code",
      "source": [
        "import pandas as pd\n",
        "import numpy as np\n",
        "import matplotlib.pyplot as plt\n",
        "from plotly.offline import iplot\n",
        "import plotly.graph_objs as go\n"
      ],
      "metadata": {
        "id": "QF9UNtv2AaUH"
      },
      "execution_count": 53,
      "outputs": []
    },
    {
      "cell_type": "code",
      "source": [
        "timesData = pd.read_csv(\"/content/drive/MyDrive/1csv/timesData.csv\")\n",
        "timesData.head()"
      ],
      "metadata": {
        "colab": {
          "base_uri": "https://localhost:8080/",
          "height": 206
        },
        "id": "cVq8v8qFB4af",
        "outputId": "2cb143b4-c3ff-4c68-befd-a67452c16234"
      },
      "execution_count": 54,
      "outputs": [
        {
          "output_type": "execute_result",
          "data": {
            "text/plain": [
              "  world_rank                        university_name                   country  \\\n",
              "0          1                     Harvard University  United States of America   \n",
              "1          2     California Institute of Technology  United States of America   \n",
              "2          3  Massachusetts Institute of Technology  United States of America   \n",
              "3          4                    Stanford University  United States of America   \n",
              "4          5                   Princeton University  United States of America   \n",
              "\n",
              "   teaching international  research  citations income total_score  \\\n",
              "0      99.7          72.4      98.7       98.8   34.5        96.1   \n",
              "1      97.7          54.6      98.0       99.9   83.7        96.0   \n",
              "2      97.8          82.3      91.4       99.9   87.5        95.6   \n",
              "3      98.3          29.5      98.1       99.2   64.3        94.3   \n",
              "4      90.9          70.3      95.4       99.9      -        94.2   \n",
              "\n",
              "  num_students  student_staff_ratio international_students female_male_ratio  \\\n",
              "0       20,152                  8.9                    25%               NaN   \n",
              "1        2,243                  6.9                    27%           33 : 67   \n",
              "2       11,074                  9.0                    33%           37 : 63   \n",
              "3       15,596                  7.8                    22%           42 : 58   \n",
              "4        7,929                  8.4                    27%           45 : 55   \n",
              "\n",
              "   year  \n",
              "0  2011  \n",
              "1  2011  \n",
              "2  2011  \n",
              "3  2011  \n",
              "4  2011  "
            ],
            "text/html": [
              "\n",
              "  <div id=\"df-da9135f6-a4ae-455f-8605-9dacc8eab35e\">\n",
              "    <div class=\"colab-df-container\">\n",
              "      <div>\n",
              "<style scoped>\n",
              "    .dataframe tbody tr th:only-of-type {\n",
              "        vertical-align: middle;\n",
              "    }\n",
              "\n",
              "    .dataframe tbody tr th {\n",
              "        vertical-align: top;\n",
              "    }\n",
              "\n",
              "    .dataframe thead th {\n",
              "        text-align: right;\n",
              "    }\n",
              "</style>\n",
              "<table border=\"1\" class=\"dataframe\">\n",
              "  <thead>\n",
              "    <tr style=\"text-align: right;\">\n",
              "      <th></th>\n",
              "      <th>world_rank</th>\n",
              "      <th>university_name</th>\n",
              "      <th>country</th>\n",
              "      <th>teaching</th>\n",
              "      <th>international</th>\n",
              "      <th>research</th>\n",
              "      <th>citations</th>\n",
              "      <th>income</th>\n",
              "      <th>total_score</th>\n",
              "      <th>num_students</th>\n",
              "      <th>student_staff_ratio</th>\n",
              "      <th>international_students</th>\n",
              "      <th>female_male_ratio</th>\n",
              "      <th>year</th>\n",
              "    </tr>\n",
              "  </thead>\n",
              "  <tbody>\n",
              "    <tr>\n",
              "      <th>0</th>\n",
              "      <td>1</td>\n",
              "      <td>Harvard University</td>\n",
              "      <td>United States of America</td>\n",
              "      <td>99.7</td>\n",
              "      <td>72.4</td>\n",
              "      <td>98.7</td>\n",
              "      <td>98.8</td>\n",
              "      <td>34.5</td>\n",
              "      <td>96.1</td>\n",
              "      <td>20,152</td>\n",
              "      <td>8.9</td>\n",
              "      <td>25%</td>\n",
              "      <td>NaN</td>\n",
              "      <td>2011</td>\n",
              "    </tr>\n",
              "    <tr>\n",
              "      <th>1</th>\n",
              "      <td>2</td>\n",
              "      <td>California Institute of Technology</td>\n",
              "      <td>United States of America</td>\n",
              "      <td>97.7</td>\n",
              "      <td>54.6</td>\n",
              "      <td>98.0</td>\n",
              "      <td>99.9</td>\n",
              "      <td>83.7</td>\n",
              "      <td>96.0</td>\n",
              "      <td>2,243</td>\n",
              "      <td>6.9</td>\n",
              "      <td>27%</td>\n",
              "      <td>33 : 67</td>\n",
              "      <td>2011</td>\n",
              "    </tr>\n",
              "    <tr>\n",
              "      <th>2</th>\n",
              "      <td>3</td>\n",
              "      <td>Massachusetts Institute of Technology</td>\n",
              "      <td>United States of America</td>\n",
              "      <td>97.8</td>\n",
              "      <td>82.3</td>\n",
              "      <td>91.4</td>\n",
              "      <td>99.9</td>\n",
              "      <td>87.5</td>\n",
              "      <td>95.6</td>\n",
              "      <td>11,074</td>\n",
              "      <td>9.0</td>\n",
              "      <td>33%</td>\n",
              "      <td>37 : 63</td>\n",
              "      <td>2011</td>\n",
              "    </tr>\n",
              "    <tr>\n",
              "      <th>3</th>\n",
              "      <td>4</td>\n",
              "      <td>Stanford University</td>\n",
              "      <td>United States of America</td>\n",
              "      <td>98.3</td>\n",
              "      <td>29.5</td>\n",
              "      <td>98.1</td>\n",
              "      <td>99.2</td>\n",
              "      <td>64.3</td>\n",
              "      <td>94.3</td>\n",
              "      <td>15,596</td>\n",
              "      <td>7.8</td>\n",
              "      <td>22%</td>\n",
              "      <td>42 : 58</td>\n",
              "      <td>2011</td>\n",
              "    </tr>\n",
              "    <tr>\n",
              "      <th>4</th>\n",
              "      <td>5</td>\n",
              "      <td>Princeton University</td>\n",
              "      <td>United States of America</td>\n",
              "      <td>90.9</td>\n",
              "      <td>70.3</td>\n",
              "      <td>95.4</td>\n",
              "      <td>99.9</td>\n",
              "      <td>-</td>\n",
              "      <td>94.2</td>\n",
              "      <td>7,929</td>\n",
              "      <td>8.4</td>\n",
              "      <td>27%</td>\n",
              "      <td>45 : 55</td>\n",
              "      <td>2011</td>\n",
              "    </tr>\n",
              "  </tbody>\n",
              "</table>\n",
              "</div>\n",
              "      <button class=\"colab-df-convert\" onclick=\"convertToInteractive('df-da9135f6-a4ae-455f-8605-9dacc8eab35e')\"\n",
              "              title=\"Convert this dataframe to an interactive table.\"\n",
              "              style=\"display:none;\">\n",
              "        \n",
              "  <svg xmlns=\"http://www.w3.org/2000/svg\" height=\"24px\"viewBox=\"0 0 24 24\"\n",
              "       width=\"24px\">\n",
              "    <path d=\"M0 0h24v24H0V0z\" fill=\"none\"/>\n",
              "    <path d=\"M18.56 5.44l.94 2.06.94-2.06 2.06-.94-2.06-.94-.94-2.06-.94 2.06-2.06.94zm-11 1L8.5 8.5l.94-2.06 2.06-.94-2.06-.94L8.5 2.5l-.94 2.06-2.06.94zm10 10l.94 2.06.94-2.06 2.06-.94-2.06-.94-.94-2.06-.94 2.06-2.06.94z\"/><path d=\"M17.41 7.96l-1.37-1.37c-.4-.4-.92-.59-1.43-.59-.52 0-1.04.2-1.43.59L10.3 9.45l-7.72 7.72c-.78.78-.78 2.05 0 2.83L4 21.41c.39.39.9.59 1.41.59.51 0 1.02-.2 1.41-.59l7.78-7.78 2.81-2.81c.8-.78.8-2.07 0-2.86zM5.41 20L4 18.59l7.72-7.72 1.47 1.35L5.41 20z\"/>\n",
              "  </svg>\n",
              "      </button>\n",
              "      \n",
              "  <style>\n",
              "    .colab-df-container {\n",
              "      display:flex;\n",
              "      flex-wrap:wrap;\n",
              "      gap: 12px;\n",
              "    }\n",
              "\n",
              "    .colab-df-convert {\n",
              "      background-color: #E8F0FE;\n",
              "      border: none;\n",
              "      border-radius: 50%;\n",
              "      cursor: pointer;\n",
              "      display: none;\n",
              "      fill: #1967D2;\n",
              "      height: 32px;\n",
              "      padding: 0 0 0 0;\n",
              "      width: 32px;\n",
              "    }\n",
              "\n",
              "    .colab-df-convert:hover {\n",
              "      background-color: #E2EBFA;\n",
              "      box-shadow: 0px 1px 2px rgba(60, 64, 67, 0.3), 0px 1px 3px 1px rgba(60, 64, 67, 0.15);\n",
              "      fill: #174EA6;\n",
              "    }\n",
              "\n",
              "    [theme=dark] .colab-df-convert {\n",
              "      background-color: #3B4455;\n",
              "      fill: #D2E3FC;\n",
              "    }\n",
              "\n",
              "    [theme=dark] .colab-df-convert:hover {\n",
              "      background-color: #434B5C;\n",
              "      box-shadow: 0px 1px 3px 1px rgba(0, 0, 0, 0.15);\n",
              "      filter: drop-shadow(0px 1px 2px rgba(0, 0, 0, 0.3));\n",
              "      fill: #FFFFFF;\n",
              "    }\n",
              "  </style>\n",
              "\n",
              "      <script>\n",
              "        const buttonEl =\n",
              "          document.querySelector('#df-da9135f6-a4ae-455f-8605-9dacc8eab35e button.colab-df-convert');\n",
              "        buttonEl.style.display =\n",
              "          google.colab.kernel.accessAllowed ? 'block' : 'none';\n",
              "\n",
              "        async function convertToInteractive(key) {\n",
              "          const element = document.querySelector('#df-da9135f6-a4ae-455f-8605-9dacc8eab35e');\n",
              "          const dataTable =\n",
              "            await google.colab.kernel.invokeFunction('convertToInteractive',\n",
              "                                                     [key], {});\n",
              "          if (!dataTable) return;\n",
              "\n",
              "          const docLinkHtml = 'Like what you see? Visit the ' +\n",
              "            '<a target=\"_blank\" href=https://colab.research.google.com/notebooks/data_table.ipynb>data table notebook</a>'\n",
              "            + ' to learn more about interactive tables.';\n",
              "          element.innerHTML = '';\n",
              "          dataTable['output_type'] = 'display_data';\n",
              "          await google.colab.output.renderOutput(dataTable, element);\n",
              "          const docLink = document.createElement('div');\n",
              "          docLink.innerHTML = docLinkHtml;\n",
              "          element.appendChild(docLink);\n",
              "        }\n",
              "      </script>\n",
              "    </div>\n",
              "  </div>\n",
              "  "
            ]
          },
          "metadata": {},
          "execution_count": 54
        }
      ]
    },
    {
      "cell_type": "code",
      "source": [
        "df2014 = timesData[timesData.year == 2014].iloc[:100,:] #2014 yılındaki ilk 100 üniversite seçilerek bir filtre oluşturulur bu filtre dataya uygulanır.\n",
        "df2015 = timesData[timesData.year == 2015].iloc[:100,:] #2015 yılındaki ilk 100 üniversite seçilerek bir filtre oluşturulur bu filtre dataya uygulanır.\n",
        "df2016 = timesData[timesData.year == 2016].iloc[:100,:] #2016 yılındaki ilk 100 üniversite seçilerek bir filtre oluşturulur bu filtre dataya uygulanır."
      ],
      "metadata": {
        "id": "wg3YpSH8B_Dj"
      },
      "execution_count": 55,
      "outputs": []
    },
    {
      "cell_type": "code",
      "source": [
        "# creating trace1 2014\n",
        "trace1 =go.Scatter( #scatter türü seçilir.\n",
        "                    x = df2014.world_rank, #2014 yılındaki  100 üniversite\n",
        "                    y = df2014.citations,  #2014 yılındaki alıntı değerleri\n",
        "                    mode = \"markers\",      #marker modu = nokta şekli\n",
        "                    name = \"2014\",         #trace'in adı .\n",
        "                    marker = dict(color = 'rgba(255, 128, 255, 0.8)'), #renk ve saydamlık\n",
        "                    text= df2014.university_name)  #değerin üzerine gelindiğinde üniversite adı yazar\n",
        "\n",
        "# creating trace2 2015\n",
        "trace2 =go.Scatter(\n",
        "                    x = df2015.world_rank, #2015 yılındaki  100 üniversite\n",
        "                    y = df2015.citations,  #2015 yılındaki alıntı değerleri\n",
        "                    mode = \"markers\",      #nokta şekli\n",
        "                    name = \"2015\",         #trace'in adı \n",
        "                    marker = dict(color = 'rgba(255, 128, 2, 0.8)'),  #renk ve saydamlık\n",
        "                    text= df2015.university_name)  #değerin üzerine gelindiğinde üniversite adı yazar\n",
        "\n",
        "# creating trace3 2016\n",
        "trace3 =go.Scatter(\n",
        "                    x = df2016.world_rank, #2016 yılındaki  100 üniversite\n",
        "                    y = df2016.citations,  #2016 yılındaki alıntı değerleri\n",
        "                    mode = \"markers\",      #nokta şekli\n",
        "                    name = \"2016\",         #trace'in adı \n",
        "                    marker = dict(color = 'rgba(0, 255, 200, 0.8)'),  #renk ve saydamlık\n",
        "                    text= df2016.university_name)  #değerin üzerine gelindiğinde üniversite adı yazar\n",
        "\n",
        "data = [trace1, trace2, trace3]  #data değişkenine liste olarak atanırlar\n",
        "\n",
        "layout = dict(title = 'Citation vs world rank of top 100 universities with 2014, 2015 and 2016 years',\n",
        "              xaxis= dict(title= 'World Rank',ticklen= 5,zeroline= False),\n",
        "              yaxis= dict(title= 'Citation',ticklen= 5,zeroline= False)  #başlık, x ve y ekseninin bilgisi dictionary olarak layout değişkenine atanır.\n",
        "             )\n",
        "fig = dict(data = data, layout = layout)  \n",
        "iplot(fig) "
      ],
      "metadata": {
        "colab": {
          "base_uri": "https://localhost:8080/",
          "height": 542
        },
        "id": "PaOGcyWYCEKJ",
        "outputId": "b7a380b7-e4a0-4624-cdde-f8364581d3f3"
      },
      "execution_count": 56,
      "outputs": [
        {
          "output_type": "display_data",
          "data": {
            "text/html": [
              "<html>\n",
              "<head><meta charset=\"utf-8\" /></head>\n",
              "<body>\n",
              "    <div>            <script src=\"https://cdnjs.cloudflare.com/ajax/libs/mathjax/2.7.5/MathJax.js?config=TeX-AMS-MML_SVG\"></script><script type=\"text/javascript\">if (window.MathJax && window.MathJax.Hub && window.MathJax.Hub.Config) {window.MathJax.Hub.Config({SVG: {font: \"STIX-Web\"}});}</script>                <script type=\"text/javascript\">window.PlotlyConfig = {MathJaxConfig: 'local'};</script>\n",
              "        <script src=\"https://cdn.plot.ly/plotly-2.8.3.min.js\"></script>                <div id=\"cebd58a1-a8c9-4998-8266-bea68121e42e\" class=\"plotly-graph-div\" style=\"height:525px; width:100%;\"></div>            <script type=\"text/javascript\">                                    window.PLOTLYENV=window.PLOTLYENV || {};                                    if (document.getElementById(\"cebd58a1-a8c9-4998-8266-bea68121e42e\")) {                    Plotly.newPlot(                        \"cebd58a1-a8c9-4998-8266-bea68121e42e\",                        [{\"marker\":{\"color\":\"rgba(255, 128, 255, 0.8)\"},\"mode\":\"markers\",\"name\":\"2014\",\"text\":[\"California Institute of Technology\",\"Harvard University\",\"University of Oxford\",\"Stanford University\",\"Massachusetts Institute of Technology\",\"Princeton University\",\"University of Cambridge\",\"University of California, Berkeley\",\"University of Chicago\",\"Imperial College London\",\"Yale University\",\"University of California, Los Angeles\",\"Columbia University\",\"ETH Zurich \\u2013 Swiss Federal Institute of Technology Zurich\",\"Johns Hopkins University\",\"University of Pennsylvania\",\"Duke University\",\"University of Michigan\",\"Cornell University\",\"University of Toronto\",\"University College London\",\"Northwestern University\",\"University of Tokyo\",\"Carnegie Mellon University\",\"University of Washington\",\"National University of Singapore\",\"University of Texas at Austin\",\"Georgia Institute of Technology\",\"University of Illinois at Urbana-Champaign\",\"University of Wisconsin-Madison\",\"University of British Columbia\",\"London School of Economics and Political Science\",\"University of California, Santa Barbara\",\"University of Melbourne\",\"McGill University\",\"Karolinska Institute\",\"\\u00c9cole Polytechnique F\\u00e9d\\u00e9rale de Lausanne\",\"King\\u2019s College London\",\"University of Edinburgh\",\"New York University\",\"University of California, San Diego\",\"Washington University in St Louis\",\"University of Hong Kong\",\"Seoul National University\",\"Peking University\",\"University of Minnesota\",\"University of North Carolina at Chapel Hill\",\"Australian National University\",\"Pennsylvania State University\",\"Boston University\",\"Tsinghua University\",\"Brown University\",\"Kyoto University\",\"University of California, Davis\",\"LMU Munich\",\"Korea Advanced Institute of Science and Technology (KAIST)\",\"Hong Kong University of Science and Technology\",\"University of Manchester\",\"Ohio State University\",\"Pohang University of Science and Technology\",\"KU Leuven\",\"Purdue University\",\"The University of Queensland\",\"University of G\\u00f6ttingen\",\"Rice University\",\"\\u00c9cole Normale Sup\\u00e9rieure\",\"Leiden University\",\"Heidelberg University\",\"Delft University of Technology\",\"University of Southern California\",\"\\u00c9cole Polytechnique\",\"University of Sydney\",\"Erasmus University Rotterdam\",\"University of Basel\",\"Utrecht University\",\"Nanyang Technological University\",\"Wageningen University and Research Center\",\"University of Pittsburgh\",\"University of Bristol\",\"Durham University\",\"Emory University\",\"Tufts University\",\"Michigan State University\",\"University of Amsterdam\",\"Ghent University\",\"Free University of Berlin\",\"Technical University of Munich\",\"Case Western Reserve University\",\"Vanderbilt University\",\"University of Notre Dame\",\"Monash University\",\"McMaster University\",\"University of California, Irvine\",\"Humboldt University of Berlin\",\"University of Rochester\",\"Pierre and Marie Curie University\",\"University of Colorado Boulder\",\"Maastricht University\",\"University of Groningen\",\"University of Helsinki\"],\"x\":[\"1\",\"2\",\"2\",\"4\",\"5\",\"6\",\"7\",\"8\",\"9\",\"10\",\"11\",\"12\",\"13\",\"14\",\"15\",\"16\",\"17\",\"18\",\"19\",\"20\",\"21\",\"22\",\"23\",\"24\",\"25\",\"26\",\"27\",\"28\",\"29\",\"30\",\"31\",\"32\",\"33\",\"34\",\"35\",\"36\",\"37\",\"38\",\"39\",\"40\",\"40\",\"42\",\"43\",\"44\",\"45\",\"46\",\"47\",\"48\",\"49\",\"50\",\"50\",\"52\",\"52\",\"52\",\"55\",\"56\",\"57\",\"58\",\"59\",\"60\",\"61\",\"62\",\"63\",\"63\",\"65\",\"65\",\"67\",\"68\",\"69\",\"70\",\"70\",\"72\",\"73\",\"74\",\"74\",\"76\",\"77\",\"78\",\"79\",\"80\",\"80\",\"80\",\"83\",\"83\",\"85\",\"86\",\"87\",\"88\",\"88\",\"90\",\"91\",\"92\",\"93\",\"94\",\"95\",\"96\",\"97\",\"98\",\"98\",\"100\"],\"y\":[99.8,99.1,95.4,99.1,100.0,99.7,95.7,99.3,98.0,90.0,93.5,95.6,95.6,85.0,95.0,95.0,96.7,90.8,90.8,84.5,84.1,97.1,69.8,93.9,95.6,66.4,91.3,87.9,79.4,87.2,83.7,69.2,99.4,80.2,74.5,76.0,95.9,87.6,87.6,87.9,96.7,96.4,61.5,47.3,62.8,81.2,90.2,71.2,79.4,95.3,59.9,91.3,58.2,81.2,83.3,67.0,72.3,77.3,79.4,85.7,72.9,67.0,73.3,89.6,99.9,87.0,84.2,76.0,47.2,81.2,82.3,66.6,81.2,81.4,82.0,67.5,74.1,84.4,84.9,88.2,90.8,93.9,71.5,75.0,74.9,64.8,80.7,82.8,86.5,91.8,65.4,79.4,89.7,68.4,89.7,82.3,97.3,65.8,71.1,77.8],\"type\":\"scatter\"},{\"marker\":{\"color\":\"rgba(255, 128, 2, 0.8)\"},\"mode\":\"markers\",\"name\":\"2015\",\"text\":[\"California Institute of Technology\",\"Harvard University\",\"University of Oxford\",\"Stanford University\",\"University of Cambridge\",\"Massachusetts Institute of Technology\",\"Princeton University\",\"University of California, Berkeley\",\"Imperial College London\",\"Yale University\",\"University of Chicago\",\"University of California, Los Angeles\",\"ETH Zurich \\u2013 Swiss Federal Institute of Technology Zurich\",\"Columbia University\",\"Johns Hopkins University\",\"University of Pennsylvania\",\"University of Michigan\",\"Duke University\",\"Cornell University\",\"University of Toronto\",\"Northwestern University\",\"University College London\",\"University of Tokyo\",\"Carnegie Mellon University\",\"National University of Singapore\",\"University of Washington\",\"Georgia Institute of Technology\",\"University of Texas at Austin\",\"LMU Munich\",\"University of Illinois at Urbana-Champaign\",\"University of Wisconsin-Madison\",\"University of British Columbia\",\"University of Melbourne\",\"London School of Economics and Political Science\",\"\\u00c9cole Polytechnique F\\u00e9d\\u00e9rale de Lausanne\",\"University of Edinburgh\",\"University of California, Santa Barbara\",\"New York University\",\"McGill University\",\"King\\u2019s College London\",\"University of California, San Diego\",\"Washington University in St Louis\",\"University of Hong Kong\",\"Karolinska Institute\",\"Australian National University\",\"University of Minnesota\",\"University of North Carolina at Chapel Hill\",\"Peking University\",\"Tsinghua University\",\"Seoul National University\",\"Hong Kong University of Science and Technology\",\"Korea Advanced Institute of Science and Technology (KAIST)\",\"University of Manchester\",\"Brown University\",\"KU Leuven\",\"University of California, Davis\",\"Boston University\",\"Pennsylvania State University\",\"Kyoto University\",\"University of Sydney\",\"Nanyang Technological University\",\"\\u00c9cole Polytechnique\",\"Scuola Normale Superiore di Pisa\",\"Leiden University\",\"The University of Queensland\",\"Pohang University of Science and Technology\",\"University of G\\u00f6ttingen\",\"Ohio State University\",\"Rice University\",\"Heidelberg University\",\"Delft University of Technology\",\"Erasmus University Rotterdam\",\"Wageningen University and Research Center\",\"University of Bristol\",\"University of Basel\",\"University of Southern California\",\"University of Amsterdam\",\"\\u00c9cole Normale Sup\\u00e9rieure\",\"Utrecht University\",\"Humboldt University of Berlin\",\"Free University of Berlin\",\"Michigan State University\",\"Durham University\",\"Monash University\",\"Middle East Technical University\",\"University of Arizona\",\"University of Notre Dame\",\"Tufts University\",\"University of California, Irvine\",\"Ghent University\",\"University of Massachusetts\",\"University of Pittsburgh\",\"Emory University\",\"McMaster University\",\"University of Glasgow\",\"Vanderbilt University\",\"University of Colorado Boulder\",\"Stockholm University\",\"Technical University of Munich\",\"Uppsala University\"],\"x\":[\"1\",\"2\",\"3\",\"4\",\"5\",\"6\",\"7\",\"8\",\"9\",\"9\",\"11\",\"12\",\"13\",\"14\",\"15\",\"16\",\"17\",\"18\",\"19\",\"20\",\"21\",\"22\",\"23\",\"24\",\"25\",\"26\",\"27\",\"28\",\"29\",\"29\",\"29\",\"32\",\"33\",\"34\",\"34\",\"36\",\"37\",\"38\",\"39\",\"40\",\"41\",\"42\",\"43\",\"44\",\"45\",\"46\",\"46\",\"48\",\"49\",\"50\",\"51\",\"52\",\"52\",\"54\",\"55\",\"55\",\"57\",\"58\",\"59\",\"60\",\"61\",\"61\",\"63\",\"64\",\"65\",\"66\",\"67\",\"68\",\"69\",\"70\",\"71\",\"72\",\"73\",\"74\",\"75\",\"75\",\"77\",\"78\",\"79\",\"80\",\"81\",\"82\",\"83\",\"83\",\"85\",\"86\",\"86\",\"88\",\"88\",\"90\",\"91\",\"91\",\"93\",\"94\",\"94\",\"96\",\"97\",\"98\",\"98\",\"98\"],\"y\":[99.7,98.9,95.5,99.1,95.2,100.0,99.6,99.1,89.4,94.0,97.3,95.3,83.5,95.3,93.6,94.4,88.9,96.6,91.5,83.0,96.9,85.1,74.7,92.0,66.0,95.0,85.8,91.5,83.0,77.8,87.7,85.3,80.6,71.3,95.0,88.3,99.2,89.5,76.0,88.3,96.4,97.1,65.1,76.8,71.1,82.9,91.0,63.7,65.0,48.7,72.9,71.4,74.3,92.0,71.8,80.4,94.4,76.0,57.0,69.0,75.9,79.9,96.4,82.3,74.2,84.4,92.3,80.4,99.9,81.4,42.6,82.3,77.5,85.1,81.4,81.3,76.6,84.8,80.0,71.9,67.6,74.0,88.9,65.7,92.0,74.0,90.0,92.9,89.5,73.8,78.7,84.4,89.5,78.8,83.7,87.7,97.4,90.9,78.8,70.9],\"type\":\"scatter\"},{\"marker\":{\"color\":\"rgba(0, 255, 200, 0.8)\"},\"mode\":\"markers\",\"name\":\"2016\",\"text\":[\"California Institute of Technology\",\"University of Oxford\",\"Stanford University\",\"University of Cambridge\",\"Massachusetts Institute of Technology\",\"Harvard University\",\"Princeton University\",\"Imperial College London\",\"ETH Zurich \\u2013 Swiss Federal Institute of Technology Zurich\",\"University of Chicago\",\"Johns Hopkins University\",\"Yale University\",\"University of California, Berkeley\",\"University College London\",\"Columbia University\",\"University of California, Los Angeles\",\"University of Pennsylvania\",\"Cornell University\",\"University of Toronto\",\"Duke University\",\"University of Michigan\",\"Carnegie Mellon University\",\"London School of Economics and Political Science\",\"University of Edinburgh\",\"Northwestern University\",\"National University of Singapore\",\"King\\u2019s College London\",\"Karolinska Institute\",\"LMU Munich\",\"New York University\",\"\\u00c9cole Polytechnique F\\u00e9d\\u00e9rale de Lausanne\",\"University of Washington\",\"University of Melbourne\",\"University of British Columbia\",\"KU Leuven\",\"University of Illinois at Urbana-Champaign\",\"Heidelberg University\",\"McGill University\",\"University of California, San Diego\",\"University of California, Santa Barbara\",\"Georgia Institute of Technology\",\"Peking University\",\"University of Tokyo\",\"University of California, Davis\",\"University of Hong Kong\",\"University of Texas at Austin\",\"Tsinghua University\",\"Wageningen University and Research Center\",\"Humboldt University of Berlin\",\"University of Wisconsin-Madison\",\"Brown University\",\"Australian National University\",\"Technical University of Munich\",\"\\u00c9cole Normale Sup\\u00e9rieure\",\"Nanyang Technological University\",\"University of Manchester\",\"University of Sydney\",\"University of Amsterdam\",\"Hong Kong University of Science and Technology\",\"The University of Queensland\",\"Washington University in St Louis\",\"Utrecht University\",\"University of North Carolina at Chapel Hill\",\"Boston University\",\"Delft University of Technology\",\"University of Minnesota\",\"Leiden University\",\"University of Southern California\",\"University of Bristol\",\"Durham University\",\"Erasmus University Rotterdam\",\"Free University of Berlin\",\"Monash University\",\"University of Groningen\",\"Pennsylvania State University\",\"University of Glasgow\",\"University of Helsinki\",\"University of T\\u00fcbingen\",\"University of Pittsburgh\",\"University of Warwick\",\"Uppsala University\",\"University of Copenhagen\",\"University of New South Wales\",\"University of Freiburg\",\"Seoul National University\",\"University of St Andrews\",\"Vanderbilt University\",\"Kyoto University\",\"Maastricht University\",\"Emory University\",\"Lund University\",\"Ohio State University\",\"University of Exeter\",\"University of Bonn\",\"Georgetown University\",\"McMaster University\",\"University of Sheffield\",\"Queen Mary University of London\",\"University of G\\u00f6ttingen\",\"Michigan State University\"],\"x\":[\"1\",\"2\",\"3\",\"4\",\"5\",\"6\",\"7\",\"8\",\"9\",\"10\",\"11\",\"12\",\"13\",\"14\",\"15\",\"16\",\"17\",\"18\",\"19\",\"20\",\"21\",\"22\",\"23\",\"24\",\"25\",\"26\",\"27\",\"28\",\"29\",\"30\",\"31\",\"32\",\"33\",\"34\",\"35\",\"36\",\"37\",\"38\",\"=39\",\"=39\",\"41\",\"42\",\"43\",\"=44\",\"=44\",\"46\",\"=47\",\"=47\",\"49\",\"50\",\"51\",\"52\",\"53\",\"54\",\"55\",\"=56\",\"=56\",\"58\",\"59\",\"=60\",\"=60\",\"62\",\"63\",\"64\",\"=65\",\"=65\",\"67\",\"68\",\"69\",\"70\",\"71\",\"72\",\"73\",\"74\",\"75\",\"=76\",\"=76\",\"78\",\"79\",\"80\",\"81\",\"=82\",\"=82\",\"84\",\"85\",\"86\",\"87\",\"=88\",\"=88\",\"=90\",\"=90\",\"=90\",\"93\",\"=94\",\"=94\",\"=94\",\"97\",\"98\",\"=99\",\"=99\"],\"y\":[99.8,98.8,99.9,97.0,99.7,99.8,99.3,96.7,91.1,99.2,98.2,97.2,99.7,94.2,98.1,98.5,98.6,97.2,90.9,99.0,94.4,99.1,94.3,96.3,96.5,79.4,93.8,92.2,85.7,95.3,94.6,98.6,86.6,91.5,87.3,86.8,88.2,78.9,98.7,99.2,86.0,69.1,60.9,84.3,70.1,92.2,58.8,87.8,73.6,86.6,96.4,72.3,80.1,87.1,85.6,77.3,77.5,87.4,82.6,82.4,99.2,88.1,95.9,97.7,61.5,88.0,85.2,93.0,91.2,87.7,95.6,60.2,73.3,84.0,80.5,92.3,82.1,79.3,92.3,78.2,80.9,86.2,82.1,80.5,50.0,78.8,95.7,46.6,82.7,96.7,81.3,83.2,94.3,85.3,82.5,84.9,80.1,93.3,72.7,76.8],\"type\":\"scatter\"}],                        {\"template\":{\"data\":{\"barpolar\":[{\"marker\":{\"line\":{\"color\":\"#E5ECF6\",\"width\":0.5},\"pattern\":{\"fillmode\":\"overlay\",\"size\":10,\"solidity\":0.2}},\"type\":\"barpolar\"}],\"bar\":[{\"error_x\":{\"color\":\"#2a3f5f\"},\"error_y\":{\"color\":\"#2a3f5f\"},\"marker\":{\"line\":{\"color\":\"#E5ECF6\",\"width\":0.5},\"pattern\":{\"fillmode\":\"overlay\",\"size\":10,\"solidity\":0.2}},\"type\":\"bar\"}],\"carpet\":[{\"aaxis\":{\"endlinecolor\":\"#2a3f5f\",\"gridcolor\":\"white\",\"linecolor\":\"white\",\"minorgridcolor\":\"white\",\"startlinecolor\":\"#2a3f5f\"},\"baxis\":{\"endlinecolor\":\"#2a3f5f\",\"gridcolor\":\"white\",\"linecolor\":\"white\",\"minorgridcolor\":\"white\",\"startlinecolor\":\"#2a3f5f\"},\"type\":\"carpet\"}],\"choropleth\":[{\"colorbar\":{\"outlinewidth\":0,\"ticks\":\"\"},\"type\":\"choropleth\"}],\"contourcarpet\":[{\"colorbar\":{\"outlinewidth\":0,\"ticks\":\"\"},\"type\":\"contourcarpet\"}],\"contour\":[{\"colorbar\":{\"outlinewidth\":0,\"ticks\":\"\"},\"colorscale\":[[0.0,\"#0d0887\"],[0.1111111111111111,\"#46039f\"],[0.2222222222222222,\"#7201a8\"],[0.3333333333333333,\"#9c179e\"],[0.4444444444444444,\"#bd3786\"],[0.5555555555555556,\"#d8576b\"],[0.6666666666666666,\"#ed7953\"],[0.7777777777777778,\"#fb9f3a\"],[0.8888888888888888,\"#fdca26\"],[1.0,\"#f0f921\"]],\"type\":\"contour\"}],\"heatmapgl\":[{\"colorbar\":{\"outlinewidth\":0,\"ticks\":\"\"},\"colorscale\":[[0.0,\"#0d0887\"],[0.1111111111111111,\"#46039f\"],[0.2222222222222222,\"#7201a8\"],[0.3333333333333333,\"#9c179e\"],[0.4444444444444444,\"#bd3786\"],[0.5555555555555556,\"#d8576b\"],[0.6666666666666666,\"#ed7953\"],[0.7777777777777778,\"#fb9f3a\"],[0.8888888888888888,\"#fdca26\"],[1.0,\"#f0f921\"]],\"type\":\"heatmapgl\"}],\"heatmap\":[{\"colorbar\":{\"outlinewidth\":0,\"ticks\":\"\"},\"colorscale\":[[0.0,\"#0d0887\"],[0.1111111111111111,\"#46039f\"],[0.2222222222222222,\"#7201a8\"],[0.3333333333333333,\"#9c179e\"],[0.4444444444444444,\"#bd3786\"],[0.5555555555555556,\"#d8576b\"],[0.6666666666666666,\"#ed7953\"],[0.7777777777777778,\"#fb9f3a\"],[0.8888888888888888,\"#fdca26\"],[1.0,\"#f0f921\"]],\"type\":\"heatmap\"}],\"histogram2dcontour\":[{\"colorbar\":{\"outlinewidth\":0,\"ticks\":\"\"},\"colorscale\":[[0.0,\"#0d0887\"],[0.1111111111111111,\"#46039f\"],[0.2222222222222222,\"#7201a8\"],[0.3333333333333333,\"#9c179e\"],[0.4444444444444444,\"#bd3786\"],[0.5555555555555556,\"#d8576b\"],[0.6666666666666666,\"#ed7953\"],[0.7777777777777778,\"#fb9f3a\"],[0.8888888888888888,\"#fdca26\"],[1.0,\"#f0f921\"]],\"type\":\"histogram2dcontour\"}],\"histogram2d\":[{\"colorbar\":{\"outlinewidth\":0,\"ticks\":\"\"},\"colorscale\":[[0.0,\"#0d0887\"],[0.1111111111111111,\"#46039f\"],[0.2222222222222222,\"#7201a8\"],[0.3333333333333333,\"#9c179e\"],[0.4444444444444444,\"#bd3786\"],[0.5555555555555556,\"#d8576b\"],[0.6666666666666666,\"#ed7953\"],[0.7777777777777778,\"#fb9f3a\"],[0.8888888888888888,\"#fdca26\"],[1.0,\"#f0f921\"]],\"type\":\"histogram2d\"}],\"histogram\":[{\"marker\":{\"pattern\":{\"fillmode\":\"overlay\",\"size\":10,\"solidity\":0.2}},\"type\":\"histogram\"}],\"mesh3d\":[{\"colorbar\":{\"outlinewidth\":0,\"ticks\":\"\"},\"type\":\"mesh3d\"}],\"parcoords\":[{\"line\":{\"colorbar\":{\"outlinewidth\":0,\"ticks\":\"\"}},\"type\":\"parcoords\"}],\"pie\":[{\"automargin\":true,\"type\":\"pie\"}],\"scatter3d\":[{\"line\":{\"colorbar\":{\"outlinewidth\":0,\"ticks\":\"\"}},\"marker\":{\"colorbar\":{\"outlinewidth\":0,\"ticks\":\"\"}},\"type\":\"scatter3d\"}],\"scattercarpet\":[{\"marker\":{\"colorbar\":{\"outlinewidth\":0,\"ticks\":\"\"}},\"type\":\"scattercarpet\"}],\"scattergeo\":[{\"marker\":{\"colorbar\":{\"outlinewidth\":0,\"ticks\":\"\"}},\"type\":\"scattergeo\"}],\"scattergl\":[{\"marker\":{\"colorbar\":{\"outlinewidth\":0,\"ticks\":\"\"}},\"type\":\"scattergl\"}],\"scattermapbox\":[{\"marker\":{\"colorbar\":{\"outlinewidth\":0,\"ticks\":\"\"}},\"type\":\"scattermapbox\"}],\"scatterpolargl\":[{\"marker\":{\"colorbar\":{\"outlinewidth\":0,\"ticks\":\"\"}},\"type\":\"scatterpolargl\"}],\"scatterpolar\":[{\"marker\":{\"colorbar\":{\"outlinewidth\":0,\"ticks\":\"\"}},\"type\":\"scatterpolar\"}],\"scatter\":[{\"fillpattern\":{\"fillmode\":\"overlay\",\"size\":10,\"solidity\":0.2},\"type\":\"scatter\"}],\"scatterternary\":[{\"marker\":{\"colorbar\":{\"outlinewidth\":0,\"ticks\":\"\"}},\"type\":\"scatterternary\"}],\"surface\":[{\"colorbar\":{\"outlinewidth\":0,\"ticks\":\"\"},\"colorscale\":[[0.0,\"#0d0887\"],[0.1111111111111111,\"#46039f\"],[0.2222222222222222,\"#7201a8\"],[0.3333333333333333,\"#9c179e\"],[0.4444444444444444,\"#bd3786\"],[0.5555555555555556,\"#d8576b\"],[0.6666666666666666,\"#ed7953\"],[0.7777777777777778,\"#fb9f3a\"],[0.8888888888888888,\"#fdca26\"],[1.0,\"#f0f921\"]],\"type\":\"surface\"}],\"table\":[{\"cells\":{\"fill\":{\"color\":\"#EBF0F8\"},\"line\":{\"color\":\"white\"}},\"header\":{\"fill\":{\"color\":\"#C8D4E3\"},\"line\":{\"color\":\"white\"}},\"type\":\"table\"}]},\"layout\":{\"annotationdefaults\":{\"arrowcolor\":\"#2a3f5f\",\"arrowhead\":0,\"arrowwidth\":1},\"autotypenumbers\":\"strict\",\"coloraxis\":{\"colorbar\":{\"outlinewidth\":0,\"ticks\":\"\"}},\"colorscale\":{\"diverging\":[[0,\"#8e0152\"],[0.1,\"#c51b7d\"],[0.2,\"#de77ae\"],[0.3,\"#f1b6da\"],[0.4,\"#fde0ef\"],[0.5,\"#f7f7f7\"],[0.6,\"#e6f5d0\"],[0.7,\"#b8e186\"],[0.8,\"#7fbc41\"],[0.9,\"#4d9221\"],[1,\"#276419\"]],\"sequential\":[[0.0,\"#0d0887\"],[0.1111111111111111,\"#46039f\"],[0.2222222222222222,\"#7201a8\"],[0.3333333333333333,\"#9c179e\"],[0.4444444444444444,\"#bd3786\"],[0.5555555555555556,\"#d8576b\"],[0.6666666666666666,\"#ed7953\"],[0.7777777777777778,\"#fb9f3a\"],[0.8888888888888888,\"#fdca26\"],[1.0,\"#f0f921\"]],\"sequentialminus\":[[0.0,\"#0d0887\"],[0.1111111111111111,\"#46039f\"],[0.2222222222222222,\"#7201a8\"],[0.3333333333333333,\"#9c179e\"],[0.4444444444444444,\"#bd3786\"],[0.5555555555555556,\"#d8576b\"],[0.6666666666666666,\"#ed7953\"],[0.7777777777777778,\"#fb9f3a\"],[0.8888888888888888,\"#fdca26\"],[1.0,\"#f0f921\"]]},\"colorway\":[\"#636efa\",\"#EF553B\",\"#00cc96\",\"#ab63fa\",\"#FFA15A\",\"#19d3f3\",\"#FF6692\",\"#B6E880\",\"#FF97FF\",\"#FECB52\"],\"font\":{\"color\":\"#2a3f5f\"},\"geo\":{\"bgcolor\":\"white\",\"lakecolor\":\"white\",\"landcolor\":\"#E5ECF6\",\"showlakes\":true,\"showland\":true,\"subunitcolor\":\"white\"},\"hoverlabel\":{\"align\":\"left\"},\"hovermode\":\"closest\",\"mapbox\":{\"style\":\"light\"},\"paper_bgcolor\":\"white\",\"plot_bgcolor\":\"#E5ECF6\",\"polar\":{\"angularaxis\":{\"gridcolor\":\"white\",\"linecolor\":\"white\",\"ticks\":\"\"},\"bgcolor\":\"#E5ECF6\",\"radialaxis\":{\"gridcolor\":\"white\",\"linecolor\":\"white\",\"ticks\":\"\"}},\"scene\":{\"xaxis\":{\"backgroundcolor\":\"#E5ECF6\",\"gridcolor\":\"white\",\"gridwidth\":2,\"linecolor\":\"white\",\"showbackground\":true,\"ticks\":\"\",\"zerolinecolor\":\"white\"},\"yaxis\":{\"backgroundcolor\":\"#E5ECF6\",\"gridcolor\":\"white\",\"gridwidth\":2,\"linecolor\":\"white\",\"showbackground\":true,\"ticks\":\"\",\"zerolinecolor\":\"white\"},\"zaxis\":{\"backgroundcolor\":\"#E5ECF6\",\"gridcolor\":\"white\",\"gridwidth\":2,\"linecolor\":\"white\",\"showbackground\":true,\"ticks\":\"\",\"zerolinecolor\":\"white\"}},\"shapedefaults\":{\"line\":{\"color\":\"#2a3f5f\"}},\"ternary\":{\"aaxis\":{\"gridcolor\":\"white\",\"linecolor\":\"white\",\"ticks\":\"\"},\"baxis\":{\"gridcolor\":\"white\",\"linecolor\":\"white\",\"ticks\":\"\"},\"bgcolor\":\"#E5ECF6\",\"caxis\":{\"gridcolor\":\"white\",\"linecolor\":\"white\",\"ticks\":\"\"}},\"title\":{\"x\":0.05},\"xaxis\":{\"automargin\":true,\"gridcolor\":\"white\",\"linecolor\":\"white\",\"ticks\":\"\",\"title\":{\"standoff\":15},\"zerolinecolor\":\"white\",\"zerolinewidth\":2},\"yaxis\":{\"automargin\":true,\"gridcolor\":\"white\",\"linecolor\":\"white\",\"ticks\":\"\",\"title\":{\"standoff\":15},\"zerolinecolor\":\"white\",\"zerolinewidth\":2}}},\"title\":{\"text\":\"Citation vs world rank of top 100 universities with 2014, 2015 and 2016 years\"},\"xaxis\":{\"ticklen\":5,\"title\":{\"text\":\"World Rank\"},\"zeroline\":false},\"yaxis\":{\"ticklen\":5,\"title\":{\"text\":\"Citation\"},\"zeroline\":false}},                        {\"responsive\": true}                    ).then(function(){\n",
              "                            \n",
              "var gd = document.getElementById('cebd58a1-a8c9-4998-8266-bea68121e42e');\n",
              "var x = new MutationObserver(function (mutations, observer) {{\n",
              "        var display = window.getComputedStyle(gd).display;\n",
              "        if (!display || display === 'none') {{\n",
              "            console.log([gd, 'removed!']);\n",
              "            Plotly.purge(gd);\n",
              "            observer.disconnect();\n",
              "        }}\n",
              "}});\n",
              "\n",
              "// Listen for the removal of the full notebook cells\n",
              "var notebookContainer = gd.closest('#notebook-container');\n",
              "if (notebookContainer) {{\n",
              "    x.observe(notebookContainer, {childList: true});\n",
              "}}\n",
              "\n",
              "// Listen for the clearing of the current output cell\n",
              "var outputEl = gd.closest('.output');\n",
              "if (outputEl) {{\n",
              "    x.observe(outputEl, {childList: true});\n",
              "}}\n",
              "\n",
              "                        })                };                            </script>        </div>\n",
              "</body>\n",
              "</html>"
            ]
          },
          "metadata": {}
        }
      ]
    },
    {
      "cell_type": "code",
      "source": [
        "# creating trace1 2014\n",
        "trace1 =go.Scatter( #scatter türü seçilir.\n",
        "                    x = df2014.world_rank, #2014 yılındaki  100 üniversite\n",
        "                    y = df2014.total_score,#2014 yılındaki alıntı değerleri\n",
        "                    mode = \"markers\",     #marker modu = nokta şekli\n",
        "                    name = \"2014\",         #trace'in adı \n",
        "                    marker = dict(color = 'rgba(255, 128, 255, 0.8)'), #renk ve saydamlık\n",
        "                    text= df2014.university_name)  #değerin üzerine gelindiğinde üniversite adı yazar\n",
        "\n",
        "# creating trace2 2015\n",
        "trace2 =go.Scatter(\n",
        "                    x = df2015.world_rank, #2015 yılındaki  100 üniversite\n",
        "                    y = df2015.total_score,#2014 yılındaki alıntı değerleri\n",
        "                    mode = \"markers\",      #nokta şekli\n",
        "                    name = \"2015\",         #trace'in adı \n",
        "                    marker = dict(color = 'rgba(255, 128, 2, 0.8)'),  #renk ve saydamlık\n",
        "                    text= df2015.university_name)  #değerin üzerine gelindiğinde üniversite adı yazar\n",
        "\n",
        "# creating trace3 2016\n",
        "trace3 =go.Scatter(\n",
        "                    x = df2016.world_rank, #2016 yılındaki  100 üniversite\n",
        "                    y = df2016.total_score,#2014 yılındaki alıntı değerleri\n",
        "                    mode = \"markers\",      #nokta şekli\n",
        "                    name = \"2016\",         #trace'in adı \n",
        "                    marker = dict(color = 'rgba(0, 255, 200, 0.8)'),  #renk ve saydamlık\n",
        "                    text= df2016.university_name)  #değerin üzerine gelindiğinde üniversite adı yazar\n",
        "\n",
        "data = [trace1, trace2, trace3]  #data değişkenine liste olarak atanırlar\n",
        "\n",
        "layout = dict(title = 'Total score vs world rank of top 100 universities with 2014, 2015 and 2016 years',\n",
        "              xaxis= dict(title= 'World Rank',ticklen= 5,zeroline= False),\n",
        "              yaxis= dict(title= 'Total Score',ticklen= 5,zeroline= False)  #başlık, x ve y ekseninin bilgisi dictionary olarak layout değişkenine atanır.\n",
        "             )\n",
        "fig = dict(data = data, layout = layout) \n",
        "\n",
        "iplot(fig) "
      ],
      "metadata": {
        "colab": {
          "base_uri": "https://localhost:8080/",
          "height": 542
        },
        "id": "aVN8CP13CGcM",
        "outputId": "dd86f61d-bf9a-41ed-9ea6-e891104104b7"
      },
      "execution_count": 57,
      "outputs": [
        {
          "output_type": "display_data",
          "data": {
            "text/html": [
              "<html>\n",
              "<head><meta charset=\"utf-8\" /></head>\n",
              "<body>\n",
              "    <div>            <script src=\"https://cdnjs.cloudflare.com/ajax/libs/mathjax/2.7.5/MathJax.js?config=TeX-AMS-MML_SVG\"></script><script type=\"text/javascript\">if (window.MathJax && window.MathJax.Hub && window.MathJax.Hub.Config) {window.MathJax.Hub.Config({SVG: {font: \"STIX-Web\"}});}</script>                <script type=\"text/javascript\">window.PlotlyConfig = {MathJaxConfig: 'local'};</script>\n",
              "        <script src=\"https://cdn.plot.ly/plotly-2.8.3.min.js\"></script>                <div id=\"6fb74ab2-40bf-4141-8756-55545fd8ab88\" class=\"plotly-graph-div\" style=\"height:525px; width:100%;\"></div>            <script type=\"text/javascript\">                                    window.PLOTLYENV=window.PLOTLYENV || {};                                    if (document.getElementById(\"6fb74ab2-40bf-4141-8756-55545fd8ab88\")) {                    Plotly.newPlot(                        \"6fb74ab2-40bf-4141-8756-55545fd8ab88\",                        [{\"marker\":{\"color\":\"rgba(255, 128, 255, 0.8)\"},\"mode\":\"markers\",\"name\":\"2014\",\"text\":[\"California Institute of Technology\",\"Harvard University\",\"University of Oxford\",\"Stanford University\",\"Massachusetts Institute of Technology\",\"Princeton University\",\"University of Cambridge\",\"University of California, Berkeley\",\"University of Chicago\",\"Imperial College London\",\"Yale University\",\"University of California, Los Angeles\",\"Columbia University\",\"ETH Zurich \\u2013 Swiss Federal Institute of Technology Zurich\",\"Johns Hopkins University\",\"University of Pennsylvania\",\"Duke University\",\"University of Michigan\",\"Cornell University\",\"University of Toronto\",\"University College London\",\"Northwestern University\",\"University of Tokyo\",\"Carnegie Mellon University\",\"University of Washington\",\"National University of Singapore\",\"University of Texas at Austin\",\"Georgia Institute of Technology\",\"University of Illinois at Urbana-Champaign\",\"University of Wisconsin-Madison\",\"University of British Columbia\",\"London School of Economics and Political Science\",\"University of California, Santa Barbara\",\"University of Melbourne\",\"McGill University\",\"Karolinska Institute\",\"\\u00c9cole Polytechnique F\\u00e9d\\u00e9rale de Lausanne\",\"King\\u2019s College London\",\"University of Edinburgh\",\"New York University\",\"University of California, San Diego\",\"Washington University in St Louis\",\"University of Hong Kong\",\"Seoul National University\",\"Peking University\",\"University of Minnesota\",\"University of North Carolina at Chapel Hill\",\"Australian National University\",\"Pennsylvania State University\",\"Boston University\",\"Tsinghua University\",\"Brown University\",\"Kyoto University\",\"University of California, Davis\",\"LMU Munich\",\"Korea Advanced Institute of Science and Technology (KAIST)\",\"Hong Kong University of Science and Technology\",\"University of Manchester\",\"Ohio State University\",\"Pohang University of Science and Technology\",\"KU Leuven\",\"Purdue University\",\"The University of Queensland\",\"University of G\\u00f6ttingen\",\"Rice University\",\"\\u00c9cole Normale Sup\\u00e9rieure\",\"Leiden University\",\"Heidelberg University\",\"Delft University of Technology\",\"University of Southern California\",\"\\u00c9cole Polytechnique\",\"University of Sydney\",\"Erasmus University Rotterdam\",\"University of Basel\",\"Utrecht University\",\"Nanyang Technological University\",\"Wageningen University and Research Center\",\"University of Pittsburgh\",\"University of Bristol\",\"Durham University\",\"Emory University\",\"Tufts University\",\"Michigan State University\",\"University of Amsterdam\",\"Ghent University\",\"Free University of Berlin\",\"Technical University of Munich\",\"Case Western Reserve University\",\"Vanderbilt University\",\"University of Notre Dame\",\"Monash University\",\"McMaster University\",\"University of California, Irvine\",\"Humboldt University of Berlin\",\"University of Rochester\",\"Pierre and Marie Curie University\",\"University of Colorado Boulder\",\"Maastricht University\",\"University of Groningen\",\"University of Helsinki\"],\"x\":[\"1\",\"2\",\"2\",\"4\",\"5\",\"6\",\"7\",\"8\",\"9\",\"10\",\"11\",\"12\",\"13\",\"14\",\"15\",\"16\",\"17\",\"18\",\"19\",\"20\",\"21\",\"22\",\"23\",\"24\",\"25\",\"26\",\"27\",\"28\",\"29\",\"30\",\"31\",\"32\",\"33\",\"34\",\"35\",\"36\",\"37\",\"38\",\"39\",\"40\",\"40\",\"42\",\"43\",\"44\",\"45\",\"46\",\"47\",\"48\",\"49\",\"50\",\"50\",\"52\",\"52\",\"52\",\"55\",\"56\",\"57\",\"58\",\"59\",\"60\",\"61\",\"62\",\"63\",\"63\",\"65\",\"65\",\"67\",\"68\",\"69\",\"70\",\"70\",\"72\",\"73\",\"74\",\"74\",\"76\",\"77\",\"78\",\"79\",\"80\",\"80\",\"80\",\"83\",\"83\",\"85\",\"86\",\"87\",\"88\",\"88\",\"90\",\"91\",\"92\",\"93\",\"94\",\"95\",\"96\",\"97\",\"98\",\"98\",\"100\"],\"y\":[\"94.9\",\"93.9\",\"93.9\",\"93.8\",\"93.0\",\"92.7\",\"92.3\",\"89.8\",\"87.8\",\"87.5\",\"87.4\",\"86.3\",\"85.2\",\"84.5\",\"83.7\",\"81.0\",\"79.3\",\"79.2\",\"79.1\",\"78.3\",\"77.6\",\"77.1\",\"76.4\",\"76.0\",\"73.4\",\"72.4\",\"72.2\",\"71.6\",\"71.4\",\"71.1\",\"70.8\",\"69.8\",\"68.4\",\"68.2\",\"68.1\",\"67.8\",\"67.7\",\"67.6\",\"67.5\",\"67.4\",\"67.4\",\"67.2\",\"65.3\",\"65.2\",\"65.0\",\"64.9\",\"64.5\",\"64.4\",\"64.2\",\"63.5\",\"63.5\",\"63.2\",\"63.2\",\"63.2\",\"63.1\",\"62.9\",\"62.5\",\"62.3\",\"62.0\",\"61.7\",\"61.3\",\"60.7\",\"59.9\",\"59.9\",\"59.8\",\"59.8\",\"59.4\",\"59.2\",\"59.1\",\"59.0\",\"59.0\",\"58.8\",\"58.1\",\"57.7\",\"57.7\",\"57.2\",\"56.8\",\"56.7\",\"56.3\",\"56.1\",\"56.1\",\"56.1\",\"55.9\",\"55.9\",\"55.5\",\"55.3\",\"55.2\",\"55.0\",\"55.0\",\"54.7\",\"54.6\",\"54.5\",\"54.1\",\"53.8\",\"53.6\",\"53.5\",\"53.4\",\"52.9\",\"52.9\",\"52.6\"],\"type\":\"scatter\"},{\"marker\":{\"color\":\"rgba(255, 128, 2, 0.8)\"},\"mode\":\"markers\",\"name\":\"2015\",\"text\":[\"California Institute of Technology\",\"Harvard University\",\"University of Oxford\",\"Stanford University\",\"University of Cambridge\",\"Massachusetts Institute of Technology\",\"Princeton University\",\"University of California, Berkeley\",\"Imperial College London\",\"Yale University\",\"University of Chicago\",\"University of California, Los Angeles\",\"ETH Zurich \\u2013 Swiss Federal Institute of Technology Zurich\",\"Columbia University\",\"Johns Hopkins University\",\"University of Pennsylvania\",\"University of Michigan\",\"Duke University\",\"Cornell University\",\"University of Toronto\",\"Northwestern University\",\"University College London\",\"University of Tokyo\",\"Carnegie Mellon University\",\"National University of Singapore\",\"University of Washington\",\"Georgia Institute of Technology\",\"University of Texas at Austin\",\"LMU Munich\",\"University of Illinois at Urbana-Champaign\",\"University of Wisconsin-Madison\",\"University of British Columbia\",\"University of Melbourne\",\"London School of Economics and Political Science\",\"\\u00c9cole Polytechnique F\\u00e9d\\u00e9rale de Lausanne\",\"University of Edinburgh\",\"University of California, Santa Barbara\",\"New York University\",\"McGill University\",\"King\\u2019s College London\",\"University of California, San Diego\",\"Washington University in St Louis\",\"University of Hong Kong\",\"Karolinska Institute\",\"Australian National University\",\"University of Minnesota\",\"University of North Carolina at Chapel Hill\",\"Peking University\",\"Tsinghua University\",\"Seoul National University\",\"Hong Kong University of Science and Technology\",\"Korea Advanced Institute of Science and Technology (KAIST)\",\"University of Manchester\",\"Brown University\",\"KU Leuven\",\"University of California, Davis\",\"Boston University\",\"Pennsylvania State University\",\"Kyoto University\",\"University of Sydney\",\"Nanyang Technological University\",\"\\u00c9cole Polytechnique\",\"Scuola Normale Superiore di Pisa\",\"Leiden University\",\"The University of Queensland\",\"Pohang University of Science and Technology\",\"University of G\\u00f6ttingen\",\"Ohio State University\",\"Rice University\",\"Heidelberg University\",\"Delft University of Technology\",\"Erasmus University Rotterdam\",\"Wageningen University and Research Center\",\"University of Bristol\",\"University of Basel\",\"University of Southern California\",\"University of Amsterdam\",\"\\u00c9cole Normale Sup\\u00e9rieure\",\"Utrecht University\",\"Humboldt University of Berlin\",\"Free University of Berlin\",\"Michigan State University\",\"Durham University\",\"Monash University\",\"Middle East Technical University\",\"University of Arizona\",\"University of Notre Dame\",\"Tufts University\",\"University of California, Irvine\",\"Ghent University\",\"University of Massachusetts\",\"University of Pittsburgh\",\"Emory University\",\"McMaster University\",\"University of Glasgow\",\"Vanderbilt University\",\"University of Colorado Boulder\",\"Stockholm University\",\"Technical University of Munich\",\"Uppsala University\"],\"x\":[\"1\",\"2\",\"3\",\"4\",\"5\",\"6\",\"7\",\"8\",\"9\",\"9\",\"11\",\"12\",\"13\",\"14\",\"15\",\"16\",\"17\",\"18\",\"19\",\"20\",\"21\",\"22\",\"23\",\"24\",\"25\",\"26\",\"27\",\"28\",\"29\",\"29\",\"29\",\"32\",\"33\",\"34\",\"34\",\"36\",\"37\",\"38\",\"39\",\"40\",\"41\",\"42\",\"43\",\"44\",\"45\",\"46\",\"46\",\"48\",\"49\",\"50\",\"51\",\"52\",\"52\",\"54\",\"55\",\"55\",\"57\",\"58\",\"59\",\"60\",\"61\",\"61\",\"63\",\"64\",\"65\",\"66\",\"67\",\"68\",\"69\",\"70\",\"71\",\"72\",\"73\",\"74\",\"75\",\"75\",\"77\",\"78\",\"79\",\"80\",\"81\",\"82\",\"83\",\"83\",\"85\",\"86\",\"86\",\"88\",\"88\",\"90\",\"91\",\"91\",\"93\",\"94\",\"94\",\"96\",\"97\",\"98\",\"98\",\"98\"],\"y\":[\"94.3\",\"93.3\",\"93.2\",\"92.9\",\"92.0\",\"91.9\",\"90.9\",\"89.5\",\"87.5\",\"87.5\",\"87.1\",\"85.5\",\"84.6\",\"84.4\",\"83.0\",\"81.0\",\"80.9\",\"79.9\",\"79.4\",\"79.3\",\"79.2\",\"78.7\",\"76.1\",\"74.3\",\"73.3\",\"73.2\",\"72.8\",\"72.3\",\"71.9\",\"71.9\",\"71.9\",\"71.8\",\"71.2\",\"70.9\",\"70.9\",\"70.4\",\"70.0\",\"69.9\",\"69.6\",\"69.4\",\"68.6\",\"67.8\",\"67.5\",\"66.8\",\"66.5\",\"65.9\",\"65.9\",\"65.2\",\"65.1\",\"64.8\",\"64.7\",\"64.5\",\"64.5\",\"64.1\",\"63.7\",\"63.7\",\"63.6\",\"62.9\",\"62.8\",\"62.7\",\"62.2\",\"62.2\",\"61.9\",\"61.3\",\"61.2\",\"61.1\",\"61.0\",\"60.7\",\"59.8\",\"59.6\",\"59.2\",\"59.1\",\"59.0\",\"58.9\",\"58.4\",\"58.4\",\"58.2\",\"58.1\",\"58.0\",\"57.9\",\"57.6\",\"57.3\",\"56.9\",\"56.9\",\"56.6\",\"56.5\",\"56.5\",\"56.4\",\"56.4\",\"56.2\",\"56.1\",\"56.1\",\"55.5\",\"55.3\",\"55.3\",\"55.2\",\"55.1\",\"54.6\",\"54.6\",\"54.6\"],\"type\":\"scatter\"},{\"marker\":{\"color\":\"rgba(0, 255, 200, 0.8)\"},\"mode\":\"markers\",\"name\":\"2016\",\"text\":[\"California Institute of Technology\",\"University of Oxford\",\"Stanford University\",\"University of Cambridge\",\"Massachusetts Institute of Technology\",\"Harvard University\",\"Princeton University\",\"Imperial College London\",\"ETH Zurich \\u2013 Swiss Federal Institute of Technology Zurich\",\"University of Chicago\",\"Johns Hopkins University\",\"Yale University\",\"University of California, Berkeley\",\"University College London\",\"Columbia University\",\"University of California, Los Angeles\",\"University of Pennsylvania\",\"Cornell University\",\"University of Toronto\",\"Duke University\",\"University of Michigan\",\"Carnegie Mellon University\",\"London School of Economics and Political Science\",\"University of Edinburgh\",\"Northwestern University\",\"National University of Singapore\",\"King\\u2019s College London\",\"Karolinska Institute\",\"LMU Munich\",\"New York University\",\"\\u00c9cole Polytechnique F\\u00e9d\\u00e9rale de Lausanne\",\"University of Washington\",\"University of Melbourne\",\"University of British Columbia\",\"KU Leuven\",\"University of Illinois at Urbana-Champaign\",\"Heidelberg University\",\"McGill University\",\"University of California, San Diego\",\"University of California, Santa Barbara\",\"Georgia Institute of Technology\",\"Peking University\",\"University of Tokyo\",\"University of California, Davis\",\"University of Hong Kong\",\"University of Texas at Austin\",\"Tsinghua University\",\"Wageningen University and Research Center\",\"Humboldt University of Berlin\",\"University of Wisconsin-Madison\",\"Brown University\",\"Australian National University\",\"Technical University of Munich\",\"\\u00c9cole Normale Sup\\u00e9rieure\",\"Nanyang Technological University\",\"University of Manchester\",\"University of Sydney\",\"University of Amsterdam\",\"Hong Kong University of Science and Technology\",\"The University of Queensland\",\"Washington University in St Louis\",\"Utrecht University\",\"University of North Carolina at Chapel Hill\",\"Boston University\",\"Delft University of Technology\",\"University of Minnesota\",\"Leiden University\",\"University of Southern California\",\"University of Bristol\",\"Durham University\",\"Erasmus University Rotterdam\",\"Free University of Berlin\",\"Monash University\",\"University of Groningen\",\"Pennsylvania State University\",\"University of Glasgow\",\"University of Helsinki\",\"University of T\\u00fcbingen\",\"University of Pittsburgh\",\"University of Warwick\",\"Uppsala University\",\"University of Copenhagen\",\"University of New South Wales\",\"University of Freiburg\",\"Seoul National University\",\"University of St Andrews\",\"Vanderbilt University\",\"Kyoto University\",\"Maastricht University\",\"Emory University\",\"Lund University\",\"Ohio State University\",\"University of Exeter\",\"University of Bonn\",\"Georgetown University\",\"McMaster University\",\"University of Sheffield\",\"Queen Mary University of London\",\"University of G\\u00f6ttingen\",\"Michigan State University\"],\"x\":[\"1\",\"2\",\"3\",\"4\",\"5\",\"6\",\"7\",\"8\",\"9\",\"10\",\"11\",\"12\",\"13\",\"14\",\"15\",\"16\",\"17\",\"18\",\"19\",\"20\",\"21\",\"22\",\"23\",\"24\",\"25\",\"26\",\"27\",\"28\",\"29\",\"30\",\"31\",\"32\",\"33\",\"34\",\"35\",\"36\",\"37\",\"38\",\"=39\",\"=39\",\"41\",\"42\",\"43\",\"=44\",\"=44\",\"46\",\"=47\",\"=47\",\"49\",\"50\",\"51\",\"52\",\"53\",\"54\",\"55\",\"=56\",\"=56\",\"58\",\"59\",\"=60\",\"=60\",\"62\",\"63\",\"64\",\"=65\",\"=65\",\"67\",\"68\",\"69\",\"70\",\"71\",\"72\",\"73\",\"74\",\"75\",\"=76\",\"=76\",\"78\",\"79\",\"80\",\"81\",\"=82\",\"=82\",\"84\",\"85\",\"86\",\"87\",\"=88\",\"=88\",\"=90\",\"=90\",\"=90\",\"93\",\"=94\",\"=94\",\"=94\",\"97\",\"98\",\"=99\",\"=99\"],\"y\":[\"95.2\",\"94.2\",\"93.9\",\"92.8\",\"92.0\",\"91.6\",\"90.1\",\"89.1\",\"88.3\",\"87.9\",\"87.6\",\"87.4\",\"87.2\",\"87.1\",\"86.1\",\"85.8\",\"85.2\",\"84.0\",\"83.9\",\"82.7\",\"82.4\",\"82.3\",\"81.3\",\"80.3\",\"79.5\",\"79.2\",\"78.2\",\"77.5\",\"77.3\",\"77.2\",\"76.1\",\"75.6\",\"75.4\",\"75.3\",\"74.8\",\"74.5\",\"74.4\",\"72.6\",\"72.2\",\"72.2\",\"72.1\",\"72.0\",\"71.1\",\"71.0\",\"71.0\",\"70.3\",\"70.0\",\"70.0\",\"69.9\",\"69.7\",\"69.6\",\"69.5\",\"69.4\",\"69.0\",\"68.2\",\"68.1\",\"68.1\",\"67.8\",\"67.2\",\"67.0\",\"67.0\",\"66.6\",\"66.4\",\"66.1\",\"65.9\",\"65.9\",\"65.7\",\"65.5\",\"64.3\",\"63.6\",\"63.5\",\"63.2\",\"62.5\",\"62.4\",\"62.3\",\"61.9\",\"61.9\",\"61.7\",\"61.5\",\"61.3\",\"61.2\",\"61.0\",\"61.0\",\"60.7\",\"60.5\",\"60.4\",\"60.1\",\"59.9\",\"59.9\",\"59.7\",\"59.7\",\"59.7\",\"59.5\",\"58.8\",\"58.8\",\"58.8\",\"58.6\",\"58.5\",\"58.0\",\"58.0\"],\"type\":\"scatter\"}],                        {\"template\":{\"data\":{\"barpolar\":[{\"marker\":{\"line\":{\"color\":\"#E5ECF6\",\"width\":0.5},\"pattern\":{\"fillmode\":\"overlay\",\"size\":10,\"solidity\":0.2}},\"type\":\"barpolar\"}],\"bar\":[{\"error_x\":{\"color\":\"#2a3f5f\"},\"error_y\":{\"color\":\"#2a3f5f\"},\"marker\":{\"line\":{\"color\":\"#E5ECF6\",\"width\":0.5},\"pattern\":{\"fillmode\":\"overlay\",\"size\":10,\"solidity\":0.2}},\"type\":\"bar\"}],\"carpet\":[{\"aaxis\":{\"endlinecolor\":\"#2a3f5f\",\"gridcolor\":\"white\",\"linecolor\":\"white\",\"minorgridcolor\":\"white\",\"startlinecolor\":\"#2a3f5f\"},\"baxis\":{\"endlinecolor\":\"#2a3f5f\",\"gridcolor\":\"white\",\"linecolor\":\"white\",\"minorgridcolor\":\"white\",\"startlinecolor\":\"#2a3f5f\"},\"type\":\"carpet\"}],\"choropleth\":[{\"colorbar\":{\"outlinewidth\":0,\"ticks\":\"\"},\"type\":\"choropleth\"}],\"contourcarpet\":[{\"colorbar\":{\"outlinewidth\":0,\"ticks\":\"\"},\"type\":\"contourcarpet\"}],\"contour\":[{\"colorbar\":{\"outlinewidth\":0,\"ticks\":\"\"},\"colorscale\":[[0.0,\"#0d0887\"],[0.1111111111111111,\"#46039f\"],[0.2222222222222222,\"#7201a8\"],[0.3333333333333333,\"#9c179e\"],[0.4444444444444444,\"#bd3786\"],[0.5555555555555556,\"#d8576b\"],[0.6666666666666666,\"#ed7953\"],[0.7777777777777778,\"#fb9f3a\"],[0.8888888888888888,\"#fdca26\"],[1.0,\"#f0f921\"]],\"type\":\"contour\"}],\"heatmapgl\":[{\"colorbar\":{\"outlinewidth\":0,\"ticks\":\"\"},\"colorscale\":[[0.0,\"#0d0887\"],[0.1111111111111111,\"#46039f\"],[0.2222222222222222,\"#7201a8\"],[0.3333333333333333,\"#9c179e\"],[0.4444444444444444,\"#bd3786\"],[0.5555555555555556,\"#d8576b\"],[0.6666666666666666,\"#ed7953\"],[0.7777777777777778,\"#fb9f3a\"],[0.8888888888888888,\"#fdca26\"],[1.0,\"#f0f921\"]],\"type\":\"heatmapgl\"}],\"heatmap\":[{\"colorbar\":{\"outlinewidth\":0,\"ticks\":\"\"},\"colorscale\":[[0.0,\"#0d0887\"],[0.1111111111111111,\"#46039f\"],[0.2222222222222222,\"#7201a8\"],[0.3333333333333333,\"#9c179e\"],[0.4444444444444444,\"#bd3786\"],[0.5555555555555556,\"#d8576b\"],[0.6666666666666666,\"#ed7953\"],[0.7777777777777778,\"#fb9f3a\"],[0.8888888888888888,\"#fdca26\"],[1.0,\"#f0f921\"]],\"type\":\"heatmap\"}],\"histogram2dcontour\":[{\"colorbar\":{\"outlinewidth\":0,\"ticks\":\"\"},\"colorscale\":[[0.0,\"#0d0887\"],[0.1111111111111111,\"#46039f\"],[0.2222222222222222,\"#7201a8\"],[0.3333333333333333,\"#9c179e\"],[0.4444444444444444,\"#bd3786\"],[0.5555555555555556,\"#d8576b\"],[0.6666666666666666,\"#ed7953\"],[0.7777777777777778,\"#fb9f3a\"],[0.8888888888888888,\"#fdca26\"],[1.0,\"#f0f921\"]],\"type\":\"histogram2dcontour\"}],\"histogram2d\":[{\"colorbar\":{\"outlinewidth\":0,\"ticks\":\"\"},\"colorscale\":[[0.0,\"#0d0887\"],[0.1111111111111111,\"#46039f\"],[0.2222222222222222,\"#7201a8\"],[0.3333333333333333,\"#9c179e\"],[0.4444444444444444,\"#bd3786\"],[0.5555555555555556,\"#d8576b\"],[0.6666666666666666,\"#ed7953\"],[0.7777777777777778,\"#fb9f3a\"],[0.8888888888888888,\"#fdca26\"],[1.0,\"#f0f921\"]],\"type\":\"histogram2d\"}],\"histogram\":[{\"marker\":{\"pattern\":{\"fillmode\":\"overlay\",\"size\":10,\"solidity\":0.2}},\"type\":\"histogram\"}],\"mesh3d\":[{\"colorbar\":{\"outlinewidth\":0,\"ticks\":\"\"},\"type\":\"mesh3d\"}],\"parcoords\":[{\"line\":{\"colorbar\":{\"outlinewidth\":0,\"ticks\":\"\"}},\"type\":\"parcoords\"}],\"pie\":[{\"automargin\":true,\"type\":\"pie\"}],\"scatter3d\":[{\"line\":{\"colorbar\":{\"outlinewidth\":0,\"ticks\":\"\"}},\"marker\":{\"colorbar\":{\"outlinewidth\":0,\"ticks\":\"\"}},\"type\":\"scatter3d\"}],\"scattercarpet\":[{\"marker\":{\"colorbar\":{\"outlinewidth\":0,\"ticks\":\"\"}},\"type\":\"scattercarpet\"}],\"scattergeo\":[{\"marker\":{\"colorbar\":{\"outlinewidth\":0,\"ticks\":\"\"}},\"type\":\"scattergeo\"}],\"scattergl\":[{\"marker\":{\"colorbar\":{\"outlinewidth\":0,\"ticks\":\"\"}},\"type\":\"scattergl\"}],\"scattermapbox\":[{\"marker\":{\"colorbar\":{\"outlinewidth\":0,\"ticks\":\"\"}},\"type\":\"scattermapbox\"}],\"scatterpolargl\":[{\"marker\":{\"colorbar\":{\"outlinewidth\":0,\"ticks\":\"\"}},\"type\":\"scatterpolargl\"}],\"scatterpolar\":[{\"marker\":{\"colorbar\":{\"outlinewidth\":0,\"ticks\":\"\"}},\"type\":\"scatterpolar\"}],\"scatter\":[{\"fillpattern\":{\"fillmode\":\"overlay\",\"size\":10,\"solidity\":0.2},\"type\":\"scatter\"}],\"scatterternary\":[{\"marker\":{\"colorbar\":{\"outlinewidth\":0,\"ticks\":\"\"}},\"type\":\"scatterternary\"}],\"surface\":[{\"colorbar\":{\"outlinewidth\":0,\"ticks\":\"\"},\"colorscale\":[[0.0,\"#0d0887\"],[0.1111111111111111,\"#46039f\"],[0.2222222222222222,\"#7201a8\"],[0.3333333333333333,\"#9c179e\"],[0.4444444444444444,\"#bd3786\"],[0.5555555555555556,\"#d8576b\"],[0.6666666666666666,\"#ed7953\"],[0.7777777777777778,\"#fb9f3a\"],[0.8888888888888888,\"#fdca26\"],[1.0,\"#f0f921\"]],\"type\":\"surface\"}],\"table\":[{\"cells\":{\"fill\":{\"color\":\"#EBF0F8\"},\"line\":{\"color\":\"white\"}},\"header\":{\"fill\":{\"color\":\"#C8D4E3\"},\"line\":{\"color\":\"white\"}},\"type\":\"table\"}]},\"layout\":{\"annotationdefaults\":{\"arrowcolor\":\"#2a3f5f\",\"arrowhead\":0,\"arrowwidth\":1},\"autotypenumbers\":\"strict\",\"coloraxis\":{\"colorbar\":{\"outlinewidth\":0,\"ticks\":\"\"}},\"colorscale\":{\"diverging\":[[0,\"#8e0152\"],[0.1,\"#c51b7d\"],[0.2,\"#de77ae\"],[0.3,\"#f1b6da\"],[0.4,\"#fde0ef\"],[0.5,\"#f7f7f7\"],[0.6,\"#e6f5d0\"],[0.7,\"#b8e186\"],[0.8,\"#7fbc41\"],[0.9,\"#4d9221\"],[1,\"#276419\"]],\"sequential\":[[0.0,\"#0d0887\"],[0.1111111111111111,\"#46039f\"],[0.2222222222222222,\"#7201a8\"],[0.3333333333333333,\"#9c179e\"],[0.4444444444444444,\"#bd3786\"],[0.5555555555555556,\"#d8576b\"],[0.6666666666666666,\"#ed7953\"],[0.7777777777777778,\"#fb9f3a\"],[0.8888888888888888,\"#fdca26\"],[1.0,\"#f0f921\"]],\"sequentialminus\":[[0.0,\"#0d0887\"],[0.1111111111111111,\"#46039f\"],[0.2222222222222222,\"#7201a8\"],[0.3333333333333333,\"#9c179e\"],[0.4444444444444444,\"#bd3786\"],[0.5555555555555556,\"#d8576b\"],[0.6666666666666666,\"#ed7953\"],[0.7777777777777778,\"#fb9f3a\"],[0.8888888888888888,\"#fdca26\"],[1.0,\"#f0f921\"]]},\"colorway\":[\"#636efa\",\"#EF553B\",\"#00cc96\",\"#ab63fa\",\"#FFA15A\",\"#19d3f3\",\"#FF6692\",\"#B6E880\",\"#FF97FF\",\"#FECB52\"],\"font\":{\"color\":\"#2a3f5f\"},\"geo\":{\"bgcolor\":\"white\",\"lakecolor\":\"white\",\"landcolor\":\"#E5ECF6\",\"showlakes\":true,\"showland\":true,\"subunitcolor\":\"white\"},\"hoverlabel\":{\"align\":\"left\"},\"hovermode\":\"closest\",\"mapbox\":{\"style\":\"light\"},\"paper_bgcolor\":\"white\",\"plot_bgcolor\":\"#E5ECF6\",\"polar\":{\"angularaxis\":{\"gridcolor\":\"white\",\"linecolor\":\"white\",\"ticks\":\"\"},\"bgcolor\":\"#E5ECF6\",\"radialaxis\":{\"gridcolor\":\"white\",\"linecolor\":\"white\",\"ticks\":\"\"}},\"scene\":{\"xaxis\":{\"backgroundcolor\":\"#E5ECF6\",\"gridcolor\":\"white\",\"gridwidth\":2,\"linecolor\":\"white\",\"showbackground\":true,\"ticks\":\"\",\"zerolinecolor\":\"white\"},\"yaxis\":{\"backgroundcolor\":\"#E5ECF6\",\"gridcolor\":\"white\",\"gridwidth\":2,\"linecolor\":\"white\",\"showbackground\":true,\"ticks\":\"\",\"zerolinecolor\":\"white\"},\"zaxis\":{\"backgroundcolor\":\"#E5ECF6\",\"gridcolor\":\"white\",\"gridwidth\":2,\"linecolor\":\"white\",\"showbackground\":true,\"ticks\":\"\",\"zerolinecolor\":\"white\"}},\"shapedefaults\":{\"line\":{\"color\":\"#2a3f5f\"}},\"ternary\":{\"aaxis\":{\"gridcolor\":\"white\",\"linecolor\":\"white\",\"ticks\":\"\"},\"baxis\":{\"gridcolor\":\"white\",\"linecolor\":\"white\",\"ticks\":\"\"},\"bgcolor\":\"#E5ECF6\",\"caxis\":{\"gridcolor\":\"white\",\"linecolor\":\"white\",\"ticks\":\"\"}},\"title\":{\"x\":0.05},\"xaxis\":{\"automargin\":true,\"gridcolor\":\"white\",\"linecolor\":\"white\",\"ticks\":\"\",\"title\":{\"standoff\":15},\"zerolinecolor\":\"white\",\"zerolinewidth\":2},\"yaxis\":{\"automargin\":true,\"gridcolor\":\"white\",\"linecolor\":\"white\",\"ticks\":\"\",\"title\":{\"standoff\":15},\"zerolinecolor\":\"white\",\"zerolinewidth\":2}}},\"title\":{\"text\":\"Total score vs world rank of top 100 universities with 2014, 2015 and 2016 years\"},\"xaxis\":{\"ticklen\":5,\"title\":{\"text\":\"World Rank\"},\"zeroline\":false},\"yaxis\":{\"ticklen\":5,\"title\":{\"text\":\"Total Score\"},\"zeroline\":false}},                        {\"responsive\": true}                    ).then(function(){\n",
              "                            \n",
              "var gd = document.getElementById('6fb74ab2-40bf-4141-8756-55545fd8ab88');\n",
              "var x = new MutationObserver(function (mutations, observer) {{\n",
              "        var display = window.getComputedStyle(gd).display;\n",
              "        if (!display || display === 'none') {{\n",
              "            console.log([gd, 'removed!']);\n",
              "            Plotly.purge(gd);\n",
              "            observer.disconnect();\n",
              "        }}\n",
              "}});\n",
              "\n",
              "// Listen for the removal of the full notebook cells\n",
              "var notebookContainer = gd.closest('#notebook-container');\n",
              "if (notebookContainer) {{\n",
              "    x.observe(notebookContainer, {childList: true});\n",
              "}}\n",
              "\n",
              "// Listen for the clearing of the current output cell\n",
              "var outputEl = gd.closest('.output');\n",
              "if (outputEl) {{\n",
              "    x.observe(outputEl, {childList: true});\n",
              "}}\n",
              "\n",
              "                        })                };                            </script>        </div>\n",
              "</body>\n",
              "</html>"
            ]
          },
          "metadata": {}
        }
      ]
    },
    {
      "cell_type": "markdown",
      "source": [
        "3D scatter plot"
      ],
      "metadata": {
        "id": "Nn2kj9FdERu5"
      }
    },
    {
      "cell_type": "code",
      "source": [
        "import pandas as pd\n",
        "import numpy as np\n",
        "import matplotlib.pyplot as plt\n",
        "from plotly.offline import iplot\n",
        "import plotly.graph_objs as go"
      ],
      "metadata": {
        "id": "-6WXqbnhED90"
      },
      "execution_count": 58,
      "outputs": []
    },
    {
      "cell_type": "code",
      "source": [
        "timesData = pd.read_csv(\"/content/drive/MyDrive/1csv/timesData.csv\")\n",
        "timesData.head()"
      ],
      "metadata": {
        "colab": {
          "base_uri": "https://localhost:8080/",
          "height": 206
        },
        "id": "mF4_aNW0EV3z",
        "outputId": "3ef91c8e-d9a2-4b24-cdc9-ee9da7b5fa2e"
      },
      "execution_count": 59,
      "outputs": [
        {
          "output_type": "execute_result",
          "data": {
            "text/plain": [
              "  world_rank                        university_name                   country  \\\n",
              "0          1                     Harvard University  United States of America   \n",
              "1          2     California Institute of Technology  United States of America   \n",
              "2          3  Massachusetts Institute of Technology  United States of America   \n",
              "3          4                    Stanford University  United States of America   \n",
              "4          5                   Princeton University  United States of America   \n",
              "\n",
              "   teaching international  research  citations income total_score  \\\n",
              "0      99.7          72.4      98.7       98.8   34.5        96.1   \n",
              "1      97.7          54.6      98.0       99.9   83.7        96.0   \n",
              "2      97.8          82.3      91.4       99.9   87.5        95.6   \n",
              "3      98.3          29.5      98.1       99.2   64.3        94.3   \n",
              "4      90.9          70.3      95.4       99.9      -        94.2   \n",
              "\n",
              "  num_students  student_staff_ratio international_students female_male_ratio  \\\n",
              "0       20,152                  8.9                    25%               NaN   \n",
              "1        2,243                  6.9                    27%           33 : 67   \n",
              "2       11,074                  9.0                    33%           37 : 63   \n",
              "3       15,596                  7.8                    22%           42 : 58   \n",
              "4        7,929                  8.4                    27%           45 : 55   \n",
              "\n",
              "   year  \n",
              "0  2011  \n",
              "1  2011  \n",
              "2  2011  \n",
              "3  2011  \n",
              "4  2011  "
            ],
            "text/html": [
              "\n",
              "  <div id=\"df-6275b6b0-17b8-43bd-ab60-2eed046cd43f\">\n",
              "    <div class=\"colab-df-container\">\n",
              "      <div>\n",
              "<style scoped>\n",
              "    .dataframe tbody tr th:only-of-type {\n",
              "        vertical-align: middle;\n",
              "    }\n",
              "\n",
              "    .dataframe tbody tr th {\n",
              "        vertical-align: top;\n",
              "    }\n",
              "\n",
              "    .dataframe thead th {\n",
              "        text-align: right;\n",
              "    }\n",
              "</style>\n",
              "<table border=\"1\" class=\"dataframe\">\n",
              "  <thead>\n",
              "    <tr style=\"text-align: right;\">\n",
              "      <th></th>\n",
              "      <th>world_rank</th>\n",
              "      <th>university_name</th>\n",
              "      <th>country</th>\n",
              "      <th>teaching</th>\n",
              "      <th>international</th>\n",
              "      <th>research</th>\n",
              "      <th>citations</th>\n",
              "      <th>income</th>\n",
              "      <th>total_score</th>\n",
              "      <th>num_students</th>\n",
              "      <th>student_staff_ratio</th>\n",
              "      <th>international_students</th>\n",
              "      <th>female_male_ratio</th>\n",
              "      <th>year</th>\n",
              "    </tr>\n",
              "  </thead>\n",
              "  <tbody>\n",
              "    <tr>\n",
              "      <th>0</th>\n",
              "      <td>1</td>\n",
              "      <td>Harvard University</td>\n",
              "      <td>United States of America</td>\n",
              "      <td>99.7</td>\n",
              "      <td>72.4</td>\n",
              "      <td>98.7</td>\n",
              "      <td>98.8</td>\n",
              "      <td>34.5</td>\n",
              "      <td>96.1</td>\n",
              "      <td>20,152</td>\n",
              "      <td>8.9</td>\n",
              "      <td>25%</td>\n",
              "      <td>NaN</td>\n",
              "      <td>2011</td>\n",
              "    </tr>\n",
              "    <tr>\n",
              "      <th>1</th>\n",
              "      <td>2</td>\n",
              "      <td>California Institute of Technology</td>\n",
              "      <td>United States of America</td>\n",
              "      <td>97.7</td>\n",
              "      <td>54.6</td>\n",
              "      <td>98.0</td>\n",
              "      <td>99.9</td>\n",
              "      <td>83.7</td>\n",
              "      <td>96.0</td>\n",
              "      <td>2,243</td>\n",
              "      <td>6.9</td>\n",
              "      <td>27%</td>\n",
              "      <td>33 : 67</td>\n",
              "      <td>2011</td>\n",
              "    </tr>\n",
              "    <tr>\n",
              "      <th>2</th>\n",
              "      <td>3</td>\n",
              "      <td>Massachusetts Institute of Technology</td>\n",
              "      <td>United States of America</td>\n",
              "      <td>97.8</td>\n",
              "      <td>82.3</td>\n",
              "      <td>91.4</td>\n",
              "      <td>99.9</td>\n",
              "      <td>87.5</td>\n",
              "      <td>95.6</td>\n",
              "      <td>11,074</td>\n",
              "      <td>9.0</td>\n",
              "      <td>33%</td>\n",
              "      <td>37 : 63</td>\n",
              "      <td>2011</td>\n",
              "    </tr>\n",
              "    <tr>\n",
              "      <th>3</th>\n",
              "      <td>4</td>\n",
              "      <td>Stanford University</td>\n",
              "      <td>United States of America</td>\n",
              "      <td>98.3</td>\n",
              "      <td>29.5</td>\n",
              "      <td>98.1</td>\n",
              "      <td>99.2</td>\n",
              "      <td>64.3</td>\n",
              "      <td>94.3</td>\n",
              "      <td>15,596</td>\n",
              "      <td>7.8</td>\n",
              "      <td>22%</td>\n",
              "      <td>42 : 58</td>\n",
              "      <td>2011</td>\n",
              "    </tr>\n",
              "    <tr>\n",
              "      <th>4</th>\n",
              "      <td>5</td>\n",
              "      <td>Princeton University</td>\n",
              "      <td>United States of America</td>\n",
              "      <td>90.9</td>\n",
              "      <td>70.3</td>\n",
              "      <td>95.4</td>\n",
              "      <td>99.9</td>\n",
              "      <td>-</td>\n",
              "      <td>94.2</td>\n",
              "      <td>7,929</td>\n",
              "      <td>8.4</td>\n",
              "      <td>27%</td>\n",
              "      <td>45 : 55</td>\n",
              "      <td>2011</td>\n",
              "    </tr>\n",
              "  </tbody>\n",
              "</table>\n",
              "</div>\n",
              "      <button class=\"colab-df-convert\" onclick=\"convertToInteractive('df-6275b6b0-17b8-43bd-ab60-2eed046cd43f')\"\n",
              "              title=\"Convert this dataframe to an interactive table.\"\n",
              "              style=\"display:none;\">\n",
              "        \n",
              "  <svg xmlns=\"http://www.w3.org/2000/svg\" height=\"24px\"viewBox=\"0 0 24 24\"\n",
              "       width=\"24px\">\n",
              "    <path d=\"M0 0h24v24H0V0z\" fill=\"none\"/>\n",
              "    <path d=\"M18.56 5.44l.94 2.06.94-2.06 2.06-.94-2.06-.94-.94-2.06-.94 2.06-2.06.94zm-11 1L8.5 8.5l.94-2.06 2.06-.94-2.06-.94L8.5 2.5l-.94 2.06-2.06.94zm10 10l.94 2.06.94-2.06 2.06-.94-2.06-.94-.94-2.06-.94 2.06-2.06.94z\"/><path d=\"M17.41 7.96l-1.37-1.37c-.4-.4-.92-.59-1.43-.59-.52 0-1.04.2-1.43.59L10.3 9.45l-7.72 7.72c-.78.78-.78 2.05 0 2.83L4 21.41c.39.39.9.59 1.41.59.51 0 1.02-.2 1.41-.59l7.78-7.78 2.81-2.81c.8-.78.8-2.07 0-2.86zM5.41 20L4 18.59l7.72-7.72 1.47 1.35L5.41 20z\"/>\n",
              "  </svg>\n",
              "      </button>\n",
              "      \n",
              "  <style>\n",
              "    .colab-df-container {\n",
              "      display:flex;\n",
              "      flex-wrap:wrap;\n",
              "      gap: 12px;\n",
              "    }\n",
              "\n",
              "    .colab-df-convert {\n",
              "      background-color: #E8F0FE;\n",
              "      border: none;\n",
              "      border-radius: 50%;\n",
              "      cursor: pointer;\n",
              "      display: none;\n",
              "      fill: #1967D2;\n",
              "      height: 32px;\n",
              "      padding: 0 0 0 0;\n",
              "      width: 32px;\n",
              "    }\n",
              "\n",
              "    .colab-df-convert:hover {\n",
              "      background-color: #E2EBFA;\n",
              "      box-shadow: 0px 1px 2px rgba(60, 64, 67, 0.3), 0px 1px 3px 1px rgba(60, 64, 67, 0.15);\n",
              "      fill: #174EA6;\n",
              "    }\n",
              "\n",
              "    [theme=dark] .colab-df-convert {\n",
              "      background-color: #3B4455;\n",
              "      fill: #D2E3FC;\n",
              "    }\n",
              "\n",
              "    [theme=dark] .colab-df-convert:hover {\n",
              "      background-color: #434B5C;\n",
              "      box-shadow: 0px 1px 3px 1px rgba(0, 0, 0, 0.15);\n",
              "      filter: drop-shadow(0px 1px 2px rgba(0, 0, 0, 0.3));\n",
              "      fill: #FFFFFF;\n",
              "    }\n",
              "  </style>\n",
              "\n",
              "      <script>\n",
              "        const buttonEl =\n",
              "          document.querySelector('#df-6275b6b0-17b8-43bd-ab60-2eed046cd43f button.colab-df-convert');\n",
              "        buttonEl.style.display =\n",
              "          google.colab.kernel.accessAllowed ? 'block' : 'none';\n",
              "\n",
              "        async function convertToInteractive(key) {\n",
              "          const element = document.querySelector('#df-6275b6b0-17b8-43bd-ab60-2eed046cd43f');\n",
              "          const dataTable =\n",
              "            await google.colab.kernel.invokeFunction('convertToInteractive',\n",
              "                                                     [key], {});\n",
              "          if (!dataTable) return;\n",
              "\n",
              "          const docLinkHtml = 'Like what you see? Visit the ' +\n",
              "            '<a target=\"_blank\" href=https://colab.research.google.com/notebooks/data_table.ipynb>data table notebook</a>'\n",
              "            + ' to learn more about interactive tables.';\n",
              "          element.innerHTML = '';\n",
              "          dataTable['output_type'] = 'display_data';\n",
              "          await google.colab.output.renderOutput(dataTable, element);\n",
              "          const docLink = document.createElement('div');\n",
              "          docLink.innerHTML = docLinkHtml;\n",
              "          element.appendChild(docLink);\n",
              "        }\n",
              "      </script>\n",
              "    </div>\n",
              "  </div>\n",
              "  "
            ]
          },
          "metadata": {},
          "execution_count": 59
        }
      ]
    },
    {
      "cell_type": "code",
      "source": [
        "dataframe = timesData[timesData.year == 2015]"
      ],
      "metadata": {
        "id": "Xt9nb26jEbN1"
      },
      "execution_count": 60,
      "outputs": []
    },
    {
      "cell_type": "code",
      "source": [
        "trace1 = go.Scatter3d(\n",
        "    x=dataframe.world_rank,  #dünya sıralaması \n",
        "    y=dataframe.research,    #research skoru\n",
        "    z=dataframe.citations,   #citations skoru \n",
        "    mode='markers',          #marker =nokta demektir\n",
        "    marker=dict(\n",
        "        size=dataframe.teaching, #size eklenerek 4 boyutlu yapılır\n",
        "        color='rgb(255,0,0)',    #renk \n",
        "    )\n",
        ")\n",
        "\n",
        "data = [trace1]  #trace1 listenin içerisine koyulur\n",
        "\n",
        "layout = go.Layout(\n",
        "    margin=dict(  #kenarlardan bırakılan boşluktur.\n",
        "        l=0,\n",
        "        r=0,\n",
        "        b=0,\n",
        "        t=0       #hepsi 0 verildiği için kenarlardan boşluk bırakılmaz\n",
        "    )\n",
        "    \n",
        ")\n",
        "fig = go.Figure(data=data, layout=layout)  \n",
        "\n",
        "iplot(fig) "
      ],
      "metadata": {
        "colab": {
          "base_uri": "https://localhost:8080/",
          "height": 0
        },
        "id": "iFy3sMUEEeu5",
        "outputId": "cceb8c93-2848-4de7-80aa-531b907ab91f"
      },
      "execution_count": 61,
      "outputs": [
        {
          "output_type": "display_data",
          "data": {
            "text/html": [
              "<html>\n",
              "<head><meta charset=\"utf-8\" /></head>\n",
              "<body>\n",
              "    <div>            <script src=\"https://cdnjs.cloudflare.com/ajax/libs/mathjax/2.7.5/MathJax.js?config=TeX-AMS-MML_SVG\"></script><script type=\"text/javascript\">if (window.MathJax && window.MathJax.Hub && window.MathJax.Hub.Config) {window.MathJax.Hub.Config({SVG: {font: \"STIX-Web\"}});}</script>                <script type=\"text/javascript\">window.PlotlyConfig = {MathJaxConfig: 'local'};</script>\n",
              "        <script src=\"https://cdn.plot.ly/plotly-2.8.3.min.js\"></script>                <div id=\"b6fed3ff-a3a3-4bba-908a-5cc1e386b89e\" class=\"plotly-graph-div\" style=\"height:525px; width:100%;\"></div>            <script type=\"text/javascript\">                                    window.PLOTLYENV=window.PLOTLYENV || {};                                    if (document.getElementById(\"b6fed3ff-a3a3-4bba-908a-5cc1e386b89e\")) {                    Plotly.newPlot(                        \"b6fed3ff-a3a3-4bba-908a-5cc1e386b89e\",                        [{\"marker\":{\"color\":\"rgb(255,0,0)\",\"size\":[92.2,92.9,88.6,91.5,89.7,89.1,86.6,84.2,84.6,88.5,83.9,82.4,78.2,83.9,75.6,79.0,77.0,73.5,71.6,74.4,72.7,70.4,81.4,61.6,72.0,64.5,62.5,64.3,65.1,67.7,67.7,60.5,60.4,65.4,54.7,58.9,49.4,68.3,63.3,55.6,52.0,57.6,62.1,57.1,53.7,59.9,57.9,70.0,64.1,75.5,51.8,63.5,58.1,55.5,53.0,54.4,56.4,54.6,70.4,52.8,43.9,50.5,48.2,45.0,45.8,52.7,46.9,54.0,41.7,52.6,55.5,39.8,44.3,43.7,41.2,55.2,42.0,48.7,38.2,51.9,49.4,51.1,37.2,43.7,45.5,44.9,43.3,43.6,39.5,42.5,44.8,45.2,49.0,38.1,37.0,46.0,35.0,30.1,45.6,40.2,32.4,47.8,47.3,37.5,41.1,40.2,32.4,34.5,30.6,41.1,35.7,31.9,43.8,41.5,32.2,46.5,36.9,29.1,32.6,37.3,39.9,41.9,40.0,43.8,26.8,32.4,45.7,49.8,43.9,48.7,35.4,42.0,36.5,35.2,39.8,29.4,35.5,39.4,28.5,30.5,26.1,46.2,53.5,38.3,40.5,39.4,25.8,48.1,42.8,46.5,29.4,38.3,30.9,32.0,48.8,39.0,51.3,31.3,36.3,34.0,38.1,38.8,38.0,33.8,30.2,40.5,25.1,49.7,42.7,34.6,39.9,37.9,51.1,21.6,28.6,41.9,32.4,38.0,28.0,25.6,29.0,35.7,26.0,35.2,36.4,36.1,45.2,32.8,43.5,37.9,40.1,31.0,45.6,36.4,32.2,55.9,23.1,25.2,29.8,19.7,44.6,28.0,30.5,28.1,41.5,33.7,48.9,30.3,36.9,35.0,28.4,29.5,24.4,43.0,23.9,32.8,36.9,28.6,51.6,26.0,28.7,32.3,26.7,33.3,36.8,44.5,30.4,28.3,22.1,24.3,33.6,35.8,39.6,37.5,30.9,24.6,25.7,42.2,19.6,31.7,34.4,24.1,31.1,30.5,27.1,27.8,38.3,28.6,43.3,27.5,31.8,13.0,28.6,34.6,39.4,26.7,37.3,30.1,27.9,36.9,33.9,35.1,14.9,30.6,29.6,26.5,27.1,26.3,32.3,27.7,17.3,22.3,26.8,29.4,30.9,35.7,27.6,32.6,25.2,23.7,35.0,33.5,23.7,18.4,29.9,37.9,30.0,33.0,42.7,26.7,31.0,32.0,28.4,29.2,39.7,17.1,25.3,31.0,25.7,34.5,25.2,21.6,40.1,28.6,22.4,20.3,31.5,40.7,20.1,31.8,21.2,40.2,27.0,21.6,24.0,24.6,27.8,27.6,34.9,19.7,32.3,28.7,43.4,32.5,40.7,29.2,21.1,25.6,37.6,19.0,21.9,31.6,39.3,27.6,30.6,31.6,16.3,29.1,36.4,32.6,20.7,22.4,19.5,21.5,30.6,22.9,33.4,17.9,20.8,32.0,36.0,23.8,20.7,19.4,21.3,27.5,19.1,20.1,23.5,26.3,31.5,38.4,34.2,25.2,20.7,16.7,36.5,25.4,20.2,21.2,31.8,26.4,27.7,24.7,31.5,20.2,20.7,21.2,29.1,24.3,19.5,18.1,23.7,16.2,30.1,25.9,20.2,31.7,29.5,16.1,19.3,21.0,24.3,26.8,18.6,31.2,25.5,28.5,17.8,34.1,16.2]},\"mode\":\"markers\",\"x\":[\"1\",\"2\",\"3\",\"4\",\"5\",\"6\",\"7\",\"8\",\"9\",\"9\",\"11\",\"12\",\"13\",\"14\",\"15\",\"16\",\"17\",\"18\",\"19\",\"20\",\"21\",\"22\",\"23\",\"24\",\"25\",\"26\",\"27\",\"28\",\"29\",\"29\",\"29\",\"32\",\"33\",\"34\",\"34\",\"36\",\"37\",\"38\",\"39\",\"40\",\"41\",\"42\",\"43\",\"44\",\"45\",\"46\",\"46\",\"48\",\"49\",\"50\",\"51\",\"52\",\"52\",\"54\",\"55\",\"55\",\"57\",\"58\",\"59\",\"60\",\"61\",\"61\",\"63\",\"64\",\"65\",\"66\",\"67\",\"68\",\"69\",\"70\",\"71\",\"72\",\"73\",\"74\",\"75\",\"75\",\"77\",\"78\",\"79\",\"80\",\"81\",\"82\",\"83\",\"83\",\"85\",\"86\",\"86\",\"88\",\"88\",\"90\",\"91\",\"91\",\"93\",\"94\",\"94\",\"96\",\"97\",\"98\",\"98\",\"98\",\"101\",\"102\",\"103\",\"103\",\"103\",\"103\",\"107\",\"107\",\"109\",\"109\",\"111\",\"111\",\"113\",\"113\",\"113\",\"116\",\"117\",\"118\",\"119\",\"120\",\"121\",\"121\",\"121\",\"124\",\"124\",\"126\",\"126\",\"126\",\"129\",\"130\",\"131\",\"132\",\"132\",\"132\",\"135\",\"136\",\"136\",\"138\",\"139\",\"140\",\"141\",\"141\",\"141\",\"144\",\"144\",\"146\",\"147\",\"148\",\"148\",\"150\",\"150\",\"152\",\"153\",\"154\",\"155\",\"156\",\"157\",\"157\",\"157\",\"160\",\"160\",\"162\",\"163\",\"164\",\"165\",\"165\",\"165\",\"165\",\"169\",\"170\",\"171\",\"171\",\"173\",\"173\",\"175\",\"175\",\"177\",\"178\",\"178\",\"180\",\"180\",\"182\",\"182\",\"182\",\"185\",\"186\",\"186\",\"188\",\"188\",\"188\",\"191\",\"192\",\"193\",\"193\",\"195\",\"196\",\"196\",\"198\",\"199\",\"200\",\"200\",\"201-225\",\"201-225\",\"201-225\",\"201-225\",\"201-225\",\"201-225\",\"201-225\",\"201-225\",\"201-225\",\"201-225\",\"201-225\",\"201-225\",\"201-225\",\"201-225\",\"201-225\",\"201-225\",\"201-225\",\"201-225\",\"201-225\",\"201-225\",\"201-225\",\"201-225\",\"201-225\",\"201-225\",\"201-225\",\"226-250\",\"226-250\",\"226-250\",\"226-250\",\"226-250\",\"226-250\",\"226-250\",\"226-250\",\"226-250\",\"226-250\",\"226-250\",\"226-250\",\"226-250\",\"226-250\",\"226-250\",\"226-250\",\"226-250\",\"226-250\",\"226-250\",\"226-250\",\"226-250\",\"226-250\",\"226-250\",\"226-250\",\"251-275\",\"251-275\",\"251-275\",\"251-275\",\"251-275\",\"251-275\",\"251-275\",\"251-275\",\"251-275\",\"251-275\",\"251-275\",\"251-275\",\"251-275\",\"251-275\",\"251-275\",\"251-275\",\"251-275\",\"251-275\",\"251-275\",\"251-275\",\"251-275\",\"251-275\",\"251-275\",\"251-275\",\"251-275\",\"276-300\",\"276-300\",\"276-300\",\"276-300\",\"276-300\",\"276-300\",\"276-300\",\"276-300\",\"276-300\",\"276-300\",\"276-300\",\"276-300\",\"276-300\",\"276-300\",\"276-300\",\"276-300\",\"276-300\",\"276-300\",\"276-300\",\"276-300\",\"276-300\",\"276-300\",\"276-300\",\"276-300\",\"276-300\",\"276-300\",\"276-300\",\"276-300\",\"301-350\",\"301-350\",\"301-350\",\"301-350\",\"301-350\",\"301-350\",\"301-350\",\"301-350\",\"301-350\",\"301-350\",\"301-350\",\"301-350\",\"301-350\",\"301-350\",\"301-350\",\"301-350\",\"301-350\",\"301-350\",\"301-350\",\"301-350\",\"301-350\",\"301-350\",\"301-350\",\"301-350\",\"301-350\",\"301-350\",\"301-350\",\"301-350\",\"301-350\",\"301-350\",\"301-350\",\"301-350\",\"301-350\",\"301-350\",\"301-350\",\"301-350\",\"301-350\",\"301-350\",\"301-350\",\"301-350\",\"301-350\",\"301-350\",\"301-350\",\"301-350\",\"301-350\",\"301-350\",\"301-350\",\"301-350\",\"351-400\",\"351-400\",\"351-400\",\"351-400\",\"351-400\",\"351-400\",\"351-400\",\"351-400\",\"351-400\",\"351-400\",\"351-400\",\"351-400\",\"351-400\",\"351-400\",\"351-400\",\"351-400\",\"351-400\",\"351-400\",\"351-400\",\"351-400\",\"351-400\",\"351-400\",\"351-400\",\"351-400\",\"351-400\",\"351-400\",\"351-400\",\"351-400\",\"351-400\",\"351-400\",\"351-400\",\"351-400\",\"351-400\",\"351-400\",\"351-400\",\"351-400\",\"351-400\",\"351-400\",\"351-400\",\"351-400\",\"351-400\",\"351-400\",\"351-400\",\"351-400\",\"351-400\",\"351-400\",\"351-400\",\"351-400\",\"351-400\",\"351-400\"],\"y\":[98.1,98.6,97.7,96.7,95.6,88.2,94.7,96.7,88.3,90.8,89.9,90.5,90.2,79.4,84.2,82.0,86.5,75.2,83.8,85.1,78.9,80.4,85.1,74.9,78.1,68.9,71.2,72.0,69.1,79.0,71.3,69.0,70.9,74.2,56.9,62.9,61.4,62.4,69.9,62.3,66.6,55.2,72.6,68.0,70.9,64.7,58.6,61.9,68.3,77.1,66.8,63.2,58.7,54.2,63.6,59.7,46.7,64.8,68.4,60.8,55.9,47.1,46.0,58.2,58.4,49.3,48.0,51.1,37.1,45.4,71.4,53.7,46.8,44.7,41.1,44.6,55.4,36.2,54.8,52.6,58.0,49.4,40.7,54.4,36.9,51.4,38.5,33.9,41.7,51.6,49.1,46.3,32.4,43.2,40.5,38.2,38.3,45.0,37.4,53.0,48.1,50.5,30.0,48.1,45.8,33.1,32.9,37.2,31.9,51.9,35.9,30.4,44.4,44.7,33.8,37.4,50.8,22.4,48.5,33.1,28.2,29.2,39.1,47.1,35.3,29.1,44.8,52.1,53.5,35.9,36.1,36.9,39.1,34.1,42.0,39.9,43.2,30.3,27.6,46.7,26.7,51.9,52.9,47.1,45.3,39.1,29.1,50.2,39.8,35.1,27.5,35.4,47.5,32.7,57.3,29.9,48.0,33.2,38.1,34.4,33.8,36.5,28.1,40.4,36.9,34.9,28.3,47.3,27.2,33.6,35.8,34.9,28.2,30.6,33.4,33.5,24.4,29.3,30.2,19.7,36.3,37.5,27.1,39.7,21.9,35.2,23.9,24.4,51.1,34.7,39.8,32.9,34.0,30.9,22.2,42.1,27.3,22.6,31.6,13.1,25.1,27.7,30.4,22.4,36.3,36.5,44.3,29.6,37.5,22.0,28.8,27.9,22.5,34.1,17.1,34.0,27.3,23.4,51.6,28.2,16.0,45.3,36.2,23.5,19.9,45.8,29.2,29.3,21.4,24.5,30.0,29.9,23.2,31.8,26.2,29.3,35.0,32.3,9.8,28.1,30.5,38.2,24.3,33.4,23.0,32.5,35.7,17.3,32.4,35.3,31.3,10.1,17.0,23.3,40.3,24.8,33.4,25.1,25.2,33.7,27.6,30.7,24.7,18.1,23.4,29.9,27.7,19.2,25.6,37.9,12.1,21.7,20.3,20.3,40.4,32.8,31.3,39.5,25.5,22.5,40.7,29.6,10.5,18.1,36.0,37.9,31.2,45.1,22.9,22.2,23.2,22.4,15.3,19.7,28.9,20.3,22.9,24.4,24.0,27.5,27.8,28.5,40.0,19.3,23.0,17.8,24.3,10.4,20.6,14.3,13.2,17.3,16.5,24.4,24.8,17.2,21.1,26.6,14.7,24.8,28.1,34.7,38.8,25.2,20.7,25.1,23.4,18.4,27.1,16.8,13.7,29.0,25.8,24.0,20.1,29.4,6.5,13.7,16.5,15.7,18.2,18.8,20.5,25.1,17.3,22.2,21.6,12.0,13.6,15.2,33.1,28.5,20.6,21.6,12.9,19.1,17.2,17.1,18.0,20.3,32.3,27.5,24.6,14.3,27.3,10.0,28.5,16.6,27.6,17.8,40.1,32.9,42.6,18.9,22.5,16.3,16.9,25.7,18.1,21.6,15.2,17.3,17.3,10.9,22.8,18.4,16.2,22.0,22.3,10.6,11.8,20.2,21.8,19.4,17.0,17.9,16.3,27.5,22.4,17.4,8.0],\"z\":[99.7,98.9,95.5,99.1,95.2,100.0,99.6,99.1,89.4,94.0,97.3,95.3,83.5,95.3,93.6,94.4,88.9,96.6,91.5,83.0,96.9,85.1,74.7,92.0,66.0,95.0,85.8,91.5,83.0,77.8,87.7,85.3,80.6,71.3,95.0,88.3,99.2,89.5,76.0,88.3,96.4,97.1,65.1,76.8,71.1,82.9,91.0,63.7,65.0,48.7,72.9,71.4,74.3,92.0,71.8,80.4,94.4,76.0,57.0,69.0,75.9,79.9,96.4,82.3,74.2,84.4,92.3,80.4,99.9,81.4,42.6,82.3,77.5,85.1,81.4,81.3,76.6,84.8,80.0,71.9,67.6,74.0,88.9,65.7,92.0,74.0,90.0,92.9,89.5,73.8,78.7,84.4,89.5,78.8,83.7,87.7,97.4,90.9,78.8,70.9,70.1,62.2,83.3,79.0,68.2,81.4,88.9,78.2,100.0,61.1,81.4,92.8,62.9,74.0,90.5,82.9,68.1,98.9,74.9,87.7,79.6,87.7,74.3,61.8,86.6,95.9,55.1,62.2,57.8,76.9,78.0,70.1,83.6,79.7,70.8,76.5,74.9,77.6,96.8,73.9,97.1,55.1,48.1,57.3,71.0,69.3,95.3,51.7,62.7,73.1,91.5,80.4,66.5,78.0,47.7,75.0,51.1,76.2,62.2,73.5,73.0,75.0,74.0,61.1,79.7,62.9,88.3,49.6,73.1,67.7,62.7,67.7,62.2,86.7,68.4,71.0,87.1,73.0,74.3,92.2,73.1,73.1,88.5,56.3,81.3,66.3,77.8,80.4,45.5,62.9,57.5,68.6,61.0,72.0,83.8,33.8,86.4,83.7,67.1,99.2,70.0,76.0,69.3,78.8,57.2,56.5,39.9,70.3,52.0,73.0,79.7,68.5,84.4,55.1,77.0,58.1,73.6,74.0,32.3,77.8,88.1,49.4,64.4,81.3,78.7,44.3,67.0,60.4,75.3,76.9,54.4,58.1,55.1,59.9,67.8,67.6,68.9,47.0,100.0,61.7,59.4,64.4,70.8,59.4,76.6,58.7,47.0,81.4,41.7,62.9,50.2,99.7,71.1,59.6,49.1,62.8,48.2,52.2,59.9,42.0,55.7,51.5,74.8,73.0,73.1,57.5,57.6,75.6,64.5,55.1,89.8,67.3,70.3,72.5,47.0,40.8,59.9,51.6,59.9,67.4,40.4,49.6,84.4,80.5,42.9,38.9,45.6,34.9,51.1,56.9,64.5,67.8,68.7,58.6,46.6,68.1,66.9,57.5,52.7,55.1,55.1,53.8,40.7,59.7,55.8,64.5,50.1,63.3,57.5,57.5,70.8,50.3,61.0,58.5,50.2,70.5,63.3,55.8,59.6,65.6,50.7,50.4,28.0,54.1,53.9,47.5,53.8,65.3,45.4,67.0,64.1,39.3,44.2,50.2,62.2,48.2,83.0,75.0,51.5,57.5,68.0,69.2,61.2,49.9,56.9,58.7,51.1,72.7,70.0,61.0,40.2,39.9,52.2,45.1,61.8,52.0,62.6,45.3,57.6,53.9,29.0,32.2,43.5,62.6,48.9,75.0,33.6,56.3,51.5,46.5,28.4,39.0,30.9,43.5,42.0,50.2,53.2,52.7,52.0,53.8,64.5,60.8,55.1,65.0,44.8,44.6,60.6,46.6,41.7,61.6,62.1,63.3,47.7,57.5,50.0,48.1,55.5,44.2,58.7,48.5,75.8],\"type\":\"scatter3d\"}],                        {\"margin\":{\"b\":0,\"l\":0,\"r\":0,\"t\":0},\"template\":{\"data\":{\"barpolar\":[{\"marker\":{\"line\":{\"color\":\"#E5ECF6\",\"width\":0.5},\"pattern\":{\"fillmode\":\"overlay\",\"size\":10,\"solidity\":0.2}},\"type\":\"barpolar\"}],\"bar\":[{\"error_x\":{\"color\":\"#2a3f5f\"},\"error_y\":{\"color\":\"#2a3f5f\"},\"marker\":{\"line\":{\"color\":\"#E5ECF6\",\"width\":0.5},\"pattern\":{\"fillmode\":\"overlay\",\"size\":10,\"solidity\":0.2}},\"type\":\"bar\"}],\"carpet\":[{\"aaxis\":{\"endlinecolor\":\"#2a3f5f\",\"gridcolor\":\"white\",\"linecolor\":\"white\",\"minorgridcolor\":\"white\",\"startlinecolor\":\"#2a3f5f\"},\"baxis\":{\"endlinecolor\":\"#2a3f5f\",\"gridcolor\":\"white\",\"linecolor\":\"white\",\"minorgridcolor\":\"white\",\"startlinecolor\":\"#2a3f5f\"},\"type\":\"carpet\"}],\"choropleth\":[{\"colorbar\":{\"outlinewidth\":0,\"ticks\":\"\"},\"type\":\"choropleth\"}],\"contourcarpet\":[{\"colorbar\":{\"outlinewidth\":0,\"ticks\":\"\"},\"type\":\"contourcarpet\"}],\"contour\":[{\"colorbar\":{\"outlinewidth\":0,\"ticks\":\"\"},\"colorscale\":[[0.0,\"#0d0887\"],[0.1111111111111111,\"#46039f\"],[0.2222222222222222,\"#7201a8\"],[0.3333333333333333,\"#9c179e\"],[0.4444444444444444,\"#bd3786\"],[0.5555555555555556,\"#d8576b\"],[0.6666666666666666,\"#ed7953\"],[0.7777777777777778,\"#fb9f3a\"],[0.8888888888888888,\"#fdca26\"],[1.0,\"#f0f921\"]],\"type\":\"contour\"}],\"heatmapgl\":[{\"colorbar\":{\"outlinewidth\":0,\"ticks\":\"\"},\"colorscale\":[[0.0,\"#0d0887\"],[0.1111111111111111,\"#46039f\"],[0.2222222222222222,\"#7201a8\"],[0.3333333333333333,\"#9c179e\"],[0.4444444444444444,\"#bd3786\"],[0.5555555555555556,\"#d8576b\"],[0.6666666666666666,\"#ed7953\"],[0.7777777777777778,\"#fb9f3a\"],[0.8888888888888888,\"#fdca26\"],[1.0,\"#f0f921\"]],\"type\":\"heatmapgl\"}],\"heatmap\":[{\"colorbar\":{\"outlinewidth\":0,\"ticks\":\"\"},\"colorscale\":[[0.0,\"#0d0887\"],[0.1111111111111111,\"#46039f\"],[0.2222222222222222,\"#7201a8\"],[0.3333333333333333,\"#9c179e\"],[0.4444444444444444,\"#bd3786\"],[0.5555555555555556,\"#d8576b\"],[0.6666666666666666,\"#ed7953\"],[0.7777777777777778,\"#fb9f3a\"],[0.8888888888888888,\"#fdca26\"],[1.0,\"#f0f921\"]],\"type\":\"heatmap\"}],\"histogram2dcontour\":[{\"colorbar\":{\"outlinewidth\":0,\"ticks\":\"\"},\"colorscale\":[[0.0,\"#0d0887\"],[0.1111111111111111,\"#46039f\"],[0.2222222222222222,\"#7201a8\"],[0.3333333333333333,\"#9c179e\"],[0.4444444444444444,\"#bd3786\"],[0.5555555555555556,\"#d8576b\"],[0.6666666666666666,\"#ed7953\"],[0.7777777777777778,\"#fb9f3a\"],[0.8888888888888888,\"#fdca26\"],[1.0,\"#f0f921\"]],\"type\":\"histogram2dcontour\"}],\"histogram2d\":[{\"colorbar\":{\"outlinewidth\":0,\"ticks\":\"\"},\"colorscale\":[[0.0,\"#0d0887\"],[0.1111111111111111,\"#46039f\"],[0.2222222222222222,\"#7201a8\"],[0.3333333333333333,\"#9c179e\"],[0.4444444444444444,\"#bd3786\"],[0.5555555555555556,\"#d8576b\"],[0.6666666666666666,\"#ed7953\"],[0.7777777777777778,\"#fb9f3a\"],[0.8888888888888888,\"#fdca26\"],[1.0,\"#f0f921\"]],\"type\":\"histogram2d\"}],\"histogram\":[{\"marker\":{\"pattern\":{\"fillmode\":\"overlay\",\"size\":10,\"solidity\":0.2}},\"type\":\"histogram\"}],\"mesh3d\":[{\"colorbar\":{\"outlinewidth\":0,\"ticks\":\"\"},\"type\":\"mesh3d\"}],\"parcoords\":[{\"line\":{\"colorbar\":{\"outlinewidth\":0,\"ticks\":\"\"}},\"type\":\"parcoords\"}],\"pie\":[{\"automargin\":true,\"type\":\"pie\"}],\"scatter3d\":[{\"line\":{\"colorbar\":{\"outlinewidth\":0,\"ticks\":\"\"}},\"marker\":{\"colorbar\":{\"outlinewidth\":0,\"ticks\":\"\"}},\"type\":\"scatter3d\"}],\"scattercarpet\":[{\"marker\":{\"colorbar\":{\"outlinewidth\":0,\"ticks\":\"\"}},\"type\":\"scattercarpet\"}],\"scattergeo\":[{\"marker\":{\"colorbar\":{\"outlinewidth\":0,\"ticks\":\"\"}},\"type\":\"scattergeo\"}],\"scattergl\":[{\"marker\":{\"colorbar\":{\"outlinewidth\":0,\"ticks\":\"\"}},\"type\":\"scattergl\"}],\"scattermapbox\":[{\"marker\":{\"colorbar\":{\"outlinewidth\":0,\"ticks\":\"\"}},\"type\":\"scattermapbox\"}],\"scatterpolargl\":[{\"marker\":{\"colorbar\":{\"outlinewidth\":0,\"ticks\":\"\"}},\"type\":\"scatterpolargl\"}],\"scatterpolar\":[{\"marker\":{\"colorbar\":{\"outlinewidth\":0,\"ticks\":\"\"}},\"type\":\"scatterpolar\"}],\"scatter\":[{\"fillpattern\":{\"fillmode\":\"overlay\",\"size\":10,\"solidity\":0.2},\"type\":\"scatter\"}],\"scatterternary\":[{\"marker\":{\"colorbar\":{\"outlinewidth\":0,\"ticks\":\"\"}},\"type\":\"scatterternary\"}],\"surface\":[{\"colorbar\":{\"outlinewidth\":0,\"ticks\":\"\"},\"colorscale\":[[0.0,\"#0d0887\"],[0.1111111111111111,\"#46039f\"],[0.2222222222222222,\"#7201a8\"],[0.3333333333333333,\"#9c179e\"],[0.4444444444444444,\"#bd3786\"],[0.5555555555555556,\"#d8576b\"],[0.6666666666666666,\"#ed7953\"],[0.7777777777777778,\"#fb9f3a\"],[0.8888888888888888,\"#fdca26\"],[1.0,\"#f0f921\"]],\"type\":\"surface\"}],\"table\":[{\"cells\":{\"fill\":{\"color\":\"#EBF0F8\"},\"line\":{\"color\":\"white\"}},\"header\":{\"fill\":{\"color\":\"#C8D4E3\"},\"line\":{\"color\":\"white\"}},\"type\":\"table\"}]},\"layout\":{\"annotationdefaults\":{\"arrowcolor\":\"#2a3f5f\",\"arrowhead\":0,\"arrowwidth\":1},\"autotypenumbers\":\"strict\",\"coloraxis\":{\"colorbar\":{\"outlinewidth\":0,\"ticks\":\"\"}},\"colorscale\":{\"diverging\":[[0,\"#8e0152\"],[0.1,\"#c51b7d\"],[0.2,\"#de77ae\"],[0.3,\"#f1b6da\"],[0.4,\"#fde0ef\"],[0.5,\"#f7f7f7\"],[0.6,\"#e6f5d0\"],[0.7,\"#b8e186\"],[0.8,\"#7fbc41\"],[0.9,\"#4d9221\"],[1,\"#276419\"]],\"sequential\":[[0.0,\"#0d0887\"],[0.1111111111111111,\"#46039f\"],[0.2222222222222222,\"#7201a8\"],[0.3333333333333333,\"#9c179e\"],[0.4444444444444444,\"#bd3786\"],[0.5555555555555556,\"#d8576b\"],[0.6666666666666666,\"#ed7953\"],[0.7777777777777778,\"#fb9f3a\"],[0.8888888888888888,\"#fdca26\"],[1.0,\"#f0f921\"]],\"sequentialminus\":[[0.0,\"#0d0887\"],[0.1111111111111111,\"#46039f\"],[0.2222222222222222,\"#7201a8\"],[0.3333333333333333,\"#9c179e\"],[0.4444444444444444,\"#bd3786\"],[0.5555555555555556,\"#d8576b\"],[0.6666666666666666,\"#ed7953\"],[0.7777777777777778,\"#fb9f3a\"],[0.8888888888888888,\"#fdca26\"],[1.0,\"#f0f921\"]]},\"colorway\":[\"#636efa\",\"#EF553B\",\"#00cc96\",\"#ab63fa\",\"#FFA15A\",\"#19d3f3\",\"#FF6692\",\"#B6E880\",\"#FF97FF\",\"#FECB52\"],\"font\":{\"color\":\"#2a3f5f\"},\"geo\":{\"bgcolor\":\"white\",\"lakecolor\":\"white\",\"landcolor\":\"#E5ECF6\",\"showlakes\":true,\"showland\":true,\"subunitcolor\":\"white\"},\"hoverlabel\":{\"align\":\"left\"},\"hovermode\":\"closest\",\"mapbox\":{\"style\":\"light\"},\"paper_bgcolor\":\"white\",\"plot_bgcolor\":\"#E5ECF6\",\"polar\":{\"angularaxis\":{\"gridcolor\":\"white\",\"linecolor\":\"white\",\"ticks\":\"\"},\"bgcolor\":\"#E5ECF6\",\"radialaxis\":{\"gridcolor\":\"white\",\"linecolor\":\"white\",\"ticks\":\"\"}},\"scene\":{\"xaxis\":{\"backgroundcolor\":\"#E5ECF6\",\"gridcolor\":\"white\",\"gridwidth\":2,\"linecolor\":\"white\",\"showbackground\":true,\"ticks\":\"\",\"zerolinecolor\":\"white\"},\"yaxis\":{\"backgroundcolor\":\"#E5ECF6\",\"gridcolor\":\"white\",\"gridwidth\":2,\"linecolor\":\"white\",\"showbackground\":true,\"ticks\":\"\",\"zerolinecolor\":\"white\"},\"zaxis\":{\"backgroundcolor\":\"#E5ECF6\",\"gridcolor\":\"white\",\"gridwidth\":2,\"linecolor\":\"white\",\"showbackground\":true,\"ticks\":\"\",\"zerolinecolor\":\"white\"}},\"shapedefaults\":{\"line\":{\"color\":\"#2a3f5f\"}},\"ternary\":{\"aaxis\":{\"gridcolor\":\"white\",\"linecolor\":\"white\",\"ticks\":\"\"},\"baxis\":{\"gridcolor\":\"white\",\"linecolor\":\"white\",\"ticks\":\"\"},\"bgcolor\":\"#E5ECF6\",\"caxis\":{\"gridcolor\":\"white\",\"linecolor\":\"white\",\"ticks\":\"\"}},\"title\":{\"x\":0.05},\"xaxis\":{\"automargin\":true,\"gridcolor\":\"white\",\"linecolor\":\"white\",\"ticks\":\"\",\"title\":{\"standoff\":15},\"zerolinecolor\":\"white\",\"zerolinewidth\":2},\"yaxis\":{\"automargin\":true,\"gridcolor\":\"white\",\"linecolor\":\"white\",\"ticks\":\"\",\"title\":{\"standoff\":15},\"zerolinecolor\":\"white\",\"zerolinewidth\":2}}}},                        {\"responsive\": true}                    ).then(function(){\n",
              "                            \n",
              "var gd = document.getElementById('b6fed3ff-a3a3-4bba-908a-5cc1e386b89e');\n",
              "var x = new MutationObserver(function (mutations, observer) {{\n",
              "        var display = window.getComputedStyle(gd).display;\n",
              "        if (!display || display === 'none') {{\n",
              "            console.log([gd, 'removed!']);\n",
              "            Plotly.purge(gd);\n",
              "            observer.disconnect();\n",
              "        }}\n",
              "}});\n",
              "\n",
              "// Listen for the removal of the full notebook cells\n",
              "var notebookContainer = gd.closest('#notebook-container');\n",
              "if (notebookContainer) {{\n",
              "    x.observe(notebookContainer, {childList: true});\n",
              "}}\n",
              "\n",
              "// Listen for the clearing of the current output cell\n",
              "var outputEl = gd.closest('.output');\n",
              "if (outputEl) {{\n",
              "    x.observe(outputEl, {childList: true});\n",
              "}}\n",
              "\n",
              "                        })                };                            </script>        </div>\n",
              "</body>\n",
              "</html>"
            ]
          },
          "metadata": {}
        }
      ]
    },
    {
      "cell_type": "markdown",
      "source": [
        "Box Plot"
      ],
      "metadata": {
        "id": "NrjVu9BWFXfC"
      }
    },
    {
      "cell_type": "code",
      "source": [
        "import pandas as pd\n",
        "import numpy as np\n",
        "import matplotlib.pyplot as plt\n",
        "from plotly.offline import iplot\n",
        "import plotly.graph_objs as go\n"
      ],
      "metadata": {
        "id": "Jtjq3HcHEwkh"
      },
      "execution_count": 62,
      "outputs": []
    },
    {
      "cell_type": "code",
      "source": [
        "timesData = pd.read_csv(\"/content/drive/MyDrive/1csv/timesData.csv\")\n",
        "timesData.head()"
      ],
      "metadata": {
        "colab": {
          "base_uri": "https://localhost:8080/",
          "height": 206
        },
        "id": "fn1IKZZ6E6xL",
        "outputId": "d06d1d2f-2937-4ec5-e9cd-434f54524871"
      },
      "execution_count": 63,
      "outputs": [
        {
          "output_type": "execute_result",
          "data": {
            "text/plain": [
              "  world_rank                        university_name                   country  \\\n",
              "0          1                     Harvard University  United States of America   \n",
              "1          2     California Institute of Technology  United States of America   \n",
              "2          3  Massachusetts Institute of Technology  United States of America   \n",
              "3          4                    Stanford University  United States of America   \n",
              "4          5                   Princeton University  United States of America   \n",
              "\n",
              "   teaching international  research  citations income total_score  \\\n",
              "0      99.7          72.4      98.7       98.8   34.5        96.1   \n",
              "1      97.7          54.6      98.0       99.9   83.7        96.0   \n",
              "2      97.8          82.3      91.4       99.9   87.5        95.6   \n",
              "3      98.3          29.5      98.1       99.2   64.3        94.3   \n",
              "4      90.9          70.3      95.4       99.9      -        94.2   \n",
              "\n",
              "  num_students  student_staff_ratio international_students female_male_ratio  \\\n",
              "0       20,152                  8.9                    25%               NaN   \n",
              "1        2,243                  6.9                    27%           33 : 67   \n",
              "2       11,074                  9.0                    33%           37 : 63   \n",
              "3       15,596                  7.8                    22%           42 : 58   \n",
              "4        7,929                  8.4                    27%           45 : 55   \n",
              "\n",
              "   year  \n",
              "0  2011  \n",
              "1  2011  \n",
              "2  2011  \n",
              "3  2011  \n",
              "4  2011  "
            ],
            "text/html": [
              "\n",
              "  <div id=\"df-b4f9c03b-bbbc-46ac-9159-d1350e276ecd\">\n",
              "    <div class=\"colab-df-container\">\n",
              "      <div>\n",
              "<style scoped>\n",
              "    .dataframe tbody tr th:only-of-type {\n",
              "        vertical-align: middle;\n",
              "    }\n",
              "\n",
              "    .dataframe tbody tr th {\n",
              "        vertical-align: top;\n",
              "    }\n",
              "\n",
              "    .dataframe thead th {\n",
              "        text-align: right;\n",
              "    }\n",
              "</style>\n",
              "<table border=\"1\" class=\"dataframe\">\n",
              "  <thead>\n",
              "    <tr style=\"text-align: right;\">\n",
              "      <th></th>\n",
              "      <th>world_rank</th>\n",
              "      <th>university_name</th>\n",
              "      <th>country</th>\n",
              "      <th>teaching</th>\n",
              "      <th>international</th>\n",
              "      <th>research</th>\n",
              "      <th>citations</th>\n",
              "      <th>income</th>\n",
              "      <th>total_score</th>\n",
              "      <th>num_students</th>\n",
              "      <th>student_staff_ratio</th>\n",
              "      <th>international_students</th>\n",
              "      <th>female_male_ratio</th>\n",
              "      <th>year</th>\n",
              "    </tr>\n",
              "  </thead>\n",
              "  <tbody>\n",
              "    <tr>\n",
              "      <th>0</th>\n",
              "      <td>1</td>\n",
              "      <td>Harvard University</td>\n",
              "      <td>United States of America</td>\n",
              "      <td>99.7</td>\n",
              "      <td>72.4</td>\n",
              "      <td>98.7</td>\n",
              "      <td>98.8</td>\n",
              "      <td>34.5</td>\n",
              "      <td>96.1</td>\n",
              "      <td>20,152</td>\n",
              "      <td>8.9</td>\n",
              "      <td>25%</td>\n",
              "      <td>NaN</td>\n",
              "      <td>2011</td>\n",
              "    </tr>\n",
              "    <tr>\n",
              "      <th>1</th>\n",
              "      <td>2</td>\n",
              "      <td>California Institute of Technology</td>\n",
              "      <td>United States of America</td>\n",
              "      <td>97.7</td>\n",
              "      <td>54.6</td>\n",
              "      <td>98.0</td>\n",
              "      <td>99.9</td>\n",
              "      <td>83.7</td>\n",
              "      <td>96.0</td>\n",
              "      <td>2,243</td>\n",
              "      <td>6.9</td>\n",
              "      <td>27%</td>\n",
              "      <td>33 : 67</td>\n",
              "      <td>2011</td>\n",
              "    </tr>\n",
              "    <tr>\n",
              "      <th>2</th>\n",
              "      <td>3</td>\n",
              "      <td>Massachusetts Institute of Technology</td>\n",
              "      <td>United States of America</td>\n",
              "      <td>97.8</td>\n",
              "      <td>82.3</td>\n",
              "      <td>91.4</td>\n",
              "      <td>99.9</td>\n",
              "      <td>87.5</td>\n",
              "      <td>95.6</td>\n",
              "      <td>11,074</td>\n",
              "      <td>9.0</td>\n",
              "      <td>33%</td>\n",
              "      <td>37 : 63</td>\n",
              "      <td>2011</td>\n",
              "    </tr>\n",
              "    <tr>\n",
              "      <th>3</th>\n",
              "      <td>4</td>\n",
              "      <td>Stanford University</td>\n",
              "      <td>United States of America</td>\n",
              "      <td>98.3</td>\n",
              "      <td>29.5</td>\n",
              "      <td>98.1</td>\n",
              "      <td>99.2</td>\n",
              "      <td>64.3</td>\n",
              "      <td>94.3</td>\n",
              "      <td>15,596</td>\n",
              "      <td>7.8</td>\n",
              "      <td>22%</td>\n",
              "      <td>42 : 58</td>\n",
              "      <td>2011</td>\n",
              "    </tr>\n",
              "    <tr>\n",
              "      <th>4</th>\n",
              "      <td>5</td>\n",
              "      <td>Princeton University</td>\n",
              "      <td>United States of America</td>\n",
              "      <td>90.9</td>\n",
              "      <td>70.3</td>\n",
              "      <td>95.4</td>\n",
              "      <td>99.9</td>\n",
              "      <td>-</td>\n",
              "      <td>94.2</td>\n",
              "      <td>7,929</td>\n",
              "      <td>8.4</td>\n",
              "      <td>27%</td>\n",
              "      <td>45 : 55</td>\n",
              "      <td>2011</td>\n",
              "    </tr>\n",
              "  </tbody>\n",
              "</table>\n",
              "</div>\n",
              "      <button class=\"colab-df-convert\" onclick=\"convertToInteractive('df-b4f9c03b-bbbc-46ac-9159-d1350e276ecd')\"\n",
              "              title=\"Convert this dataframe to an interactive table.\"\n",
              "              style=\"display:none;\">\n",
              "        \n",
              "  <svg xmlns=\"http://www.w3.org/2000/svg\" height=\"24px\"viewBox=\"0 0 24 24\"\n",
              "       width=\"24px\">\n",
              "    <path d=\"M0 0h24v24H0V0z\" fill=\"none\"/>\n",
              "    <path d=\"M18.56 5.44l.94 2.06.94-2.06 2.06-.94-2.06-.94-.94-2.06-.94 2.06-2.06.94zm-11 1L8.5 8.5l.94-2.06 2.06-.94-2.06-.94L8.5 2.5l-.94 2.06-2.06.94zm10 10l.94 2.06.94-2.06 2.06-.94-2.06-.94-.94-2.06-.94 2.06-2.06.94z\"/><path d=\"M17.41 7.96l-1.37-1.37c-.4-.4-.92-.59-1.43-.59-.52 0-1.04.2-1.43.59L10.3 9.45l-7.72 7.72c-.78.78-.78 2.05 0 2.83L4 21.41c.39.39.9.59 1.41.59.51 0 1.02-.2 1.41-.59l7.78-7.78 2.81-2.81c.8-.78.8-2.07 0-2.86zM5.41 20L4 18.59l7.72-7.72 1.47 1.35L5.41 20z\"/>\n",
              "  </svg>\n",
              "      </button>\n",
              "      \n",
              "  <style>\n",
              "    .colab-df-container {\n",
              "      display:flex;\n",
              "      flex-wrap:wrap;\n",
              "      gap: 12px;\n",
              "    }\n",
              "\n",
              "    .colab-df-convert {\n",
              "      background-color: #E8F0FE;\n",
              "      border: none;\n",
              "      border-radius: 50%;\n",
              "      cursor: pointer;\n",
              "      display: none;\n",
              "      fill: #1967D2;\n",
              "      height: 32px;\n",
              "      padding: 0 0 0 0;\n",
              "      width: 32px;\n",
              "    }\n",
              "\n",
              "    .colab-df-convert:hover {\n",
              "      background-color: #E2EBFA;\n",
              "      box-shadow: 0px 1px 2px rgba(60, 64, 67, 0.3), 0px 1px 3px 1px rgba(60, 64, 67, 0.15);\n",
              "      fill: #174EA6;\n",
              "    }\n",
              "\n",
              "    [theme=dark] .colab-df-convert {\n",
              "      background-color: #3B4455;\n",
              "      fill: #D2E3FC;\n",
              "    }\n",
              "\n",
              "    [theme=dark] .colab-df-convert:hover {\n",
              "      background-color: #434B5C;\n",
              "      box-shadow: 0px 1px 3px 1px rgba(0, 0, 0, 0.15);\n",
              "      filter: drop-shadow(0px 1px 2px rgba(0, 0, 0, 0.3));\n",
              "      fill: #FFFFFF;\n",
              "    }\n",
              "  </style>\n",
              "\n",
              "      <script>\n",
              "        const buttonEl =\n",
              "          document.querySelector('#df-b4f9c03b-bbbc-46ac-9159-d1350e276ecd button.colab-df-convert');\n",
              "        buttonEl.style.display =\n",
              "          google.colab.kernel.accessAllowed ? 'block' : 'none';\n",
              "\n",
              "        async function convertToInteractive(key) {\n",
              "          const element = document.querySelector('#df-b4f9c03b-bbbc-46ac-9159-d1350e276ecd');\n",
              "          const dataTable =\n",
              "            await google.colab.kernel.invokeFunction('convertToInteractive',\n",
              "                                                     [key], {});\n",
              "          if (!dataTable) return;\n",
              "\n",
              "          const docLinkHtml = 'Like what you see? Visit the ' +\n",
              "            '<a target=\"_blank\" href=https://colab.research.google.com/notebooks/data_table.ipynb>data table notebook</a>'\n",
              "            + ' to learn more about interactive tables.';\n",
              "          element.innerHTML = '';\n",
              "          dataTable['output_type'] = 'display_data';\n",
              "          await google.colab.output.renderOutput(dataTable, element);\n",
              "          const docLink = document.createElement('div');\n",
              "          docLink.innerHTML = docLinkHtml;\n",
              "          element.appendChild(docLink);\n",
              "        }\n",
              "      </script>\n",
              "    </div>\n",
              "  </div>\n",
              "  "
            ]
          },
          "metadata": {},
          "execution_count": 63
        }
      ]
    },
    {
      "cell_type": "code",
      "source": [
        "timesData.info()"
      ],
      "metadata": {
        "colab": {
          "base_uri": "https://localhost:8080/"
        },
        "id": "UgyghrnrE9B5",
        "outputId": "bb101517-a73c-4ba0-e2a7-105b72dbfa7c"
      },
      "execution_count": 64,
      "outputs": [
        {
          "output_type": "stream",
          "name": "stdout",
          "text": [
            "<class 'pandas.core.frame.DataFrame'>\n",
            "RangeIndex: 2603 entries, 0 to 2602\n",
            "Data columns (total 14 columns):\n",
            " #   Column                  Non-Null Count  Dtype  \n",
            "---  ------                  --------------  -----  \n",
            " 0   world_rank              2603 non-null   object \n",
            " 1   university_name         2603 non-null   object \n",
            " 2   country                 2603 non-null   object \n",
            " 3   teaching                2603 non-null   float64\n",
            " 4   international           2603 non-null   object \n",
            " 5   research                2603 non-null   float64\n",
            " 6   citations               2603 non-null   float64\n",
            " 7   income                  2603 non-null   object \n",
            " 8   total_score             2603 non-null   object \n",
            " 9   num_students            2544 non-null   object \n",
            " 10  student_staff_ratio     2544 non-null   float64\n",
            " 11  international_students  2536 non-null   object \n",
            " 12  female_male_ratio       2370 non-null   object \n",
            " 13  year                    2603 non-null   int64  \n",
            "dtypes: float64(4), int64(1), object(9)\n",
            "memory usage: 284.8+ KB\n"
          ]
        }
      ]
    },
    {
      "cell_type": "code",
      "source": [
        "x2015 = timesData[timesData.year == 2015] #datadaki 2015 yılından bir filtre oluşturulup, bu filtre dataya uygulanır."
      ],
      "metadata": {
        "id": "6faB78qgE-1Z"
      },
      "execution_count": 65,
      "outputs": []
    },
    {
      "cell_type": "code",
      "source": [
        "international = [float(each) for each in x2015.international] #international sütunu string değer barındırır.\n",
        "                                                              #sütundaki değerler floata çevrilir."
      ],
      "metadata": {
        "id": "j6RMTXpuFIZl"
      },
      "execution_count": 66,
      "outputs": []
    },
    {
      "cell_type": "code",
      "source": [
        "trace0 = go.Box(  \n",
        "    y=x2015.international,  #y eksen\n",
        "    name = 'international score of universities in 2015',\n",
        "    marker = dict(\n",
        "        color = 'rgb(12, 12, 140)',\n",
        "    )\n",
        ")\n",
        "trace1 = go.Box(\n",
        "    y=x2015.research,\n",
        "    name = 'research of universities in 2015',\n",
        "    marker = dict(\n",
        "        color = 'rgb(12, 128, 128)',\n",
        "    )\n",
        ")\n",
        "data = [trace0, trace1]\n",
        "iplot(data)"
      ],
      "metadata": {
        "colab": {
          "base_uri": "https://localhost:8080/",
          "height": 542
        },
        "id": "J2RRA0sbFR1F",
        "outputId": "8dd86cd0-68bc-45e5-868b-1e00a193ed5a"
      },
      "execution_count": 67,
      "outputs": [
        {
          "output_type": "display_data",
          "data": {
            "text/html": [
              "<html>\n",
              "<head><meta charset=\"utf-8\" /></head>\n",
              "<body>\n",
              "    <div>            <script src=\"https://cdnjs.cloudflare.com/ajax/libs/mathjax/2.7.5/MathJax.js?config=TeX-AMS-MML_SVG\"></script><script type=\"text/javascript\">if (window.MathJax && window.MathJax.Hub && window.MathJax.Hub.Config) {window.MathJax.Hub.Config({SVG: {font: \"STIX-Web\"}});}</script>                <script type=\"text/javascript\">window.PlotlyConfig = {MathJaxConfig: 'local'};</script>\n",
              "        <script src=\"https://cdn.plot.ly/plotly-2.8.3.min.js\"></script>                <div id=\"67517b4d-8a26-456d-ac0f-24c494a62715\" class=\"plotly-graph-div\" style=\"height:525px; width:100%;\"></div>            <script type=\"text/javascript\">                                    window.PLOTLYENV=window.PLOTLYENV || {};                                    if (document.getElementById(\"67517b4d-8a26-456d-ac0f-24c494a62715\")) {                    Plotly.newPlot(                        \"67517b4d-8a26-456d-ac0f-24c494a62715\",                        [{\"marker\":{\"color\":\"rgb(12, 12, 140)\"},\"name\":\"international score of universities in 2015\",\"y\":[\"67.0\",\"67.6\",\"90.7\",\"69.0\",\"87.8\",\"84.3\",\"61.2\",\"58.5\",\"92.7\",\"59.8\",\"65.2\",\"49.2\",\"96.6\",\"68.3\",\"59.7\",\"43.8\",\"49.8\",\"50.5\",\"59.0\",\"71.2\",\"36.7\",\"90.6\",\"32.4\",\"59.3\",\"94.9\",\"47.9\",\"68.9\",\"33.1\",\"56.4\",\"43.9\",\"33.6\",\"84.8\",\"81.3\",\"87.4\",\"98.8\",\"84.3\",\"64.3\",\"41.2\",\"79.0\",\"87.0\",\"37.0\",\"46.5\",\"81.9\",\"60.6\",\"91.3\",\"33.8\",\"35.3\",\"53.7\",\"44.6\",\"30.3\",\"77.8\",\"34.9\",\"82.0\",\"37.0\",\"62.3\",\"52.9\",\"47.8\",\"37.4\",\"29.0\",\"83.6\",\"92.5\",\"94.5\",\"50.1\",\"59.5\",\"80.4\",\"36.0\",\"53.9\",\"51.5\",\"70.8\",\"63.1\",\"77.9\",\"66.2\",\"78.7\",\"76.6\",\"91.2\",\"42.7\",\"60.5\",\"81.9\",\"52.9\",\"55.7\",\"56.6\",\"55.0\",\"80.4\",\"79.6\",\"38.7\",\"38.8\",\"51.4\",\"51.1\",\"56.1\",\"49.1\",\"40.3\",\"32.2\",\"42.9\",\"69.4\",\"78.8\",\"28.3\",\"39.1\",\"53.2\",\"64.0\",\"57.5\",\"89.7\",\"64.3\",\"64.7\",\"49.7\",\"85.7\",\"86.9\",\"88.6\",\"96.8\",\"54.6\",\"83.5\",\"90.5\",\"83.6\",\"76.7\",\"53.0\",\"75.0\",\"34.4\",\"56.1\",\"94.4\",\"70.1\",\"62.7\",\"79.7\",\"55.5\",\"74.8\",\"73.4\",\"76.7\",\"54.6\",\"84.0\",\"32.2\",\"64.0\",\"31.8\",\"84.7\",\"80.7\",\"44.8\",\"82.4\",\"44.7\",\"85.1\",\"50.6\",\"83.9\",\"54.1\",\"61.6\",\"52.6\",\"49.1\",\"37.0\",\"69.0\",\"34.3\",\"67.6\",\"54.7\",\"35.8\",\"75.8\",\"37.1\",\"61.6\",\"33.1\",\"66.3\",\"79.8\",\"27.5\",\"56.8\",\"29.1\",\"79.5\",\"87.3\",\"71.8\",\"64.4\",\"27.5\",\"56.7\",\"79.3\",\"37.3\",\"60.1\",\"63.2\",\"29.7\",\"56.7\",\"61.0\",\"70.6\",\"59.7\",\"43.3\",\"70.1\",\"87.3\",\"31.7\",\"41.2\",\"57.3\",\"84.1\",\"67.4\",\"40.6\",\"29.5\",\"44.6\",\"91.0\",\"54.7\",\"60.3\",\"27.6\",\"60.5\",\"46.1\",\"63.2\",\"57.0\",\"71.3\",\"37.4\",\"40.6\",\"54.8\",\"60.4\",\"55.8\",\"76.5\",\"83.9\",\"63.0\",\"39.9\",\"44.6\",\"69.3\",\"55.6\",\"53.3\",\"69.9\",\"35.9\",\"73.8\",\"60.6\",\"54.1\",\"47.8\",\"65.3\",\"64.5\",\"53.4\",\"93.4\",\"75.0\",\"26.3\",\"69.5\",\"25.3\",\"55.4\",\"50.7\",\"67.2\",\"79.4\",\"26.0\",\"26.5\",\"35.7\",\"46.4\",\"84.4\",\"88.8\",\"61.1\",\"71.6\",\"55.7\",\"58.7\",\"31.8\",\"42.8\",\"61.4\",\"39.6\",\"70.4\",\"39.5\",\"79.4\",\"63.1\",\"46.8\",\"44.2\",\"57.0\",\"40.6\",\"86.9\",\"63.7\",\"50.2\",\"75.9\",\"59.7\",\"59.4\",\"48.7\",\"73.1\",\"50.2\",\"24.8\",\"71.7\",\"55.4\",\"88.6\",\"49.6\",\"59.6\",\"53.0\",\"59.4\",\"59.1\",\"48.2\",\"32.2\",\"70.6\",\"81.5\",\"43.5\",\"40.3\",\"41.0\",\"54.6\",\"66.3\",\"57.3\",\"39.3\",\"63.1\",\"62.5\",\"30.4\",\"18.2\",\"59.1\",\"56.6\",\"30.7\",\"54.7\",\"29.2\",\"51.3\",\"69.8\",\"23.9\",\"47.8\",\"62.2\",\"21.8\",\"70.8\",\"43.1\",\"26.0\",\"49.0\",\"84.4\",\"35.3\",\"73.3\",\"37.4\",\"47.8\",\"80.8\",\"37.3\",\"80.4\",\"84.2\",\"28.9\",\"48.8\",\"73.1\",\"45.5\",\"53.9\",\"29.1\",\"71.8\",\"42.2\",\"62.3\",\"59.4\",\"41.5\",\"49.8\",\"89.2\",\"43.8\",\"36.7\",\"42.9\",\"44.4\",\"26.9\",\"37.5\",\"19.4\",\"20.7\",\"37.0\",\"29.7\",\"76.1\",\"88.2\",\"52.1\",\"38.8\",\"47.0\",\"49.2\",\"86.7\",\"33.1\",\"47.2\",\"32.2\",\"43.4\",\"45.1\",\"20.7\",\"34.8\",\"30.0\",\"40.4\",\"36.7\",\"67.1\",\"66.9\",\"59.3\",\"45.6\",\"36.1\",\"43.7\",\"41.6\",\"30.7\",\"21.5\",\"65.8\",\"66.5\",\"79.7\",\"53.9\",\"48.6\",\"52.1\",\"91.3\",\"36.0\",\"35.8\",\"48.4\",\"25.2\",\"19.5\",\"16.6\",\"20.0\",\"22.5\",\"26.1\",\"34.5\",\"50.9\",\"85.3\",\"26.7\",\"24.2\",\"26.7\",\"82.6\",\"53.6\",\"86.9\",\"60.0\",\"50.3\",\"38.1\",\"44.1\",\"42.1\",\"37.4\",\"64.8\",\"74.9\",\"46.8\",\"69.1\",\"49.7\",\"29.6\",\"46.2\",\"73.3\",\"48.0\",\"34.3\",\"46.3\",\"21.0\",\"80.3\",\"54.5\",\"43.1\",\"36.0\",\"50.1\",\"33.1\",\"21.4\"],\"type\":\"box\"},{\"marker\":{\"color\":\"rgb(12, 128, 128)\"},\"name\":\"research of universities in 2015\",\"y\":[98.1,98.6,97.7,96.7,95.6,88.2,94.7,96.7,88.3,90.8,89.9,90.5,90.2,79.4,84.2,82.0,86.5,75.2,83.8,85.1,78.9,80.4,85.1,74.9,78.1,68.9,71.2,72.0,69.1,79.0,71.3,69.0,70.9,74.2,56.9,62.9,61.4,62.4,69.9,62.3,66.6,55.2,72.6,68.0,70.9,64.7,58.6,61.9,68.3,77.1,66.8,63.2,58.7,54.2,63.6,59.7,46.7,64.8,68.4,60.8,55.9,47.1,46.0,58.2,58.4,49.3,48.0,51.1,37.1,45.4,71.4,53.7,46.8,44.7,41.1,44.6,55.4,36.2,54.8,52.6,58.0,49.4,40.7,54.4,36.9,51.4,38.5,33.9,41.7,51.6,49.1,46.3,32.4,43.2,40.5,38.2,38.3,45.0,37.4,53.0,48.1,50.5,30.0,48.1,45.8,33.1,32.9,37.2,31.9,51.9,35.9,30.4,44.4,44.7,33.8,37.4,50.8,22.4,48.5,33.1,28.2,29.2,39.1,47.1,35.3,29.1,44.8,52.1,53.5,35.9,36.1,36.9,39.1,34.1,42.0,39.9,43.2,30.3,27.6,46.7,26.7,51.9,52.9,47.1,45.3,39.1,29.1,50.2,39.8,35.1,27.5,35.4,47.5,32.7,57.3,29.9,48.0,33.2,38.1,34.4,33.8,36.5,28.1,40.4,36.9,34.9,28.3,47.3,27.2,33.6,35.8,34.9,28.2,30.6,33.4,33.5,24.4,29.3,30.2,19.7,36.3,37.5,27.1,39.7,21.9,35.2,23.9,24.4,51.1,34.7,39.8,32.9,34.0,30.9,22.2,42.1,27.3,22.6,31.6,13.1,25.1,27.7,30.4,22.4,36.3,36.5,44.3,29.6,37.5,22.0,28.8,27.9,22.5,34.1,17.1,34.0,27.3,23.4,51.6,28.2,16.0,45.3,36.2,23.5,19.9,45.8,29.2,29.3,21.4,24.5,30.0,29.9,23.2,31.8,26.2,29.3,35.0,32.3,9.8,28.1,30.5,38.2,24.3,33.4,23.0,32.5,35.7,17.3,32.4,35.3,31.3,10.1,17.0,23.3,40.3,24.8,33.4,25.1,25.2,33.7,27.6,30.7,24.7,18.1,23.4,29.9,27.7,19.2,25.6,37.9,12.1,21.7,20.3,20.3,40.4,32.8,31.3,39.5,25.5,22.5,40.7,29.6,10.5,18.1,36.0,37.9,31.2,45.1,22.9,22.2,23.2,22.4,15.3,19.7,28.9,20.3,22.9,24.4,24.0,27.5,27.8,28.5,40.0,19.3,23.0,17.8,24.3,10.4,20.6,14.3,13.2,17.3,16.5,24.4,24.8,17.2,21.1,26.6,14.7,24.8,28.1,34.7,38.8,25.2,20.7,25.1,23.4,18.4,27.1,16.8,13.7,29.0,25.8,24.0,20.1,29.4,6.5,13.7,16.5,15.7,18.2,18.8,20.5,25.1,17.3,22.2,21.6,12.0,13.6,15.2,33.1,28.5,20.6,21.6,12.9,19.1,17.2,17.1,18.0,20.3,32.3,27.5,24.6,14.3,27.3,10.0,28.5,16.6,27.6,17.8,40.1,32.9,42.6,18.9,22.5,16.3,16.9,25.7,18.1,21.6,15.2,17.3,17.3,10.9,22.8,18.4,16.2,22.0,22.3,10.6,11.8,20.2,21.8,19.4,17.0,17.9,16.3,27.5,22.4,17.4,8.0],\"type\":\"box\"}],                        {\"template\":{\"data\":{\"barpolar\":[{\"marker\":{\"line\":{\"color\":\"#E5ECF6\",\"width\":0.5},\"pattern\":{\"fillmode\":\"overlay\",\"size\":10,\"solidity\":0.2}},\"type\":\"barpolar\"}],\"bar\":[{\"error_x\":{\"color\":\"#2a3f5f\"},\"error_y\":{\"color\":\"#2a3f5f\"},\"marker\":{\"line\":{\"color\":\"#E5ECF6\",\"width\":0.5},\"pattern\":{\"fillmode\":\"overlay\",\"size\":10,\"solidity\":0.2}},\"type\":\"bar\"}],\"carpet\":[{\"aaxis\":{\"endlinecolor\":\"#2a3f5f\",\"gridcolor\":\"white\",\"linecolor\":\"white\",\"minorgridcolor\":\"white\",\"startlinecolor\":\"#2a3f5f\"},\"baxis\":{\"endlinecolor\":\"#2a3f5f\",\"gridcolor\":\"white\",\"linecolor\":\"white\",\"minorgridcolor\":\"white\",\"startlinecolor\":\"#2a3f5f\"},\"type\":\"carpet\"}],\"choropleth\":[{\"colorbar\":{\"outlinewidth\":0,\"ticks\":\"\"},\"type\":\"choropleth\"}],\"contourcarpet\":[{\"colorbar\":{\"outlinewidth\":0,\"ticks\":\"\"},\"type\":\"contourcarpet\"}],\"contour\":[{\"colorbar\":{\"outlinewidth\":0,\"ticks\":\"\"},\"colorscale\":[[0.0,\"#0d0887\"],[0.1111111111111111,\"#46039f\"],[0.2222222222222222,\"#7201a8\"],[0.3333333333333333,\"#9c179e\"],[0.4444444444444444,\"#bd3786\"],[0.5555555555555556,\"#d8576b\"],[0.6666666666666666,\"#ed7953\"],[0.7777777777777778,\"#fb9f3a\"],[0.8888888888888888,\"#fdca26\"],[1.0,\"#f0f921\"]],\"type\":\"contour\"}],\"heatmapgl\":[{\"colorbar\":{\"outlinewidth\":0,\"ticks\":\"\"},\"colorscale\":[[0.0,\"#0d0887\"],[0.1111111111111111,\"#46039f\"],[0.2222222222222222,\"#7201a8\"],[0.3333333333333333,\"#9c179e\"],[0.4444444444444444,\"#bd3786\"],[0.5555555555555556,\"#d8576b\"],[0.6666666666666666,\"#ed7953\"],[0.7777777777777778,\"#fb9f3a\"],[0.8888888888888888,\"#fdca26\"],[1.0,\"#f0f921\"]],\"type\":\"heatmapgl\"}],\"heatmap\":[{\"colorbar\":{\"outlinewidth\":0,\"ticks\":\"\"},\"colorscale\":[[0.0,\"#0d0887\"],[0.1111111111111111,\"#46039f\"],[0.2222222222222222,\"#7201a8\"],[0.3333333333333333,\"#9c179e\"],[0.4444444444444444,\"#bd3786\"],[0.5555555555555556,\"#d8576b\"],[0.6666666666666666,\"#ed7953\"],[0.7777777777777778,\"#fb9f3a\"],[0.8888888888888888,\"#fdca26\"],[1.0,\"#f0f921\"]],\"type\":\"heatmap\"}],\"histogram2dcontour\":[{\"colorbar\":{\"outlinewidth\":0,\"ticks\":\"\"},\"colorscale\":[[0.0,\"#0d0887\"],[0.1111111111111111,\"#46039f\"],[0.2222222222222222,\"#7201a8\"],[0.3333333333333333,\"#9c179e\"],[0.4444444444444444,\"#bd3786\"],[0.5555555555555556,\"#d8576b\"],[0.6666666666666666,\"#ed7953\"],[0.7777777777777778,\"#fb9f3a\"],[0.8888888888888888,\"#fdca26\"],[1.0,\"#f0f921\"]],\"type\":\"histogram2dcontour\"}],\"histogram2d\":[{\"colorbar\":{\"outlinewidth\":0,\"ticks\":\"\"},\"colorscale\":[[0.0,\"#0d0887\"],[0.1111111111111111,\"#46039f\"],[0.2222222222222222,\"#7201a8\"],[0.3333333333333333,\"#9c179e\"],[0.4444444444444444,\"#bd3786\"],[0.5555555555555556,\"#d8576b\"],[0.6666666666666666,\"#ed7953\"],[0.7777777777777778,\"#fb9f3a\"],[0.8888888888888888,\"#fdca26\"],[1.0,\"#f0f921\"]],\"type\":\"histogram2d\"}],\"histogram\":[{\"marker\":{\"pattern\":{\"fillmode\":\"overlay\",\"size\":10,\"solidity\":0.2}},\"type\":\"histogram\"}],\"mesh3d\":[{\"colorbar\":{\"outlinewidth\":0,\"ticks\":\"\"},\"type\":\"mesh3d\"}],\"parcoords\":[{\"line\":{\"colorbar\":{\"outlinewidth\":0,\"ticks\":\"\"}},\"type\":\"parcoords\"}],\"pie\":[{\"automargin\":true,\"type\":\"pie\"}],\"scatter3d\":[{\"line\":{\"colorbar\":{\"outlinewidth\":0,\"ticks\":\"\"}},\"marker\":{\"colorbar\":{\"outlinewidth\":0,\"ticks\":\"\"}},\"type\":\"scatter3d\"}],\"scattercarpet\":[{\"marker\":{\"colorbar\":{\"outlinewidth\":0,\"ticks\":\"\"}},\"type\":\"scattercarpet\"}],\"scattergeo\":[{\"marker\":{\"colorbar\":{\"outlinewidth\":0,\"ticks\":\"\"}},\"type\":\"scattergeo\"}],\"scattergl\":[{\"marker\":{\"colorbar\":{\"outlinewidth\":0,\"ticks\":\"\"}},\"type\":\"scattergl\"}],\"scattermapbox\":[{\"marker\":{\"colorbar\":{\"outlinewidth\":0,\"ticks\":\"\"}},\"type\":\"scattermapbox\"}],\"scatterpolargl\":[{\"marker\":{\"colorbar\":{\"outlinewidth\":0,\"ticks\":\"\"}},\"type\":\"scatterpolargl\"}],\"scatterpolar\":[{\"marker\":{\"colorbar\":{\"outlinewidth\":0,\"ticks\":\"\"}},\"type\":\"scatterpolar\"}],\"scatter\":[{\"fillpattern\":{\"fillmode\":\"overlay\",\"size\":10,\"solidity\":0.2},\"type\":\"scatter\"}],\"scatterternary\":[{\"marker\":{\"colorbar\":{\"outlinewidth\":0,\"ticks\":\"\"}},\"type\":\"scatterternary\"}],\"surface\":[{\"colorbar\":{\"outlinewidth\":0,\"ticks\":\"\"},\"colorscale\":[[0.0,\"#0d0887\"],[0.1111111111111111,\"#46039f\"],[0.2222222222222222,\"#7201a8\"],[0.3333333333333333,\"#9c179e\"],[0.4444444444444444,\"#bd3786\"],[0.5555555555555556,\"#d8576b\"],[0.6666666666666666,\"#ed7953\"],[0.7777777777777778,\"#fb9f3a\"],[0.8888888888888888,\"#fdca26\"],[1.0,\"#f0f921\"]],\"type\":\"surface\"}],\"table\":[{\"cells\":{\"fill\":{\"color\":\"#EBF0F8\"},\"line\":{\"color\":\"white\"}},\"header\":{\"fill\":{\"color\":\"#C8D4E3\"},\"line\":{\"color\":\"white\"}},\"type\":\"table\"}]},\"layout\":{\"annotationdefaults\":{\"arrowcolor\":\"#2a3f5f\",\"arrowhead\":0,\"arrowwidth\":1},\"autotypenumbers\":\"strict\",\"coloraxis\":{\"colorbar\":{\"outlinewidth\":0,\"ticks\":\"\"}},\"colorscale\":{\"diverging\":[[0,\"#8e0152\"],[0.1,\"#c51b7d\"],[0.2,\"#de77ae\"],[0.3,\"#f1b6da\"],[0.4,\"#fde0ef\"],[0.5,\"#f7f7f7\"],[0.6,\"#e6f5d0\"],[0.7,\"#b8e186\"],[0.8,\"#7fbc41\"],[0.9,\"#4d9221\"],[1,\"#276419\"]],\"sequential\":[[0.0,\"#0d0887\"],[0.1111111111111111,\"#46039f\"],[0.2222222222222222,\"#7201a8\"],[0.3333333333333333,\"#9c179e\"],[0.4444444444444444,\"#bd3786\"],[0.5555555555555556,\"#d8576b\"],[0.6666666666666666,\"#ed7953\"],[0.7777777777777778,\"#fb9f3a\"],[0.8888888888888888,\"#fdca26\"],[1.0,\"#f0f921\"]],\"sequentialminus\":[[0.0,\"#0d0887\"],[0.1111111111111111,\"#46039f\"],[0.2222222222222222,\"#7201a8\"],[0.3333333333333333,\"#9c179e\"],[0.4444444444444444,\"#bd3786\"],[0.5555555555555556,\"#d8576b\"],[0.6666666666666666,\"#ed7953\"],[0.7777777777777778,\"#fb9f3a\"],[0.8888888888888888,\"#fdca26\"],[1.0,\"#f0f921\"]]},\"colorway\":[\"#636efa\",\"#EF553B\",\"#00cc96\",\"#ab63fa\",\"#FFA15A\",\"#19d3f3\",\"#FF6692\",\"#B6E880\",\"#FF97FF\",\"#FECB52\"],\"font\":{\"color\":\"#2a3f5f\"},\"geo\":{\"bgcolor\":\"white\",\"lakecolor\":\"white\",\"landcolor\":\"#E5ECF6\",\"showlakes\":true,\"showland\":true,\"subunitcolor\":\"white\"},\"hoverlabel\":{\"align\":\"left\"},\"hovermode\":\"closest\",\"mapbox\":{\"style\":\"light\"},\"paper_bgcolor\":\"white\",\"plot_bgcolor\":\"#E5ECF6\",\"polar\":{\"angularaxis\":{\"gridcolor\":\"white\",\"linecolor\":\"white\",\"ticks\":\"\"},\"bgcolor\":\"#E5ECF6\",\"radialaxis\":{\"gridcolor\":\"white\",\"linecolor\":\"white\",\"ticks\":\"\"}},\"scene\":{\"xaxis\":{\"backgroundcolor\":\"#E5ECF6\",\"gridcolor\":\"white\",\"gridwidth\":2,\"linecolor\":\"white\",\"showbackground\":true,\"ticks\":\"\",\"zerolinecolor\":\"white\"},\"yaxis\":{\"backgroundcolor\":\"#E5ECF6\",\"gridcolor\":\"white\",\"gridwidth\":2,\"linecolor\":\"white\",\"showbackground\":true,\"ticks\":\"\",\"zerolinecolor\":\"white\"},\"zaxis\":{\"backgroundcolor\":\"#E5ECF6\",\"gridcolor\":\"white\",\"gridwidth\":2,\"linecolor\":\"white\",\"showbackground\":true,\"ticks\":\"\",\"zerolinecolor\":\"white\"}},\"shapedefaults\":{\"line\":{\"color\":\"#2a3f5f\"}},\"ternary\":{\"aaxis\":{\"gridcolor\":\"white\",\"linecolor\":\"white\",\"ticks\":\"\"},\"baxis\":{\"gridcolor\":\"white\",\"linecolor\":\"white\",\"ticks\":\"\"},\"bgcolor\":\"#E5ECF6\",\"caxis\":{\"gridcolor\":\"white\",\"linecolor\":\"white\",\"ticks\":\"\"}},\"title\":{\"x\":0.05},\"xaxis\":{\"automargin\":true,\"gridcolor\":\"white\",\"linecolor\":\"white\",\"ticks\":\"\",\"title\":{\"standoff\":15},\"zerolinecolor\":\"white\",\"zerolinewidth\":2},\"yaxis\":{\"automargin\":true,\"gridcolor\":\"white\",\"linecolor\":\"white\",\"ticks\":\"\",\"title\":{\"standoff\":15},\"zerolinecolor\":\"white\",\"zerolinewidth\":2}}}},                        {\"responsive\": true}                    ).then(function(){\n",
              "                            \n",
              "var gd = document.getElementById('67517b4d-8a26-456d-ac0f-24c494a62715');\n",
              "var x = new MutationObserver(function (mutations, observer) {{\n",
              "        var display = window.getComputedStyle(gd).display;\n",
              "        if (!display || display === 'none') {{\n",
              "            console.log([gd, 'removed!']);\n",
              "            Plotly.purge(gd);\n",
              "            observer.disconnect();\n",
              "        }}\n",
              "}});\n",
              "\n",
              "// Listen for the removal of the full notebook cells\n",
              "var notebookContainer = gd.closest('#notebook-container');\n",
              "if (notebookContainer) {{\n",
              "    x.observe(notebookContainer, {childList: true});\n",
              "}}\n",
              "\n",
              "// Listen for the clearing of the current output cell\n",
              "var outputEl = gd.closest('.output');\n",
              "if (outputEl) {{\n",
              "    x.observe(outputEl, {childList: true});\n",
              "}}\n",
              "\n",
              "                        })                };                            </script>        </div>\n",
              "</body>\n",
              "</html>"
            ]
          },
          "metadata": {}
        }
      ]
    },
    {
      "cell_type": "markdown",
      "source": [
        "scatter plot matrix"
      ],
      "metadata": {
        "id": "h0fSHkOlFpU7"
      }
    },
    {
      "cell_type": "code",
      "source": [
        "import pandas as pd\n",
        "import numpy as np\n",
        "import matplotlib.pyplot as plt\n",
        "from plotly.offline import iplot\n",
        "import plotly.graph_objs as go\n",
        "import plotly.figure_factory as ff\n"
      ],
      "metadata": {
        "id": "dZ8zCWfqFUas"
      },
      "execution_count": 68,
      "outputs": []
    },
    {
      "cell_type": "code",
      "source": [
        "timesData = pd.read_csv(\"/content/drive/MyDrive/1csv/timesData.csv\")\n",
        "timesData.head()"
      ],
      "metadata": {
        "colab": {
          "base_uri": "https://localhost:8080/",
          "height": 206
        },
        "id": "tGRXXkZjFsIW",
        "outputId": "a4ae3488-580d-4420-9625-b629cfa02935"
      },
      "execution_count": 69,
      "outputs": [
        {
          "output_type": "execute_result",
          "data": {
            "text/plain": [
              "  world_rank                        university_name                   country  \\\n",
              "0          1                     Harvard University  United States of America   \n",
              "1          2     California Institute of Technology  United States of America   \n",
              "2          3  Massachusetts Institute of Technology  United States of America   \n",
              "3          4                    Stanford University  United States of America   \n",
              "4          5                   Princeton University  United States of America   \n",
              "\n",
              "   teaching international  research  citations income total_score  \\\n",
              "0      99.7          72.4      98.7       98.8   34.5        96.1   \n",
              "1      97.7          54.6      98.0       99.9   83.7        96.0   \n",
              "2      97.8          82.3      91.4       99.9   87.5        95.6   \n",
              "3      98.3          29.5      98.1       99.2   64.3        94.3   \n",
              "4      90.9          70.3      95.4       99.9      -        94.2   \n",
              "\n",
              "  num_students  student_staff_ratio international_students female_male_ratio  \\\n",
              "0       20,152                  8.9                    25%               NaN   \n",
              "1        2,243                  6.9                    27%           33 : 67   \n",
              "2       11,074                  9.0                    33%           37 : 63   \n",
              "3       15,596                  7.8                    22%           42 : 58   \n",
              "4        7,929                  8.4                    27%           45 : 55   \n",
              "\n",
              "   year  \n",
              "0  2011  \n",
              "1  2011  \n",
              "2  2011  \n",
              "3  2011  \n",
              "4  2011  "
            ],
            "text/html": [
              "\n",
              "  <div id=\"df-35b195eb-4301-4528-a6ac-4f05d530da56\">\n",
              "    <div class=\"colab-df-container\">\n",
              "      <div>\n",
              "<style scoped>\n",
              "    .dataframe tbody tr th:only-of-type {\n",
              "        vertical-align: middle;\n",
              "    }\n",
              "\n",
              "    .dataframe tbody tr th {\n",
              "        vertical-align: top;\n",
              "    }\n",
              "\n",
              "    .dataframe thead th {\n",
              "        text-align: right;\n",
              "    }\n",
              "</style>\n",
              "<table border=\"1\" class=\"dataframe\">\n",
              "  <thead>\n",
              "    <tr style=\"text-align: right;\">\n",
              "      <th></th>\n",
              "      <th>world_rank</th>\n",
              "      <th>university_name</th>\n",
              "      <th>country</th>\n",
              "      <th>teaching</th>\n",
              "      <th>international</th>\n",
              "      <th>research</th>\n",
              "      <th>citations</th>\n",
              "      <th>income</th>\n",
              "      <th>total_score</th>\n",
              "      <th>num_students</th>\n",
              "      <th>student_staff_ratio</th>\n",
              "      <th>international_students</th>\n",
              "      <th>female_male_ratio</th>\n",
              "      <th>year</th>\n",
              "    </tr>\n",
              "  </thead>\n",
              "  <tbody>\n",
              "    <tr>\n",
              "      <th>0</th>\n",
              "      <td>1</td>\n",
              "      <td>Harvard University</td>\n",
              "      <td>United States of America</td>\n",
              "      <td>99.7</td>\n",
              "      <td>72.4</td>\n",
              "      <td>98.7</td>\n",
              "      <td>98.8</td>\n",
              "      <td>34.5</td>\n",
              "      <td>96.1</td>\n",
              "      <td>20,152</td>\n",
              "      <td>8.9</td>\n",
              "      <td>25%</td>\n",
              "      <td>NaN</td>\n",
              "      <td>2011</td>\n",
              "    </tr>\n",
              "    <tr>\n",
              "      <th>1</th>\n",
              "      <td>2</td>\n",
              "      <td>California Institute of Technology</td>\n",
              "      <td>United States of America</td>\n",
              "      <td>97.7</td>\n",
              "      <td>54.6</td>\n",
              "      <td>98.0</td>\n",
              "      <td>99.9</td>\n",
              "      <td>83.7</td>\n",
              "      <td>96.0</td>\n",
              "      <td>2,243</td>\n",
              "      <td>6.9</td>\n",
              "      <td>27%</td>\n",
              "      <td>33 : 67</td>\n",
              "      <td>2011</td>\n",
              "    </tr>\n",
              "    <tr>\n",
              "      <th>2</th>\n",
              "      <td>3</td>\n",
              "      <td>Massachusetts Institute of Technology</td>\n",
              "      <td>United States of America</td>\n",
              "      <td>97.8</td>\n",
              "      <td>82.3</td>\n",
              "      <td>91.4</td>\n",
              "      <td>99.9</td>\n",
              "      <td>87.5</td>\n",
              "      <td>95.6</td>\n",
              "      <td>11,074</td>\n",
              "      <td>9.0</td>\n",
              "      <td>33%</td>\n",
              "      <td>37 : 63</td>\n",
              "      <td>2011</td>\n",
              "    </tr>\n",
              "    <tr>\n",
              "      <th>3</th>\n",
              "      <td>4</td>\n",
              "      <td>Stanford University</td>\n",
              "      <td>United States of America</td>\n",
              "      <td>98.3</td>\n",
              "      <td>29.5</td>\n",
              "      <td>98.1</td>\n",
              "      <td>99.2</td>\n",
              "      <td>64.3</td>\n",
              "      <td>94.3</td>\n",
              "      <td>15,596</td>\n",
              "      <td>7.8</td>\n",
              "      <td>22%</td>\n",
              "      <td>42 : 58</td>\n",
              "      <td>2011</td>\n",
              "    </tr>\n",
              "    <tr>\n",
              "      <th>4</th>\n",
              "      <td>5</td>\n",
              "      <td>Princeton University</td>\n",
              "      <td>United States of America</td>\n",
              "      <td>90.9</td>\n",
              "      <td>70.3</td>\n",
              "      <td>95.4</td>\n",
              "      <td>99.9</td>\n",
              "      <td>-</td>\n",
              "      <td>94.2</td>\n",
              "      <td>7,929</td>\n",
              "      <td>8.4</td>\n",
              "      <td>27%</td>\n",
              "      <td>45 : 55</td>\n",
              "      <td>2011</td>\n",
              "    </tr>\n",
              "  </tbody>\n",
              "</table>\n",
              "</div>\n",
              "      <button class=\"colab-df-convert\" onclick=\"convertToInteractive('df-35b195eb-4301-4528-a6ac-4f05d530da56')\"\n",
              "              title=\"Convert this dataframe to an interactive table.\"\n",
              "              style=\"display:none;\">\n",
              "        \n",
              "  <svg xmlns=\"http://www.w3.org/2000/svg\" height=\"24px\"viewBox=\"0 0 24 24\"\n",
              "       width=\"24px\">\n",
              "    <path d=\"M0 0h24v24H0V0z\" fill=\"none\"/>\n",
              "    <path d=\"M18.56 5.44l.94 2.06.94-2.06 2.06-.94-2.06-.94-.94-2.06-.94 2.06-2.06.94zm-11 1L8.5 8.5l.94-2.06 2.06-.94-2.06-.94L8.5 2.5l-.94 2.06-2.06.94zm10 10l.94 2.06.94-2.06 2.06-.94-2.06-.94-.94-2.06-.94 2.06-2.06.94z\"/><path d=\"M17.41 7.96l-1.37-1.37c-.4-.4-.92-.59-1.43-.59-.52 0-1.04.2-1.43.59L10.3 9.45l-7.72 7.72c-.78.78-.78 2.05 0 2.83L4 21.41c.39.39.9.59 1.41.59.51 0 1.02-.2 1.41-.59l7.78-7.78 2.81-2.81c.8-.78.8-2.07 0-2.86zM5.41 20L4 18.59l7.72-7.72 1.47 1.35L5.41 20z\"/>\n",
              "  </svg>\n",
              "      </button>\n",
              "      \n",
              "  <style>\n",
              "    .colab-df-container {\n",
              "      display:flex;\n",
              "      flex-wrap:wrap;\n",
              "      gap: 12px;\n",
              "    }\n",
              "\n",
              "    .colab-df-convert {\n",
              "      background-color: #E8F0FE;\n",
              "      border: none;\n",
              "      border-radius: 50%;\n",
              "      cursor: pointer;\n",
              "      display: none;\n",
              "      fill: #1967D2;\n",
              "      height: 32px;\n",
              "      padding: 0 0 0 0;\n",
              "      width: 32px;\n",
              "    }\n",
              "\n",
              "    .colab-df-convert:hover {\n",
              "      background-color: #E2EBFA;\n",
              "      box-shadow: 0px 1px 2px rgba(60, 64, 67, 0.3), 0px 1px 3px 1px rgba(60, 64, 67, 0.15);\n",
              "      fill: #174EA6;\n",
              "    }\n",
              "\n",
              "    [theme=dark] .colab-df-convert {\n",
              "      background-color: #3B4455;\n",
              "      fill: #D2E3FC;\n",
              "    }\n",
              "\n",
              "    [theme=dark] .colab-df-convert:hover {\n",
              "      background-color: #434B5C;\n",
              "      box-shadow: 0px 1px 3px 1px rgba(0, 0, 0, 0.15);\n",
              "      filter: drop-shadow(0px 1px 2px rgba(0, 0, 0, 0.3));\n",
              "      fill: #FFFFFF;\n",
              "    }\n",
              "  </style>\n",
              "\n",
              "      <script>\n",
              "        const buttonEl =\n",
              "          document.querySelector('#df-35b195eb-4301-4528-a6ac-4f05d530da56 button.colab-df-convert');\n",
              "        buttonEl.style.display =\n",
              "          google.colab.kernel.accessAllowed ? 'block' : 'none';\n",
              "\n",
              "        async function convertToInteractive(key) {\n",
              "          const element = document.querySelector('#df-35b195eb-4301-4528-a6ac-4f05d530da56');\n",
              "          const dataTable =\n",
              "            await google.colab.kernel.invokeFunction('convertToInteractive',\n",
              "                                                     [key], {});\n",
              "          if (!dataTable) return;\n",
              "\n",
              "          const docLinkHtml = 'Like what you see? Visit the ' +\n",
              "            '<a target=\"_blank\" href=https://colab.research.google.com/notebooks/data_table.ipynb>data table notebook</a>'\n",
              "            + ' to learn more about interactive tables.';\n",
              "          element.innerHTML = '';\n",
              "          dataTable['output_type'] = 'display_data';\n",
              "          await google.colab.output.renderOutput(dataTable, element);\n",
              "          const docLink = document.createElement('div');\n",
              "          docLink.innerHTML = docLinkHtml;\n",
              "          element.appendChild(docLink);\n",
              "        }\n",
              "      </script>\n",
              "    </div>\n",
              "  </div>\n",
              "  "
            ]
          },
          "metadata": {},
          "execution_count": 69
        }
      ]
    },
    {
      "cell_type": "code",
      "source": [
        "dataframe = timesData[timesData.year == 2015]  #datadaki 2015 yılından bir filtre oluşturulup, bu filtre dataya uygulanır."
      ],
      "metadata": {
        "id": "rXotVs5KFuK8"
      },
      "execution_count": 70,
      "outputs": []
    },
    {
      "cell_type": "code",
      "source": [
        "data2015 = dataframe.loc[:,[\"research\",\"citations\", \"teaching\"]] \n",
        "#2015 yılındaki research, citations, teaching sütunlarının tüm sütunları data2015 değişkenine aktarılır."
      ],
      "metadata": {
        "id": "mBHgt4TaFxSi"
      },
      "execution_count": 71,
      "outputs": []
    },
    {
      "cell_type": "code",
      "source": [
        "data2015[\"index\"] = np.arange(1,len(data2015)+1) "
      ],
      "metadata": {
        "id": "X3ZpBpAmF2g7"
      },
      "execution_count": 72,
      "outputs": []
    },
    {
      "cell_type": "code",
      "source": [
        "data2015.head()"
      ],
      "metadata": {
        "colab": {
          "base_uri": "https://localhost:8080/",
          "height": 206
        },
        "id": "_ABVp9AcF5Ou",
        "outputId": "06153d90-3bdc-4b8b-eda6-7fcf44529a56"
      },
      "execution_count": 73,
      "outputs": [
        {
          "output_type": "execute_result",
          "data": {
            "text/plain": [
              "      research  citations  teaching  index\n",
              "1402      98.1       99.7      92.2      1\n",
              "1403      98.6       98.9      92.9      2\n",
              "1404      97.7       95.5      88.6      3\n",
              "1405      96.7       99.1      91.5      4\n",
              "1406      95.6       95.2      89.7      5"
            ],
            "text/html": [
              "\n",
              "  <div id=\"df-e47f9e1d-4857-4918-acd4-34b2fb356632\">\n",
              "    <div class=\"colab-df-container\">\n",
              "      <div>\n",
              "<style scoped>\n",
              "    .dataframe tbody tr th:only-of-type {\n",
              "        vertical-align: middle;\n",
              "    }\n",
              "\n",
              "    .dataframe tbody tr th {\n",
              "        vertical-align: top;\n",
              "    }\n",
              "\n",
              "    .dataframe thead th {\n",
              "        text-align: right;\n",
              "    }\n",
              "</style>\n",
              "<table border=\"1\" class=\"dataframe\">\n",
              "  <thead>\n",
              "    <tr style=\"text-align: right;\">\n",
              "      <th></th>\n",
              "      <th>research</th>\n",
              "      <th>citations</th>\n",
              "      <th>teaching</th>\n",
              "      <th>index</th>\n",
              "    </tr>\n",
              "  </thead>\n",
              "  <tbody>\n",
              "    <tr>\n",
              "      <th>1402</th>\n",
              "      <td>98.1</td>\n",
              "      <td>99.7</td>\n",
              "      <td>92.2</td>\n",
              "      <td>1</td>\n",
              "    </tr>\n",
              "    <tr>\n",
              "      <th>1403</th>\n",
              "      <td>98.6</td>\n",
              "      <td>98.9</td>\n",
              "      <td>92.9</td>\n",
              "      <td>2</td>\n",
              "    </tr>\n",
              "    <tr>\n",
              "      <th>1404</th>\n",
              "      <td>97.7</td>\n",
              "      <td>95.5</td>\n",
              "      <td>88.6</td>\n",
              "      <td>3</td>\n",
              "    </tr>\n",
              "    <tr>\n",
              "      <th>1405</th>\n",
              "      <td>96.7</td>\n",
              "      <td>99.1</td>\n",
              "      <td>91.5</td>\n",
              "      <td>4</td>\n",
              "    </tr>\n",
              "    <tr>\n",
              "      <th>1406</th>\n",
              "      <td>95.6</td>\n",
              "      <td>95.2</td>\n",
              "      <td>89.7</td>\n",
              "      <td>5</td>\n",
              "    </tr>\n",
              "  </tbody>\n",
              "</table>\n",
              "</div>\n",
              "      <button class=\"colab-df-convert\" onclick=\"convertToInteractive('df-e47f9e1d-4857-4918-acd4-34b2fb356632')\"\n",
              "              title=\"Convert this dataframe to an interactive table.\"\n",
              "              style=\"display:none;\">\n",
              "        \n",
              "  <svg xmlns=\"http://www.w3.org/2000/svg\" height=\"24px\"viewBox=\"0 0 24 24\"\n",
              "       width=\"24px\">\n",
              "    <path d=\"M0 0h24v24H0V0z\" fill=\"none\"/>\n",
              "    <path d=\"M18.56 5.44l.94 2.06.94-2.06 2.06-.94-2.06-.94-.94-2.06-.94 2.06-2.06.94zm-11 1L8.5 8.5l.94-2.06 2.06-.94-2.06-.94L8.5 2.5l-.94 2.06-2.06.94zm10 10l.94 2.06.94-2.06 2.06-.94-2.06-.94-.94-2.06-.94 2.06-2.06.94z\"/><path d=\"M17.41 7.96l-1.37-1.37c-.4-.4-.92-.59-1.43-.59-.52 0-1.04.2-1.43.59L10.3 9.45l-7.72 7.72c-.78.78-.78 2.05 0 2.83L4 21.41c.39.39.9.59 1.41.59.51 0 1.02-.2 1.41-.59l7.78-7.78 2.81-2.81c.8-.78.8-2.07 0-2.86zM5.41 20L4 18.59l7.72-7.72 1.47 1.35L5.41 20z\"/>\n",
              "  </svg>\n",
              "      </button>\n",
              "      \n",
              "  <style>\n",
              "    .colab-df-container {\n",
              "      display:flex;\n",
              "      flex-wrap:wrap;\n",
              "      gap: 12px;\n",
              "    }\n",
              "\n",
              "    .colab-df-convert {\n",
              "      background-color: #E8F0FE;\n",
              "      border: none;\n",
              "      border-radius: 50%;\n",
              "      cursor: pointer;\n",
              "      display: none;\n",
              "      fill: #1967D2;\n",
              "      height: 32px;\n",
              "      padding: 0 0 0 0;\n",
              "      width: 32px;\n",
              "    }\n",
              "\n",
              "    .colab-df-convert:hover {\n",
              "      background-color: #E2EBFA;\n",
              "      box-shadow: 0px 1px 2px rgba(60, 64, 67, 0.3), 0px 1px 3px 1px rgba(60, 64, 67, 0.15);\n",
              "      fill: #174EA6;\n",
              "    }\n",
              "\n",
              "    [theme=dark] .colab-df-convert {\n",
              "      background-color: #3B4455;\n",
              "      fill: #D2E3FC;\n",
              "    }\n",
              "\n",
              "    [theme=dark] .colab-df-convert:hover {\n",
              "      background-color: #434B5C;\n",
              "      box-shadow: 0px 1px 3px 1px rgba(0, 0, 0, 0.15);\n",
              "      filter: drop-shadow(0px 1px 2px rgba(0, 0, 0, 0.3));\n",
              "      fill: #FFFFFF;\n",
              "    }\n",
              "  </style>\n",
              "\n",
              "      <script>\n",
              "        const buttonEl =\n",
              "          document.querySelector('#df-e47f9e1d-4857-4918-acd4-34b2fb356632 button.colab-df-convert');\n",
              "        buttonEl.style.display =\n",
              "          google.colab.kernel.accessAllowed ? 'block' : 'none';\n",
              "\n",
              "        async function convertToInteractive(key) {\n",
              "          const element = document.querySelector('#df-e47f9e1d-4857-4918-acd4-34b2fb356632');\n",
              "          const dataTable =\n",
              "            await google.colab.kernel.invokeFunction('convertToInteractive',\n",
              "                                                     [key], {});\n",
              "          if (!dataTable) return;\n",
              "\n",
              "          const docLinkHtml = 'Like what you see? Visit the ' +\n",
              "            '<a target=\"_blank\" href=https://colab.research.google.com/notebooks/data_table.ipynb>data table notebook</a>'\n",
              "            + ' to learn more about interactive tables.';\n",
              "          element.innerHTML = '';\n",
              "          dataTable['output_type'] = 'display_data';\n",
              "          await google.colab.output.renderOutput(dataTable, element);\n",
              "          const docLink = document.createElement('div');\n",
              "          docLink.innerHTML = docLinkHtml;\n",
              "          element.appendChild(docLink);\n",
              "        }\n",
              "      </script>\n",
              "    </div>\n",
              "  </div>\n",
              "  "
            ]
          },
          "metadata": {},
          "execution_count": 73
        }
      ]
    },
    {
      "cell_type": "code",
      "source": [
        "fig = ff.create_scatterplotmatrix( #scatter plot matrix \n",
        "                                  data2015, #data \n",
        "                                  diag='box',  # plot türü \n",
        "                                  index='index', #index olarak oluşturulan index sütunu seçilir.\n",
        "                                  colormap='Portland', #derece arttıkça maviden kırmızıya giden bir colormap\n",
        "                                  colormap_type='cat', # categorical demektir ve indeksteki her kategoriye renk haritasından bir renk atanır.\n",
        "                                  height=700, width=700) #boyut\n",
        "iplot(fig) "
      ],
      "metadata": {
        "colab": {
          "base_uri": "https://localhost:8080/",
          "height": 717
        },
        "id": "CRUi2kkfF6T9",
        "outputId": "273f17d0-208d-4841-932c-771caafea9fe"
      },
      "execution_count": 74,
      "outputs": [
        {
          "output_type": "display_data",
          "data": {
            "text/html": [
              "<html>\n",
              "<head><meta charset=\"utf-8\" /></head>\n",
              "<body>\n",
              "    <div>            <script src=\"https://cdnjs.cloudflare.com/ajax/libs/mathjax/2.7.5/MathJax.js?config=TeX-AMS-MML_SVG\"></script><script type=\"text/javascript\">if (window.MathJax && window.MathJax.Hub && window.MathJax.Hub.Config) {window.MathJax.Hub.Config({SVG: {font: \"STIX-Web\"}});}</script>                <script type=\"text/javascript\">window.PlotlyConfig = {MathJaxConfig: 'local'};</script>\n",
              "        <script src=\"https://cdn.plot.ly/plotly-2.8.3.min.js\"></script>                <div id=\"3efb6bfc-865a-40fc-a5f1-02a1769e04ae\" class=\"plotly-graph-div\" style=\"height:700px; width:700px;\"></div>            <script type=\"text/javascript\">                                    window.PLOTLYENV=window.PLOTLYENV || {};                                    if (document.getElementById(\"3efb6bfc-865a-40fc-a5f1-02a1769e04ae\")) {                    Plotly.newPlot(                        \"3efb6bfc-865a-40fc-a5f1-02a1769e04ae\",                        [{\"marker\":{\"color\":\"rgb(12, 51, 131)\"},\"showlegend\":false,\"xaxis\":\"x\",\"y\":[98.1,98.6,97.7,96.7,95.6,88.2,94.7,96.7,88.3,90.8,89.9,90.5,90.2,79.4,84.2,82.0,86.5,75.2,83.8,85.1,78.9,80.4,85.1,74.9,78.1,68.9,71.2,72.0,69.1,79.0,71.3,69.0,70.9,74.2,56.9,62.9,61.4,62.4,69.9,62.3,66.6,55.2,72.6,68.0,70.9,64.7,58.6,61.9,68.3,77.1,66.8,63.2,58.7,54.2,63.6,59.7,46.7,64.8,68.4,60.8,55.9,47.1,46.0,58.2,58.4,49.3,48.0,51.1,37.1,45.4,71.4,53.7,46.8,44.7,41.1,44.6,55.4,36.2,54.8,52.6,58.0,49.4,40.7,54.4,36.9,51.4,38.5,33.9,41.7,51.6,49.1,46.3,32.4,43.2,40.5,38.2,38.3,45.0,37.4,53.0,48.1,50.5,30.0,48.1,45.8,33.1,32.9,37.2,31.9,51.9,35.9,30.4,44.4,44.7,33.8,37.4,50.8,22.4,48.5,33.1,28.2,29.2,39.1,47.1,35.3,29.1,44.8,52.1,53.5,35.9,36.1,36.9,39.1,34.1,42.0,39.9,43.2,30.3,27.6,46.7,26.7,51.9,52.9,47.1,45.3,39.1,29.1,50.2,39.8,35.1,27.5,35.4,47.5,32.7,57.3,29.9,48.0,33.2,38.1,34.4,33.8,36.5,28.1,40.4,36.9,34.9,28.3,47.3,27.2,33.6,35.8,34.9,28.2,30.6,33.4,33.5,24.4,29.3,30.2,19.7,36.3,37.5,27.1,39.7,21.9,35.2,23.9,24.4,51.1,34.7,39.8,32.9,34.0,30.9,22.2,42.1,27.3,22.6,31.6,13.1,25.1,27.7,30.4,22.4,36.3,36.5,44.3,29.6,37.5,22.0,28.8,27.9,22.5,34.1,17.1,34.0,27.3,23.4,51.6,28.2,16.0,45.3,36.2,23.5,19.9,45.8,29.2,29.3,21.4,24.5,30.0,29.9,23.2,31.8,26.2,29.3,35.0,32.3,9.8,28.1,30.5,38.2,24.3,33.4,23.0,32.5,35.7,17.3,32.4,35.3,31.3,10.1,17.0,23.3,40.3,24.8,33.4,25.1,25.2,33.7,27.6,30.7,24.7,18.1,23.4,29.9,27.7,19.2,25.6,37.9,12.1,21.7,20.3,20.3,40.4,32.8,31.3,39.5,25.5,22.5,40.7,29.6,10.5,18.1,36.0,37.9,31.2,45.1,22.9,22.2,23.2,22.4,15.3,19.7,28.9,20.3,22.9,24.4,24.0,27.5,27.8,28.5,40.0,19.3,23.0,17.8,24.3,10.4,20.6,14.3,13.2,17.3,16.5,24.4,24.8,17.2,21.1,26.6,14.7,24.8,28.1,34.7,38.8,25.2,20.7,25.1,23.4,18.4,27.1,16.8,13.7,29.0,25.8,24.0,20.1,29.4,6.5,13.7,16.5,15.7,18.2,18.8,20.5,25.1,17.3,22.2,21.6,12.0,13.6,15.2,33.1,28.5,20.6,21.6,12.9,19.1,17.2,17.1,18.0,20.3,32.3,27.5,24.6,14.3,27.3,10.0,28.5,16.6,27.6,17.8,40.1,32.9,42.6,18.9,22.5,16.3,16.9,25.7,18.1,21.6,15.2,17.3,17.3,10.9,22.8,18.4,16.2,22.0,22.3,10.6,11.8,20.2,21.8,19.4,17.0,17.9,16.3,27.5,22.4,17.4,8.0],\"yaxis\":\"y\",\"type\":\"box\"},{\"marker\":{\"color\":[1,2,3,4,5,6,7,8,9,10,11,12,13,14,15,16,17,18,19,20,21,22,23,24,25,26,27,28,29,30,31,32,33,34,35,36,37,38,39,40,41,42,43,44,45,46,47,48,49,50,51,52,53,54,55,56,57,58,59,60,61,62,63,64,65,66,67,68,69,70,71,72,73,74,75,76,77,78,79,80,81,82,83,84,85,86,87,88,89,90,91,92,93,94,95,96,97,98,99,100,101,102,103,104,105,106,107,108,109,110,111,112,113,114,115,116,117,118,119,120,121,122,123,124,125,126,127,128,129,130,131,132,133,134,135,136,137,138,139,140,141,142,143,144,145,146,147,148,149,150,151,152,153,154,155,156,157,158,159,160,161,162,163,164,165,166,167,168,169,170,171,172,173,174,175,176,177,178,179,180,181,182,183,184,185,186,187,188,189,190,191,192,193,194,195,196,197,198,199,200,201,202,203,204,205,206,207,208,209,210,211,212,213,214,215,216,217,218,219,220,221,222,223,224,225,226,227,228,229,230,231,232,233,234,235,236,237,238,239,240,241,242,243,244,245,246,247,248,249,250,251,252,253,254,255,256,257,258,259,260,261,262,263,264,265,266,267,268,269,270,271,272,273,274,275,276,277,278,279,280,281,282,283,284,285,286,287,288,289,290,291,292,293,294,295,296,297,298,299,300,301,302,303,304,305,306,307,308,309,310,311,312,313,314,315,316,317,318,319,320,321,322,323,324,325,326,327,328,329,330,331,332,333,334,335,336,337,338,339,340,341,342,343,344,345,346,347,348,349,350,351,352,353,354,355,356,357,358,359,360,361,362,363,364,365,366,367,368,369,370,371,372,373,374,375,376,377,378,379,380,381,382,383,384,385,386,387,388,389,390,391,392,393,394,395,396,397,398,399,400,401],\"colorscale\":[[0.0,\"rgb(12, 51, 131)\"],[1.0,\"rgb(217, 30, 30)\"]],\"showscale\":true,\"size\":6},\"mode\":\"markers\",\"showlegend\":false,\"x\":[99.7,98.9,95.5,99.1,95.2,100.0,99.6,99.1,89.4,94.0,97.3,95.3,83.5,95.3,93.6,94.4,88.9,96.6,91.5,83.0,96.9,85.1,74.7,92.0,66.0,95.0,85.8,91.5,83.0,77.8,87.7,85.3,80.6,71.3,95.0,88.3,99.2,89.5,76.0,88.3,96.4,97.1,65.1,76.8,71.1,82.9,91.0,63.7,65.0,48.7,72.9,71.4,74.3,92.0,71.8,80.4,94.4,76.0,57.0,69.0,75.9,79.9,96.4,82.3,74.2,84.4,92.3,80.4,99.9,81.4,42.6,82.3,77.5,85.1,81.4,81.3,76.6,84.8,80.0,71.9,67.6,74.0,88.9,65.7,92.0,74.0,90.0,92.9,89.5,73.8,78.7,84.4,89.5,78.8,83.7,87.7,97.4,90.9,78.8,70.9,70.1,62.2,83.3,79.0,68.2,81.4,88.9,78.2,100.0,61.1,81.4,92.8,62.9,74.0,90.5,82.9,68.1,98.9,74.9,87.7,79.6,87.7,74.3,61.8,86.6,95.9,55.1,62.2,57.8,76.9,78.0,70.1,83.6,79.7,70.8,76.5,74.9,77.6,96.8,73.9,97.1,55.1,48.1,57.3,71.0,69.3,95.3,51.7,62.7,73.1,91.5,80.4,66.5,78.0,47.7,75.0,51.1,76.2,62.2,73.5,73.0,75.0,74.0,61.1,79.7,62.9,88.3,49.6,73.1,67.7,62.7,67.7,62.2,86.7,68.4,71.0,87.1,73.0,74.3,92.2,73.1,73.1,88.5,56.3,81.3,66.3,77.8,80.4,45.5,62.9,57.5,68.6,61.0,72.0,83.8,33.8,86.4,83.7,67.1,99.2,70.0,76.0,69.3,78.8,57.2,56.5,39.9,70.3,52.0,73.0,79.7,68.5,84.4,55.1,77.0,58.1,73.6,74.0,32.3,77.8,88.1,49.4,64.4,81.3,78.7,44.3,67.0,60.4,75.3,76.9,54.4,58.1,55.1,59.9,67.8,67.6,68.9,47.0,100.0,61.7,59.4,64.4,70.8,59.4,76.6,58.7,47.0,81.4,41.7,62.9,50.2,99.7,71.1,59.6,49.1,62.8,48.2,52.2,59.9,42.0,55.7,51.5,74.8,73.0,73.1,57.5,57.6,75.6,64.5,55.1,89.8,67.3,70.3,72.5,47.0,40.8,59.9,51.6,59.9,67.4,40.4,49.6,84.4,80.5,42.9,38.9,45.6,34.9,51.1,56.9,64.5,67.8,68.7,58.6,46.6,68.1,66.9,57.5,52.7,55.1,55.1,53.8,40.7,59.7,55.8,64.5,50.1,63.3,57.5,57.5,70.8,50.3,61.0,58.5,50.2,70.5,63.3,55.8,59.6,65.6,50.7,50.4,28.0,54.1,53.9,47.5,53.8,65.3,45.4,67.0,64.1,39.3,44.2,50.2,62.2,48.2,83.0,75.0,51.5,57.5,68.0,69.2,61.2,49.9,56.9,58.7,51.1,72.7,70.0,61.0,40.2,39.9,52.2,45.1,61.8,52.0,62.6,45.3,57.6,53.9,29.0,32.2,43.5,62.6,48.9,75.0,33.6,56.3,51.5,46.5,28.4,39.0,30.9,43.5,42.0,50.2,53.2,52.7,52.0,53.8,64.5,60.8,55.1,65.0,44.8,44.6,60.6,46.6,41.7,61.6,62.1,63.3,47.7,57.5,50.0,48.1,55.5,44.2,58.7,48.5,75.8],\"xaxis\":\"x2\",\"y\":[98.1,98.6,97.7,96.7,95.6,88.2,94.7,96.7,88.3,90.8,89.9,90.5,90.2,79.4,84.2,82.0,86.5,75.2,83.8,85.1,78.9,80.4,85.1,74.9,78.1,68.9,71.2,72.0,69.1,79.0,71.3,69.0,70.9,74.2,56.9,62.9,61.4,62.4,69.9,62.3,66.6,55.2,72.6,68.0,70.9,64.7,58.6,61.9,68.3,77.1,66.8,63.2,58.7,54.2,63.6,59.7,46.7,64.8,68.4,60.8,55.9,47.1,46.0,58.2,58.4,49.3,48.0,51.1,37.1,45.4,71.4,53.7,46.8,44.7,41.1,44.6,55.4,36.2,54.8,52.6,58.0,49.4,40.7,54.4,36.9,51.4,38.5,33.9,41.7,51.6,49.1,46.3,32.4,43.2,40.5,38.2,38.3,45.0,37.4,53.0,48.1,50.5,30.0,48.1,45.8,33.1,32.9,37.2,31.9,51.9,35.9,30.4,44.4,44.7,33.8,37.4,50.8,22.4,48.5,33.1,28.2,29.2,39.1,47.1,35.3,29.1,44.8,52.1,53.5,35.9,36.1,36.9,39.1,34.1,42.0,39.9,43.2,30.3,27.6,46.7,26.7,51.9,52.9,47.1,45.3,39.1,29.1,50.2,39.8,35.1,27.5,35.4,47.5,32.7,57.3,29.9,48.0,33.2,38.1,34.4,33.8,36.5,28.1,40.4,36.9,34.9,28.3,47.3,27.2,33.6,35.8,34.9,28.2,30.6,33.4,33.5,24.4,29.3,30.2,19.7,36.3,37.5,27.1,39.7,21.9,35.2,23.9,24.4,51.1,34.7,39.8,32.9,34.0,30.9,22.2,42.1,27.3,22.6,31.6,13.1,25.1,27.7,30.4,22.4,36.3,36.5,44.3,29.6,37.5,22.0,28.8,27.9,22.5,34.1,17.1,34.0,27.3,23.4,51.6,28.2,16.0,45.3,36.2,23.5,19.9,45.8,29.2,29.3,21.4,24.5,30.0,29.9,23.2,31.8,26.2,29.3,35.0,32.3,9.8,28.1,30.5,38.2,24.3,33.4,23.0,32.5,35.7,17.3,32.4,35.3,31.3,10.1,17.0,23.3,40.3,24.8,33.4,25.1,25.2,33.7,27.6,30.7,24.7,18.1,23.4,29.9,27.7,19.2,25.6,37.9,12.1,21.7,20.3,20.3,40.4,32.8,31.3,39.5,25.5,22.5,40.7,29.6,10.5,18.1,36.0,37.9,31.2,45.1,22.9,22.2,23.2,22.4,15.3,19.7,28.9,20.3,22.9,24.4,24.0,27.5,27.8,28.5,40.0,19.3,23.0,17.8,24.3,10.4,20.6,14.3,13.2,17.3,16.5,24.4,24.8,17.2,21.1,26.6,14.7,24.8,28.1,34.7,38.8,25.2,20.7,25.1,23.4,18.4,27.1,16.8,13.7,29.0,25.8,24.0,20.1,29.4,6.5,13.7,16.5,15.7,18.2,18.8,20.5,25.1,17.3,22.2,21.6,12.0,13.6,15.2,33.1,28.5,20.6,21.6,12.9,19.1,17.2,17.1,18.0,20.3,32.3,27.5,24.6,14.3,27.3,10.0,28.5,16.6,27.6,17.8,40.1,32.9,42.6,18.9,22.5,16.3,16.9,25.7,18.1,21.6,15.2,17.3,17.3,10.9,22.8,18.4,16.2,22.0,22.3,10.6,11.8,20.2,21.8,19.4,17.0,17.9,16.3,27.5,22.4,17.4,8.0],\"yaxis\":\"y2\",\"type\":\"scatter\"},{\"marker\":{\"color\":[1,2,3,4,5,6,7,8,9,10,11,12,13,14,15,16,17,18,19,20,21,22,23,24,25,26,27,28,29,30,31,32,33,34,35,36,37,38,39,40,41,42,43,44,45,46,47,48,49,50,51,52,53,54,55,56,57,58,59,60,61,62,63,64,65,66,67,68,69,70,71,72,73,74,75,76,77,78,79,80,81,82,83,84,85,86,87,88,89,90,91,92,93,94,95,96,97,98,99,100,101,102,103,104,105,106,107,108,109,110,111,112,113,114,115,116,117,118,119,120,121,122,123,124,125,126,127,128,129,130,131,132,133,134,135,136,137,138,139,140,141,142,143,144,145,146,147,148,149,150,151,152,153,154,155,156,157,158,159,160,161,162,163,164,165,166,167,168,169,170,171,172,173,174,175,176,177,178,179,180,181,182,183,184,185,186,187,188,189,190,191,192,193,194,195,196,197,198,199,200,201,202,203,204,205,206,207,208,209,210,211,212,213,214,215,216,217,218,219,220,221,222,223,224,225,226,227,228,229,230,231,232,233,234,235,236,237,238,239,240,241,242,243,244,245,246,247,248,249,250,251,252,253,254,255,256,257,258,259,260,261,262,263,264,265,266,267,268,269,270,271,272,273,274,275,276,277,278,279,280,281,282,283,284,285,286,287,288,289,290,291,292,293,294,295,296,297,298,299,300,301,302,303,304,305,306,307,308,309,310,311,312,313,314,315,316,317,318,319,320,321,322,323,324,325,326,327,328,329,330,331,332,333,334,335,336,337,338,339,340,341,342,343,344,345,346,347,348,349,350,351,352,353,354,355,356,357,358,359,360,361,362,363,364,365,366,367,368,369,370,371,372,373,374,375,376,377,378,379,380,381,382,383,384,385,386,387,388,389,390,391,392,393,394,395,396,397,398,399,400,401],\"colorscale\":[[0.0,\"rgb(12, 51, 131)\"],[1.0,\"rgb(217, 30, 30)\"]],\"showscale\":false,\"size\":6},\"mode\":\"markers\",\"showlegend\":false,\"x\":[92.2,92.9,88.6,91.5,89.7,89.1,86.6,84.2,84.6,88.5,83.9,82.4,78.2,83.9,75.6,79.0,77.0,73.5,71.6,74.4,72.7,70.4,81.4,61.6,72.0,64.5,62.5,64.3,65.1,67.7,67.7,60.5,60.4,65.4,54.7,58.9,49.4,68.3,63.3,55.6,52.0,57.6,62.1,57.1,53.7,59.9,57.9,70.0,64.1,75.5,51.8,63.5,58.1,55.5,53.0,54.4,56.4,54.6,70.4,52.8,43.9,50.5,48.2,45.0,45.8,52.7,46.9,54.0,41.7,52.6,55.5,39.8,44.3,43.7,41.2,55.2,42.0,48.7,38.2,51.9,49.4,51.1,37.2,43.7,45.5,44.9,43.3,43.6,39.5,42.5,44.8,45.2,49.0,38.1,37.0,46.0,35.0,30.1,45.6,40.2,32.4,47.8,47.3,37.5,41.1,40.2,32.4,34.5,30.6,41.1,35.7,31.9,43.8,41.5,32.2,46.5,36.9,29.1,32.6,37.3,39.9,41.9,40.0,43.8,26.8,32.4,45.7,49.8,43.9,48.7,35.4,42.0,36.5,35.2,39.8,29.4,35.5,39.4,28.5,30.5,26.1,46.2,53.5,38.3,40.5,39.4,25.8,48.1,42.8,46.5,29.4,38.3,30.9,32.0,48.8,39.0,51.3,31.3,36.3,34.0,38.1,38.8,38.0,33.8,30.2,40.5,25.1,49.7,42.7,34.6,39.9,37.9,51.1,21.6,28.6,41.9,32.4,38.0,28.0,25.6,29.0,35.7,26.0,35.2,36.4,36.1,45.2,32.8,43.5,37.9,40.1,31.0,45.6,36.4,32.2,55.9,23.1,25.2,29.8,19.7,44.6,28.0,30.5,28.1,41.5,33.7,48.9,30.3,36.9,35.0,28.4,29.5,24.4,43.0,23.9,32.8,36.9,28.6,51.6,26.0,28.7,32.3,26.7,33.3,36.8,44.5,30.4,28.3,22.1,24.3,33.6,35.8,39.6,37.5,30.9,24.6,25.7,42.2,19.6,31.7,34.4,24.1,31.1,30.5,27.1,27.8,38.3,28.6,43.3,27.5,31.8,13.0,28.6,34.6,39.4,26.7,37.3,30.1,27.9,36.9,33.9,35.1,14.9,30.6,29.6,26.5,27.1,26.3,32.3,27.7,17.3,22.3,26.8,29.4,30.9,35.7,27.6,32.6,25.2,23.7,35.0,33.5,23.7,18.4,29.9,37.9,30.0,33.0,42.7,26.7,31.0,32.0,28.4,29.2,39.7,17.1,25.3,31.0,25.7,34.5,25.2,21.6,40.1,28.6,22.4,20.3,31.5,40.7,20.1,31.8,21.2,40.2,27.0,21.6,24.0,24.6,27.8,27.6,34.9,19.7,32.3,28.7,43.4,32.5,40.7,29.2,21.1,25.6,37.6,19.0,21.9,31.6,39.3,27.6,30.6,31.6,16.3,29.1,36.4,32.6,20.7,22.4,19.5,21.5,30.6,22.9,33.4,17.9,20.8,32.0,36.0,23.8,20.7,19.4,21.3,27.5,19.1,20.1,23.5,26.3,31.5,38.4,34.2,25.2,20.7,16.7,36.5,25.4,20.2,21.2,31.8,26.4,27.7,24.7,31.5,20.2,20.7,21.2,29.1,24.3,19.5,18.1,23.7,16.2,30.1,25.9,20.2,31.7,29.5,16.1,19.3,21.0,24.3,26.8,18.6,31.2,25.5,28.5,17.8,34.1,16.2],\"xaxis\":\"x3\",\"y\":[98.1,98.6,97.7,96.7,95.6,88.2,94.7,96.7,88.3,90.8,89.9,90.5,90.2,79.4,84.2,82.0,86.5,75.2,83.8,85.1,78.9,80.4,85.1,74.9,78.1,68.9,71.2,72.0,69.1,79.0,71.3,69.0,70.9,74.2,56.9,62.9,61.4,62.4,69.9,62.3,66.6,55.2,72.6,68.0,70.9,64.7,58.6,61.9,68.3,77.1,66.8,63.2,58.7,54.2,63.6,59.7,46.7,64.8,68.4,60.8,55.9,47.1,46.0,58.2,58.4,49.3,48.0,51.1,37.1,45.4,71.4,53.7,46.8,44.7,41.1,44.6,55.4,36.2,54.8,52.6,58.0,49.4,40.7,54.4,36.9,51.4,38.5,33.9,41.7,51.6,49.1,46.3,32.4,43.2,40.5,38.2,38.3,45.0,37.4,53.0,48.1,50.5,30.0,48.1,45.8,33.1,32.9,37.2,31.9,51.9,35.9,30.4,44.4,44.7,33.8,37.4,50.8,22.4,48.5,33.1,28.2,29.2,39.1,47.1,35.3,29.1,44.8,52.1,53.5,35.9,36.1,36.9,39.1,34.1,42.0,39.9,43.2,30.3,27.6,46.7,26.7,51.9,52.9,47.1,45.3,39.1,29.1,50.2,39.8,35.1,27.5,35.4,47.5,32.7,57.3,29.9,48.0,33.2,38.1,34.4,33.8,36.5,28.1,40.4,36.9,34.9,28.3,47.3,27.2,33.6,35.8,34.9,28.2,30.6,33.4,33.5,24.4,29.3,30.2,19.7,36.3,37.5,27.1,39.7,21.9,35.2,23.9,24.4,51.1,34.7,39.8,32.9,34.0,30.9,22.2,42.1,27.3,22.6,31.6,13.1,25.1,27.7,30.4,22.4,36.3,36.5,44.3,29.6,37.5,22.0,28.8,27.9,22.5,34.1,17.1,34.0,27.3,23.4,51.6,28.2,16.0,45.3,36.2,23.5,19.9,45.8,29.2,29.3,21.4,24.5,30.0,29.9,23.2,31.8,26.2,29.3,35.0,32.3,9.8,28.1,30.5,38.2,24.3,33.4,23.0,32.5,35.7,17.3,32.4,35.3,31.3,10.1,17.0,23.3,40.3,24.8,33.4,25.1,25.2,33.7,27.6,30.7,24.7,18.1,23.4,29.9,27.7,19.2,25.6,37.9,12.1,21.7,20.3,20.3,40.4,32.8,31.3,39.5,25.5,22.5,40.7,29.6,10.5,18.1,36.0,37.9,31.2,45.1,22.9,22.2,23.2,22.4,15.3,19.7,28.9,20.3,22.9,24.4,24.0,27.5,27.8,28.5,40.0,19.3,23.0,17.8,24.3,10.4,20.6,14.3,13.2,17.3,16.5,24.4,24.8,17.2,21.1,26.6,14.7,24.8,28.1,34.7,38.8,25.2,20.7,25.1,23.4,18.4,27.1,16.8,13.7,29.0,25.8,24.0,20.1,29.4,6.5,13.7,16.5,15.7,18.2,18.8,20.5,25.1,17.3,22.2,21.6,12.0,13.6,15.2,33.1,28.5,20.6,21.6,12.9,19.1,17.2,17.1,18.0,20.3,32.3,27.5,24.6,14.3,27.3,10.0,28.5,16.6,27.6,17.8,40.1,32.9,42.6,18.9,22.5,16.3,16.9,25.7,18.1,21.6,15.2,17.3,17.3,10.9,22.8,18.4,16.2,22.0,22.3,10.6,11.8,20.2,21.8,19.4,17.0,17.9,16.3,27.5,22.4,17.4,8.0],\"yaxis\":\"y3\",\"type\":\"scatter\"},{\"marker\":{\"color\":[1,2,3,4,5,6,7,8,9,10,11,12,13,14,15,16,17,18,19,20,21,22,23,24,25,26,27,28,29,30,31,32,33,34,35,36,37,38,39,40,41,42,43,44,45,46,47,48,49,50,51,52,53,54,55,56,57,58,59,60,61,62,63,64,65,66,67,68,69,70,71,72,73,74,75,76,77,78,79,80,81,82,83,84,85,86,87,88,89,90,91,92,93,94,95,96,97,98,99,100,101,102,103,104,105,106,107,108,109,110,111,112,113,114,115,116,117,118,119,120,121,122,123,124,125,126,127,128,129,130,131,132,133,134,135,136,137,138,139,140,141,142,143,144,145,146,147,148,149,150,151,152,153,154,155,156,157,158,159,160,161,162,163,164,165,166,167,168,169,170,171,172,173,174,175,176,177,178,179,180,181,182,183,184,185,186,187,188,189,190,191,192,193,194,195,196,197,198,199,200,201,202,203,204,205,206,207,208,209,210,211,212,213,214,215,216,217,218,219,220,221,222,223,224,225,226,227,228,229,230,231,232,233,234,235,236,237,238,239,240,241,242,243,244,245,246,247,248,249,250,251,252,253,254,255,256,257,258,259,260,261,262,263,264,265,266,267,268,269,270,271,272,273,274,275,276,277,278,279,280,281,282,283,284,285,286,287,288,289,290,291,292,293,294,295,296,297,298,299,300,301,302,303,304,305,306,307,308,309,310,311,312,313,314,315,316,317,318,319,320,321,322,323,324,325,326,327,328,329,330,331,332,333,334,335,336,337,338,339,340,341,342,343,344,345,346,347,348,349,350,351,352,353,354,355,356,357,358,359,360,361,362,363,364,365,366,367,368,369,370,371,372,373,374,375,376,377,378,379,380,381,382,383,384,385,386,387,388,389,390,391,392,393,394,395,396,397,398,399,400,401],\"colorscale\":[[0.0,\"rgb(12, 51, 131)\"],[1.0,\"rgb(217, 30, 30)\"]],\"showscale\":false,\"size\":6},\"mode\":\"markers\",\"showlegend\":false,\"x\":[98.1,98.6,97.7,96.7,95.6,88.2,94.7,96.7,88.3,90.8,89.9,90.5,90.2,79.4,84.2,82.0,86.5,75.2,83.8,85.1,78.9,80.4,85.1,74.9,78.1,68.9,71.2,72.0,69.1,79.0,71.3,69.0,70.9,74.2,56.9,62.9,61.4,62.4,69.9,62.3,66.6,55.2,72.6,68.0,70.9,64.7,58.6,61.9,68.3,77.1,66.8,63.2,58.7,54.2,63.6,59.7,46.7,64.8,68.4,60.8,55.9,47.1,46.0,58.2,58.4,49.3,48.0,51.1,37.1,45.4,71.4,53.7,46.8,44.7,41.1,44.6,55.4,36.2,54.8,52.6,58.0,49.4,40.7,54.4,36.9,51.4,38.5,33.9,41.7,51.6,49.1,46.3,32.4,43.2,40.5,38.2,38.3,45.0,37.4,53.0,48.1,50.5,30.0,48.1,45.8,33.1,32.9,37.2,31.9,51.9,35.9,30.4,44.4,44.7,33.8,37.4,50.8,22.4,48.5,33.1,28.2,29.2,39.1,47.1,35.3,29.1,44.8,52.1,53.5,35.9,36.1,36.9,39.1,34.1,42.0,39.9,43.2,30.3,27.6,46.7,26.7,51.9,52.9,47.1,45.3,39.1,29.1,50.2,39.8,35.1,27.5,35.4,47.5,32.7,57.3,29.9,48.0,33.2,38.1,34.4,33.8,36.5,28.1,40.4,36.9,34.9,28.3,47.3,27.2,33.6,35.8,34.9,28.2,30.6,33.4,33.5,24.4,29.3,30.2,19.7,36.3,37.5,27.1,39.7,21.9,35.2,23.9,24.4,51.1,34.7,39.8,32.9,34.0,30.9,22.2,42.1,27.3,22.6,31.6,13.1,25.1,27.7,30.4,22.4,36.3,36.5,44.3,29.6,37.5,22.0,28.8,27.9,22.5,34.1,17.1,34.0,27.3,23.4,51.6,28.2,16.0,45.3,36.2,23.5,19.9,45.8,29.2,29.3,21.4,24.5,30.0,29.9,23.2,31.8,26.2,29.3,35.0,32.3,9.8,28.1,30.5,38.2,24.3,33.4,23.0,32.5,35.7,17.3,32.4,35.3,31.3,10.1,17.0,23.3,40.3,24.8,33.4,25.1,25.2,33.7,27.6,30.7,24.7,18.1,23.4,29.9,27.7,19.2,25.6,37.9,12.1,21.7,20.3,20.3,40.4,32.8,31.3,39.5,25.5,22.5,40.7,29.6,10.5,18.1,36.0,37.9,31.2,45.1,22.9,22.2,23.2,22.4,15.3,19.7,28.9,20.3,22.9,24.4,24.0,27.5,27.8,28.5,40.0,19.3,23.0,17.8,24.3,10.4,20.6,14.3,13.2,17.3,16.5,24.4,24.8,17.2,21.1,26.6,14.7,24.8,28.1,34.7,38.8,25.2,20.7,25.1,23.4,18.4,27.1,16.8,13.7,29.0,25.8,24.0,20.1,29.4,6.5,13.7,16.5,15.7,18.2,18.8,20.5,25.1,17.3,22.2,21.6,12.0,13.6,15.2,33.1,28.5,20.6,21.6,12.9,19.1,17.2,17.1,18.0,20.3,32.3,27.5,24.6,14.3,27.3,10.0,28.5,16.6,27.6,17.8,40.1,32.9,42.6,18.9,22.5,16.3,16.9,25.7,18.1,21.6,15.2,17.3,17.3,10.9,22.8,18.4,16.2,22.0,22.3,10.6,11.8,20.2,21.8,19.4,17.0,17.9,16.3,27.5,22.4,17.4,8.0],\"xaxis\":\"x4\",\"y\":[99.7,98.9,95.5,99.1,95.2,100.0,99.6,99.1,89.4,94.0,97.3,95.3,83.5,95.3,93.6,94.4,88.9,96.6,91.5,83.0,96.9,85.1,74.7,92.0,66.0,95.0,85.8,91.5,83.0,77.8,87.7,85.3,80.6,71.3,95.0,88.3,99.2,89.5,76.0,88.3,96.4,97.1,65.1,76.8,71.1,82.9,91.0,63.7,65.0,48.7,72.9,71.4,74.3,92.0,71.8,80.4,94.4,76.0,57.0,69.0,75.9,79.9,96.4,82.3,74.2,84.4,92.3,80.4,99.9,81.4,42.6,82.3,77.5,85.1,81.4,81.3,76.6,84.8,80.0,71.9,67.6,74.0,88.9,65.7,92.0,74.0,90.0,92.9,89.5,73.8,78.7,84.4,89.5,78.8,83.7,87.7,97.4,90.9,78.8,70.9,70.1,62.2,83.3,79.0,68.2,81.4,88.9,78.2,100.0,61.1,81.4,92.8,62.9,74.0,90.5,82.9,68.1,98.9,74.9,87.7,79.6,87.7,74.3,61.8,86.6,95.9,55.1,62.2,57.8,76.9,78.0,70.1,83.6,79.7,70.8,76.5,74.9,77.6,96.8,73.9,97.1,55.1,48.1,57.3,71.0,69.3,95.3,51.7,62.7,73.1,91.5,80.4,66.5,78.0,47.7,75.0,51.1,76.2,62.2,73.5,73.0,75.0,74.0,61.1,79.7,62.9,88.3,49.6,73.1,67.7,62.7,67.7,62.2,86.7,68.4,71.0,87.1,73.0,74.3,92.2,73.1,73.1,88.5,56.3,81.3,66.3,77.8,80.4,45.5,62.9,57.5,68.6,61.0,72.0,83.8,33.8,86.4,83.7,67.1,99.2,70.0,76.0,69.3,78.8,57.2,56.5,39.9,70.3,52.0,73.0,79.7,68.5,84.4,55.1,77.0,58.1,73.6,74.0,32.3,77.8,88.1,49.4,64.4,81.3,78.7,44.3,67.0,60.4,75.3,76.9,54.4,58.1,55.1,59.9,67.8,67.6,68.9,47.0,100.0,61.7,59.4,64.4,70.8,59.4,76.6,58.7,47.0,81.4,41.7,62.9,50.2,99.7,71.1,59.6,49.1,62.8,48.2,52.2,59.9,42.0,55.7,51.5,74.8,73.0,73.1,57.5,57.6,75.6,64.5,55.1,89.8,67.3,70.3,72.5,47.0,40.8,59.9,51.6,59.9,67.4,40.4,49.6,84.4,80.5,42.9,38.9,45.6,34.9,51.1,56.9,64.5,67.8,68.7,58.6,46.6,68.1,66.9,57.5,52.7,55.1,55.1,53.8,40.7,59.7,55.8,64.5,50.1,63.3,57.5,57.5,70.8,50.3,61.0,58.5,50.2,70.5,63.3,55.8,59.6,65.6,50.7,50.4,28.0,54.1,53.9,47.5,53.8,65.3,45.4,67.0,64.1,39.3,44.2,50.2,62.2,48.2,83.0,75.0,51.5,57.5,68.0,69.2,61.2,49.9,56.9,58.7,51.1,72.7,70.0,61.0,40.2,39.9,52.2,45.1,61.8,52.0,62.6,45.3,57.6,53.9,29.0,32.2,43.5,62.6,48.9,75.0,33.6,56.3,51.5,46.5,28.4,39.0,30.9,43.5,42.0,50.2,53.2,52.7,52.0,53.8,64.5,60.8,55.1,65.0,44.8,44.6,60.6,46.6,41.7,61.6,62.1,63.3,47.7,57.5,50.0,48.1,55.5,44.2,58.7,48.5,75.8],\"yaxis\":\"y4\",\"type\":\"scatter\"},{\"marker\":{\"color\":\"rgb(12, 51, 131)\"},\"showlegend\":false,\"xaxis\":\"x5\",\"y\":[99.7,98.9,95.5,99.1,95.2,100.0,99.6,99.1,89.4,94.0,97.3,95.3,83.5,95.3,93.6,94.4,88.9,96.6,91.5,83.0,96.9,85.1,74.7,92.0,66.0,95.0,85.8,91.5,83.0,77.8,87.7,85.3,80.6,71.3,95.0,88.3,99.2,89.5,76.0,88.3,96.4,97.1,65.1,76.8,71.1,82.9,91.0,63.7,65.0,48.7,72.9,71.4,74.3,92.0,71.8,80.4,94.4,76.0,57.0,69.0,75.9,79.9,96.4,82.3,74.2,84.4,92.3,80.4,99.9,81.4,42.6,82.3,77.5,85.1,81.4,81.3,76.6,84.8,80.0,71.9,67.6,74.0,88.9,65.7,92.0,74.0,90.0,92.9,89.5,73.8,78.7,84.4,89.5,78.8,83.7,87.7,97.4,90.9,78.8,70.9,70.1,62.2,83.3,79.0,68.2,81.4,88.9,78.2,100.0,61.1,81.4,92.8,62.9,74.0,90.5,82.9,68.1,98.9,74.9,87.7,79.6,87.7,74.3,61.8,86.6,95.9,55.1,62.2,57.8,76.9,78.0,70.1,83.6,79.7,70.8,76.5,74.9,77.6,96.8,73.9,97.1,55.1,48.1,57.3,71.0,69.3,95.3,51.7,62.7,73.1,91.5,80.4,66.5,78.0,47.7,75.0,51.1,76.2,62.2,73.5,73.0,75.0,74.0,61.1,79.7,62.9,88.3,49.6,73.1,67.7,62.7,67.7,62.2,86.7,68.4,71.0,87.1,73.0,74.3,92.2,73.1,73.1,88.5,56.3,81.3,66.3,77.8,80.4,45.5,62.9,57.5,68.6,61.0,72.0,83.8,33.8,86.4,83.7,67.1,99.2,70.0,76.0,69.3,78.8,57.2,56.5,39.9,70.3,52.0,73.0,79.7,68.5,84.4,55.1,77.0,58.1,73.6,74.0,32.3,77.8,88.1,49.4,64.4,81.3,78.7,44.3,67.0,60.4,75.3,76.9,54.4,58.1,55.1,59.9,67.8,67.6,68.9,47.0,100.0,61.7,59.4,64.4,70.8,59.4,76.6,58.7,47.0,81.4,41.7,62.9,50.2,99.7,71.1,59.6,49.1,62.8,48.2,52.2,59.9,42.0,55.7,51.5,74.8,73.0,73.1,57.5,57.6,75.6,64.5,55.1,89.8,67.3,70.3,72.5,47.0,40.8,59.9,51.6,59.9,67.4,40.4,49.6,84.4,80.5,42.9,38.9,45.6,34.9,51.1,56.9,64.5,67.8,68.7,58.6,46.6,68.1,66.9,57.5,52.7,55.1,55.1,53.8,40.7,59.7,55.8,64.5,50.1,63.3,57.5,57.5,70.8,50.3,61.0,58.5,50.2,70.5,63.3,55.8,59.6,65.6,50.7,50.4,28.0,54.1,53.9,47.5,53.8,65.3,45.4,67.0,64.1,39.3,44.2,50.2,62.2,48.2,83.0,75.0,51.5,57.5,68.0,69.2,61.2,49.9,56.9,58.7,51.1,72.7,70.0,61.0,40.2,39.9,52.2,45.1,61.8,52.0,62.6,45.3,57.6,53.9,29.0,32.2,43.5,62.6,48.9,75.0,33.6,56.3,51.5,46.5,28.4,39.0,30.9,43.5,42.0,50.2,53.2,52.7,52.0,53.8,64.5,60.8,55.1,65.0,44.8,44.6,60.6,46.6,41.7,61.6,62.1,63.3,47.7,57.5,50.0,48.1,55.5,44.2,58.7,48.5,75.8],\"yaxis\":\"y5\",\"type\":\"box\"},{\"marker\":{\"color\":[1,2,3,4,5,6,7,8,9,10,11,12,13,14,15,16,17,18,19,20,21,22,23,24,25,26,27,28,29,30,31,32,33,34,35,36,37,38,39,40,41,42,43,44,45,46,47,48,49,50,51,52,53,54,55,56,57,58,59,60,61,62,63,64,65,66,67,68,69,70,71,72,73,74,75,76,77,78,79,80,81,82,83,84,85,86,87,88,89,90,91,92,93,94,95,96,97,98,99,100,101,102,103,104,105,106,107,108,109,110,111,112,113,114,115,116,117,118,119,120,121,122,123,124,125,126,127,128,129,130,131,132,133,134,135,136,137,138,139,140,141,142,143,144,145,146,147,148,149,150,151,152,153,154,155,156,157,158,159,160,161,162,163,164,165,166,167,168,169,170,171,172,173,174,175,176,177,178,179,180,181,182,183,184,185,186,187,188,189,190,191,192,193,194,195,196,197,198,199,200,201,202,203,204,205,206,207,208,209,210,211,212,213,214,215,216,217,218,219,220,221,222,223,224,225,226,227,228,229,230,231,232,233,234,235,236,237,238,239,240,241,242,243,244,245,246,247,248,249,250,251,252,253,254,255,256,257,258,259,260,261,262,263,264,265,266,267,268,269,270,271,272,273,274,275,276,277,278,279,280,281,282,283,284,285,286,287,288,289,290,291,292,293,294,295,296,297,298,299,300,301,302,303,304,305,306,307,308,309,310,311,312,313,314,315,316,317,318,319,320,321,322,323,324,325,326,327,328,329,330,331,332,333,334,335,336,337,338,339,340,341,342,343,344,345,346,347,348,349,350,351,352,353,354,355,356,357,358,359,360,361,362,363,364,365,366,367,368,369,370,371,372,373,374,375,376,377,378,379,380,381,382,383,384,385,386,387,388,389,390,391,392,393,394,395,396,397,398,399,400,401],\"colorscale\":[[0.0,\"rgb(12, 51, 131)\"],[1.0,\"rgb(217, 30, 30)\"]],\"showscale\":false,\"size\":6},\"mode\":\"markers\",\"showlegend\":false,\"x\":[92.2,92.9,88.6,91.5,89.7,89.1,86.6,84.2,84.6,88.5,83.9,82.4,78.2,83.9,75.6,79.0,77.0,73.5,71.6,74.4,72.7,70.4,81.4,61.6,72.0,64.5,62.5,64.3,65.1,67.7,67.7,60.5,60.4,65.4,54.7,58.9,49.4,68.3,63.3,55.6,52.0,57.6,62.1,57.1,53.7,59.9,57.9,70.0,64.1,75.5,51.8,63.5,58.1,55.5,53.0,54.4,56.4,54.6,70.4,52.8,43.9,50.5,48.2,45.0,45.8,52.7,46.9,54.0,41.7,52.6,55.5,39.8,44.3,43.7,41.2,55.2,42.0,48.7,38.2,51.9,49.4,51.1,37.2,43.7,45.5,44.9,43.3,43.6,39.5,42.5,44.8,45.2,49.0,38.1,37.0,46.0,35.0,30.1,45.6,40.2,32.4,47.8,47.3,37.5,41.1,40.2,32.4,34.5,30.6,41.1,35.7,31.9,43.8,41.5,32.2,46.5,36.9,29.1,32.6,37.3,39.9,41.9,40.0,43.8,26.8,32.4,45.7,49.8,43.9,48.7,35.4,42.0,36.5,35.2,39.8,29.4,35.5,39.4,28.5,30.5,26.1,46.2,53.5,38.3,40.5,39.4,25.8,48.1,42.8,46.5,29.4,38.3,30.9,32.0,48.8,39.0,51.3,31.3,36.3,34.0,38.1,38.8,38.0,33.8,30.2,40.5,25.1,49.7,42.7,34.6,39.9,37.9,51.1,21.6,28.6,41.9,32.4,38.0,28.0,25.6,29.0,35.7,26.0,35.2,36.4,36.1,45.2,32.8,43.5,37.9,40.1,31.0,45.6,36.4,32.2,55.9,23.1,25.2,29.8,19.7,44.6,28.0,30.5,28.1,41.5,33.7,48.9,30.3,36.9,35.0,28.4,29.5,24.4,43.0,23.9,32.8,36.9,28.6,51.6,26.0,28.7,32.3,26.7,33.3,36.8,44.5,30.4,28.3,22.1,24.3,33.6,35.8,39.6,37.5,30.9,24.6,25.7,42.2,19.6,31.7,34.4,24.1,31.1,30.5,27.1,27.8,38.3,28.6,43.3,27.5,31.8,13.0,28.6,34.6,39.4,26.7,37.3,30.1,27.9,36.9,33.9,35.1,14.9,30.6,29.6,26.5,27.1,26.3,32.3,27.7,17.3,22.3,26.8,29.4,30.9,35.7,27.6,32.6,25.2,23.7,35.0,33.5,23.7,18.4,29.9,37.9,30.0,33.0,42.7,26.7,31.0,32.0,28.4,29.2,39.7,17.1,25.3,31.0,25.7,34.5,25.2,21.6,40.1,28.6,22.4,20.3,31.5,40.7,20.1,31.8,21.2,40.2,27.0,21.6,24.0,24.6,27.8,27.6,34.9,19.7,32.3,28.7,43.4,32.5,40.7,29.2,21.1,25.6,37.6,19.0,21.9,31.6,39.3,27.6,30.6,31.6,16.3,29.1,36.4,32.6,20.7,22.4,19.5,21.5,30.6,22.9,33.4,17.9,20.8,32.0,36.0,23.8,20.7,19.4,21.3,27.5,19.1,20.1,23.5,26.3,31.5,38.4,34.2,25.2,20.7,16.7,36.5,25.4,20.2,21.2,31.8,26.4,27.7,24.7,31.5,20.2,20.7,21.2,29.1,24.3,19.5,18.1,23.7,16.2,30.1,25.9,20.2,31.7,29.5,16.1,19.3,21.0,24.3,26.8,18.6,31.2,25.5,28.5,17.8,34.1,16.2],\"xaxis\":\"x6\",\"y\":[99.7,98.9,95.5,99.1,95.2,100.0,99.6,99.1,89.4,94.0,97.3,95.3,83.5,95.3,93.6,94.4,88.9,96.6,91.5,83.0,96.9,85.1,74.7,92.0,66.0,95.0,85.8,91.5,83.0,77.8,87.7,85.3,80.6,71.3,95.0,88.3,99.2,89.5,76.0,88.3,96.4,97.1,65.1,76.8,71.1,82.9,91.0,63.7,65.0,48.7,72.9,71.4,74.3,92.0,71.8,80.4,94.4,76.0,57.0,69.0,75.9,79.9,96.4,82.3,74.2,84.4,92.3,80.4,99.9,81.4,42.6,82.3,77.5,85.1,81.4,81.3,76.6,84.8,80.0,71.9,67.6,74.0,88.9,65.7,92.0,74.0,90.0,92.9,89.5,73.8,78.7,84.4,89.5,78.8,83.7,87.7,97.4,90.9,78.8,70.9,70.1,62.2,83.3,79.0,68.2,81.4,88.9,78.2,100.0,61.1,81.4,92.8,62.9,74.0,90.5,82.9,68.1,98.9,74.9,87.7,79.6,87.7,74.3,61.8,86.6,95.9,55.1,62.2,57.8,76.9,78.0,70.1,83.6,79.7,70.8,76.5,74.9,77.6,96.8,73.9,97.1,55.1,48.1,57.3,71.0,69.3,95.3,51.7,62.7,73.1,91.5,80.4,66.5,78.0,47.7,75.0,51.1,76.2,62.2,73.5,73.0,75.0,74.0,61.1,79.7,62.9,88.3,49.6,73.1,67.7,62.7,67.7,62.2,86.7,68.4,71.0,87.1,73.0,74.3,92.2,73.1,73.1,88.5,56.3,81.3,66.3,77.8,80.4,45.5,62.9,57.5,68.6,61.0,72.0,83.8,33.8,86.4,83.7,67.1,99.2,70.0,76.0,69.3,78.8,57.2,56.5,39.9,70.3,52.0,73.0,79.7,68.5,84.4,55.1,77.0,58.1,73.6,74.0,32.3,77.8,88.1,49.4,64.4,81.3,78.7,44.3,67.0,60.4,75.3,76.9,54.4,58.1,55.1,59.9,67.8,67.6,68.9,47.0,100.0,61.7,59.4,64.4,70.8,59.4,76.6,58.7,47.0,81.4,41.7,62.9,50.2,99.7,71.1,59.6,49.1,62.8,48.2,52.2,59.9,42.0,55.7,51.5,74.8,73.0,73.1,57.5,57.6,75.6,64.5,55.1,89.8,67.3,70.3,72.5,47.0,40.8,59.9,51.6,59.9,67.4,40.4,49.6,84.4,80.5,42.9,38.9,45.6,34.9,51.1,56.9,64.5,67.8,68.7,58.6,46.6,68.1,66.9,57.5,52.7,55.1,55.1,53.8,40.7,59.7,55.8,64.5,50.1,63.3,57.5,57.5,70.8,50.3,61.0,58.5,50.2,70.5,63.3,55.8,59.6,65.6,50.7,50.4,28.0,54.1,53.9,47.5,53.8,65.3,45.4,67.0,64.1,39.3,44.2,50.2,62.2,48.2,83.0,75.0,51.5,57.5,68.0,69.2,61.2,49.9,56.9,58.7,51.1,72.7,70.0,61.0,40.2,39.9,52.2,45.1,61.8,52.0,62.6,45.3,57.6,53.9,29.0,32.2,43.5,62.6,48.9,75.0,33.6,56.3,51.5,46.5,28.4,39.0,30.9,43.5,42.0,50.2,53.2,52.7,52.0,53.8,64.5,60.8,55.1,65.0,44.8,44.6,60.6,46.6,41.7,61.6,62.1,63.3,47.7,57.5,50.0,48.1,55.5,44.2,58.7,48.5,75.8],\"yaxis\":\"y6\",\"type\":\"scatter\"},{\"marker\":{\"color\":[1,2,3,4,5,6,7,8,9,10,11,12,13,14,15,16,17,18,19,20,21,22,23,24,25,26,27,28,29,30,31,32,33,34,35,36,37,38,39,40,41,42,43,44,45,46,47,48,49,50,51,52,53,54,55,56,57,58,59,60,61,62,63,64,65,66,67,68,69,70,71,72,73,74,75,76,77,78,79,80,81,82,83,84,85,86,87,88,89,90,91,92,93,94,95,96,97,98,99,100,101,102,103,104,105,106,107,108,109,110,111,112,113,114,115,116,117,118,119,120,121,122,123,124,125,126,127,128,129,130,131,132,133,134,135,136,137,138,139,140,141,142,143,144,145,146,147,148,149,150,151,152,153,154,155,156,157,158,159,160,161,162,163,164,165,166,167,168,169,170,171,172,173,174,175,176,177,178,179,180,181,182,183,184,185,186,187,188,189,190,191,192,193,194,195,196,197,198,199,200,201,202,203,204,205,206,207,208,209,210,211,212,213,214,215,216,217,218,219,220,221,222,223,224,225,226,227,228,229,230,231,232,233,234,235,236,237,238,239,240,241,242,243,244,245,246,247,248,249,250,251,252,253,254,255,256,257,258,259,260,261,262,263,264,265,266,267,268,269,270,271,272,273,274,275,276,277,278,279,280,281,282,283,284,285,286,287,288,289,290,291,292,293,294,295,296,297,298,299,300,301,302,303,304,305,306,307,308,309,310,311,312,313,314,315,316,317,318,319,320,321,322,323,324,325,326,327,328,329,330,331,332,333,334,335,336,337,338,339,340,341,342,343,344,345,346,347,348,349,350,351,352,353,354,355,356,357,358,359,360,361,362,363,364,365,366,367,368,369,370,371,372,373,374,375,376,377,378,379,380,381,382,383,384,385,386,387,388,389,390,391,392,393,394,395,396,397,398,399,400,401],\"colorscale\":[[0.0,\"rgb(12, 51, 131)\"],[1.0,\"rgb(217, 30, 30)\"]],\"showscale\":false,\"size\":6},\"mode\":\"markers\",\"showlegend\":false,\"x\":[98.1,98.6,97.7,96.7,95.6,88.2,94.7,96.7,88.3,90.8,89.9,90.5,90.2,79.4,84.2,82.0,86.5,75.2,83.8,85.1,78.9,80.4,85.1,74.9,78.1,68.9,71.2,72.0,69.1,79.0,71.3,69.0,70.9,74.2,56.9,62.9,61.4,62.4,69.9,62.3,66.6,55.2,72.6,68.0,70.9,64.7,58.6,61.9,68.3,77.1,66.8,63.2,58.7,54.2,63.6,59.7,46.7,64.8,68.4,60.8,55.9,47.1,46.0,58.2,58.4,49.3,48.0,51.1,37.1,45.4,71.4,53.7,46.8,44.7,41.1,44.6,55.4,36.2,54.8,52.6,58.0,49.4,40.7,54.4,36.9,51.4,38.5,33.9,41.7,51.6,49.1,46.3,32.4,43.2,40.5,38.2,38.3,45.0,37.4,53.0,48.1,50.5,30.0,48.1,45.8,33.1,32.9,37.2,31.9,51.9,35.9,30.4,44.4,44.7,33.8,37.4,50.8,22.4,48.5,33.1,28.2,29.2,39.1,47.1,35.3,29.1,44.8,52.1,53.5,35.9,36.1,36.9,39.1,34.1,42.0,39.9,43.2,30.3,27.6,46.7,26.7,51.9,52.9,47.1,45.3,39.1,29.1,50.2,39.8,35.1,27.5,35.4,47.5,32.7,57.3,29.9,48.0,33.2,38.1,34.4,33.8,36.5,28.1,40.4,36.9,34.9,28.3,47.3,27.2,33.6,35.8,34.9,28.2,30.6,33.4,33.5,24.4,29.3,30.2,19.7,36.3,37.5,27.1,39.7,21.9,35.2,23.9,24.4,51.1,34.7,39.8,32.9,34.0,30.9,22.2,42.1,27.3,22.6,31.6,13.1,25.1,27.7,30.4,22.4,36.3,36.5,44.3,29.6,37.5,22.0,28.8,27.9,22.5,34.1,17.1,34.0,27.3,23.4,51.6,28.2,16.0,45.3,36.2,23.5,19.9,45.8,29.2,29.3,21.4,24.5,30.0,29.9,23.2,31.8,26.2,29.3,35.0,32.3,9.8,28.1,30.5,38.2,24.3,33.4,23.0,32.5,35.7,17.3,32.4,35.3,31.3,10.1,17.0,23.3,40.3,24.8,33.4,25.1,25.2,33.7,27.6,30.7,24.7,18.1,23.4,29.9,27.7,19.2,25.6,37.9,12.1,21.7,20.3,20.3,40.4,32.8,31.3,39.5,25.5,22.5,40.7,29.6,10.5,18.1,36.0,37.9,31.2,45.1,22.9,22.2,23.2,22.4,15.3,19.7,28.9,20.3,22.9,24.4,24.0,27.5,27.8,28.5,40.0,19.3,23.0,17.8,24.3,10.4,20.6,14.3,13.2,17.3,16.5,24.4,24.8,17.2,21.1,26.6,14.7,24.8,28.1,34.7,38.8,25.2,20.7,25.1,23.4,18.4,27.1,16.8,13.7,29.0,25.8,24.0,20.1,29.4,6.5,13.7,16.5,15.7,18.2,18.8,20.5,25.1,17.3,22.2,21.6,12.0,13.6,15.2,33.1,28.5,20.6,21.6,12.9,19.1,17.2,17.1,18.0,20.3,32.3,27.5,24.6,14.3,27.3,10.0,28.5,16.6,27.6,17.8,40.1,32.9,42.6,18.9,22.5,16.3,16.9,25.7,18.1,21.6,15.2,17.3,17.3,10.9,22.8,18.4,16.2,22.0,22.3,10.6,11.8,20.2,21.8,19.4,17.0,17.9,16.3,27.5,22.4,17.4,8.0],\"xaxis\":\"x7\",\"y\":[92.2,92.9,88.6,91.5,89.7,89.1,86.6,84.2,84.6,88.5,83.9,82.4,78.2,83.9,75.6,79.0,77.0,73.5,71.6,74.4,72.7,70.4,81.4,61.6,72.0,64.5,62.5,64.3,65.1,67.7,67.7,60.5,60.4,65.4,54.7,58.9,49.4,68.3,63.3,55.6,52.0,57.6,62.1,57.1,53.7,59.9,57.9,70.0,64.1,75.5,51.8,63.5,58.1,55.5,53.0,54.4,56.4,54.6,70.4,52.8,43.9,50.5,48.2,45.0,45.8,52.7,46.9,54.0,41.7,52.6,55.5,39.8,44.3,43.7,41.2,55.2,42.0,48.7,38.2,51.9,49.4,51.1,37.2,43.7,45.5,44.9,43.3,43.6,39.5,42.5,44.8,45.2,49.0,38.1,37.0,46.0,35.0,30.1,45.6,40.2,32.4,47.8,47.3,37.5,41.1,40.2,32.4,34.5,30.6,41.1,35.7,31.9,43.8,41.5,32.2,46.5,36.9,29.1,32.6,37.3,39.9,41.9,40.0,43.8,26.8,32.4,45.7,49.8,43.9,48.7,35.4,42.0,36.5,35.2,39.8,29.4,35.5,39.4,28.5,30.5,26.1,46.2,53.5,38.3,40.5,39.4,25.8,48.1,42.8,46.5,29.4,38.3,30.9,32.0,48.8,39.0,51.3,31.3,36.3,34.0,38.1,38.8,38.0,33.8,30.2,40.5,25.1,49.7,42.7,34.6,39.9,37.9,51.1,21.6,28.6,41.9,32.4,38.0,28.0,25.6,29.0,35.7,26.0,35.2,36.4,36.1,45.2,32.8,43.5,37.9,40.1,31.0,45.6,36.4,32.2,55.9,23.1,25.2,29.8,19.7,44.6,28.0,30.5,28.1,41.5,33.7,48.9,30.3,36.9,35.0,28.4,29.5,24.4,43.0,23.9,32.8,36.9,28.6,51.6,26.0,28.7,32.3,26.7,33.3,36.8,44.5,30.4,28.3,22.1,24.3,33.6,35.8,39.6,37.5,30.9,24.6,25.7,42.2,19.6,31.7,34.4,24.1,31.1,30.5,27.1,27.8,38.3,28.6,43.3,27.5,31.8,13.0,28.6,34.6,39.4,26.7,37.3,30.1,27.9,36.9,33.9,35.1,14.9,30.6,29.6,26.5,27.1,26.3,32.3,27.7,17.3,22.3,26.8,29.4,30.9,35.7,27.6,32.6,25.2,23.7,35.0,33.5,23.7,18.4,29.9,37.9,30.0,33.0,42.7,26.7,31.0,32.0,28.4,29.2,39.7,17.1,25.3,31.0,25.7,34.5,25.2,21.6,40.1,28.6,22.4,20.3,31.5,40.7,20.1,31.8,21.2,40.2,27.0,21.6,24.0,24.6,27.8,27.6,34.9,19.7,32.3,28.7,43.4,32.5,40.7,29.2,21.1,25.6,37.6,19.0,21.9,31.6,39.3,27.6,30.6,31.6,16.3,29.1,36.4,32.6,20.7,22.4,19.5,21.5,30.6,22.9,33.4,17.9,20.8,32.0,36.0,23.8,20.7,19.4,21.3,27.5,19.1,20.1,23.5,26.3,31.5,38.4,34.2,25.2,20.7,16.7,36.5,25.4,20.2,21.2,31.8,26.4,27.7,24.7,31.5,20.2,20.7,21.2,29.1,24.3,19.5,18.1,23.7,16.2,30.1,25.9,20.2,31.7,29.5,16.1,19.3,21.0,24.3,26.8,18.6,31.2,25.5,28.5,17.8,34.1,16.2],\"yaxis\":\"y7\",\"type\":\"scatter\"},{\"marker\":{\"color\":[1,2,3,4,5,6,7,8,9,10,11,12,13,14,15,16,17,18,19,20,21,22,23,24,25,26,27,28,29,30,31,32,33,34,35,36,37,38,39,40,41,42,43,44,45,46,47,48,49,50,51,52,53,54,55,56,57,58,59,60,61,62,63,64,65,66,67,68,69,70,71,72,73,74,75,76,77,78,79,80,81,82,83,84,85,86,87,88,89,90,91,92,93,94,95,96,97,98,99,100,101,102,103,104,105,106,107,108,109,110,111,112,113,114,115,116,117,118,119,120,121,122,123,124,125,126,127,128,129,130,131,132,133,134,135,136,137,138,139,140,141,142,143,144,145,146,147,148,149,150,151,152,153,154,155,156,157,158,159,160,161,162,163,164,165,166,167,168,169,170,171,172,173,174,175,176,177,178,179,180,181,182,183,184,185,186,187,188,189,190,191,192,193,194,195,196,197,198,199,200,201,202,203,204,205,206,207,208,209,210,211,212,213,214,215,216,217,218,219,220,221,222,223,224,225,226,227,228,229,230,231,232,233,234,235,236,237,238,239,240,241,242,243,244,245,246,247,248,249,250,251,252,253,254,255,256,257,258,259,260,261,262,263,264,265,266,267,268,269,270,271,272,273,274,275,276,277,278,279,280,281,282,283,284,285,286,287,288,289,290,291,292,293,294,295,296,297,298,299,300,301,302,303,304,305,306,307,308,309,310,311,312,313,314,315,316,317,318,319,320,321,322,323,324,325,326,327,328,329,330,331,332,333,334,335,336,337,338,339,340,341,342,343,344,345,346,347,348,349,350,351,352,353,354,355,356,357,358,359,360,361,362,363,364,365,366,367,368,369,370,371,372,373,374,375,376,377,378,379,380,381,382,383,384,385,386,387,388,389,390,391,392,393,394,395,396,397,398,399,400,401],\"colorscale\":[[0.0,\"rgb(12, 51, 131)\"],[1.0,\"rgb(217, 30, 30)\"]],\"showscale\":false,\"size\":6},\"mode\":\"markers\",\"showlegend\":false,\"x\":[99.7,98.9,95.5,99.1,95.2,100.0,99.6,99.1,89.4,94.0,97.3,95.3,83.5,95.3,93.6,94.4,88.9,96.6,91.5,83.0,96.9,85.1,74.7,92.0,66.0,95.0,85.8,91.5,83.0,77.8,87.7,85.3,80.6,71.3,95.0,88.3,99.2,89.5,76.0,88.3,96.4,97.1,65.1,76.8,71.1,82.9,91.0,63.7,65.0,48.7,72.9,71.4,74.3,92.0,71.8,80.4,94.4,76.0,57.0,69.0,75.9,79.9,96.4,82.3,74.2,84.4,92.3,80.4,99.9,81.4,42.6,82.3,77.5,85.1,81.4,81.3,76.6,84.8,80.0,71.9,67.6,74.0,88.9,65.7,92.0,74.0,90.0,92.9,89.5,73.8,78.7,84.4,89.5,78.8,83.7,87.7,97.4,90.9,78.8,70.9,70.1,62.2,83.3,79.0,68.2,81.4,88.9,78.2,100.0,61.1,81.4,92.8,62.9,74.0,90.5,82.9,68.1,98.9,74.9,87.7,79.6,87.7,74.3,61.8,86.6,95.9,55.1,62.2,57.8,76.9,78.0,70.1,83.6,79.7,70.8,76.5,74.9,77.6,96.8,73.9,97.1,55.1,48.1,57.3,71.0,69.3,95.3,51.7,62.7,73.1,91.5,80.4,66.5,78.0,47.7,75.0,51.1,76.2,62.2,73.5,73.0,75.0,74.0,61.1,79.7,62.9,88.3,49.6,73.1,67.7,62.7,67.7,62.2,86.7,68.4,71.0,87.1,73.0,74.3,92.2,73.1,73.1,88.5,56.3,81.3,66.3,77.8,80.4,45.5,62.9,57.5,68.6,61.0,72.0,83.8,33.8,86.4,83.7,67.1,99.2,70.0,76.0,69.3,78.8,57.2,56.5,39.9,70.3,52.0,73.0,79.7,68.5,84.4,55.1,77.0,58.1,73.6,74.0,32.3,77.8,88.1,49.4,64.4,81.3,78.7,44.3,67.0,60.4,75.3,76.9,54.4,58.1,55.1,59.9,67.8,67.6,68.9,47.0,100.0,61.7,59.4,64.4,70.8,59.4,76.6,58.7,47.0,81.4,41.7,62.9,50.2,99.7,71.1,59.6,49.1,62.8,48.2,52.2,59.9,42.0,55.7,51.5,74.8,73.0,73.1,57.5,57.6,75.6,64.5,55.1,89.8,67.3,70.3,72.5,47.0,40.8,59.9,51.6,59.9,67.4,40.4,49.6,84.4,80.5,42.9,38.9,45.6,34.9,51.1,56.9,64.5,67.8,68.7,58.6,46.6,68.1,66.9,57.5,52.7,55.1,55.1,53.8,40.7,59.7,55.8,64.5,50.1,63.3,57.5,57.5,70.8,50.3,61.0,58.5,50.2,70.5,63.3,55.8,59.6,65.6,50.7,50.4,28.0,54.1,53.9,47.5,53.8,65.3,45.4,67.0,64.1,39.3,44.2,50.2,62.2,48.2,83.0,75.0,51.5,57.5,68.0,69.2,61.2,49.9,56.9,58.7,51.1,72.7,70.0,61.0,40.2,39.9,52.2,45.1,61.8,52.0,62.6,45.3,57.6,53.9,29.0,32.2,43.5,62.6,48.9,75.0,33.6,56.3,51.5,46.5,28.4,39.0,30.9,43.5,42.0,50.2,53.2,52.7,52.0,53.8,64.5,60.8,55.1,65.0,44.8,44.6,60.6,46.6,41.7,61.6,62.1,63.3,47.7,57.5,50.0,48.1,55.5,44.2,58.7,48.5,75.8],\"xaxis\":\"x8\",\"y\":[92.2,92.9,88.6,91.5,89.7,89.1,86.6,84.2,84.6,88.5,83.9,82.4,78.2,83.9,75.6,79.0,77.0,73.5,71.6,74.4,72.7,70.4,81.4,61.6,72.0,64.5,62.5,64.3,65.1,67.7,67.7,60.5,60.4,65.4,54.7,58.9,49.4,68.3,63.3,55.6,52.0,57.6,62.1,57.1,53.7,59.9,57.9,70.0,64.1,75.5,51.8,63.5,58.1,55.5,53.0,54.4,56.4,54.6,70.4,52.8,43.9,50.5,48.2,45.0,45.8,52.7,46.9,54.0,41.7,52.6,55.5,39.8,44.3,43.7,41.2,55.2,42.0,48.7,38.2,51.9,49.4,51.1,37.2,43.7,45.5,44.9,43.3,43.6,39.5,42.5,44.8,45.2,49.0,38.1,37.0,46.0,35.0,30.1,45.6,40.2,32.4,47.8,47.3,37.5,41.1,40.2,32.4,34.5,30.6,41.1,35.7,31.9,43.8,41.5,32.2,46.5,36.9,29.1,32.6,37.3,39.9,41.9,40.0,43.8,26.8,32.4,45.7,49.8,43.9,48.7,35.4,42.0,36.5,35.2,39.8,29.4,35.5,39.4,28.5,30.5,26.1,46.2,53.5,38.3,40.5,39.4,25.8,48.1,42.8,46.5,29.4,38.3,30.9,32.0,48.8,39.0,51.3,31.3,36.3,34.0,38.1,38.8,38.0,33.8,30.2,40.5,25.1,49.7,42.7,34.6,39.9,37.9,51.1,21.6,28.6,41.9,32.4,38.0,28.0,25.6,29.0,35.7,26.0,35.2,36.4,36.1,45.2,32.8,43.5,37.9,40.1,31.0,45.6,36.4,32.2,55.9,23.1,25.2,29.8,19.7,44.6,28.0,30.5,28.1,41.5,33.7,48.9,30.3,36.9,35.0,28.4,29.5,24.4,43.0,23.9,32.8,36.9,28.6,51.6,26.0,28.7,32.3,26.7,33.3,36.8,44.5,30.4,28.3,22.1,24.3,33.6,35.8,39.6,37.5,30.9,24.6,25.7,42.2,19.6,31.7,34.4,24.1,31.1,30.5,27.1,27.8,38.3,28.6,43.3,27.5,31.8,13.0,28.6,34.6,39.4,26.7,37.3,30.1,27.9,36.9,33.9,35.1,14.9,30.6,29.6,26.5,27.1,26.3,32.3,27.7,17.3,22.3,26.8,29.4,30.9,35.7,27.6,32.6,25.2,23.7,35.0,33.5,23.7,18.4,29.9,37.9,30.0,33.0,42.7,26.7,31.0,32.0,28.4,29.2,39.7,17.1,25.3,31.0,25.7,34.5,25.2,21.6,40.1,28.6,22.4,20.3,31.5,40.7,20.1,31.8,21.2,40.2,27.0,21.6,24.0,24.6,27.8,27.6,34.9,19.7,32.3,28.7,43.4,32.5,40.7,29.2,21.1,25.6,37.6,19.0,21.9,31.6,39.3,27.6,30.6,31.6,16.3,29.1,36.4,32.6,20.7,22.4,19.5,21.5,30.6,22.9,33.4,17.9,20.8,32.0,36.0,23.8,20.7,19.4,21.3,27.5,19.1,20.1,23.5,26.3,31.5,38.4,34.2,25.2,20.7,16.7,36.5,25.4,20.2,21.2,31.8,26.4,27.7,24.7,31.5,20.2,20.7,21.2,29.1,24.3,19.5,18.1,23.7,16.2,30.1,25.9,20.2,31.7,29.5,16.1,19.3,21.0,24.3,26.8,18.6,31.2,25.5,28.5,17.8,34.1,16.2],\"yaxis\":\"y8\",\"type\":\"scatter\"},{\"marker\":{\"color\":\"rgb(12, 51, 131)\"},\"showlegend\":false,\"xaxis\":\"x9\",\"y\":[92.2,92.9,88.6,91.5,89.7,89.1,86.6,84.2,84.6,88.5,83.9,82.4,78.2,83.9,75.6,79.0,77.0,73.5,71.6,74.4,72.7,70.4,81.4,61.6,72.0,64.5,62.5,64.3,65.1,67.7,67.7,60.5,60.4,65.4,54.7,58.9,49.4,68.3,63.3,55.6,52.0,57.6,62.1,57.1,53.7,59.9,57.9,70.0,64.1,75.5,51.8,63.5,58.1,55.5,53.0,54.4,56.4,54.6,70.4,52.8,43.9,50.5,48.2,45.0,45.8,52.7,46.9,54.0,41.7,52.6,55.5,39.8,44.3,43.7,41.2,55.2,42.0,48.7,38.2,51.9,49.4,51.1,37.2,43.7,45.5,44.9,43.3,43.6,39.5,42.5,44.8,45.2,49.0,38.1,37.0,46.0,35.0,30.1,45.6,40.2,32.4,47.8,47.3,37.5,41.1,40.2,32.4,34.5,30.6,41.1,35.7,31.9,43.8,41.5,32.2,46.5,36.9,29.1,32.6,37.3,39.9,41.9,40.0,43.8,26.8,32.4,45.7,49.8,43.9,48.7,35.4,42.0,36.5,35.2,39.8,29.4,35.5,39.4,28.5,30.5,26.1,46.2,53.5,38.3,40.5,39.4,25.8,48.1,42.8,46.5,29.4,38.3,30.9,32.0,48.8,39.0,51.3,31.3,36.3,34.0,38.1,38.8,38.0,33.8,30.2,40.5,25.1,49.7,42.7,34.6,39.9,37.9,51.1,21.6,28.6,41.9,32.4,38.0,28.0,25.6,29.0,35.7,26.0,35.2,36.4,36.1,45.2,32.8,43.5,37.9,40.1,31.0,45.6,36.4,32.2,55.9,23.1,25.2,29.8,19.7,44.6,28.0,30.5,28.1,41.5,33.7,48.9,30.3,36.9,35.0,28.4,29.5,24.4,43.0,23.9,32.8,36.9,28.6,51.6,26.0,28.7,32.3,26.7,33.3,36.8,44.5,30.4,28.3,22.1,24.3,33.6,35.8,39.6,37.5,30.9,24.6,25.7,42.2,19.6,31.7,34.4,24.1,31.1,30.5,27.1,27.8,38.3,28.6,43.3,27.5,31.8,13.0,28.6,34.6,39.4,26.7,37.3,30.1,27.9,36.9,33.9,35.1,14.9,30.6,29.6,26.5,27.1,26.3,32.3,27.7,17.3,22.3,26.8,29.4,30.9,35.7,27.6,32.6,25.2,23.7,35.0,33.5,23.7,18.4,29.9,37.9,30.0,33.0,42.7,26.7,31.0,32.0,28.4,29.2,39.7,17.1,25.3,31.0,25.7,34.5,25.2,21.6,40.1,28.6,22.4,20.3,31.5,40.7,20.1,31.8,21.2,40.2,27.0,21.6,24.0,24.6,27.8,27.6,34.9,19.7,32.3,28.7,43.4,32.5,40.7,29.2,21.1,25.6,37.6,19.0,21.9,31.6,39.3,27.6,30.6,31.6,16.3,29.1,36.4,32.6,20.7,22.4,19.5,21.5,30.6,22.9,33.4,17.9,20.8,32.0,36.0,23.8,20.7,19.4,21.3,27.5,19.1,20.1,23.5,26.3,31.5,38.4,34.2,25.2,20.7,16.7,36.5,25.4,20.2,21.2,31.8,26.4,27.7,24.7,31.5,20.2,20.7,21.2,29.1,24.3,19.5,18.1,23.7,16.2,30.1,25.9,20.2,31.7,29.5,16.1,19.3,21.0,24.3,26.8,18.6,31.2,25.5,28.5,17.8,34.1,16.2],\"yaxis\":\"y9\",\"type\":\"box\"}],                        {\"height\":700,\"showlegend\":true,\"template\":{\"data\":{\"barpolar\":[{\"marker\":{\"line\":{\"color\":\"#E5ECF6\",\"width\":0.5},\"pattern\":{\"fillmode\":\"overlay\",\"size\":10,\"solidity\":0.2}},\"type\":\"barpolar\"}],\"bar\":[{\"error_x\":{\"color\":\"#2a3f5f\"},\"error_y\":{\"color\":\"#2a3f5f\"},\"marker\":{\"line\":{\"color\":\"#E5ECF6\",\"width\":0.5},\"pattern\":{\"fillmode\":\"overlay\",\"size\":10,\"solidity\":0.2}},\"type\":\"bar\"}],\"carpet\":[{\"aaxis\":{\"endlinecolor\":\"#2a3f5f\",\"gridcolor\":\"white\",\"linecolor\":\"white\",\"minorgridcolor\":\"white\",\"startlinecolor\":\"#2a3f5f\"},\"baxis\":{\"endlinecolor\":\"#2a3f5f\",\"gridcolor\":\"white\",\"linecolor\":\"white\",\"minorgridcolor\":\"white\",\"startlinecolor\":\"#2a3f5f\"},\"type\":\"carpet\"}],\"choropleth\":[{\"colorbar\":{\"outlinewidth\":0,\"ticks\":\"\"},\"type\":\"choropleth\"}],\"contourcarpet\":[{\"colorbar\":{\"outlinewidth\":0,\"ticks\":\"\"},\"type\":\"contourcarpet\"}],\"contour\":[{\"colorbar\":{\"outlinewidth\":0,\"ticks\":\"\"},\"colorscale\":[[0.0,\"#0d0887\"],[0.1111111111111111,\"#46039f\"],[0.2222222222222222,\"#7201a8\"],[0.3333333333333333,\"#9c179e\"],[0.4444444444444444,\"#bd3786\"],[0.5555555555555556,\"#d8576b\"],[0.6666666666666666,\"#ed7953\"],[0.7777777777777778,\"#fb9f3a\"],[0.8888888888888888,\"#fdca26\"],[1.0,\"#f0f921\"]],\"type\":\"contour\"}],\"heatmapgl\":[{\"colorbar\":{\"outlinewidth\":0,\"ticks\":\"\"},\"colorscale\":[[0.0,\"#0d0887\"],[0.1111111111111111,\"#46039f\"],[0.2222222222222222,\"#7201a8\"],[0.3333333333333333,\"#9c179e\"],[0.4444444444444444,\"#bd3786\"],[0.5555555555555556,\"#d8576b\"],[0.6666666666666666,\"#ed7953\"],[0.7777777777777778,\"#fb9f3a\"],[0.8888888888888888,\"#fdca26\"],[1.0,\"#f0f921\"]],\"type\":\"heatmapgl\"}],\"heatmap\":[{\"colorbar\":{\"outlinewidth\":0,\"ticks\":\"\"},\"colorscale\":[[0.0,\"#0d0887\"],[0.1111111111111111,\"#46039f\"],[0.2222222222222222,\"#7201a8\"],[0.3333333333333333,\"#9c179e\"],[0.4444444444444444,\"#bd3786\"],[0.5555555555555556,\"#d8576b\"],[0.6666666666666666,\"#ed7953\"],[0.7777777777777778,\"#fb9f3a\"],[0.8888888888888888,\"#fdca26\"],[1.0,\"#f0f921\"]],\"type\":\"heatmap\"}],\"histogram2dcontour\":[{\"colorbar\":{\"outlinewidth\":0,\"ticks\":\"\"},\"colorscale\":[[0.0,\"#0d0887\"],[0.1111111111111111,\"#46039f\"],[0.2222222222222222,\"#7201a8\"],[0.3333333333333333,\"#9c179e\"],[0.4444444444444444,\"#bd3786\"],[0.5555555555555556,\"#d8576b\"],[0.6666666666666666,\"#ed7953\"],[0.7777777777777778,\"#fb9f3a\"],[0.8888888888888888,\"#fdca26\"],[1.0,\"#f0f921\"]],\"type\":\"histogram2dcontour\"}],\"histogram2d\":[{\"colorbar\":{\"outlinewidth\":0,\"ticks\":\"\"},\"colorscale\":[[0.0,\"#0d0887\"],[0.1111111111111111,\"#46039f\"],[0.2222222222222222,\"#7201a8\"],[0.3333333333333333,\"#9c179e\"],[0.4444444444444444,\"#bd3786\"],[0.5555555555555556,\"#d8576b\"],[0.6666666666666666,\"#ed7953\"],[0.7777777777777778,\"#fb9f3a\"],[0.8888888888888888,\"#fdca26\"],[1.0,\"#f0f921\"]],\"type\":\"histogram2d\"}],\"histogram\":[{\"marker\":{\"pattern\":{\"fillmode\":\"overlay\",\"size\":10,\"solidity\":0.2}},\"type\":\"histogram\"}],\"mesh3d\":[{\"colorbar\":{\"outlinewidth\":0,\"ticks\":\"\"},\"type\":\"mesh3d\"}],\"parcoords\":[{\"line\":{\"colorbar\":{\"outlinewidth\":0,\"ticks\":\"\"}},\"type\":\"parcoords\"}],\"pie\":[{\"automargin\":true,\"type\":\"pie\"}],\"scatter3d\":[{\"line\":{\"colorbar\":{\"outlinewidth\":0,\"ticks\":\"\"}},\"marker\":{\"colorbar\":{\"outlinewidth\":0,\"ticks\":\"\"}},\"type\":\"scatter3d\"}],\"scattercarpet\":[{\"marker\":{\"colorbar\":{\"outlinewidth\":0,\"ticks\":\"\"}},\"type\":\"scattercarpet\"}],\"scattergeo\":[{\"marker\":{\"colorbar\":{\"outlinewidth\":0,\"ticks\":\"\"}},\"type\":\"scattergeo\"}],\"scattergl\":[{\"marker\":{\"colorbar\":{\"outlinewidth\":0,\"ticks\":\"\"}},\"type\":\"scattergl\"}],\"scattermapbox\":[{\"marker\":{\"colorbar\":{\"outlinewidth\":0,\"ticks\":\"\"}},\"type\":\"scattermapbox\"}],\"scatterpolargl\":[{\"marker\":{\"colorbar\":{\"outlinewidth\":0,\"ticks\":\"\"}},\"type\":\"scatterpolargl\"}],\"scatterpolar\":[{\"marker\":{\"colorbar\":{\"outlinewidth\":0,\"ticks\":\"\"}},\"type\":\"scatterpolar\"}],\"scatter\":[{\"fillpattern\":{\"fillmode\":\"overlay\",\"size\":10,\"solidity\":0.2},\"type\":\"scatter\"}],\"scatterternary\":[{\"marker\":{\"colorbar\":{\"outlinewidth\":0,\"ticks\":\"\"}},\"type\":\"scatterternary\"}],\"surface\":[{\"colorbar\":{\"outlinewidth\":0,\"ticks\":\"\"},\"colorscale\":[[0.0,\"#0d0887\"],[0.1111111111111111,\"#46039f\"],[0.2222222222222222,\"#7201a8\"],[0.3333333333333333,\"#9c179e\"],[0.4444444444444444,\"#bd3786\"],[0.5555555555555556,\"#d8576b\"],[0.6666666666666666,\"#ed7953\"],[0.7777777777777778,\"#fb9f3a\"],[0.8888888888888888,\"#fdca26\"],[1.0,\"#f0f921\"]],\"type\":\"surface\"}],\"table\":[{\"cells\":{\"fill\":{\"color\":\"#EBF0F8\"},\"line\":{\"color\":\"white\"}},\"header\":{\"fill\":{\"color\":\"#C8D4E3\"},\"line\":{\"color\":\"white\"}},\"type\":\"table\"}]},\"layout\":{\"annotationdefaults\":{\"arrowcolor\":\"#2a3f5f\",\"arrowhead\":0,\"arrowwidth\":1},\"autotypenumbers\":\"strict\",\"coloraxis\":{\"colorbar\":{\"outlinewidth\":0,\"ticks\":\"\"}},\"colorscale\":{\"diverging\":[[0,\"#8e0152\"],[0.1,\"#c51b7d\"],[0.2,\"#de77ae\"],[0.3,\"#f1b6da\"],[0.4,\"#fde0ef\"],[0.5,\"#f7f7f7\"],[0.6,\"#e6f5d0\"],[0.7,\"#b8e186\"],[0.8,\"#7fbc41\"],[0.9,\"#4d9221\"],[1,\"#276419\"]],\"sequential\":[[0.0,\"#0d0887\"],[0.1111111111111111,\"#46039f\"],[0.2222222222222222,\"#7201a8\"],[0.3333333333333333,\"#9c179e\"],[0.4444444444444444,\"#bd3786\"],[0.5555555555555556,\"#d8576b\"],[0.6666666666666666,\"#ed7953\"],[0.7777777777777778,\"#fb9f3a\"],[0.8888888888888888,\"#fdca26\"],[1.0,\"#f0f921\"]],\"sequentialminus\":[[0.0,\"#0d0887\"],[0.1111111111111111,\"#46039f\"],[0.2222222222222222,\"#7201a8\"],[0.3333333333333333,\"#9c179e\"],[0.4444444444444444,\"#bd3786\"],[0.5555555555555556,\"#d8576b\"],[0.6666666666666666,\"#ed7953\"],[0.7777777777777778,\"#fb9f3a\"],[0.8888888888888888,\"#fdca26\"],[1.0,\"#f0f921\"]]},\"colorway\":[\"#636efa\",\"#EF553B\",\"#00cc96\",\"#ab63fa\",\"#FFA15A\",\"#19d3f3\",\"#FF6692\",\"#B6E880\",\"#FF97FF\",\"#FECB52\"],\"font\":{\"color\":\"#2a3f5f\"},\"geo\":{\"bgcolor\":\"white\",\"lakecolor\":\"white\",\"landcolor\":\"#E5ECF6\",\"showlakes\":true,\"showland\":true,\"subunitcolor\":\"white\"},\"hoverlabel\":{\"align\":\"left\"},\"hovermode\":\"closest\",\"mapbox\":{\"style\":\"light\"},\"paper_bgcolor\":\"white\",\"plot_bgcolor\":\"#E5ECF6\",\"polar\":{\"angularaxis\":{\"gridcolor\":\"white\",\"linecolor\":\"white\",\"ticks\":\"\"},\"bgcolor\":\"#E5ECF6\",\"radialaxis\":{\"gridcolor\":\"white\",\"linecolor\":\"white\",\"ticks\":\"\"}},\"scene\":{\"xaxis\":{\"backgroundcolor\":\"#E5ECF6\",\"gridcolor\":\"white\",\"gridwidth\":2,\"linecolor\":\"white\",\"showbackground\":true,\"ticks\":\"\",\"zerolinecolor\":\"white\"},\"yaxis\":{\"backgroundcolor\":\"#E5ECF6\",\"gridcolor\":\"white\",\"gridwidth\":2,\"linecolor\":\"white\",\"showbackground\":true,\"ticks\":\"\",\"zerolinecolor\":\"white\"},\"zaxis\":{\"backgroundcolor\":\"#E5ECF6\",\"gridcolor\":\"white\",\"gridwidth\":2,\"linecolor\":\"white\",\"showbackground\":true,\"ticks\":\"\",\"zerolinecolor\":\"white\"}},\"shapedefaults\":{\"line\":{\"color\":\"#2a3f5f\"}},\"ternary\":{\"aaxis\":{\"gridcolor\":\"white\",\"linecolor\":\"white\",\"ticks\":\"\"},\"baxis\":{\"gridcolor\":\"white\",\"linecolor\":\"white\",\"ticks\":\"\"},\"bgcolor\":\"#E5ECF6\",\"caxis\":{\"gridcolor\":\"white\",\"linecolor\":\"white\",\"ticks\":\"\"}},\"title\":{\"x\":0.05},\"xaxis\":{\"automargin\":true,\"gridcolor\":\"white\",\"linecolor\":\"white\",\"ticks\":\"\",\"title\":{\"standoff\":15},\"zerolinecolor\":\"white\",\"zerolinewidth\":2},\"yaxis\":{\"automargin\":true,\"gridcolor\":\"white\",\"linecolor\":\"white\",\"ticks\":\"\",\"title\":{\"standoff\":15},\"zerolinecolor\":\"white\",\"zerolinewidth\":2}}},\"title\":{\"text\":\"Scatterplot Matrix\"},\"width\":700,\"xaxis\":{\"anchor\":\"y\",\"domain\":[0.0,0.2888888888888889],\"showticklabels\":false},\"yaxis\":{\"anchor\":\"x\",\"domain\":[0.7333333333333333,1.0],\"title\":{\"text\":\"research\"}},\"xaxis2\":{\"anchor\":\"y2\",\"domain\":[0.35555555555555557,0.6444444444444445]},\"yaxis2\":{\"anchor\":\"x2\",\"domain\":[0.7333333333333333,1.0]},\"xaxis3\":{\"anchor\":\"y3\",\"domain\":[0.7111111111111111,1.0]},\"yaxis3\":{\"anchor\":\"x3\",\"domain\":[0.7333333333333333,1.0]},\"xaxis4\":{\"anchor\":\"y4\",\"domain\":[0.0,0.2888888888888889]},\"yaxis4\":{\"anchor\":\"x4\",\"domain\":[0.36666666666666664,0.6333333333333333],\"title\":{\"text\":\"citations\"}},\"xaxis5\":{\"anchor\":\"y5\",\"domain\":[0.35555555555555557,0.6444444444444445],\"showticklabels\":false},\"yaxis5\":{\"anchor\":\"x5\",\"domain\":[0.36666666666666664,0.6333333333333333]},\"xaxis6\":{\"anchor\":\"y6\",\"domain\":[0.7111111111111111,1.0]},\"yaxis6\":{\"anchor\":\"x6\",\"domain\":[0.36666666666666664,0.6333333333333333]},\"xaxis7\":{\"anchor\":\"y7\",\"domain\":[0.0,0.2888888888888889],\"title\":{\"text\":\"research\"}},\"yaxis7\":{\"anchor\":\"x7\",\"domain\":[0.0,0.26666666666666666],\"title\":{\"text\":\"teaching\"}},\"xaxis8\":{\"anchor\":\"y8\",\"domain\":[0.35555555555555557,0.6444444444444445],\"title\":{\"text\":\"citations\"}},\"yaxis8\":{\"anchor\":\"x8\",\"domain\":[0.0,0.26666666666666666]},\"xaxis9\":{\"anchor\":\"y9\",\"domain\":[0.7111111111111111,1.0],\"showticklabels\":false,\"title\":{\"text\":\"teaching\"}},\"yaxis9\":{\"anchor\":\"x9\",\"domain\":[0.0,0.26666666666666666]}},                        {\"responsive\": true}                    ).then(function(){\n",
              "                            \n",
              "var gd = document.getElementById('3efb6bfc-865a-40fc-a5f1-02a1769e04ae');\n",
              "var x = new MutationObserver(function (mutations, observer) {{\n",
              "        var display = window.getComputedStyle(gd).display;\n",
              "        if (!display || display === 'none') {{\n",
              "            console.log([gd, 'removed!']);\n",
              "            Plotly.purge(gd);\n",
              "            observer.disconnect();\n",
              "        }}\n",
              "}});\n",
              "\n",
              "// Listen for the removal of the full notebook cells\n",
              "var notebookContainer = gd.closest('#notebook-container');\n",
              "if (notebookContainer) {{\n",
              "    x.observe(notebookContainer, {childList: true});\n",
              "}}\n",
              "\n",
              "// Listen for the clearing of the current output cell\n",
              "var outputEl = gd.closest('.output');\n",
              "if (outputEl) {{\n",
              "    x.observe(outputEl, {childList: true});\n",
              "}}\n",
              "\n",
              "                        })                };                            </script>        </div>\n",
              "</body>\n",
              "</html>"
            ]
          },
          "metadata": {}
        }
      ]
    },
    {
      "cell_type": "code",
      "source": [],
      "metadata": {
        "id": "yYNAscsAGUF6"
      },
      "execution_count": null,
      "outputs": []
    },
    {
      "cell_type": "markdown",
      "source": [
        "# Örnek çalışmalar\n"
      ],
      "metadata": {
        "id": "3PGINgiaG1Sf"
      }
    },
    {
      "cell_type": "code",
      "source": [
        "from sklearn import datasets\n",
        "\n",
        "import matplotlib.pyplot as plt\n",
        "\n",
        "# Load the digits dataset\n",
        "digits = datasets.load_digits()\n",
        "\n",
        "# Display the last digit\n",
        "plt.figure(1, figsize=(3, 3))\n",
        "plt.imshow(digits.images[-1], cmap=plt.cm.gray_r, interpolation=\"nearest\")\n",
        "plt.show()"
      ],
      "metadata": {
        "colab": {
          "base_uri": "https://localhost:8080/",
          "height": 211
        },
        "id": "7G91eBq-G3LL",
        "outputId": "c149c83d-1f1f-493c-da1c-c551dbe78806"
      },
      "execution_count": 75,
      "outputs": [
        {
          "output_type": "display_data",
          "data": {
            "text/plain": [
              "<Figure size 216x216 with 1 Axes>"
            ],
            "image/png": "[encoded data removed]"
          },
          "metadata": {
            "needs_background": "light"
          }
        }
      ]
    },
    {
      "cell_type": "code",
      "source": [
        "import matplotlib.pyplot as plt\n",
        "\n",
        "from sklearn.datasets import make_classification\n",
        "from sklearn.datasets import make_blobs\n",
        "from sklearn.datasets import make_gaussian_quantiles\n",
        "\n",
        "plt.figure(figsize=(8, 8))\n",
        "plt.subplots_adjust(bottom=0.05, top=0.9, left=0.05, right=0.95)\n",
        "\n",
        "plt.subplot(321)\n",
        "plt.title(\"One informative feature, one cluster per class\", fontsize=\"small\")\n",
        "X1, Y1 = make_classification(\n",
        "    n_features=2, n_redundant=0, n_informative=1, n_clusters_per_class=1\n",
        ")\n",
        "plt.scatter(X1[:, 0], X1[:, 1], marker=\"o\", c=Y1, s=25, edgecolor=\"k\")\n",
        "\n",
        "plt.subplot(322)\n",
        "plt.title(\"Two informative features, one cluster per class\", fontsize=\"small\")\n",
        "X1, Y1 = make_classification(\n",
        "    n_features=2, n_redundant=0, n_informative=2, n_clusters_per_class=1\n",
        ")\n",
        "plt.scatter(X1[:, 0], X1[:, 1], marker=\"o\", c=Y1, s=25, edgecolor=\"k\")\n",
        "\n",
        "plt.subplot(323)\n",
        "plt.title(\"Two informative features, two clusters per class\", fontsize=\"small\")\n",
        "X2, Y2 = make_classification(n_features=2, n_redundant=0, n_informative=2)\n",
        "plt.scatter(X2[:, 0], X2[:, 1], marker=\"o\", c=Y2, s=25, edgecolor=\"k\")\n",
        "\n",
        "plt.subplot(324)\n",
        "plt.title(\"Multi-class, two informative features, one cluster\", fontsize=\"small\")\n",
        "X1, Y1 = make_classification(\n",
        "    n_features=2, n_redundant=0, n_informative=2, n_clusters_per_class=1, n_classes=3\n",
        ")\n",
        "plt.scatter(X1[:, 0], X1[:, 1], marker=\"o\", c=Y1, s=25, edgecolor=\"k\")\n",
        "\n",
        "plt.subplot(325)\n",
        "plt.title(\"Three blobs\", fontsize=\"small\")\n",
        "X1, Y1 = make_blobs(n_features=2, centers=3)\n",
        "plt.scatter(X1[:, 0], X1[:, 1], marker=\"o\", c=Y1, s=25, edgecolor=\"k\")\n",
        "\n",
        "plt.subplot(326)\n",
        "plt.title(\"Gaussian divided into three quantiles\", fontsize=\"small\")\n",
        "X1, Y1 = make_gaussian_quantiles(n_features=2, n_classes=3)\n",
        "plt.scatter(X1[:, 0], X1[:, 1], marker=\"o\", c=Y1, s=25, edgecolor=\"k\")\n",
        "\n",
        "plt.show()"
      ],
      "metadata": {
        "colab": {
          "base_uri": "https://localhost:8080/",
          "height": 551
        },
        "id": "QsFWTMCAG3oI",
        "outputId": "54bff39c-3196-4c11-a6ae-11d4acd164c1"
      },
      "execution_count": 76,
      "outputs": [
        {
          "output_type": "display_data",
          "data": {
            "text/plain": [
              "<Figure size 576x576 with 6 Axes>"
            ],
            "image/png": "[encoded data removed]"
          },
          "metadata": {
            "needs_background": "light"
          }
        }
      ]
    },
    {
      "cell_type": "code",
      "source": [
        "import matplotlib.pyplot as plt\n",
        "\n",
        "# unused but required import for doing 3d projections with matplotlib < 3.2\n",
        "import mpl_toolkits.mplot3d  # noqa: F401\n",
        "\n",
        "from sklearn import datasets\n",
        "from sklearn.decomposition import PCA\n",
        "\n",
        "# import some data to play with\n",
        "iris = datasets.load_iris()\n",
        "X = iris.data[:, :2]  # we only take the first two features.\n",
        "y = iris.target\n",
        "\n",
        "x_min, x_max = X[:, 0].min() - 0.5, X[:, 0].max() + 0.5\n",
        "y_min, y_max = X[:, 1].min() - 0.5, X[:, 1].max() + 0.5\n",
        "\n",
        "plt.figure(2, figsize=(8, 6))\n",
        "plt.clf()\n",
        "\n",
        "# Plot the training points\n",
        "plt.scatter(X[:, 0], X[:, 1], c=y, cmap=plt.cm.Set1, edgecolor=\"k\")\n",
        "plt.xlabel(\"Sepal length\")\n",
        "plt.ylabel(\"Sepal width\")\n",
        "\n",
        "plt.xlim(x_min, x_max)\n",
        "plt.ylim(y_min, y_max)\n",
        "plt.xticks(())\n",
        "plt.yticks(())\n",
        "\n",
        "# To getter a better understanding of interaction of the dimensions\n",
        "# plot the first three PCA dimensions\n",
        "fig = plt.figure(1, figsize=(8, 6))\n",
        "ax = fig.add_subplot(111, projection=\"3d\", elev=-150, azim=110)\n",
        "\n",
        "X_reduced = PCA(n_components=3).fit_transform(iris.data)\n",
        "ax.scatter(\n",
        "    X_reduced[:, 0],\n",
        "    X_reduced[:, 1],\n",
        "    X_reduced[:, 2],\n",
        "    c=y,\n",
        "    cmap=plt.cm.Set1,\n",
        "    edgecolor=\"k\",\n",
        "    s=40,\n",
        ")\n",
        "\n",
        "ax.set_title(\"First three PCA directions\")\n",
        "ax.set_xlabel(\"1st eigenvector\")\n",
        "ax.xaxis.set_ticklabels([])\n",
        "ax.set_ylabel(\"2nd eigenvector\")\n",
        "ax.yaxis.set_ticklabels([])\n",
        "ax.set_zlabel(\"3rd eigenvector\")\n",
        "ax.zaxis.set_ticklabels([])\n",
        "\n",
        "plt.show()"
      ],
      "metadata": {
        "colab": {
          "base_uri": "https://localhost:8080/",
          "height": 727
        },
        "id": "zRu2oQbwHPz5",
        "outputId": "60aca777-8d47-44db-987f-d856a06e8709"
      },
      "execution_count": 77,
      "outputs": [
        {
          "output_type": "display_data",
          "data": {
            "text/plain": [
              "<Figure size 576x432 with 1 Axes>"
            ],
            "image/png": "[encoded data removed]"
          },
          "metadata": {}
        },
        {
          "output_type": "display_data",
          "data": {
            "text/plain": [
              "<Figure size 576x432 with 1 Axes>"
            ],
            "image/png": "[encoded data removed]"
          },
          "metadata": {
            "needs_background": "light"
          }
        }
      ]
    },
    {
      "cell_type": "code",
      "source": [
        "import numpy as np\n",
        "import matplotlib.pyplot as plt\n",
        "\n",
        "from sklearn.datasets import make_multilabel_classification as make_ml_clf\n",
        "\n",
        "COLORS = np.array(\n",
        "    [\n",
        "        \"!\",\n",
        "        \"#FF3333\",  # red\n",
        "        \"#0198E1\",  # blue\n",
        "        \"#BF5FFF\",  # purple\n",
        "        \"#FCD116\",  # yellow\n",
        "        \"#FF7216\",  # orange\n",
        "        \"#4DBD33\",  # green\n",
        "        \"#87421F\",  # brown\n",
        "    ]\n",
        ")\n",
        "\n",
        "RANDOM_SEED = np.random.randint(2**10)\n",
        "\n",
        "\n",
        "def plot_2d(ax, n_labels=1, n_classes=3, length=50):\n",
        "    X, Y, p_c, p_w_c = make_ml_clf(\n",
        "        n_samples=150,\n",
        "        n_features=2,\n",
        "        n_classes=n_classes,\n",
        "        n_labels=n_labels,\n",
        "        length=length,\n",
        "        allow_unlabeled=False,\n",
        "        return_distributions=True,\n",
        "        random_state=RANDOM_SEED,\n",
        "    )\n",
        "\n",
        "    ax.scatter(\n",
        "        X[:, 0], X[:, 1], color=COLORS.take((Y * [1, 2, 4]).sum(axis=1)), marker=\".\"\n",
        "    )\n",
        "    ax.scatter(\n",
        "        p_w_c[0] * length,\n",
        "        p_w_c[1] * length,\n",
        "        marker=\"*\",\n",
        "        linewidth=0.5,\n",
        "        edgecolor=\"black\",\n",
        "        s=20 + 1500 * p_c**2,\n",
        "        color=COLORS.take([1, 2, 4]),\n",
        "    )\n",
        "    ax.set_xlabel(\"Feature 0 count\")\n",
        "    return p_c, p_w_c\n",
        "\n",
        "\n",
        "_, (ax1, ax2) = plt.subplots(1, 2, sharex=\"row\", sharey=\"row\", figsize=(8, 4))\n",
        "plt.subplots_adjust(bottom=0.15)\n",
        "\n",
        "p_c, p_w_c = plot_2d(ax1, n_labels=1)\n",
        "ax1.set_title(\"n_labels=1, length=50\")\n",
        "ax1.set_ylabel(\"Feature 1 count\")\n",
        "\n",
        "plot_2d(ax2, n_labels=3)\n",
        "ax2.set_title(\"n_labels=3, length=50\")\n",
        "ax2.set_xlim(left=0, auto=True)\n",
        "ax2.set_ylim(bottom=0, auto=True)\n",
        "\n",
        "plt.show()\n",
        "\n",
        "print(\"The data was generated from (random_state=%d):\" % RANDOM_SEED)\n",
        "print(\"Class\", \"P(C)\", \"P(w0|C)\", \"P(w1|C)\", sep=\"\\t\")\n",
        "for k, p, p_w in zip([\"red\", \"blue\", \"yellow\"], p_c, p_w_c.T):\n",
        "    print(\"%s\\t%0.2f\\t%0.2f\\t%0.2f\" % (k, p, p_w[0], p_w[1]))"
      ],
      "metadata": {
        "colab": {
          "base_uri": "https://localhost:8080/",
          "height": 375
        },
        "id": "avsxqxZnHYD0",
        "outputId": "575c1ea0-ada2-40ef-f830-cc41ec18e332"
      },
      "execution_count": 79,
      "outputs": [
        {
          "output_type": "display_data",
          "data": {
            "text/plain": [
              "<Figure size 576x288 with 2 Axes>"
            ],
            "image/png": "[encoded data removed]"
          },
          "metadata": {
            "needs_background": "light"
          }
        },
        {
          "output_type": "stream",
          "name": "stdout",
          "text": [
            "The data was generated from (random_state=977):\n",
            "Class\tP(C)\tP(w0|C)\tP(w1|C)\n",
            "red\t0.11\t0.56\t0.44\n",
            "blue\t0.77\t0.96\t0.04\n",
            "yellow\t0.12\t0.53\t0.47\n"
          ]
        }
      ]
    },
    {
      "cell_type": "code",
      "source": [],
      "metadata": {
        "id": "B9Ge-qbuHolx"
      },
      "execution_count": null,
      "outputs": []
    }
  ]
}